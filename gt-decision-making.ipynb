{
 "cells": [
  {
   "cell_type": "code",
   "execution_count": 269,
   "metadata": {},
   "outputs": [
    {
     "data": {
      "text/html": [
       "<div>\n",
       "<style scoped>\n",
       "    .dataframe tbody tr th:only-of-type {\n",
       "        vertical-align: middle;\n",
       "    }\n",
       "\n",
       "    .dataframe tbody tr th {\n",
       "        vertical-align: top;\n",
       "    }\n",
       "\n",
       "    .dataframe thead th {\n",
       "        text-align: right;\n",
       "    }\n",
       "</style>\n",
       "<table border=\"1\" class=\"dataframe\">\n",
       "  <thead>\n",
       "    <tr style=\"text-align: right;\">\n",
       "      <th></th>\n",
       "      <th>game_id</th>\n",
       "      <th>play_id</th>\n",
       "      <th>season</th>\n",
       "      <th>week</th>\n",
       "      <th>desc</th>\n",
       "      <th>qtr</th>\n",
       "      <th>TimeSecsRem</th>\n",
       "      <th>distance</th>\n",
       "      <th>yards_to_goal</th>\n",
       "      <th>pos_team</th>\n",
       "      <th>...</th>\n",
       "      <th>fg_make_wp</th>\n",
       "      <th>fg_fail_wp</th>\n",
       "      <th>punt_wp</th>\n",
       "      <th>go_wp</th>\n",
       "      <th>go_success_prob</th>\n",
       "      <th>go_success_wp</th>\n",
       "      <th>go_fail_wp</th>\n",
       "      <th>choice</th>\n",
       "      <th>recommendation</th>\n",
       "      <th>strength</th>\n",
       "    </tr>\n",
       "  </thead>\n",
       "  <tbody>\n",
       "    <tr>\n",
       "      <th>0</th>\n",
       "      <td>400933827</td>\n",
       "      <td>4.009338e+17</td>\n",
       "      <td>2017</td>\n",
       "      <td>1</td>\n",
       "      <td>Bo Scarbrough run for 3 yds to the FlaSt 30 fo...</td>\n",
       "      <td>1</td>\n",
       "      <td>1699</td>\n",
       "      <td>2</td>\n",
       "      <td>33</td>\n",
       "      <td>Alabama</td>\n",
       "      <td>...</td>\n",
       "      <td>0.777383</td>\n",
       "      <td>0.717251</td>\n",
       "      <td>0.742214</td>\n",
       "      <td>0.738833</td>\n",
       "      <td>0.606478</td>\n",
       "      <td>0.763908</td>\n",
       "      <td>0.700188</td>\n",
       "      <td>Go for it</td>\n",
       "      <td>Field goal attempt</td>\n",
       "      <td>0.003800</td>\n",
       "    </tr>\n",
       "    <tr>\n",
       "      <th>1</th>\n",
       "      <td>400933827</td>\n",
       "      <td>4.009338e+17</td>\n",
       "      <td>2017</td>\n",
       "      <td>1</td>\n",
       "      <td>Andy Pappanastos 42 yd FG MISSED</td>\n",
       "      <td>1</td>\n",
       "      <td>1557</td>\n",
       "      <td>5</td>\n",
       "      <td>25</td>\n",
       "      <td>Alabama</td>\n",
       "      <td>...</td>\n",
       "      <td>0.775608</td>\n",
       "      <td>0.714769</td>\n",
       "      <td>NaN</td>\n",
       "      <td>0.740652</td>\n",
       "      <td>0.430925</td>\n",
       "      <td>0.775948</td>\n",
       "      <td>0.713925</td>\n",
       "      <td>Field goal attempt</td>\n",
       "      <td>Field goal attempt</td>\n",
       "      <td>0.012623</td>\n",
       "    </tr>\n",
       "    <tr>\n",
       "      <th>2</th>\n",
       "      <td>400933827</td>\n",
       "      <td>4.009338e+17</td>\n",
       "      <td>2017</td>\n",
       "      <td>1</td>\n",
       "      <td>Deondre Francois sacked by Shaun Dion Hamilton...</td>\n",
       "      <td>1</td>\n",
       "      <td>1368</td>\n",
       "      <td>2</td>\n",
       "      <td>34</td>\n",
       "      <td>Florida State</td>\n",
       "      <td>...</td>\n",
       "      <td>0.384433</td>\n",
       "      <td>0.309281</td>\n",
       "      <td>0.348685</td>\n",
       "      <td>0.343285</td>\n",
       "      <td>0.545164</td>\n",
       "      <td>0.389803</td>\n",
       "      <td>0.287528</td>\n",
       "      <td>Go for it</td>\n",
       "      <td>Punt</td>\n",
       "      <td>0.005048</td>\n",
       "    </tr>\n",
       "    <tr>\n",
       "      <th>3</th>\n",
       "      <td>400933827</td>\n",
       "      <td>4.009338e+17</td>\n",
       "      <td>2017</td>\n",
       "      <td>1</td>\n",
       "      <td>Andy Pappanastos 35 Yd Field Goal</td>\n",
       "      <td>1</td>\n",
       "      <td>1170</td>\n",
       "      <td>10</td>\n",
       "      <td>18</td>\n",
       "      <td>Alabama</td>\n",
       "      <td>...</td>\n",
       "      <td>0.839094</td>\n",
       "      <td>0.805764</td>\n",
       "      <td>NaN</td>\n",
       "      <td>0.825585</td>\n",
       "      <td>0.332746</td>\n",
       "      <td>0.864720</td>\n",
       "      <td>0.806070</td>\n",
       "      <td>Field goal attempt</td>\n",
       "      <td>Field goal attempt</td>\n",
       "      <td>0.005285</td>\n",
       "    </tr>\n",
       "    <tr>\n",
       "      <th>4</th>\n",
       "      <td>400933827</td>\n",
       "      <td>4.009338e+17</td>\n",
       "      <td>2017</td>\n",
       "      <td>1</td>\n",
       "      <td>Logan Tyler punt for 35 yds, fair catch by Tre...</td>\n",
       "      <td>2</td>\n",
       "      <td>621</td>\n",
       "      <td>3</td>\n",
       "      <td>68</td>\n",
       "      <td>Florida State</td>\n",
       "      <td>...</td>\n",
       "      <td>0.341567</td>\n",
       "      <td>0.198715</td>\n",
       "      <td>0.234143</td>\n",
       "      <td>0.221807</td>\n",
       "      <td>0.485130</td>\n",
       "      <td>0.247029</td>\n",
       "      <td>0.198041</td>\n",
       "      <td>Punt</td>\n",
       "      <td>Punt</td>\n",
       "      <td>0.012337</td>\n",
       "    </tr>\n",
       "  </tbody>\n",
       "</table>\n",
       "<p>5 rows × 26 columns</p>\n",
       "</div>"
      ],
      "text/plain": [
       "     game_id       play_id  season  week  \\\n",
       "0  400933827  4.009338e+17    2017     1   \n",
       "1  400933827  4.009338e+17    2017     1   \n",
       "2  400933827  4.009338e+17    2017     1   \n",
       "3  400933827  4.009338e+17    2017     1   \n",
       "4  400933827  4.009338e+17    2017     1   \n",
       "\n",
       "                                                desc  qtr  TimeSecsRem  \\\n",
       "0  Bo Scarbrough run for 3 yds to the FlaSt 30 fo...    1         1699   \n",
       "1                   Andy Pappanastos 42 yd FG MISSED    1         1557   \n",
       "2  Deondre Francois sacked by Shaun Dion Hamilton...    1         1368   \n",
       "3                 Andy Pappanastos 35 Yd Field Goal     1         1170   \n",
       "4  Logan Tyler punt for 35 yds, fair catch by Tre...    2          621   \n",
       "\n",
       "   distance  yards_to_goal       pos_team  ... fg_make_wp  fg_fail_wp  \\\n",
       "0         2             33        Alabama  ...   0.777383    0.717251   \n",
       "1         5             25        Alabama  ...   0.775608    0.714769   \n",
       "2         2             34  Florida State  ...   0.384433    0.309281   \n",
       "3        10             18        Alabama  ...   0.839094    0.805764   \n",
       "4         3             68  Florida State  ...   0.341567    0.198715   \n",
       "\n",
       "    punt_wp     go_wp  go_success_prob  go_success_wp  go_fail_wp  \\\n",
       "0  0.742214  0.738833         0.606478       0.763908    0.700188   \n",
       "1       NaN  0.740652         0.430925       0.775948    0.713925   \n",
       "2  0.348685  0.343285         0.545164       0.389803    0.287528   \n",
       "3       NaN  0.825585         0.332746       0.864720    0.806070   \n",
       "4  0.234143  0.221807         0.485130       0.247029    0.198041   \n",
       "\n",
       "               choice      recommendation  strength  \n",
       "0           Go for it  Field goal attempt  0.003800  \n",
       "1  Field goal attempt  Field goal attempt  0.012623  \n",
       "2           Go for it                Punt  0.005048  \n",
       "3  Field goal attempt  Field goal attempt  0.005285  \n",
       "4                Punt                Punt  0.012337  \n",
       "\n",
       "[5 rows x 26 columns]"
      ]
     },
     "execution_count": 269,
     "metadata": {},
     "output_type": "execute_result"
    }
   ],
   "source": [
    "import pandas as pd\n",
    "import numpy as np\n",
    "\n",
    "decisions = pd.DataFrame()\n",
    "\n",
    "for year in range(2017,2021):\n",
    "    tmp = pd.read_csv(f\"data/4th_downs/{year}.csv\", encoding=\"latin-1\", index_col=False)\n",
    "    decisions = decisions.append(tmp)\n",
    "    \n",
    "decisions = decisions.loc[:, ~decisions.columns.str.contains('^Unnamed')]\n",
    "decisions.head()"
   ]
  },
  {
   "cell_type": "code",
   "execution_count": 270,
   "metadata": {},
   "outputs": [
    {
     "data": {
      "text/html": [
       "<div>\n",
       "<style scoped>\n",
       "    .dataframe tbody tr th:only-of-type {\n",
       "        vertical-align: middle;\n",
       "    }\n",
       "\n",
       "    .dataframe tbody tr th {\n",
       "        vertical-align: top;\n",
       "    }\n",
       "\n",
       "    .dataframe thead th {\n",
       "        text-align: right;\n",
       "    }\n",
       "</style>\n",
       "<table border=\"1\" class=\"dataframe\">\n",
       "  <thead>\n",
       "    <tr style=\"text-align: right;\">\n",
       "      <th></th>\n",
       "      <th>game_id</th>\n",
       "      <th>play_id</th>\n",
       "      <th>season</th>\n",
       "      <th>week</th>\n",
       "      <th>desc</th>\n",
       "      <th>qtr</th>\n",
       "      <th>TimeSecsRem</th>\n",
       "      <th>distance</th>\n",
       "      <th>yards_to_goal</th>\n",
       "      <th>pos_team</th>\n",
       "      <th>...</th>\n",
       "      <th>go_wp</th>\n",
       "      <th>go_success_prob</th>\n",
       "      <th>go_success_wp</th>\n",
       "      <th>go_fail_wp</th>\n",
       "      <th>choice</th>\n",
       "      <th>recommendation</th>\n",
       "      <th>strength</th>\n",
       "      <th>decision_value</th>\n",
       "      <th>gt_coach</th>\n",
       "      <th>conference</th>\n",
       "    </tr>\n",
       "  </thead>\n",
       "  <tbody>\n",
       "    <tr>\n",
       "      <th>0</th>\n",
       "      <td>400933827</td>\n",
       "      <td>4.009338e+17</td>\n",
       "      <td>2017</td>\n",
       "      <td>1</td>\n",
       "      <td>Bo Scarbrough run for 3 yds to the FlaSt 30 fo...</td>\n",
       "      <td>1</td>\n",
       "      <td>1699</td>\n",
       "      <td>2</td>\n",
       "      <td>33</td>\n",
       "      <td>Alabama</td>\n",
       "      <td>...</td>\n",
       "      <td>0.738833</td>\n",
       "      <td>0.606478</td>\n",
       "      <td>0.763908</td>\n",
       "      <td>0.700188</td>\n",
       "      <td>Go</td>\n",
       "      <td>FG</td>\n",
       "      <td>0.4</td>\n",
       "      <td>-0.4</td>\n",
       "      <td>FBS Average</td>\n",
       "      <td>FBS Average</td>\n",
       "    </tr>\n",
       "    <tr>\n",
       "      <th>1</th>\n",
       "      <td>400933827</td>\n",
       "      <td>4.009338e+17</td>\n",
       "      <td>2017</td>\n",
       "      <td>1</td>\n",
       "      <td>Andy Pappanastos 42 yd FG MISSED</td>\n",
       "      <td>1</td>\n",
       "      <td>1557</td>\n",
       "      <td>5</td>\n",
       "      <td>25</td>\n",
       "      <td>Alabama</td>\n",
       "      <td>...</td>\n",
       "      <td>0.740652</td>\n",
       "      <td>0.430925</td>\n",
       "      <td>0.775948</td>\n",
       "      <td>0.713925</td>\n",
       "      <td>FG</td>\n",
       "      <td>FG</td>\n",
       "      <td>1.3</td>\n",
       "      <td>1.3</td>\n",
       "      <td>FBS Average</td>\n",
       "      <td>FBS Average</td>\n",
       "    </tr>\n",
       "    <tr>\n",
       "      <th>2</th>\n",
       "      <td>400933827</td>\n",
       "      <td>4.009338e+17</td>\n",
       "      <td>2017</td>\n",
       "      <td>1</td>\n",
       "      <td>Deondre Francois sacked by Shaun Dion Hamilton...</td>\n",
       "      <td>1</td>\n",
       "      <td>1368</td>\n",
       "      <td>2</td>\n",
       "      <td>34</td>\n",
       "      <td>Florida State</td>\n",
       "      <td>...</td>\n",
       "      <td>0.343285</td>\n",
       "      <td>0.545164</td>\n",
       "      <td>0.389803</td>\n",
       "      <td>0.287528</td>\n",
       "      <td>Go</td>\n",
       "      <td>Toss-up</td>\n",
       "      <td>0.5</td>\n",
       "      <td>-0.5</td>\n",
       "      <td>FBS Average</td>\n",
       "      <td>ACC</td>\n",
       "    </tr>\n",
       "    <tr>\n",
       "      <th>3</th>\n",
       "      <td>400933827</td>\n",
       "      <td>4.009338e+17</td>\n",
       "      <td>2017</td>\n",
       "      <td>1</td>\n",
       "      <td>Andy Pappanastos 35 Yd Field Goal</td>\n",
       "      <td>1</td>\n",
       "      <td>1170</td>\n",
       "      <td>10</td>\n",
       "      <td>18</td>\n",
       "      <td>Alabama</td>\n",
       "      <td>...</td>\n",
       "      <td>0.825585</td>\n",
       "      <td>0.332746</td>\n",
       "      <td>0.864720</td>\n",
       "      <td>0.806070</td>\n",
       "      <td>FG</td>\n",
       "      <td>FG</td>\n",
       "      <td>0.5</td>\n",
       "      <td>0.5</td>\n",
       "      <td>FBS Average</td>\n",
       "      <td>FBS Average</td>\n",
       "    </tr>\n",
       "    <tr>\n",
       "      <th>4</th>\n",
       "      <td>400933827</td>\n",
       "      <td>4.009338e+17</td>\n",
       "      <td>2017</td>\n",
       "      <td>1</td>\n",
       "      <td>Logan Tyler punt for 35 yds, fair catch by Tre...</td>\n",
       "      <td>2</td>\n",
       "      <td>621</td>\n",
       "      <td>3</td>\n",
       "      <td>68</td>\n",
       "      <td>Florida State</td>\n",
       "      <td>...</td>\n",
       "      <td>0.221807</td>\n",
       "      <td>0.485130</td>\n",
       "      <td>0.247029</td>\n",
       "      <td>0.198041</td>\n",
       "      <td>Punt</td>\n",
       "      <td>Punt</td>\n",
       "      <td>1.2</td>\n",
       "      <td>1.2</td>\n",
       "      <td>FBS Average</td>\n",
       "      <td>ACC</td>\n",
       "    </tr>\n",
       "  </tbody>\n",
       "</table>\n",
       "<p>5 rows × 29 columns</p>\n",
       "</div>"
      ],
      "text/plain": [
       "     game_id       play_id  season  week  \\\n",
       "0  400933827  4.009338e+17    2017     1   \n",
       "1  400933827  4.009338e+17    2017     1   \n",
       "2  400933827  4.009338e+17    2017     1   \n",
       "3  400933827  4.009338e+17    2017     1   \n",
       "4  400933827  4.009338e+17    2017     1   \n",
       "\n",
       "                                                desc  qtr  TimeSecsRem  \\\n",
       "0  Bo Scarbrough run for 3 yds to the FlaSt 30 fo...    1         1699   \n",
       "1                   Andy Pappanastos 42 yd FG MISSED    1         1557   \n",
       "2  Deondre Francois sacked by Shaun Dion Hamilton...    1         1368   \n",
       "3                 Andy Pappanastos 35 Yd Field Goal     1         1170   \n",
       "4  Logan Tyler punt for 35 yds, fair catch by Tre...    2          621   \n",
       "\n",
       "   distance  yards_to_goal       pos_team  ...     go_wp  go_success_prob  \\\n",
       "0         2             33        Alabama  ...  0.738833         0.606478   \n",
       "1         5             25        Alabama  ...  0.740652         0.430925   \n",
       "2         2             34  Florida State  ...  0.343285         0.545164   \n",
       "3        10             18        Alabama  ...  0.825585         0.332746   \n",
       "4         3             68  Florida State  ...  0.221807         0.485130   \n",
       "\n",
       "  go_success_wp  go_fail_wp  choice  recommendation  strength  decision_value  \\\n",
       "0      0.763908    0.700188      Go              FG       0.4            -0.4   \n",
       "1      0.775948    0.713925      FG              FG       1.3             1.3   \n",
       "2      0.389803    0.287528      Go         Toss-up       0.5            -0.5   \n",
       "3      0.864720    0.806070      FG              FG       0.5             0.5   \n",
       "4      0.247029    0.198041    Punt            Punt       1.2             1.2   \n",
       "\n",
       "      gt_coach   conference  \n",
       "0  FBS Average  FBS Average  \n",
       "1  FBS Average  FBS Average  \n",
       "2  FBS Average          ACC  \n",
       "3  FBS Average  FBS Average  \n",
       "4  FBS Average          ACC  \n",
       "\n",
       "[5 rows x 29 columns]"
      ]
     },
     "execution_count": 270,
     "metadata": {},
     "output_type": "execute_result"
    }
   ],
   "source": [
    "decisions[\"decision_value\"] = np.where(decisions.recommendation == decisions.choice, decisions.strength, -1 * decisions.strength)\n",
    "decisions.strength = round(100 * decisions.strength, 1)\n",
    "decisions.decision_value = round(100 * decisions.decision_value, 1)\n",
    "\n",
    "decisions.recommendation = np.select(\n",
    "[\n",
    "    decisions.recommendation.str.contains(\"Field goal attempt\", na=False),\n",
    "    decisions.recommendation.str.contains(\"Go for it\", na=False),\n",
    "    (decisions.decision_value >= -0.5) & (decisions.decision_value <= 0.5)\n",
    "],\n",
    "[\n",
    "    \"FG\",\n",
    "    \"Go\",\n",
    "    \"Toss-up\"\n",
    "], default = decisions.recommendation)\n",
    "\n",
    "decisions.choice = np.select(\n",
    "[\n",
    "    decisions.choice.str.contains(\"Field goal attempt\", na=False),\n",
    "    decisions.choice.str.contains(\"Go for it\", na=False)\n",
    "],\n",
    "[\n",
    "    \"FG\",\n",
    "    \"Go\"\n",
    "], default = decisions.choice)\n",
    "\n",
    "decisions[\"gt_coach\"] = np.select(\n",
    "[\n",
    "    (decisions.pos_team.str.contains(\"Georgia Tech\")) & (decisions.season < 2019),\n",
    "    (decisions.pos_team.str.contains(\"Georgia Tech\")) & (decisions.season >= 2019)\n",
    "],\n",
    "[\n",
    "    \"Paul Johnson\",\n",
    "    \"Geoff Collins\"\n",
    "], default=\"FBS Average\")\n",
    "acc = [\n",
    "    \"Georgia Tech\",\"Duke\",\"North Carolina\",\"Miami\",\"Pittsburgh\",\"Virginia\",\"Virginia Tech\",\n",
    "    \"Louisville\",\"Florida State\", \"Clemson\", \"NC State\", \"Wake Forest\", \"Boston College\",\"Syracuse\",\n",
    "    \"Notre Dame\"\n",
    "]\n",
    "decisions[\"conference\"] = np.select(\n",
    "[\n",
    "    decisions.pos_team.isin(acc)\n",
    "],\n",
    "[\n",
    "    \"ACC\"\n",
    "], default = \"FBS Average\")\n",
    "\n",
    "\n",
    "decisions.head()"
   ]
  },
  {
   "cell_type": "code",
   "execution_count": 271,
   "metadata": {},
   "outputs": [
    {
     "data": {
      "text/html": [
       "<div>\n",
       "<style scoped>\n",
       "    .dataframe tbody tr th:only-of-type {\n",
       "        vertical-align: middle;\n",
       "    }\n",
       "\n",
       "    .dataframe tbody tr th {\n",
       "        vertical-align: top;\n",
       "    }\n",
       "\n",
       "    .dataframe thead th {\n",
       "        text-align: right;\n",
       "    }\n",
       "</style>\n",
       "<table border=\"1\" class=\"dataframe\">\n",
       "  <thead>\n",
       "    <tr style=\"text-align: right;\">\n",
       "      <th></th>\n",
       "      <th>game_id</th>\n",
       "      <th>play_id</th>\n",
       "      <th>season</th>\n",
       "      <th>week</th>\n",
       "      <th>desc</th>\n",
       "      <th>qtr</th>\n",
       "      <th>TimeSecsRem</th>\n",
       "      <th>distance</th>\n",
       "      <th>yards_to_goal</th>\n",
       "      <th>pos_team</th>\n",
       "      <th>...</th>\n",
       "      <th>go_wp</th>\n",
       "      <th>go_success_prob</th>\n",
       "      <th>go_success_wp</th>\n",
       "      <th>go_fail_wp</th>\n",
       "      <th>choice</th>\n",
       "      <th>recommendation</th>\n",
       "      <th>strength</th>\n",
       "      <th>decision_value</th>\n",
       "      <th>gt_coach</th>\n",
       "      <th>conference</th>\n",
       "    </tr>\n",
       "  </thead>\n",
       "  <tbody>\n",
       "    <tr>\n",
       "      <th>75</th>\n",
       "      <td>400933830</td>\n",
       "      <td>4.009338e+17</td>\n",
       "      <td>2017</td>\n",
       "      <td>1</td>\n",
       "      <td>Ty Isaac run for 18 yds to the Fla 38 for a 1S...</td>\n",
       "      <td>3</td>\n",
       "      <td>1671</td>\n",
       "      <td>1</td>\n",
       "      <td>56</td>\n",
       "      <td>Michigan</td>\n",
       "      <td>...</td>\n",
       "      <td>0.466628</td>\n",
       "      <td>0.715362</td>\n",
       "      <td>0.506096</td>\n",
       "      <td>0.367438</td>\n",
       "      <td>Go</td>\n",
       "      <td>Go</td>\n",
       "      <td>2.8</td>\n",
       "      <td>2.8</td>\n",
       "      <td>FBS Average</td>\n",
       "      <td>FBS Average</td>\n",
       "    </tr>\n",
       "    <tr>\n",
       "      <th>85</th>\n",
       "      <td>400933830</td>\n",
       "      <td>4.009338e+17</td>\n",
       "      <td>2017</td>\n",
       "      <td>1</td>\n",
       "      <td>Malik Zaire pass incomplete to Brandon Powell</td>\n",
       "      <td>4</td>\n",
       "      <td>202</td>\n",
       "      <td>3</td>\n",
       "      <td>62</td>\n",
       "      <td>Florida</td>\n",
       "      <td>...</td>\n",
       "      <td>0.035512</td>\n",
       "      <td>0.494433</td>\n",
       "      <td>0.058194</td>\n",
       "      <td>0.013329</td>\n",
       "      <td>Go</td>\n",
       "      <td>Go</td>\n",
       "      <td>1.8</td>\n",
       "      <td>1.8</td>\n",
       "      <td>FBS Average</td>\n",
       "      <td>FBS Average</td>\n",
       "    </tr>\n",
       "    <tr>\n",
       "      <th>116</th>\n",
       "      <td>400933832</td>\n",
       "      <td>4.009338e+17</td>\n",
       "      <td>2017</td>\n",
       "      <td>1</td>\n",
       "      <td>Keon Howard run for 1 yd to the SoMis 48 for a...</td>\n",
       "      <td>2</td>\n",
       "      <td>758</td>\n",
       "      <td>1</td>\n",
       "      <td>53</td>\n",
       "      <td>Southern Mississippi</td>\n",
       "      <td>...</td>\n",
       "      <td>0.155780</td>\n",
       "      <td>0.704107</td>\n",
       "      <td>0.181083</td>\n",
       "      <td>0.095569</td>\n",
       "      <td>Go</td>\n",
       "      <td>Go</td>\n",
       "      <td>2.4</td>\n",
       "      <td>2.4</td>\n",
       "      <td>FBS Average</td>\n",
       "      <td>FBS Average</td>\n",
       "    </tr>\n",
       "    <tr>\n",
       "      <th>187</th>\n",
       "      <td>400933837</td>\n",
       "      <td>4.009338e+17</td>\n",
       "      <td>2017</td>\n",
       "      <td>1</td>\n",
       "      <td>Jaylen Samuels 1 Yd pass from Ryan Finley (Car...</td>\n",
       "      <td>4</td>\n",
       "      <td>741</td>\n",
       "      <td>1</td>\n",
       "      <td>1</td>\n",
       "      <td>NC State</td>\n",
       "      <td>...</td>\n",
       "      <td>0.337741</td>\n",
       "      <td>0.662439</td>\n",
       "      <td>0.424588</td>\n",
       "      <td>0.167312</td>\n",
       "      <td>Go</td>\n",
       "      <td>Go</td>\n",
       "      <td>9.7</td>\n",
       "      <td>9.7</td>\n",
       "      <td>FBS Average</td>\n",
       "      <td>ACC</td>\n",
       "    </tr>\n",
       "    <tr>\n",
       "      <th>191</th>\n",
       "      <td>400933837</td>\n",
       "      <td>4.009338e+17</td>\n",
       "      <td>2017</td>\n",
       "      <td>1</td>\n",
       "      <td>Ryan Finley pass complete to Jaylen Samuels fo...</td>\n",
       "      <td>4</td>\n",
       "      <td>274</td>\n",
       "      <td>5</td>\n",
       "      <td>35</td>\n",
       "      <td>NC State</td>\n",
       "      <td>...</td>\n",
       "      <td>0.109064</td>\n",
       "      <td>0.401866</td>\n",
       "      <td>0.200069</td>\n",
       "      <td>0.047920</td>\n",
       "      <td>Go</td>\n",
       "      <td>Go</td>\n",
       "      <td>1.9</td>\n",
       "      <td>1.9</td>\n",
       "      <td>FBS Average</td>\n",
       "      <td>ACC</td>\n",
       "    </tr>\n",
       "  </tbody>\n",
       "</table>\n",
       "<p>5 rows × 29 columns</p>\n",
       "</div>"
      ],
      "text/plain": [
       "       game_id       play_id  season  week  \\\n",
       "75   400933830  4.009338e+17    2017     1   \n",
       "85   400933830  4.009338e+17    2017     1   \n",
       "116  400933832  4.009338e+17    2017     1   \n",
       "187  400933837  4.009338e+17    2017     1   \n",
       "191  400933837  4.009338e+17    2017     1   \n",
       "\n",
       "                                                  desc  qtr  TimeSecsRem  \\\n",
       "75   Ty Isaac run for 18 yds to the Fla 38 for a 1S...    3         1671   \n",
       "85       Malik Zaire pass incomplete to Brandon Powell    4          202   \n",
       "116  Keon Howard run for 1 yd to the SoMis 48 for a...    2          758   \n",
       "187  Jaylen Samuels 1 Yd pass from Ryan Finley (Car...    4          741   \n",
       "191  Ryan Finley pass complete to Jaylen Samuels fo...    4          274   \n",
       "\n",
       "     distance  yards_to_goal              pos_team  ...     go_wp  \\\n",
       "75          1             56              Michigan  ...  0.466628   \n",
       "85          3             62               Florida  ...  0.035512   \n",
       "116         1             53  Southern Mississippi  ...  0.155780   \n",
       "187         1              1              NC State  ...  0.337741   \n",
       "191         5             35              NC State  ...  0.109064   \n",
       "\n",
       "     go_success_prob go_success_wp  go_fail_wp  choice  recommendation  \\\n",
       "75          0.715362      0.506096    0.367438      Go              Go   \n",
       "85          0.494433      0.058194    0.013329      Go              Go   \n",
       "116         0.704107      0.181083    0.095569      Go              Go   \n",
       "187         0.662439      0.424588    0.167312      Go              Go   \n",
       "191         0.401866      0.200069    0.047920      Go              Go   \n",
       "\n",
       "     strength  decision_value     gt_coach   conference  \n",
       "75        2.8             2.8  FBS Average  FBS Average  \n",
       "85        1.8             1.8  FBS Average  FBS Average  \n",
       "116       2.4             2.4  FBS Average  FBS Average  \n",
       "187       9.7             9.7  FBS Average          ACC  \n",
       "191       1.9             1.9  FBS Average          ACC  \n",
       "\n",
       "[5 rows x 29 columns]"
      ]
     },
     "execution_count": 271,
     "metadata": {},
     "output_type": "execute_result"
    }
   ],
   "source": [
    "# \"obvious go\" == +1.5 WP with \"go\" rec\n",
    "obvious_go = decisions[(decisions.decision_value >= 1.5) & (decisions.recommendation == \"Go\")]\n",
    "obvious_go.head()"
   ]
  },
  {
   "cell_type": "code",
   "execution_count": 272,
   "metadata": {},
   "outputs": [
    {
     "data": {
      "text/html": [
       "<div>\n",
       "<style scoped>\n",
       "    .dataframe tbody tr th:only-of-type {\n",
       "        vertical-align: middle;\n",
       "    }\n",
       "\n",
       "    .dataframe tbody tr th {\n",
       "        vertical-align: top;\n",
       "    }\n",
       "\n",
       "    .dataframe thead th {\n",
       "        text-align: right;\n",
       "    }\n",
       "</style>\n",
       "<table border=\"1\" class=\"dataframe\">\n",
       "  <thead>\n",
       "    <tr style=\"text-align: right;\">\n",
       "      <th>choice</th>\n",
       "      <th>FG</th>\n",
       "      <th>Go</th>\n",
       "      <th>Penalty</th>\n",
       "      <th>Punt</th>\n",
       "    </tr>\n",
       "    <tr>\n",
       "      <th>recommendation</th>\n",
       "      <th></th>\n",
       "      <th></th>\n",
       "      <th></th>\n",
       "      <th></th>\n",
       "    </tr>\n",
       "  </thead>\n",
       "  <tbody>\n",
       "    <tr>\n",
       "      <th>FG</th>\n",
       "      <td>0.375000</td>\n",
       "      <td>0.625000</td>\n",
       "      <td>NaN</td>\n",
       "      <td>NaN</td>\n",
       "    </tr>\n",
       "    <tr>\n",
       "      <th>Go</th>\n",
       "      <td>0.026316</td>\n",
       "      <td>0.473684</td>\n",
       "      <td>0.105263</td>\n",
       "      <td>0.394737</td>\n",
       "    </tr>\n",
       "    <tr>\n",
       "      <th>Punt</th>\n",
       "      <td>NaN</td>\n",
       "      <td>NaN</td>\n",
       "      <td>0.240000</td>\n",
       "      <td>0.760000</td>\n",
       "    </tr>\n",
       "    <tr>\n",
       "      <th>Toss-up</th>\n",
       "      <td>NaN</td>\n",
       "      <td>0.062500</td>\n",
       "      <td>0.062500</td>\n",
       "      <td>0.875000</td>\n",
       "    </tr>\n",
       "  </tbody>\n",
       "</table>\n",
       "</div>"
      ],
      "text/plain": [
       "choice                FG        Go   Penalty      Punt\n",
       "recommendation                                        \n",
       "FG              0.375000  0.625000       NaN       NaN\n",
       "Go              0.026316  0.473684  0.105263  0.394737\n",
       "Punt                 NaN       NaN  0.240000  0.760000\n",
       "Toss-up              NaN  0.062500  0.062500  0.875000"
      ]
     },
     "execution_count": 272,
     "metadata": {},
     "output_type": "execute_result"
    }
   ],
   "source": [
    "overall_decisions = decisions[(decisions.pos_team == \"Georgia Tech\") & (decisions.season == 2020)].groupby(\"recommendation\")\n",
    "overall_decisions.choice.value_counts(normalize=True).unstack()"
   ]
  },
  {
   "cell_type": "code",
   "execution_count": 273,
   "metadata": {},
   "outputs": [
    {
     "data": {
      "text/plain": [
       "recommendation  choice\n",
       "FG              FG        1.0\n",
       "Go              Go        1.0\n",
       "Punt            Punt      1.0\n",
       "Name: choice, dtype: float64"
      ]
     },
     "execution_count": 273,
     "metadata": {},
     "output_type": "execute_result"
    }
   ],
   "source": [
    "optimal_decisions = decisions[(decisions.pos_team == \"Georgia Tech\") & (decisions.decision_value >= 1.5) & (decisions.season >= 2019)].groupby(\"recommendation\")\n",
    "optimal_decisions.choice.value_counts(normalize=True)"
   ]
  },
  {
   "cell_type": "code",
   "execution_count": 276,
   "metadata": {},
   "outputs": [
    {
     "data": {
      "text/html": [
       "<div>\n",
       "<style scoped>\n",
       "    .dataframe tbody tr th:only-of-type {\n",
       "        vertical-align: middle;\n",
       "    }\n",
       "\n",
       "    .dataframe tbody tr th {\n",
       "        vertical-align: top;\n",
       "    }\n",
       "\n",
       "    .dataframe thead th {\n",
       "        text-align: right;\n",
       "    }\n",
       "</style>\n",
       "<table border=\"1\" class=\"dataframe\">\n",
       "  <thead>\n",
       "    <tr style=\"text-align: right;\">\n",
       "      <th></th>\n",
       "      <th>gt_coach</th>\n",
       "      <th>recommendation</th>\n",
       "      <th>choice</th>\n",
       "      <th>value</th>\n",
       "    </tr>\n",
       "  </thead>\n",
       "  <tbody>\n",
       "    <tr>\n",
       "      <th>0</th>\n",
       "      <td>Geoff Collins</td>\n",
       "      <td>FG</td>\n",
       "      <td>FG</td>\n",
       "      <td>0.470588</td>\n",
       "    </tr>\n",
       "    <tr>\n",
       "      <th>1</th>\n",
       "      <td>Paul Johnson</td>\n",
       "      <td>FG</td>\n",
       "      <td>FG</td>\n",
       "      <td>0.541667</td>\n",
       "    </tr>\n",
       "    <tr>\n",
       "      <th>2</th>\n",
       "      <td>Geoff Collins</td>\n",
       "      <td>Go</td>\n",
       "      <td>FG</td>\n",
       "      <td>0.038961</td>\n",
       "    </tr>\n",
       "    <tr>\n",
       "      <th>3</th>\n",
       "      <td>Paul Johnson</td>\n",
       "      <td>Go</td>\n",
       "      <td>FG</td>\n",
       "      <td>0.064516</td>\n",
       "    </tr>\n",
       "    <tr>\n",
       "      <th>4</th>\n",
       "      <td>Geoff Collins</td>\n",
       "      <td>Punt</td>\n",
       "      <td>FG</td>\n",
       "      <td>NaN</td>\n",
       "    </tr>\n",
       "    <tr>\n",
       "      <th>5</th>\n",
       "      <td>Paul Johnson</td>\n",
       "      <td>Punt</td>\n",
       "      <td>FG</td>\n",
       "      <td>NaN</td>\n",
       "    </tr>\n",
       "    <tr>\n",
       "      <th>6</th>\n",
       "      <td>Geoff Collins</td>\n",
       "      <td>Toss-up</td>\n",
       "      <td>FG</td>\n",
       "      <td>NaN</td>\n",
       "    </tr>\n",
       "    <tr>\n",
       "      <th>7</th>\n",
       "      <td>Paul Johnson</td>\n",
       "      <td>Toss-up</td>\n",
       "      <td>FG</td>\n",
       "      <td>NaN</td>\n",
       "    </tr>\n",
       "    <tr>\n",
       "      <th>8</th>\n",
       "      <td>Geoff Collins</td>\n",
       "      <td>FG</td>\n",
       "      <td>Go</td>\n",
       "      <td>0.470588</td>\n",
       "    </tr>\n",
       "    <tr>\n",
       "      <th>9</th>\n",
       "      <td>Paul Johnson</td>\n",
       "      <td>FG</td>\n",
       "      <td>Go</td>\n",
       "      <td>0.375000</td>\n",
       "    </tr>\n",
       "    <tr>\n",
       "      <th>10</th>\n",
       "      <td>Geoff Collins</td>\n",
       "      <td>Go</td>\n",
       "      <td>Go</td>\n",
       "      <td>0.363636</td>\n",
       "    </tr>\n",
       "    <tr>\n",
       "      <th>11</th>\n",
       "      <td>Paul Johnson</td>\n",
       "      <td>Go</td>\n",
       "      <td>Go</td>\n",
       "      <td>0.516129</td>\n",
       "    </tr>\n",
       "    <tr>\n",
       "      <th>12</th>\n",
       "      <td>Geoff Collins</td>\n",
       "      <td>Punt</td>\n",
       "      <td>Go</td>\n",
       "      <td>0.035088</td>\n",
       "    </tr>\n",
       "    <tr>\n",
       "      <th>13</th>\n",
       "      <td>Paul Johnson</td>\n",
       "      <td>Punt</td>\n",
       "      <td>Go</td>\n",
       "      <td>0.047619</td>\n",
       "    </tr>\n",
       "    <tr>\n",
       "      <th>14</th>\n",
       "      <td>Geoff Collins</td>\n",
       "      <td>Toss-up</td>\n",
       "      <td>Go</td>\n",
       "      <td>0.050000</td>\n",
       "    </tr>\n",
       "    <tr>\n",
       "      <th>15</th>\n",
       "      <td>Paul Johnson</td>\n",
       "      <td>Toss-up</td>\n",
       "      <td>Go</td>\n",
       "      <td>0.055556</td>\n",
       "    </tr>\n",
       "    <tr>\n",
       "      <th>16</th>\n",
       "      <td>Geoff Collins</td>\n",
       "      <td>FG</td>\n",
       "      <td>Penalty</td>\n",
       "      <td>NaN</td>\n",
       "    </tr>\n",
       "    <tr>\n",
       "      <th>17</th>\n",
       "      <td>Paul Johnson</td>\n",
       "      <td>FG</td>\n",
       "      <td>Penalty</td>\n",
       "      <td>0.041667</td>\n",
       "    </tr>\n",
       "    <tr>\n",
       "      <th>18</th>\n",
       "      <td>Geoff Collins</td>\n",
       "      <td>Go</td>\n",
       "      <td>Penalty</td>\n",
       "      <td>0.077922</td>\n",
       "    </tr>\n",
       "    <tr>\n",
       "      <th>19</th>\n",
       "      <td>Paul Johnson</td>\n",
       "      <td>Go</td>\n",
       "      <td>Penalty</td>\n",
       "      <td>0.096774</td>\n",
       "    </tr>\n",
       "    <tr>\n",
       "      <th>20</th>\n",
       "      <td>Geoff Collins</td>\n",
       "      <td>Punt</td>\n",
       "      <td>Penalty</td>\n",
       "      <td>0.140351</td>\n",
       "    </tr>\n",
       "    <tr>\n",
       "      <th>21</th>\n",
       "      <td>Paul Johnson</td>\n",
       "      <td>Punt</td>\n",
       "      <td>Penalty</td>\n",
       "      <td>0.071429</td>\n",
       "    </tr>\n",
       "    <tr>\n",
       "      <th>22</th>\n",
       "      <td>Geoff Collins</td>\n",
       "      <td>Toss-up</td>\n",
       "      <td>Penalty</td>\n",
       "      <td>0.050000</td>\n",
       "    </tr>\n",
       "    <tr>\n",
       "      <th>23</th>\n",
       "      <td>Paul Johnson</td>\n",
       "      <td>Toss-up</td>\n",
       "      <td>Penalty</td>\n",
       "      <td>0.055556</td>\n",
       "    </tr>\n",
       "    <tr>\n",
       "      <th>24</th>\n",
       "      <td>Geoff Collins</td>\n",
       "      <td>FG</td>\n",
       "      <td>Punt</td>\n",
       "      <td>0.058824</td>\n",
       "    </tr>\n",
       "    <tr>\n",
       "      <th>25</th>\n",
       "      <td>Paul Johnson</td>\n",
       "      <td>FG</td>\n",
       "      <td>Punt</td>\n",
       "      <td>0.041667</td>\n",
       "    </tr>\n",
       "    <tr>\n",
       "      <th>26</th>\n",
       "      <td>Geoff Collins</td>\n",
       "      <td>Go</td>\n",
       "      <td>Punt</td>\n",
       "      <td>0.519481</td>\n",
       "    </tr>\n",
       "    <tr>\n",
       "      <th>27</th>\n",
       "      <td>Paul Johnson</td>\n",
       "      <td>Go</td>\n",
       "      <td>Punt</td>\n",
       "      <td>0.322581</td>\n",
       "    </tr>\n",
       "    <tr>\n",
       "      <th>28</th>\n",
       "      <td>Geoff Collins</td>\n",
       "      <td>Punt</td>\n",
       "      <td>Punt</td>\n",
       "      <td>0.824561</td>\n",
       "    </tr>\n",
       "    <tr>\n",
       "      <th>29</th>\n",
       "      <td>Paul Johnson</td>\n",
       "      <td>Punt</td>\n",
       "      <td>Punt</td>\n",
       "      <td>0.880952</td>\n",
       "    </tr>\n",
       "    <tr>\n",
       "      <th>30</th>\n",
       "      <td>Geoff Collins</td>\n",
       "      <td>Toss-up</td>\n",
       "      <td>Punt</td>\n",
       "      <td>0.900000</td>\n",
       "    </tr>\n",
       "    <tr>\n",
       "      <th>31</th>\n",
       "      <td>Paul Johnson</td>\n",
       "      <td>Toss-up</td>\n",
       "      <td>Punt</td>\n",
       "      <td>0.888889</td>\n",
       "    </tr>\n",
       "  </tbody>\n",
       "</table>\n",
       "</div>"
      ],
      "text/plain": [
       "         gt_coach recommendation   choice     value\n",
       "0   Geoff Collins             FG       FG  0.470588\n",
       "1    Paul Johnson             FG       FG  0.541667\n",
       "2   Geoff Collins             Go       FG  0.038961\n",
       "3    Paul Johnson             Go       FG  0.064516\n",
       "4   Geoff Collins           Punt       FG       NaN\n",
       "5    Paul Johnson           Punt       FG       NaN\n",
       "6   Geoff Collins        Toss-up       FG       NaN\n",
       "7    Paul Johnson        Toss-up       FG       NaN\n",
       "8   Geoff Collins             FG       Go  0.470588\n",
       "9    Paul Johnson             FG       Go  0.375000\n",
       "10  Geoff Collins             Go       Go  0.363636\n",
       "11   Paul Johnson             Go       Go  0.516129\n",
       "12  Geoff Collins           Punt       Go  0.035088\n",
       "13   Paul Johnson           Punt       Go  0.047619\n",
       "14  Geoff Collins        Toss-up       Go  0.050000\n",
       "15   Paul Johnson        Toss-up       Go  0.055556\n",
       "16  Geoff Collins             FG  Penalty       NaN\n",
       "17   Paul Johnson             FG  Penalty  0.041667\n",
       "18  Geoff Collins             Go  Penalty  0.077922\n",
       "19   Paul Johnson             Go  Penalty  0.096774\n",
       "20  Geoff Collins           Punt  Penalty  0.140351\n",
       "21   Paul Johnson           Punt  Penalty  0.071429\n",
       "22  Geoff Collins        Toss-up  Penalty  0.050000\n",
       "23   Paul Johnson        Toss-up  Penalty  0.055556\n",
       "24  Geoff Collins             FG     Punt  0.058824\n",
       "25   Paul Johnson             FG     Punt  0.041667\n",
       "26  Geoff Collins             Go     Punt  0.519481\n",
       "27   Paul Johnson             Go     Punt  0.322581\n",
       "28  Geoff Collins           Punt     Punt  0.824561\n",
       "29   Paul Johnson           Punt     Punt  0.880952\n",
       "30  Geoff Collins        Toss-up     Punt  0.900000\n",
       "31   Paul Johnson        Toss-up     Punt  0.888889"
      ]
     },
     "execution_count": 276,
     "metadata": {},
     "output_type": "execute_result"
    }
   ],
   "source": [
    "overall_decisions = decisions.groupby([\"recommendation\",\"gt_coach\"])\n",
    "tmp = overall_decisions.choice.value_counts(normalize=True).unstack().reset_index()\n",
    "tmp\n",
    "\n",
    "coach_df = pd.melt(tmp[(tmp.gt_coach != \"FBS Average\")],id_vars=['gt_coach',\"recommendation\"],var_name='choice', value_name='value')\n",
    "coach_df"
   ]
  },
  {
   "cell_type": "code",
   "execution_count": 277,
   "metadata": {},
   "outputs": [
    {
     "data": {
      "text/html": [
       "<div>\n",
       "<style scoped>\n",
       "    .dataframe tbody tr th:only-of-type {\n",
       "        vertical-align: middle;\n",
       "    }\n",
       "\n",
       "    .dataframe tbody tr th {\n",
       "        vertical-align: top;\n",
       "    }\n",
       "\n",
       "    .dataframe thead th {\n",
       "        text-align: right;\n",
       "    }\n",
       "</style>\n",
       "<table border=\"1\" class=\"dataframe\">\n",
       "  <thead>\n",
       "    <tr style=\"text-align: right;\">\n",
       "      <th></th>\n",
       "      <th>gt_coach</th>\n",
       "      <th>recommendation</th>\n",
       "      <th>choice</th>\n",
       "      <th>value</th>\n",
       "      <th>percentage</th>\n",
       "    </tr>\n",
       "  </thead>\n",
       "  <tbody>\n",
       "    <tr>\n",
       "      <th>0</th>\n",
       "      <td>Geoff Collins</td>\n",
       "      <td>FG</td>\n",
       "      <td>FG</td>\n",
       "      <td>0.470588</td>\n",
       "      <td>47.1%</td>\n",
       "    </tr>\n",
       "    <tr>\n",
       "      <th>1</th>\n",
       "      <td>Paul Johnson</td>\n",
       "      <td>FG</td>\n",
       "      <td>FG</td>\n",
       "      <td>0.541667</td>\n",
       "      <td>54.2%</td>\n",
       "    </tr>\n",
       "    <tr>\n",
       "      <th>2</th>\n",
       "      <td>Geoff Collins</td>\n",
       "      <td>Go</td>\n",
       "      <td>FG</td>\n",
       "      <td>0.038961</td>\n",
       "      <td>3.9%</td>\n",
       "    </tr>\n",
       "    <tr>\n",
       "      <th>3</th>\n",
       "      <td>Paul Johnson</td>\n",
       "      <td>Go</td>\n",
       "      <td>FG</td>\n",
       "      <td>0.064516</td>\n",
       "      <td>6.5%</td>\n",
       "    </tr>\n",
       "    <tr>\n",
       "      <th>4</th>\n",
       "      <td>Geoff Collins</td>\n",
       "      <td>Punt</td>\n",
       "      <td>FG</td>\n",
       "      <td>NaN</td>\n",
       "      <td>0.0%</td>\n",
       "    </tr>\n",
       "    <tr>\n",
       "      <th>5</th>\n",
       "      <td>Paul Johnson</td>\n",
       "      <td>Punt</td>\n",
       "      <td>FG</td>\n",
       "      <td>NaN</td>\n",
       "      <td>0.0%</td>\n",
       "    </tr>\n",
       "    <tr>\n",
       "      <th>6</th>\n",
       "      <td>Geoff Collins</td>\n",
       "      <td>Toss-up</td>\n",
       "      <td>FG</td>\n",
       "      <td>NaN</td>\n",
       "      <td>0.0%</td>\n",
       "    </tr>\n",
       "    <tr>\n",
       "      <th>7</th>\n",
       "      <td>Paul Johnson</td>\n",
       "      <td>Toss-up</td>\n",
       "      <td>FG</td>\n",
       "      <td>NaN</td>\n",
       "      <td>0.0%</td>\n",
       "    </tr>\n",
       "    <tr>\n",
       "      <th>8</th>\n",
       "      <td>Geoff Collins</td>\n",
       "      <td>FG</td>\n",
       "      <td>Go</td>\n",
       "      <td>0.470588</td>\n",
       "      <td>47.1%</td>\n",
       "    </tr>\n",
       "    <tr>\n",
       "      <th>9</th>\n",
       "      <td>Paul Johnson</td>\n",
       "      <td>FG</td>\n",
       "      <td>Go</td>\n",
       "      <td>0.375000</td>\n",
       "      <td>37.5%</td>\n",
       "    </tr>\n",
       "    <tr>\n",
       "      <th>10</th>\n",
       "      <td>Geoff Collins</td>\n",
       "      <td>Go</td>\n",
       "      <td>Go</td>\n",
       "      <td>0.363636</td>\n",
       "      <td>36.4%</td>\n",
       "    </tr>\n",
       "    <tr>\n",
       "      <th>11</th>\n",
       "      <td>Paul Johnson</td>\n",
       "      <td>Go</td>\n",
       "      <td>Go</td>\n",
       "      <td>0.516129</td>\n",
       "      <td>51.6%</td>\n",
       "    </tr>\n",
       "    <tr>\n",
       "      <th>12</th>\n",
       "      <td>Geoff Collins</td>\n",
       "      <td>Punt</td>\n",
       "      <td>Go</td>\n",
       "      <td>0.035088</td>\n",
       "      <td>3.5%</td>\n",
       "    </tr>\n",
       "    <tr>\n",
       "      <th>13</th>\n",
       "      <td>Paul Johnson</td>\n",
       "      <td>Punt</td>\n",
       "      <td>Go</td>\n",
       "      <td>0.047619</td>\n",
       "      <td>4.8%</td>\n",
       "    </tr>\n",
       "    <tr>\n",
       "      <th>14</th>\n",
       "      <td>Geoff Collins</td>\n",
       "      <td>Toss-up</td>\n",
       "      <td>Go</td>\n",
       "      <td>0.050000</td>\n",
       "      <td>5.0%</td>\n",
       "    </tr>\n",
       "    <tr>\n",
       "      <th>15</th>\n",
       "      <td>Paul Johnson</td>\n",
       "      <td>Toss-up</td>\n",
       "      <td>Go</td>\n",
       "      <td>0.055556</td>\n",
       "      <td>5.6%</td>\n",
       "    </tr>\n",
       "    <tr>\n",
       "      <th>16</th>\n",
       "      <td>Geoff Collins</td>\n",
       "      <td>FG</td>\n",
       "      <td>Penalty</td>\n",
       "      <td>NaN</td>\n",
       "      <td>0.0%</td>\n",
       "    </tr>\n",
       "    <tr>\n",
       "      <th>17</th>\n",
       "      <td>Paul Johnson</td>\n",
       "      <td>FG</td>\n",
       "      <td>Penalty</td>\n",
       "      <td>0.041667</td>\n",
       "      <td>4.2%</td>\n",
       "    </tr>\n",
       "    <tr>\n",
       "      <th>18</th>\n",
       "      <td>Geoff Collins</td>\n",
       "      <td>Go</td>\n",
       "      <td>Penalty</td>\n",
       "      <td>0.077922</td>\n",
       "      <td>7.8%</td>\n",
       "    </tr>\n",
       "    <tr>\n",
       "      <th>19</th>\n",
       "      <td>Paul Johnson</td>\n",
       "      <td>Go</td>\n",
       "      <td>Penalty</td>\n",
       "      <td>0.096774</td>\n",
       "      <td>9.7%</td>\n",
       "    </tr>\n",
       "    <tr>\n",
       "      <th>20</th>\n",
       "      <td>Geoff Collins</td>\n",
       "      <td>Punt</td>\n",
       "      <td>Penalty</td>\n",
       "      <td>0.140351</td>\n",
       "      <td>14.0%</td>\n",
       "    </tr>\n",
       "    <tr>\n",
       "      <th>21</th>\n",
       "      <td>Paul Johnson</td>\n",
       "      <td>Punt</td>\n",
       "      <td>Penalty</td>\n",
       "      <td>0.071429</td>\n",
       "      <td>7.1%</td>\n",
       "    </tr>\n",
       "    <tr>\n",
       "      <th>22</th>\n",
       "      <td>Geoff Collins</td>\n",
       "      <td>Toss-up</td>\n",
       "      <td>Penalty</td>\n",
       "      <td>0.050000</td>\n",
       "      <td>5.0%</td>\n",
       "    </tr>\n",
       "    <tr>\n",
       "      <th>23</th>\n",
       "      <td>Paul Johnson</td>\n",
       "      <td>Toss-up</td>\n",
       "      <td>Penalty</td>\n",
       "      <td>0.055556</td>\n",
       "      <td>5.6%</td>\n",
       "    </tr>\n",
       "    <tr>\n",
       "      <th>24</th>\n",
       "      <td>Geoff Collins</td>\n",
       "      <td>FG</td>\n",
       "      <td>Punt</td>\n",
       "      <td>0.058824</td>\n",
       "      <td>5.9%</td>\n",
       "    </tr>\n",
       "    <tr>\n",
       "      <th>25</th>\n",
       "      <td>Paul Johnson</td>\n",
       "      <td>FG</td>\n",
       "      <td>Punt</td>\n",
       "      <td>0.041667</td>\n",
       "      <td>4.2%</td>\n",
       "    </tr>\n",
       "    <tr>\n",
       "      <th>26</th>\n",
       "      <td>Geoff Collins</td>\n",
       "      <td>Go</td>\n",
       "      <td>Punt</td>\n",
       "      <td>0.519481</td>\n",
       "      <td>51.9%</td>\n",
       "    </tr>\n",
       "    <tr>\n",
       "      <th>27</th>\n",
       "      <td>Paul Johnson</td>\n",
       "      <td>Go</td>\n",
       "      <td>Punt</td>\n",
       "      <td>0.322581</td>\n",
       "      <td>32.3%</td>\n",
       "    </tr>\n",
       "    <tr>\n",
       "      <th>28</th>\n",
       "      <td>Geoff Collins</td>\n",
       "      <td>Punt</td>\n",
       "      <td>Punt</td>\n",
       "      <td>0.824561</td>\n",
       "      <td>82.5%</td>\n",
       "    </tr>\n",
       "    <tr>\n",
       "      <th>29</th>\n",
       "      <td>Paul Johnson</td>\n",
       "      <td>Punt</td>\n",
       "      <td>Punt</td>\n",
       "      <td>0.880952</td>\n",
       "      <td>88.1%</td>\n",
       "    </tr>\n",
       "    <tr>\n",
       "      <th>30</th>\n",
       "      <td>Geoff Collins</td>\n",
       "      <td>Toss-up</td>\n",
       "      <td>Punt</td>\n",
       "      <td>0.900000</td>\n",
       "      <td>90.0%</td>\n",
       "    </tr>\n",
       "    <tr>\n",
       "      <th>31</th>\n",
       "      <td>Paul Johnson</td>\n",
       "      <td>Toss-up</td>\n",
       "      <td>Punt</td>\n",
       "      <td>0.888889</td>\n",
       "      <td>88.9%</td>\n",
       "    </tr>\n",
       "    <tr>\n",
       "      <th>0</th>\n",
       "      <td>FBS Average</td>\n",
       "      <td>FG</td>\n",
       "      <td>FG</td>\n",
       "      <td>0.656560</td>\n",
       "      <td>65.7%</td>\n",
       "    </tr>\n",
       "    <tr>\n",
       "      <th>1</th>\n",
       "      <td>FBS Average</td>\n",
       "      <td>Go</td>\n",
       "      <td>FG</td>\n",
       "      <td>0.167043</td>\n",
       "      <td>16.7%</td>\n",
       "    </tr>\n",
       "    <tr>\n",
       "      <th>2</th>\n",
       "      <td>FBS Average</td>\n",
       "      <td>Punt</td>\n",
       "      <td>FG</td>\n",
       "      <td>0.003031</td>\n",
       "      <td>0.3%</td>\n",
       "    </tr>\n",
       "    <tr>\n",
       "      <th>3</th>\n",
       "      <td>FBS Average</td>\n",
       "      <td>Toss-up</td>\n",
       "      <td>FG</td>\n",
       "      <td>0.009159</td>\n",
       "      <td>0.9%</td>\n",
       "    </tr>\n",
       "    <tr>\n",
       "      <th>4</th>\n",
       "      <td>FBS Average</td>\n",
       "      <td>FG</td>\n",
       "      <td>Go</td>\n",
       "      <td>0.221850</td>\n",
       "      <td>22.2%</td>\n",
       "    </tr>\n",
       "    <tr>\n",
       "      <th>5</th>\n",
       "      <td>FBS Average</td>\n",
       "      <td>Go</td>\n",
       "      <td>Go</td>\n",
       "      <td>0.339505</td>\n",
       "      <td>34.0%</td>\n",
       "    </tr>\n",
       "    <tr>\n",
       "      <th>6</th>\n",
       "      <td>FBS Average</td>\n",
       "      <td>Punt</td>\n",
       "      <td>Go</td>\n",
       "      <td>0.032737</td>\n",
       "      <td>3.3%</td>\n",
       "    </tr>\n",
       "    <tr>\n",
       "      <th>7</th>\n",
       "      <td>FBS Average</td>\n",
       "      <td>Toss-up</td>\n",
       "      <td>Go</td>\n",
       "      <td>0.074398</td>\n",
       "      <td>7.4%</td>\n",
       "    </tr>\n",
       "    <tr>\n",
       "      <th>8</th>\n",
       "      <td>FBS Average</td>\n",
       "      <td>FG</td>\n",
       "      <td>Penalty</td>\n",
       "      <td>0.052720</td>\n",
       "      <td>5.3%</td>\n",
       "    </tr>\n",
       "    <tr>\n",
       "      <th>9</th>\n",
       "      <td>FBS Average</td>\n",
       "      <td>Go</td>\n",
       "      <td>Penalty</td>\n",
       "      <td>0.065332</td>\n",
       "      <td>6.5%</td>\n",
       "    </tr>\n",
       "    <tr>\n",
       "      <th>10</th>\n",
       "      <td>FBS Average</td>\n",
       "      <td>Punt</td>\n",
       "      <td>Penalty</td>\n",
       "      <td>0.052061</td>\n",
       "      <td>5.2%</td>\n",
       "    </tr>\n",
       "    <tr>\n",
       "      <th>11</th>\n",
       "      <td>FBS Average</td>\n",
       "      <td>Toss-up</td>\n",
       "      <td>Penalty</td>\n",
       "      <td>0.053262</td>\n",
       "      <td>5.3%</td>\n",
       "    </tr>\n",
       "    <tr>\n",
       "      <th>12</th>\n",
       "      <td>FBS Average</td>\n",
       "      <td>FG</td>\n",
       "      <td>Punt</td>\n",
       "      <td>0.068871</td>\n",
       "      <td>6.9%</td>\n",
       "    </tr>\n",
       "    <tr>\n",
       "      <th>13</th>\n",
       "      <td>FBS Average</td>\n",
       "      <td>Go</td>\n",
       "      <td>Punt</td>\n",
       "      <td>0.428120</td>\n",
       "      <td>42.8%</td>\n",
       "    </tr>\n",
       "    <tr>\n",
       "      <th>14</th>\n",
       "      <td>FBS Average</td>\n",
       "      <td>Punt</td>\n",
       "      <td>Punt</td>\n",
       "      <td>0.912170</td>\n",
       "      <td>91.2%</td>\n",
       "    </tr>\n",
       "    <tr>\n",
       "      <th>15</th>\n",
       "      <td>FBS Average</td>\n",
       "      <td>Toss-up</td>\n",
       "      <td>Punt</td>\n",
       "      <td>0.863182</td>\n",
       "      <td>86.3%</td>\n",
       "    </tr>\n",
       "  </tbody>\n",
       "</table>\n",
       "</div>"
      ],
      "text/plain": [
       "         gt_coach recommendation   choice     value percentage\n",
       "0   Geoff Collins             FG       FG  0.470588      47.1%\n",
       "1    Paul Johnson             FG       FG  0.541667      54.2%\n",
       "2   Geoff Collins             Go       FG  0.038961       3.9%\n",
       "3    Paul Johnson             Go       FG  0.064516       6.5%\n",
       "4   Geoff Collins           Punt       FG       NaN       0.0%\n",
       "5    Paul Johnson           Punt       FG       NaN       0.0%\n",
       "6   Geoff Collins        Toss-up       FG       NaN       0.0%\n",
       "7    Paul Johnson        Toss-up       FG       NaN       0.0%\n",
       "8   Geoff Collins             FG       Go  0.470588      47.1%\n",
       "9    Paul Johnson             FG       Go  0.375000      37.5%\n",
       "10  Geoff Collins             Go       Go  0.363636      36.4%\n",
       "11   Paul Johnson             Go       Go  0.516129      51.6%\n",
       "12  Geoff Collins           Punt       Go  0.035088       3.5%\n",
       "13   Paul Johnson           Punt       Go  0.047619       4.8%\n",
       "14  Geoff Collins        Toss-up       Go  0.050000       5.0%\n",
       "15   Paul Johnson        Toss-up       Go  0.055556       5.6%\n",
       "16  Geoff Collins             FG  Penalty       NaN       0.0%\n",
       "17   Paul Johnson             FG  Penalty  0.041667       4.2%\n",
       "18  Geoff Collins             Go  Penalty  0.077922       7.8%\n",
       "19   Paul Johnson             Go  Penalty  0.096774       9.7%\n",
       "20  Geoff Collins           Punt  Penalty  0.140351      14.0%\n",
       "21   Paul Johnson           Punt  Penalty  0.071429       7.1%\n",
       "22  Geoff Collins        Toss-up  Penalty  0.050000       5.0%\n",
       "23   Paul Johnson        Toss-up  Penalty  0.055556       5.6%\n",
       "24  Geoff Collins             FG     Punt  0.058824       5.9%\n",
       "25   Paul Johnson             FG     Punt  0.041667       4.2%\n",
       "26  Geoff Collins             Go     Punt  0.519481      51.9%\n",
       "27   Paul Johnson             Go     Punt  0.322581      32.3%\n",
       "28  Geoff Collins           Punt     Punt  0.824561      82.5%\n",
       "29   Paul Johnson           Punt     Punt  0.880952      88.1%\n",
       "30  Geoff Collins        Toss-up     Punt  0.900000      90.0%\n",
       "31   Paul Johnson        Toss-up     Punt  0.888889      88.9%\n",
       "0     FBS Average             FG       FG  0.656560      65.7%\n",
       "1     FBS Average             Go       FG  0.167043      16.7%\n",
       "2     FBS Average           Punt       FG  0.003031       0.3%\n",
       "3     FBS Average        Toss-up       FG  0.009159       0.9%\n",
       "4     FBS Average             FG       Go  0.221850      22.2%\n",
       "5     FBS Average             Go       Go  0.339505      34.0%\n",
       "6     FBS Average           Punt       Go  0.032737       3.3%\n",
       "7     FBS Average        Toss-up       Go  0.074398       7.4%\n",
       "8     FBS Average             FG  Penalty  0.052720       5.3%\n",
       "9     FBS Average             Go  Penalty  0.065332       6.5%\n",
       "10    FBS Average           Punt  Penalty  0.052061       5.2%\n",
       "11    FBS Average        Toss-up  Penalty  0.053262       5.3%\n",
       "12    FBS Average             FG     Punt  0.068871       6.9%\n",
       "13    FBS Average             Go     Punt  0.428120      42.8%\n",
       "14    FBS Average           Punt     Punt  0.912170      91.2%\n",
       "15    FBS Average        Toss-up     Punt  0.863182      86.3%"
      ]
     },
     "execution_count": 277,
     "metadata": {},
     "output_type": "execute_result"
    }
   ],
   "source": [
    "tmp_avg = decisions.groupby(\"recommendation\").choice.value_counts(normalize=True).unstack().reset_index()\n",
    "tmp_melt = pd.melt(tmp_avg,id_vars=[\"recommendation\"],var_name='choice', value_name='value')\n",
    "tmp_melt[\"gt_coach\"] = \"FBS Average\"\n",
    "coach_df = coach_df.append(tmp_melt)\n",
    "\n",
    "coach_df[\"percentage\"] = coach_df.value.apply(lambda x: \"0.0%\" if (np.isnan(x) == True) else f\"{round(x * 100, 1)}%\")\n",
    "coach_df"
   ]
  },
  {
   "cell_type": "code",
   "execution_count": 278,
   "metadata": {},
   "outputs": [
    {
     "data": {
      "application/vnd.plotly.v1+json": {
       "config": {
        "plotlyServerURL": "https://plot.ly"
       },
       "data": [
        {
         "marker": {
          "color": "#002c59"
         },
         "name": "FG",
         "text": [
          "47.1%",
          "54.2%",
          "3.9%",
          "6.5%",
          "0.0%",
          "0.0%",
          "0.0%",
          "0.0%",
          "65.7%",
          "16.7%",
          "0.3%",
          "0.9%"
         ],
         "textposition": "auto",
         "type": "bar",
         "x": [
          [
           "FG",
           "FG",
           "Go",
           "Go",
           "Punt",
           "Punt",
           "Toss-up",
           "Toss-up",
           "FG",
           "Go",
           "Punt",
           "Toss-up"
          ],
          [
           "Geoff Collins",
           "Paul Johnson",
           "Geoff Collins",
           "Paul Johnson",
           "Geoff Collins",
           "Paul Johnson",
           "Geoff Collins",
           "Paul Johnson",
           "FBS Average",
           "FBS Average",
           "FBS Average",
           "FBS Average"
          ]
         ],
         "y": [
          0.47058823529411764,
          0.5416666666666666,
          0.03896103896103896,
          0.06451612903225806,
          null,
          null,
          null,
          null,
          0.656559500228554,
          0.16704300265944103,
          0.003031221582297666,
          0.009158799492743412
         ]
        },
        {
         "marker": {
          "color": "#B3A369"
         },
         "name": "Go",
         "text": [
          "47.1%",
          "37.5%",
          "36.4%",
          "51.6%",
          "3.5%",
          "4.8%",
          "5.0%",
          "5.6%",
          "22.2%",
          "34.0%",
          "3.3%",
          "7.4%"
         ],
         "textposition": "auto",
         "type": "bar",
         "x": [
          [
           "FG",
           "FG",
           "Go",
           "Go",
           "Punt",
           "Punt",
           "Toss-up",
           "Toss-up",
           "FG",
           "Go",
           "Punt",
           "Toss-up"
          ],
          [
           "Geoff Collins",
           "Paul Johnson",
           "Geoff Collins",
           "Paul Johnson",
           "Geoff Collins",
           "Paul Johnson",
           "Geoff Collins",
           "Paul Johnson",
           "FBS Average",
           "FBS Average",
           "FBS Average",
           "FBS Average"
          ]
         ],
         "y": [
          0.47058823529411764,
          0.375,
          0.36363636363636365,
          0.5161290322580645,
          0.03508771929824561,
          0.047619047619047616,
          0.05,
          0.05555555555555555,
          0.2218497638275179,
          0.33950524361483264,
          0.032737193088814794,
          0.07439763280259265
         ]
        },
        {
         "marker": {
          "color": "gold"
         },
         "name": "Penalty",
         "text": [
          "0.0%",
          "4.2%",
          "7.8%",
          "9.7%",
          "14.0%",
          "7.1%",
          "5.0%",
          "5.6%",
          "5.3%",
          "6.5%",
          "5.2%",
          "5.3%"
         ],
         "textposition": "auto",
         "type": "bar",
         "x": [
          [
           "FG",
           "FG",
           "Go",
           "Go",
           "Punt",
           "Punt",
           "Toss-up",
           "Toss-up",
           "FG",
           "Go",
           "Punt",
           "Toss-up"
          ],
          [
           "Geoff Collins",
           "Paul Johnson",
           "Geoff Collins",
           "Paul Johnson",
           "Geoff Collins",
           "Paul Johnson",
           "Geoff Collins",
           "Paul Johnson",
           "FBS Average",
           "FBS Average",
           "FBS Average",
           "FBS Average"
          ]
         ],
         "y": [
          null,
          0.041666666666666664,
          0.07792207792207792,
          0.0967741935483871,
          0.14035087719298245,
          0.07142857142857142,
          0.05,
          0.05555555555555555,
          0.05271979277769313,
          0.06533192834562697,
          0.05206123067596241,
          0.05326194166549246
         ]
        },
        {
         "marker": {
          "color": "gray"
         },
         "name": "Punt",
         "text": [
          "5.9%",
          "4.2%",
          "51.9%",
          "32.3%",
          "82.5%",
          "88.1%",
          "90.0%",
          "88.9%",
          "6.9%",
          "42.8%",
          "91.2%",
          "86.3%"
         ],
         "textposition": "auto",
         "type": "bar",
         "x": [
          [
           "FG",
           "FG",
           "Go",
           "Go",
           "Punt",
           "Punt",
           "Toss-up",
           "Toss-up",
           "FG",
           "Go",
           "Punt",
           "Toss-up"
          ],
          [
           "Geoff Collins",
           "Paul Johnson",
           "Geoff Collins",
           "Paul Johnson",
           "Geoff Collins",
           "Paul Johnson",
           "Geoff Collins",
           "Paul Johnson",
           "FBS Average",
           "FBS Average",
           "FBS Average",
           "FBS Average"
          ]
         ],
         "y": [
          0.058823529411764705,
          0.041666666666666664,
          0.5194805194805194,
          0.3225806451612903,
          0.8245614035087719,
          0.8809523809523809,
          0.9,
          0.8888888888888888,
          0.06887094316623496,
          0.42811982538009935,
          0.9121703546529252,
          0.8631816260391715
         ]
        }
       ],
       "layout": {
        "barmode": "stack",
        "height": 512,
        "legend": {
         "title": {
          "text": "Coach's Choice"
         }
        },
        "template": {
         "data": {
          "bar": [
           {
            "error_x": {
             "color": "rgb(36,36,36)"
            },
            "error_y": {
             "color": "rgb(36,36,36)"
            },
            "marker": {
             "line": {
              "color": "white",
              "width": 0.5
             }
            },
            "type": "bar"
           }
          ],
          "barpolar": [
           {
            "marker": {
             "line": {
              "color": "white",
              "width": 0.5
             }
            },
            "type": "barpolar"
           }
          ],
          "carpet": [
           {
            "aaxis": {
             "endlinecolor": "rgb(36,36,36)",
             "gridcolor": "white",
             "linecolor": "white",
             "minorgridcolor": "white",
             "startlinecolor": "rgb(36,36,36)"
            },
            "baxis": {
             "endlinecolor": "rgb(36,36,36)",
             "gridcolor": "white",
             "linecolor": "white",
             "minorgridcolor": "white",
             "startlinecolor": "rgb(36,36,36)"
            },
            "type": "carpet"
           }
          ],
          "choropleth": [
           {
            "colorbar": {
             "outlinewidth": 1,
             "tickcolor": "rgb(36,36,36)",
             "ticks": "outside"
            },
            "type": "choropleth"
           }
          ],
          "contour": [
           {
            "colorbar": {
             "outlinewidth": 1,
             "tickcolor": "rgb(36,36,36)",
             "ticks": "outside"
            },
            "colorscale": [
             [
              0,
              "#440154"
             ],
             [
              0.1111111111111111,
              "#482878"
             ],
             [
              0.2222222222222222,
              "#3e4989"
             ],
             [
              0.3333333333333333,
              "#31688e"
             ],
             [
              0.4444444444444444,
              "#26828e"
             ],
             [
              0.5555555555555556,
              "#1f9e89"
             ],
             [
              0.6666666666666666,
              "#35b779"
             ],
             [
              0.7777777777777778,
              "#6ece58"
             ],
             [
              0.8888888888888888,
              "#b5de2b"
             ],
             [
              1,
              "#fde725"
             ]
            ],
            "type": "contour"
           }
          ],
          "contourcarpet": [
           {
            "colorbar": {
             "outlinewidth": 1,
             "tickcolor": "rgb(36,36,36)",
             "ticks": "outside"
            },
            "type": "contourcarpet"
           }
          ],
          "heatmap": [
           {
            "colorbar": {
             "outlinewidth": 1,
             "tickcolor": "rgb(36,36,36)",
             "ticks": "outside"
            },
            "colorscale": [
             [
              0,
              "#440154"
             ],
             [
              0.1111111111111111,
              "#482878"
             ],
             [
              0.2222222222222222,
              "#3e4989"
             ],
             [
              0.3333333333333333,
              "#31688e"
             ],
             [
              0.4444444444444444,
              "#26828e"
             ],
             [
              0.5555555555555556,
              "#1f9e89"
             ],
             [
              0.6666666666666666,
              "#35b779"
             ],
             [
              0.7777777777777778,
              "#6ece58"
             ],
             [
              0.8888888888888888,
              "#b5de2b"
             ],
             [
              1,
              "#fde725"
             ]
            ],
            "type": "heatmap"
           }
          ],
          "heatmapgl": [
           {
            "colorbar": {
             "outlinewidth": 1,
             "tickcolor": "rgb(36,36,36)",
             "ticks": "outside"
            },
            "colorscale": [
             [
              0,
              "#440154"
             ],
             [
              0.1111111111111111,
              "#482878"
             ],
             [
              0.2222222222222222,
              "#3e4989"
             ],
             [
              0.3333333333333333,
              "#31688e"
             ],
             [
              0.4444444444444444,
              "#26828e"
             ],
             [
              0.5555555555555556,
              "#1f9e89"
             ],
             [
              0.6666666666666666,
              "#35b779"
             ],
             [
              0.7777777777777778,
              "#6ece58"
             ],
             [
              0.8888888888888888,
              "#b5de2b"
             ],
             [
              1,
              "#fde725"
             ]
            ],
            "type": "heatmapgl"
           }
          ],
          "histogram": [
           {
            "marker": {
             "line": {
              "color": "white",
              "width": 0.6
             }
            },
            "type": "histogram"
           }
          ],
          "histogram2d": [
           {
            "colorbar": {
             "outlinewidth": 1,
             "tickcolor": "rgb(36,36,36)",
             "ticks": "outside"
            },
            "colorscale": [
             [
              0,
              "#440154"
             ],
             [
              0.1111111111111111,
              "#482878"
             ],
             [
              0.2222222222222222,
              "#3e4989"
             ],
             [
              0.3333333333333333,
              "#31688e"
             ],
             [
              0.4444444444444444,
              "#26828e"
             ],
             [
              0.5555555555555556,
              "#1f9e89"
             ],
             [
              0.6666666666666666,
              "#35b779"
             ],
             [
              0.7777777777777778,
              "#6ece58"
             ],
             [
              0.8888888888888888,
              "#b5de2b"
             ],
             [
              1,
              "#fde725"
             ]
            ],
            "type": "histogram2d"
           }
          ],
          "histogram2dcontour": [
           {
            "colorbar": {
             "outlinewidth": 1,
             "tickcolor": "rgb(36,36,36)",
             "ticks": "outside"
            },
            "colorscale": [
             [
              0,
              "#440154"
             ],
             [
              0.1111111111111111,
              "#482878"
             ],
             [
              0.2222222222222222,
              "#3e4989"
             ],
             [
              0.3333333333333333,
              "#31688e"
             ],
             [
              0.4444444444444444,
              "#26828e"
             ],
             [
              0.5555555555555556,
              "#1f9e89"
             ],
             [
              0.6666666666666666,
              "#35b779"
             ],
             [
              0.7777777777777778,
              "#6ece58"
             ],
             [
              0.8888888888888888,
              "#b5de2b"
             ],
             [
              1,
              "#fde725"
             ]
            ],
            "type": "histogram2dcontour"
           }
          ],
          "mesh3d": [
           {
            "colorbar": {
             "outlinewidth": 1,
             "tickcolor": "rgb(36,36,36)",
             "ticks": "outside"
            },
            "type": "mesh3d"
           }
          ],
          "parcoords": [
           {
            "line": {
             "colorbar": {
              "outlinewidth": 1,
              "tickcolor": "rgb(36,36,36)",
              "ticks": "outside"
             }
            },
            "type": "parcoords"
           }
          ],
          "pie": [
           {
            "automargin": true,
            "type": "pie"
           }
          ],
          "scatter": [
           {
            "marker": {
             "colorbar": {
              "outlinewidth": 1,
              "tickcolor": "rgb(36,36,36)",
              "ticks": "outside"
             }
            },
            "type": "scatter"
           }
          ],
          "scatter3d": [
           {
            "line": {
             "colorbar": {
              "outlinewidth": 1,
              "tickcolor": "rgb(36,36,36)",
              "ticks": "outside"
             }
            },
            "marker": {
             "colorbar": {
              "outlinewidth": 1,
              "tickcolor": "rgb(36,36,36)",
              "ticks": "outside"
             }
            },
            "type": "scatter3d"
           }
          ],
          "scattercarpet": [
           {
            "marker": {
             "colorbar": {
              "outlinewidth": 1,
              "tickcolor": "rgb(36,36,36)",
              "ticks": "outside"
             }
            },
            "type": "scattercarpet"
           }
          ],
          "scattergeo": [
           {
            "marker": {
             "colorbar": {
              "outlinewidth": 1,
              "tickcolor": "rgb(36,36,36)",
              "ticks": "outside"
             }
            },
            "type": "scattergeo"
           }
          ],
          "scattergl": [
           {
            "marker": {
             "colorbar": {
              "outlinewidth": 1,
              "tickcolor": "rgb(36,36,36)",
              "ticks": "outside"
             }
            },
            "type": "scattergl"
           }
          ],
          "scattermapbox": [
           {
            "marker": {
             "colorbar": {
              "outlinewidth": 1,
              "tickcolor": "rgb(36,36,36)",
              "ticks": "outside"
             }
            },
            "type": "scattermapbox"
           }
          ],
          "scatterpolar": [
           {
            "marker": {
             "colorbar": {
              "outlinewidth": 1,
              "tickcolor": "rgb(36,36,36)",
              "ticks": "outside"
             }
            },
            "type": "scatterpolar"
           }
          ],
          "scatterpolargl": [
           {
            "marker": {
             "colorbar": {
              "outlinewidth": 1,
              "tickcolor": "rgb(36,36,36)",
              "ticks": "outside"
             }
            },
            "type": "scatterpolargl"
           }
          ],
          "scatterternary": [
           {
            "marker": {
             "colorbar": {
              "outlinewidth": 1,
              "tickcolor": "rgb(36,36,36)",
              "ticks": "outside"
             }
            },
            "type": "scatterternary"
           }
          ],
          "surface": [
           {
            "colorbar": {
             "outlinewidth": 1,
             "tickcolor": "rgb(36,36,36)",
             "ticks": "outside"
            },
            "colorscale": [
             [
              0,
              "#440154"
             ],
             [
              0.1111111111111111,
              "#482878"
             ],
             [
              0.2222222222222222,
              "#3e4989"
             ],
             [
              0.3333333333333333,
              "#31688e"
             ],
             [
              0.4444444444444444,
              "#26828e"
             ],
             [
              0.5555555555555556,
              "#1f9e89"
             ],
             [
              0.6666666666666666,
              "#35b779"
             ],
             [
              0.7777777777777778,
              "#6ece58"
             ],
             [
              0.8888888888888888,
              "#b5de2b"
             ],
             [
              1,
              "#fde725"
             ]
            ],
            "type": "surface"
           }
          ],
          "table": [
           {
            "cells": {
             "fill": {
              "color": "rgb(237,237,237)"
             },
             "line": {
              "color": "white"
             }
            },
            "header": {
             "fill": {
              "color": "rgb(217,217,217)"
             },
             "line": {
              "color": "white"
             }
            },
            "type": "table"
           }
          ]
         },
         "layout": {
          "annotationdefaults": {
           "arrowhead": 0,
           "arrowwidth": 1
          },
          "coloraxis": {
           "colorbar": {
            "outlinewidth": 1,
            "tickcolor": "rgb(36,36,36)",
            "ticks": "outside"
           }
          },
          "colorscale": {
           "diverging": [
            [
             0,
             "rgb(103,0,31)"
            ],
            [
             0.1,
             "rgb(178,24,43)"
            ],
            [
             0.2,
             "rgb(214,96,77)"
            ],
            [
             0.3,
             "rgb(244,165,130)"
            ],
            [
             0.4,
             "rgb(253,219,199)"
            ],
            [
             0.5,
             "rgb(247,247,247)"
            ],
            [
             0.6,
             "rgb(209,229,240)"
            ],
            [
             0.7,
             "rgb(146,197,222)"
            ],
            [
             0.8,
             "rgb(67,147,195)"
            ],
            [
             0.9,
             "rgb(33,102,172)"
            ],
            [
             1,
             "rgb(5,48,97)"
            ]
           ],
           "sequential": [
            [
             0,
             "#440154"
            ],
            [
             0.1111111111111111,
             "#482878"
            ],
            [
             0.2222222222222222,
             "#3e4989"
            ],
            [
             0.3333333333333333,
             "#31688e"
            ],
            [
             0.4444444444444444,
             "#26828e"
            ],
            [
             0.5555555555555556,
             "#1f9e89"
            ],
            [
             0.6666666666666666,
             "#35b779"
            ],
            [
             0.7777777777777778,
             "#6ece58"
            ],
            [
             0.8888888888888888,
             "#b5de2b"
            ],
            [
             1,
             "#fde725"
            ]
           ],
           "sequentialminus": [
            [
             0,
             "#440154"
            ],
            [
             0.1111111111111111,
             "#482878"
            ],
            [
             0.2222222222222222,
             "#3e4989"
            ],
            [
             0.3333333333333333,
             "#31688e"
            ],
            [
             0.4444444444444444,
             "#26828e"
            ],
            [
             0.5555555555555556,
             "#1f9e89"
            ],
            [
             0.6666666666666666,
             "#35b779"
            ],
            [
             0.7777777777777778,
             "#6ece58"
            ],
            [
             0.8888888888888888,
             "#b5de2b"
            ],
            [
             1,
             "#fde725"
            ]
           ]
          },
          "colorway": [
           "#1F77B4",
           "#FF7F0E",
           "#2CA02C",
           "#D62728",
           "#9467BD",
           "#8C564B",
           "#E377C2",
           "#7F7F7F",
           "#BCBD22",
           "#17BECF"
          ],
          "font": {
           "color": "rgb(36,36,36)"
          },
          "geo": {
           "bgcolor": "white",
           "lakecolor": "white",
           "landcolor": "white",
           "showlakes": true,
           "showland": true,
           "subunitcolor": "white"
          },
          "hoverlabel": {
           "align": "left"
          },
          "hovermode": "closest",
          "mapbox": {
           "style": "light"
          },
          "paper_bgcolor": "white",
          "plot_bgcolor": "white",
          "polar": {
           "angularaxis": {
            "gridcolor": "rgb(232,232,232)",
            "linecolor": "rgb(36,36,36)",
            "showgrid": false,
            "showline": true,
            "ticks": "outside"
           },
           "bgcolor": "white",
           "radialaxis": {
            "gridcolor": "rgb(232,232,232)",
            "linecolor": "rgb(36,36,36)",
            "showgrid": false,
            "showline": true,
            "ticks": "outside"
           }
          },
          "scene": {
           "xaxis": {
            "backgroundcolor": "white",
            "gridcolor": "rgb(232,232,232)",
            "gridwidth": 2,
            "linecolor": "rgb(36,36,36)",
            "showbackground": true,
            "showgrid": false,
            "showline": true,
            "ticks": "outside",
            "zeroline": false,
            "zerolinecolor": "rgb(36,36,36)"
           },
           "yaxis": {
            "backgroundcolor": "white",
            "gridcolor": "rgb(232,232,232)",
            "gridwidth": 2,
            "linecolor": "rgb(36,36,36)",
            "showbackground": true,
            "showgrid": false,
            "showline": true,
            "ticks": "outside",
            "zeroline": false,
            "zerolinecolor": "rgb(36,36,36)"
           },
           "zaxis": {
            "backgroundcolor": "white",
            "gridcolor": "rgb(232,232,232)",
            "gridwidth": 2,
            "linecolor": "rgb(36,36,36)",
            "showbackground": true,
            "showgrid": false,
            "showline": true,
            "ticks": "outside",
            "zeroline": false,
            "zerolinecolor": "rgb(36,36,36)"
           }
          },
          "shapedefaults": {
           "fillcolor": "black",
           "line": {
            "width": 0
           },
           "opacity": 0.3
          },
          "ternary": {
           "aaxis": {
            "gridcolor": "rgb(232,232,232)",
            "linecolor": "rgb(36,36,36)",
            "showgrid": false,
            "showline": true,
            "ticks": "outside"
           },
           "baxis": {
            "gridcolor": "rgb(232,232,232)",
            "linecolor": "rgb(36,36,36)",
            "showgrid": false,
            "showline": true,
            "ticks": "outside"
           },
           "bgcolor": "white",
           "caxis": {
            "gridcolor": "rgb(232,232,232)",
            "linecolor": "rgb(36,36,36)",
            "showgrid": false,
            "showline": true,
            "ticks": "outside"
           }
          },
          "title": {
           "x": 0.05
          },
          "xaxis": {
           "automargin": true,
           "gridcolor": "rgb(232,232,232)",
           "linecolor": "rgb(36,36,36)",
           "showgrid": false,
           "showline": true,
           "ticks": "outside",
           "title": {
            "standoff": 15
           },
           "zeroline": false,
           "zerolinecolor": "rgb(36,36,36)"
          },
          "yaxis": {
           "automargin": true,
           "gridcolor": "rgb(232,232,232)",
           "linecolor": "rgb(36,36,36)",
           "showgrid": false,
           "showline": true,
           "ticks": "outside",
           "title": {
            "standoff": 15
           },
           "zeroline": false,
           "zerolinecolor": "rgb(36,36,36)"
          }
         }
        },
        "title": {
         "text": "<b>Georgia Tech 4th Down Decision Making (2017-2020)</b><br><span style=\"color:#222;font-size:12px;\">Recommendations provided by A.I. Sports 4th Down Bot, created by Jared Lee (<a href=\"https://twitter.com/JDLee\">@JDLee</a>). Chart created by Akshay Easwaran (<a href=\"https://twitter.com/akeaswaran\">@akeaswaran</a>).</span>"
        },
        "width": 1024,
        "xaxis": {
         "title": {
          "text": "Optimal Decision"
         }
        },
        "yaxis": {
         "tickformat": ".0%"
        }
       }
      },
      "text/html": [
       "<div>\n",
       "        \n",
       "        \n",
       "            <div id=\"d0a8de1a-ccfa-499d-85d8-24bd8d29e9d5\" class=\"plotly-graph-div\" style=\"height:512px; width:1024px;\"></div>\n",
       "            <script type=\"text/javascript\">\n",
       "                require([\"plotly\"], function(Plotly) {\n",
       "                    window.PLOTLYENV=window.PLOTLYENV || {};\n",
       "                    \n",
       "                if (document.getElementById(\"d0a8de1a-ccfa-499d-85d8-24bd8d29e9d5\")) {\n",
       "                    Plotly.newPlot(\n",
       "                        'd0a8de1a-ccfa-499d-85d8-24bd8d29e9d5',\n",
       "                        [{\"marker\": {\"color\": \"#002c59\"}, \"name\": \"FG\", \"text\": [\"47.1%\", \"54.2%\", \"3.9%\", \"6.5%\", \"0.0%\", \"0.0%\", \"0.0%\", \"0.0%\", \"65.7%\", \"16.7%\", \"0.3%\", \"0.9%\"], \"textposition\": \"auto\", \"type\": \"bar\", \"x\": [[\"FG\", \"FG\", \"Go\", \"Go\", \"Punt\", \"Punt\", \"Toss-up\", \"Toss-up\", \"FG\", \"Go\", \"Punt\", \"Toss-up\"], [\"Geoff Collins\", \"Paul Johnson\", \"Geoff Collins\", \"Paul Johnson\", \"Geoff Collins\", \"Paul Johnson\", \"Geoff Collins\", \"Paul Johnson\", \"FBS Average\", \"FBS Average\", \"FBS Average\", \"FBS Average\"]], \"y\": [0.47058823529411764, 0.5416666666666666, 0.03896103896103896, 0.06451612903225806, null, null, null, null, 0.656559500228554, 0.16704300265944103, 0.003031221582297666, 0.009158799492743412]}, {\"marker\": {\"color\": \"#B3A369\"}, \"name\": \"Go\", \"text\": [\"47.1%\", \"37.5%\", \"36.4%\", \"51.6%\", \"3.5%\", \"4.8%\", \"5.0%\", \"5.6%\", \"22.2%\", \"34.0%\", \"3.3%\", \"7.4%\"], \"textposition\": \"auto\", \"type\": \"bar\", \"x\": [[\"FG\", \"FG\", \"Go\", \"Go\", \"Punt\", \"Punt\", \"Toss-up\", \"Toss-up\", \"FG\", \"Go\", \"Punt\", \"Toss-up\"], [\"Geoff Collins\", \"Paul Johnson\", \"Geoff Collins\", \"Paul Johnson\", \"Geoff Collins\", \"Paul Johnson\", \"Geoff Collins\", \"Paul Johnson\", \"FBS Average\", \"FBS Average\", \"FBS Average\", \"FBS Average\"]], \"y\": [0.47058823529411764, 0.375, 0.36363636363636365, 0.5161290322580645, 0.03508771929824561, 0.047619047619047616, 0.05, 0.05555555555555555, 0.2218497638275179, 0.33950524361483264, 0.032737193088814794, 0.07439763280259265]}, {\"marker\": {\"color\": \"gold\"}, \"name\": \"Penalty\", \"text\": [\"0.0%\", \"4.2%\", \"7.8%\", \"9.7%\", \"14.0%\", \"7.1%\", \"5.0%\", \"5.6%\", \"5.3%\", \"6.5%\", \"5.2%\", \"5.3%\"], \"textposition\": \"auto\", \"type\": \"bar\", \"x\": [[\"FG\", \"FG\", \"Go\", \"Go\", \"Punt\", \"Punt\", \"Toss-up\", \"Toss-up\", \"FG\", \"Go\", \"Punt\", \"Toss-up\"], [\"Geoff Collins\", \"Paul Johnson\", \"Geoff Collins\", \"Paul Johnson\", \"Geoff Collins\", \"Paul Johnson\", \"Geoff Collins\", \"Paul Johnson\", \"FBS Average\", \"FBS Average\", \"FBS Average\", \"FBS Average\"]], \"y\": [null, 0.041666666666666664, 0.07792207792207792, 0.0967741935483871, 0.14035087719298245, 0.07142857142857142, 0.05, 0.05555555555555555, 0.05271979277769313, 0.06533192834562697, 0.05206123067596241, 0.05326194166549246]}, {\"marker\": {\"color\": \"gray\"}, \"name\": \"Punt\", \"text\": [\"5.9%\", \"4.2%\", \"51.9%\", \"32.3%\", \"82.5%\", \"88.1%\", \"90.0%\", \"88.9%\", \"6.9%\", \"42.8%\", \"91.2%\", \"86.3%\"], \"textposition\": \"auto\", \"type\": \"bar\", \"x\": [[\"FG\", \"FG\", \"Go\", \"Go\", \"Punt\", \"Punt\", \"Toss-up\", \"Toss-up\", \"FG\", \"Go\", \"Punt\", \"Toss-up\"], [\"Geoff Collins\", \"Paul Johnson\", \"Geoff Collins\", \"Paul Johnson\", \"Geoff Collins\", \"Paul Johnson\", \"Geoff Collins\", \"Paul Johnson\", \"FBS Average\", \"FBS Average\", \"FBS Average\", \"FBS Average\"]], \"y\": [0.058823529411764705, 0.041666666666666664, 0.5194805194805194, 0.3225806451612903, 0.8245614035087719, 0.8809523809523809, 0.9, 0.8888888888888888, 0.06887094316623496, 0.42811982538009935, 0.9121703546529252, 0.8631816260391715]}],\n",
       "                        {\"barmode\": \"stack\", \"height\": 512, \"legend\": {\"title\": {\"text\": \"Coach's Choice\"}}, \"template\": {\"data\": {\"bar\": [{\"error_x\": {\"color\": \"rgb(36,36,36)\"}, \"error_y\": {\"color\": \"rgb(36,36,36)\"}, \"marker\": {\"line\": {\"color\": \"white\", \"width\": 0.5}}, \"type\": \"bar\"}], \"barpolar\": [{\"marker\": {\"line\": {\"color\": \"white\", \"width\": 0.5}}, \"type\": \"barpolar\"}], \"carpet\": [{\"aaxis\": {\"endlinecolor\": \"rgb(36,36,36)\", \"gridcolor\": \"white\", \"linecolor\": \"white\", \"minorgridcolor\": \"white\", \"startlinecolor\": \"rgb(36,36,36)\"}, \"baxis\": {\"endlinecolor\": \"rgb(36,36,36)\", \"gridcolor\": \"white\", \"linecolor\": \"white\", \"minorgridcolor\": \"white\", \"startlinecolor\": \"rgb(36,36,36)\"}, \"type\": \"carpet\"}], \"choropleth\": [{\"colorbar\": {\"outlinewidth\": 1, \"tickcolor\": \"rgb(36,36,36)\", \"ticks\": \"outside\"}, \"type\": \"choropleth\"}], \"contour\": [{\"colorbar\": {\"outlinewidth\": 1, \"tickcolor\": \"rgb(36,36,36)\", \"ticks\": \"outside\"}, \"colorscale\": [[0.0, \"#440154\"], [0.1111111111111111, \"#482878\"], [0.2222222222222222, \"#3e4989\"], [0.3333333333333333, \"#31688e\"], [0.4444444444444444, \"#26828e\"], [0.5555555555555556, \"#1f9e89\"], [0.6666666666666666, \"#35b779\"], [0.7777777777777778, \"#6ece58\"], [0.8888888888888888, \"#b5de2b\"], [1.0, \"#fde725\"]], \"type\": \"contour\"}], \"contourcarpet\": [{\"colorbar\": {\"outlinewidth\": 1, \"tickcolor\": \"rgb(36,36,36)\", \"ticks\": \"outside\"}, \"type\": \"contourcarpet\"}], \"heatmap\": [{\"colorbar\": {\"outlinewidth\": 1, \"tickcolor\": \"rgb(36,36,36)\", \"ticks\": \"outside\"}, \"colorscale\": [[0.0, \"#440154\"], [0.1111111111111111, \"#482878\"], [0.2222222222222222, \"#3e4989\"], [0.3333333333333333, \"#31688e\"], [0.4444444444444444, \"#26828e\"], [0.5555555555555556, \"#1f9e89\"], [0.6666666666666666, \"#35b779\"], [0.7777777777777778, \"#6ece58\"], [0.8888888888888888, \"#b5de2b\"], [1.0, \"#fde725\"]], \"type\": \"heatmap\"}], \"heatmapgl\": [{\"colorbar\": {\"outlinewidth\": 1, \"tickcolor\": \"rgb(36,36,36)\", \"ticks\": \"outside\"}, \"colorscale\": [[0.0, \"#440154\"], [0.1111111111111111, \"#482878\"], [0.2222222222222222, \"#3e4989\"], [0.3333333333333333, \"#31688e\"], [0.4444444444444444, \"#26828e\"], [0.5555555555555556, \"#1f9e89\"], [0.6666666666666666, \"#35b779\"], [0.7777777777777778, \"#6ece58\"], [0.8888888888888888, \"#b5de2b\"], [1.0, \"#fde725\"]], \"type\": \"heatmapgl\"}], \"histogram\": [{\"marker\": {\"line\": {\"color\": \"white\", \"width\": 0.6}}, \"type\": \"histogram\"}], \"histogram2d\": [{\"colorbar\": {\"outlinewidth\": 1, \"tickcolor\": \"rgb(36,36,36)\", \"ticks\": \"outside\"}, \"colorscale\": [[0.0, \"#440154\"], [0.1111111111111111, \"#482878\"], [0.2222222222222222, \"#3e4989\"], [0.3333333333333333, \"#31688e\"], [0.4444444444444444, \"#26828e\"], [0.5555555555555556, \"#1f9e89\"], [0.6666666666666666, \"#35b779\"], [0.7777777777777778, \"#6ece58\"], [0.8888888888888888, \"#b5de2b\"], [1.0, \"#fde725\"]], \"type\": \"histogram2d\"}], \"histogram2dcontour\": [{\"colorbar\": {\"outlinewidth\": 1, \"tickcolor\": \"rgb(36,36,36)\", \"ticks\": \"outside\"}, \"colorscale\": [[0.0, \"#440154\"], [0.1111111111111111, \"#482878\"], [0.2222222222222222, \"#3e4989\"], [0.3333333333333333, \"#31688e\"], [0.4444444444444444, \"#26828e\"], [0.5555555555555556, \"#1f9e89\"], [0.6666666666666666, \"#35b779\"], [0.7777777777777778, \"#6ece58\"], [0.8888888888888888, \"#b5de2b\"], [1.0, \"#fde725\"]], \"type\": \"histogram2dcontour\"}], \"mesh3d\": [{\"colorbar\": {\"outlinewidth\": 1, \"tickcolor\": \"rgb(36,36,36)\", \"ticks\": \"outside\"}, \"type\": \"mesh3d\"}], \"parcoords\": [{\"line\": {\"colorbar\": {\"outlinewidth\": 1, \"tickcolor\": \"rgb(36,36,36)\", \"ticks\": \"outside\"}}, \"type\": \"parcoords\"}], \"pie\": [{\"automargin\": true, \"type\": \"pie\"}], \"scatter\": [{\"marker\": {\"colorbar\": {\"outlinewidth\": 1, \"tickcolor\": \"rgb(36,36,36)\", \"ticks\": \"outside\"}}, \"type\": \"scatter\"}], \"scatter3d\": [{\"line\": {\"colorbar\": {\"outlinewidth\": 1, \"tickcolor\": \"rgb(36,36,36)\", \"ticks\": \"outside\"}}, \"marker\": {\"colorbar\": {\"outlinewidth\": 1, \"tickcolor\": \"rgb(36,36,36)\", \"ticks\": \"outside\"}}, \"type\": \"scatter3d\"}], \"scattercarpet\": [{\"marker\": {\"colorbar\": {\"outlinewidth\": 1, \"tickcolor\": \"rgb(36,36,36)\", \"ticks\": \"outside\"}}, \"type\": \"scattercarpet\"}], \"scattergeo\": [{\"marker\": {\"colorbar\": {\"outlinewidth\": 1, \"tickcolor\": \"rgb(36,36,36)\", \"ticks\": \"outside\"}}, \"type\": \"scattergeo\"}], \"scattergl\": [{\"marker\": {\"colorbar\": {\"outlinewidth\": 1, \"tickcolor\": \"rgb(36,36,36)\", \"ticks\": \"outside\"}}, \"type\": \"scattergl\"}], \"scattermapbox\": [{\"marker\": {\"colorbar\": {\"outlinewidth\": 1, \"tickcolor\": \"rgb(36,36,36)\", \"ticks\": \"outside\"}}, \"type\": \"scattermapbox\"}], \"scatterpolar\": [{\"marker\": {\"colorbar\": {\"outlinewidth\": 1, \"tickcolor\": \"rgb(36,36,36)\", \"ticks\": \"outside\"}}, \"type\": \"scatterpolar\"}], \"scatterpolargl\": [{\"marker\": {\"colorbar\": {\"outlinewidth\": 1, \"tickcolor\": \"rgb(36,36,36)\", \"ticks\": \"outside\"}}, \"type\": \"scatterpolargl\"}], \"scatterternary\": [{\"marker\": {\"colorbar\": {\"outlinewidth\": 1, \"tickcolor\": \"rgb(36,36,36)\", \"ticks\": \"outside\"}}, \"type\": \"scatterternary\"}], \"surface\": [{\"colorbar\": {\"outlinewidth\": 1, \"tickcolor\": \"rgb(36,36,36)\", \"ticks\": \"outside\"}, \"colorscale\": [[0.0, \"#440154\"], [0.1111111111111111, \"#482878\"], [0.2222222222222222, \"#3e4989\"], [0.3333333333333333, \"#31688e\"], [0.4444444444444444, \"#26828e\"], [0.5555555555555556, \"#1f9e89\"], [0.6666666666666666, \"#35b779\"], [0.7777777777777778, \"#6ece58\"], [0.8888888888888888, \"#b5de2b\"], [1.0, \"#fde725\"]], \"type\": \"surface\"}], \"table\": [{\"cells\": {\"fill\": {\"color\": \"rgb(237,237,237)\"}, \"line\": {\"color\": \"white\"}}, \"header\": {\"fill\": {\"color\": \"rgb(217,217,217)\"}, \"line\": {\"color\": \"white\"}}, \"type\": \"table\"}]}, \"layout\": {\"annotationdefaults\": {\"arrowhead\": 0, \"arrowwidth\": 1}, \"coloraxis\": {\"colorbar\": {\"outlinewidth\": 1, \"tickcolor\": \"rgb(36,36,36)\", \"ticks\": \"outside\"}}, \"colorscale\": {\"diverging\": [[0.0, \"rgb(103,0,31)\"], [0.1, \"rgb(178,24,43)\"], [0.2, \"rgb(214,96,77)\"], [0.3, \"rgb(244,165,130)\"], [0.4, \"rgb(253,219,199)\"], [0.5, \"rgb(247,247,247)\"], [0.6, \"rgb(209,229,240)\"], [0.7, \"rgb(146,197,222)\"], [0.8, \"rgb(67,147,195)\"], [0.9, \"rgb(33,102,172)\"], [1.0, \"rgb(5,48,97)\"]], \"sequential\": [[0.0, \"#440154\"], [0.1111111111111111, \"#482878\"], [0.2222222222222222, \"#3e4989\"], [0.3333333333333333, \"#31688e\"], [0.4444444444444444, \"#26828e\"], [0.5555555555555556, \"#1f9e89\"], [0.6666666666666666, \"#35b779\"], [0.7777777777777778, \"#6ece58\"], [0.8888888888888888, \"#b5de2b\"], [1.0, \"#fde725\"]], \"sequentialminus\": [[0.0, \"#440154\"], [0.1111111111111111, \"#482878\"], [0.2222222222222222, \"#3e4989\"], [0.3333333333333333, \"#31688e\"], [0.4444444444444444, \"#26828e\"], [0.5555555555555556, \"#1f9e89\"], [0.6666666666666666, \"#35b779\"], [0.7777777777777778, \"#6ece58\"], [0.8888888888888888, \"#b5de2b\"], [1.0, \"#fde725\"]]}, \"colorway\": [\"#1F77B4\", \"#FF7F0E\", \"#2CA02C\", \"#D62728\", \"#9467BD\", \"#8C564B\", \"#E377C2\", \"#7F7F7F\", \"#BCBD22\", \"#17BECF\"], \"font\": {\"color\": \"rgb(36,36,36)\"}, \"geo\": {\"bgcolor\": \"white\", \"lakecolor\": \"white\", \"landcolor\": \"white\", \"showlakes\": true, \"showland\": true, \"subunitcolor\": \"white\"}, \"hoverlabel\": {\"align\": \"left\"}, \"hovermode\": \"closest\", \"mapbox\": {\"style\": \"light\"}, \"paper_bgcolor\": \"white\", \"plot_bgcolor\": \"white\", \"polar\": {\"angularaxis\": {\"gridcolor\": \"rgb(232,232,232)\", \"linecolor\": \"rgb(36,36,36)\", \"showgrid\": false, \"showline\": true, \"ticks\": \"outside\"}, \"bgcolor\": \"white\", \"radialaxis\": {\"gridcolor\": \"rgb(232,232,232)\", \"linecolor\": \"rgb(36,36,36)\", \"showgrid\": false, \"showline\": true, \"ticks\": \"outside\"}}, \"scene\": {\"xaxis\": {\"backgroundcolor\": \"white\", \"gridcolor\": \"rgb(232,232,232)\", \"gridwidth\": 2, \"linecolor\": \"rgb(36,36,36)\", \"showbackground\": true, \"showgrid\": false, \"showline\": true, \"ticks\": \"outside\", \"zeroline\": false, \"zerolinecolor\": \"rgb(36,36,36)\"}, \"yaxis\": {\"backgroundcolor\": \"white\", \"gridcolor\": \"rgb(232,232,232)\", \"gridwidth\": 2, \"linecolor\": \"rgb(36,36,36)\", \"showbackground\": true, \"showgrid\": false, \"showline\": true, \"ticks\": \"outside\", \"zeroline\": false, \"zerolinecolor\": \"rgb(36,36,36)\"}, \"zaxis\": {\"backgroundcolor\": \"white\", \"gridcolor\": \"rgb(232,232,232)\", \"gridwidth\": 2, \"linecolor\": \"rgb(36,36,36)\", \"showbackground\": true, \"showgrid\": false, \"showline\": true, \"ticks\": \"outside\", \"zeroline\": false, \"zerolinecolor\": \"rgb(36,36,36)\"}}, \"shapedefaults\": {\"fillcolor\": \"black\", \"line\": {\"width\": 0}, \"opacity\": 0.3}, \"ternary\": {\"aaxis\": {\"gridcolor\": \"rgb(232,232,232)\", \"linecolor\": \"rgb(36,36,36)\", \"showgrid\": false, \"showline\": true, \"ticks\": \"outside\"}, \"baxis\": {\"gridcolor\": \"rgb(232,232,232)\", \"linecolor\": \"rgb(36,36,36)\", \"showgrid\": false, \"showline\": true, \"ticks\": \"outside\"}, \"bgcolor\": \"white\", \"caxis\": {\"gridcolor\": \"rgb(232,232,232)\", \"linecolor\": \"rgb(36,36,36)\", \"showgrid\": false, \"showline\": true, \"ticks\": \"outside\"}}, \"title\": {\"x\": 0.05}, \"xaxis\": {\"automargin\": true, \"gridcolor\": \"rgb(232,232,232)\", \"linecolor\": \"rgb(36,36,36)\", \"showgrid\": false, \"showline\": true, \"ticks\": \"outside\", \"title\": {\"standoff\": 15}, \"zeroline\": false, \"zerolinecolor\": \"rgb(36,36,36)\"}, \"yaxis\": {\"automargin\": true, \"gridcolor\": \"rgb(232,232,232)\", \"linecolor\": \"rgb(36,36,36)\", \"showgrid\": false, \"showline\": true, \"ticks\": \"outside\", \"title\": {\"standoff\": 15}, \"zeroline\": false, \"zerolinecolor\": \"rgb(36,36,36)\"}}}, \"title\": {\"text\": \"<b>Georgia Tech 4th Down Decision Making (2017-2020)</b><br><span style=\\\"color:#222;font-size:12px;\\\">Recommendations provided by A.I. Sports 4th Down Bot, created by Jared Lee (<a href=\\\"https://twitter.com/JDLee\\\">@JDLee</a>). Chart created by Akshay Easwaran (<a href=\\\"https://twitter.com/akeaswaran\\\">@akeaswaran</a>).</span>\"}, \"width\": 1024, \"xaxis\": {\"title\": {\"text\": \"Optimal Decision\"}}, \"yaxis\": {\"tickformat\": \".0%\"}},\n",
       "                        {\"responsive\": true}\n",
       "                    ).then(function(){\n",
       "                            \n",
       "var gd = document.getElementById('d0a8de1a-ccfa-499d-85d8-24bd8d29e9d5');\n",
       "var x = new MutationObserver(function (mutations, observer) {{\n",
       "        var display = window.getComputedStyle(gd).display;\n",
       "        if (!display || display === 'none') {{\n",
       "            console.log([gd, 'removed!']);\n",
       "            Plotly.purge(gd);\n",
       "            observer.disconnect();\n",
       "        }}\n",
       "}});\n",
       "\n",
       "// Listen for the removal of the full notebook cells\n",
       "var notebookContainer = gd.closest('#notebook-container');\n",
       "if (notebookContainer) {{\n",
       "    x.observe(notebookContainer, {childList: true});\n",
       "}}\n",
       "\n",
       "// Listen for the clearing of the current output cell\n",
       "var outputEl = gd.closest('.output');\n",
       "if (outputEl) {{\n",
       "    x.observe(outputEl, {childList: true});\n",
       "}}\n",
       "\n",
       "                        })\n",
       "                };\n",
       "                });\n",
       "            </script>\n",
       "        </div>"
      ]
     },
     "metadata": {},
     "output_type": "display_data"
    }
   ],
   "source": [
    "# https://medium.com/@moritzkoerber/how-to-plot-a-grouped-stacked-bar-chart-in-plotly-df1685b83460\n",
    "\n",
    "import plotly.graph_objects as go\n",
    "\n",
    "fig = go.Figure()\n",
    "\n",
    "fig.update_layout(\n",
    "    template=\"simple_white\",\n",
    "    xaxis=dict(title_text=\"Optimal Decision\"),\n",
    "    yaxis=dict(tickformat=\".0%\"),\n",
    "    barmode=\"stack\",\n",
    "    title='<b>Georgia Tech 4th Down Decision Making (2017-2020)</b><br><span style=\"color:#222;font-size:12px;\">Recommendations provided by A.I. Sports 4th Down Bot, created by Jared Lee (<a href=\"https://twitter.com/JDLee\">@JDLee</a>). Chart created by Akshay Easwaran (<a href=\"https://twitter.com/akeaswaran\">@akeaswaran</a>).</span>',\n",
    "    legend_title=\"Coach's Choice\",\n",
    "    width=1024,\n",
    "    height=512\n",
    ")\n",
    "\n",
    "colors = ['#002c59', '#B3A369','gold', 'gray']\n",
    "\n",
    "for r, c in zip(coach_df.choice.unique(), colors):\n",
    "    plot_df = coach_df[(coach_df.choice == r)]\n",
    "    fig.add_trace(\n",
    "        go.Bar(x=[plot_df.recommendation, plot_df.gt_coach], y=plot_df.value, text=plot_df.percentage, textposition='auto', name=r, marker_color=c),\n",
    "    )    \n",
    "    \n",
    "fig"
   ]
  },
  {
   "cell_type": "code",
   "execution_count": 279,
   "metadata": {},
   "outputs": [
    {
     "data": {
      "image/png": "[encoded data removed]",
      "text/plain": [
       "<Figure size 864x432 with 1 Axes>"
      ]
     },
     "metadata": {},
     "output_type": "display_data"
    }
   ],
   "source": [
    "import matplotlib.pyplot as plt\n",
    "import matplotlib.ticker as mtick\n",
    "\n",
    "plt.style.use('ggplot')\n",
    "\n",
    "def create_decision_chart(df, title, subtitle, legend_title):\n",
    "    sub_df = df.groupby(\"recommendation\").choice.value_counts(normalize=True).unstack()\n",
    "    ax = sub_df.plot(kind='bar',stacked=True,rot=1, xlabel=\"Optimal Decision\", figsize=(12,6), color=['#002c59', '#B3A369','gold', 'gray'])\n",
    "    ax.yaxis.set_major_formatter(mtick.PercentFormatter(1.0))\n",
    "    ax.legend(title=legend_title)\n",
    "    plt.title(title, loc='left', fontsize=18)\n",
    "    plt.title(subtitle, loc='right', fontsize=13, color=\"gray\")\n",
    "    plt.tight_layout()\n",
    "    plt.show()\n",
    "\n",
    "create_decision_chart(decisions[(decisions.pos_team == \"Georgia Tech\") & (decisions.season >= 2019)],\"Geoff Collins: Analytics Darling?\",\"2019-2020 seasons; data from A.I. Sports 4th Down Bot\",'Collins\\' Choice')\n"
   ]
  },
  {
   "cell_type": "code",
   "execution_count": 280,
   "metadata": {},
   "outputs": [
    {
     "data": {
      "image/png": "[encoded data removed]",
      "text/plain": [
       "<Figure size 864x432 with 1 Axes>"
      ]
     },
     "metadata": {},
     "output_type": "display_data"
    }
   ],
   "source": [
    "create_decision_chart(decisions[(decisions.pos_team == \"Georgia Tech\") & (decisions.season < 2019)],\"Paul Johnson: High-Stakes Gambler?\",\"2017-2018 seasons; data from A.I. Sports 4th Down Bot\",'Johnson\\'s Choice')"
   ]
  },
  {
   "cell_type": "code",
   "execution_count": 76,
   "metadata": {},
   "outputs": [],
   "source": [
    "# base_df = overall_decisions.choice.value_counts(normalize=True).reset_index(name='count')\n",
    "# base_df"
   ]
  },
  {
   "cell_type": "code",
   "execution_count": 281,
   "metadata": {},
   "outputs": [
    {
     "data": {
      "application/vnd.plotly.v1+json": {
       "config": {
        "plotlyServerURL": "https://plot.ly"
       },
       "data": [
        {
         "alignmentgroup": "True",
         "hovertemplate": "Collins' Choice=FG<br>Optimal Decision=%{x}<br>=%{y}<extra></extra>",
         "legendgroup": "FG",
         "marker": {
          "color": "#002c59"
         },
         "name": "FG",
         "offsetgroup": "FG",
         "orientation": "v",
         "showlegend": true,
         "textposition": "auto",
         "type": "bar",
         "x": [
          "FG",
          "Go"
         ],
         "xaxis": "x",
         "y": [
          0.47058823529411764,
          0.03896103896103896
         ],
         "yaxis": "y"
        },
        {
         "alignmentgroup": "True",
         "hovertemplate": "Collins' Choice=Go<br>Optimal Decision=%{x}<br>=%{y}<extra></extra>",
         "legendgroup": "Go",
         "marker": {
          "color": "#b3a369"
         },
         "name": "Go",
         "offsetgroup": "Go",
         "orientation": "v",
         "showlegend": true,
         "textposition": "auto",
         "type": "bar",
         "x": [
          "FG",
          "Go",
          "Punt",
          "Toss-up"
         ],
         "xaxis": "x",
         "y": [
          0.47058823529411764,
          0.36363636363636365,
          0.03508771929824561,
          0.05
         ],
         "yaxis": "y"
        },
        {
         "alignmentgroup": "True",
         "hovertemplate": "Collins' Choice=Punt<br>Optimal Decision=%{x}<br>=%{y}<extra></extra>",
         "legendgroup": "Punt",
         "marker": {
          "color": "gray"
         },
         "name": "Punt",
         "offsetgroup": "Punt",
         "orientation": "v",
         "showlegend": true,
         "textposition": "auto",
         "type": "bar",
         "x": [
          "FG",
          "Go",
          "Punt",
          "Toss-up"
         ],
         "xaxis": "x",
         "y": [
          0.058823529411764705,
          0.5194805194805194,
          0.8245614035087719,
          0.9
         ],
         "yaxis": "y"
        },
        {
         "alignmentgroup": "True",
         "hovertemplate": "Collins' Choice=Penalty<br>Optimal Decision=%{x}<br>=%{y}<extra></extra>",
         "legendgroup": "Penalty",
         "marker": {
          "color": "gold"
         },
         "name": "Penalty",
         "offsetgroup": "Penalty",
         "orientation": "v",
         "showlegend": true,
         "textposition": "auto",
         "type": "bar",
         "x": [
          "Go",
          "Punt",
          "Toss-up"
         ],
         "xaxis": "x",
         "y": [
          0.07792207792207792,
          0.14035087719298245,
          0.05
         ],
         "yaxis": "y"
        }
       ],
       "layout": {
        "annotations": [
         {
          "align": "right",
          "showarrow": false,
          "text": "<span style=\"color:#000;\">Recommendations provided by A.I. Sports 4th Down Bot, created by Jared Lee (<a href=\"https://twitter.com/JDLee\">@JDLee</a>).</span><br><span style=\"color:#000;\">Chart created by Akshay Easwaran (<a href=\"https://twitter.com/akeaswaran\">@akeaswaran</a>).</span>",
          "x": 1,
          "xref": "paper",
          "y": -0.25,
          "yref": "paper"
         }
        ],
        "barmode": "relative",
        "height": 512,
        "legend": {
         "title": {
          "text": "Collins' Choice"
         },
         "tracegroupgap": 0
        },
        "template": {
         "data": {
          "bar": [
           {
            "error_x": {
             "color": "#2a3f5f"
            },
            "error_y": {
             "color": "#2a3f5f"
            },
            "marker": {
             "line": {
              "color": "#E5ECF6",
              "width": 0.5
             }
            },
            "type": "bar"
           }
          ],
          "barpolar": [
           {
            "marker": {
             "line": {
              "color": "#E5ECF6",
              "width": 0.5
             }
            },
            "type": "barpolar"
           }
          ],
          "carpet": [
           {
            "aaxis": {
             "endlinecolor": "#2a3f5f",
             "gridcolor": "white",
             "linecolor": "white",
             "minorgridcolor": "white",
             "startlinecolor": "#2a3f5f"
            },
            "baxis": {
             "endlinecolor": "#2a3f5f",
             "gridcolor": "white",
             "linecolor": "white",
             "minorgridcolor": "white",
             "startlinecolor": "#2a3f5f"
            },
            "type": "carpet"
           }
          ],
          "choropleth": [
           {
            "colorbar": {
             "outlinewidth": 0,
             "ticks": ""
            },
            "type": "choropleth"
           }
          ],
          "contour": [
           {
            "colorbar": {
             "outlinewidth": 0,
             "ticks": ""
            },
            "colorscale": [
             [
              0,
              "#0d0887"
             ],
             [
              0.1111111111111111,
              "#46039f"
             ],
             [
              0.2222222222222222,
              "#7201a8"
             ],
             [
              0.3333333333333333,
              "#9c179e"
             ],
             [
              0.4444444444444444,
              "#bd3786"
             ],
             [
              0.5555555555555556,
              "#d8576b"
             ],
             [
              0.6666666666666666,
              "#ed7953"
             ],
             [
              0.7777777777777778,
              "#fb9f3a"
             ],
             [
              0.8888888888888888,
              "#fdca26"
             ],
             [
              1,
              "#f0f921"
             ]
            ],
            "type": "contour"
           }
          ],
          "contourcarpet": [
           {
            "colorbar": {
             "outlinewidth": 0,
             "ticks": ""
            },
            "type": "contourcarpet"
           }
          ],
          "heatmap": [
           {
            "colorbar": {
             "outlinewidth": 0,
             "ticks": ""
            },
            "colorscale": [
             [
              0,
              "#0d0887"
             ],
             [
              0.1111111111111111,
              "#46039f"
             ],
             [
              0.2222222222222222,
              "#7201a8"
             ],
             [
              0.3333333333333333,
              "#9c179e"
             ],
             [
              0.4444444444444444,
              "#bd3786"
             ],
             [
              0.5555555555555556,
              "#d8576b"
             ],
             [
              0.6666666666666666,
              "#ed7953"
             ],
             [
              0.7777777777777778,
              "#fb9f3a"
             ],
             [
              0.8888888888888888,
              "#fdca26"
             ],
             [
              1,
              "#f0f921"
             ]
            ],
            "type": "heatmap"
           }
          ],
          "heatmapgl": [
           {
            "colorbar": {
             "outlinewidth": 0,
             "ticks": ""
            },
            "colorscale": [
             [
              0,
              "#0d0887"
             ],
             [
              0.1111111111111111,
              "#46039f"
             ],
             [
              0.2222222222222222,
              "#7201a8"
             ],
             [
              0.3333333333333333,
              "#9c179e"
             ],
             [
              0.4444444444444444,
              "#bd3786"
             ],
             [
              0.5555555555555556,
              "#d8576b"
             ],
             [
              0.6666666666666666,
              "#ed7953"
             ],
             [
              0.7777777777777778,
              "#fb9f3a"
             ],
             [
              0.8888888888888888,
              "#fdca26"
             ],
             [
              1,
              "#f0f921"
             ]
            ],
            "type": "heatmapgl"
           }
          ],
          "histogram": [
           {
            "marker": {
             "colorbar": {
              "outlinewidth": 0,
              "ticks": ""
             }
            },
            "type": "histogram"
           }
          ],
          "histogram2d": [
           {
            "colorbar": {
             "outlinewidth": 0,
             "ticks": ""
            },
            "colorscale": [
             [
              0,
              "#0d0887"
             ],
             [
              0.1111111111111111,
              "#46039f"
             ],
             [
              0.2222222222222222,
              "#7201a8"
             ],
             [
              0.3333333333333333,
              "#9c179e"
             ],
             [
              0.4444444444444444,
              "#bd3786"
             ],
             [
              0.5555555555555556,
              "#d8576b"
             ],
             [
              0.6666666666666666,
              "#ed7953"
             ],
             [
              0.7777777777777778,
              "#fb9f3a"
             ],
             [
              0.8888888888888888,
              "#fdca26"
             ],
             [
              1,
              "#f0f921"
             ]
            ],
            "type": "histogram2d"
           }
          ],
          "histogram2dcontour": [
           {
            "colorbar": {
             "outlinewidth": 0,
             "ticks": ""
            },
            "colorscale": [
             [
              0,
              "#0d0887"
             ],
             [
              0.1111111111111111,
              "#46039f"
             ],
             [
              0.2222222222222222,
              "#7201a8"
             ],
             [
              0.3333333333333333,
              "#9c179e"
             ],
             [
              0.4444444444444444,
              "#bd3786"
             ],
             [
              0.5555555555555556,
              "#d8576b"
             ],
             [
              0.6666666666666666,
              "#ed7953"
             ],
             [
              0.7777777777777778,
              "#fb9f3a"
             ],
             [
              0.8888888888888888,
              "#fdca26"
             ],
             [
              1,
              "#f0f921"
             ]
            ],
            "type": "histogram2dcontour"
           }
          ],
          "mesh3d": [
           {
            "colorbar": {
             "outlinewidth": 0,
             "ticks": ""
            },
            "type": "mesh3d"
           }
          ],
          "parcoords": [
           {
            "line": {
             "colorbar": {
              "outlinewidth": 0,
              "ticks": ""
             }
            },
            "type": "parcoords"
           }
          ],
          "pie": [
           {
            "automargin": true,
            "type": "pie"
           }
          ],
          "scatter": [
           {
            "marker": {
             "colorbar": {
              "outlinewidth": 0,
              "ticks": ""
             }
            },
            "type": "scatter"
           }
          ],
          "scatter3d": [
           {
            "line": {
             "colorbar": {
              "outlinewidth": 0,
              "ticks": ""
             }
            },
            "marker": {
             "colorbar": {
              "outlinewidth": 0,
              "ticks": ""
             }
            },
            "type": "scatter3d"
           }
          ],
          "scattercarpet": [
           {
            "marker": {
             "colorbar": {
              "outlinewidth": 0,
              "ticks": ""
             }
            },
            "type": "scattercarpet"
           }
          ],
          "scattergeo": [
           {
            "marker": {
             "colorbar": {
              "outlinewidth": 0,
              "ticks": ""
             }
            },
            "type": "scattergeo"
           }
          ],
          "scattergl": [
           {
            "marker": {
             "colorbar": {
              "outlinewidth": 0,
              "ticks": ""
             }
            },
            "type": "scattergl"
           }
          ],
          "scattermapbox": [
           {
            "marker": {
             "colorbar": {
              "outlinewidth": 0,
              "ticks": ""
             }
            },
            "type": "scattermapbox"
           }
          ],
          "scatterpolar": [
           {
            "marker": {
             "colorbar": {
              "outlinewidth": 0,
              "ticks": ""
             }
            },
            "type": "scatterpolar"
           }
          ],
          "scatterpolargl": [
           {
            "marker": {
             "colorbar": {
              "outlinewidth": 0,
              "ticks": ""
             }
            },
            "type": "scatterpolargl"
           }
          ],
          "scatterternary": [
           {
            "marker": {
             "colorbar": {
              "outlinewidth": 0,
              "ticks": ""
             }
            },
            "type": "scatterternary"
           }
          ],
          "surface": [
           {
            "colorbar": {
             "outlinewidth": 0,
             "ticks": ""
            },
            "colorscale": [
             [
              0,
              "#0d0887"
             ],
             [
              0.1111111111111111,
              "#46039f"
             ],
             [
              0.2222222222222222,
              "#7201a8"
             ],
             [
              0.3333333333333333,
              "#9c179e"
             ],
             [
              0.4444444444444444,
              "#bd3786"
             ],
             [
              0.5555555555555556,
              "#d8576b"
             ],
             [
              0.6666666666666666,
              "#ed7953"
             ],
             [
              0.7777777777777778,
              "#fb9f3a"
             ],
             [
              0.8888888888888888,
              "#fdca26"
             ],
             [
              1,
              "#f0f921"
             ]
            ],
            "type": "surface"
           }
          ],
          "table": [
           {
            "cells": {
             "fill": {
              "color": "#EBF0F8"
             },
             "line": {
              "color": "white"
             }
            },
            "header": {
             "fill": {
              "color": "#C8D4E3"
             },
             "line": {
              "color": "white"
             }
            },
            "type": "table"
           }
          ]
         },
         "layout": {
          "annotationdefaults": {
           "arrowcolor": "#2a3f5f",
           "arrowhead": 0,
           "arrowwidth": 1
          },
          "coloraxis": {
           "colorbar": {
            "outlinewidth": 0,
            "ticks": ""
           }
          },
          "colorscale": {
           "diverging": [
            [
             0,
             "#8e0152"
            ],
            [
             0.1,
             "#c51b7d"
            ],
            [
             0.2,
             "#de77ae"
            ],
            [
             0.3,
             "#f1b6da"
            ],
            [
             0.4,
             "#fde0ef"
            ],
            [
             0.5,
             "#f7f7f7"
            ],
            [
             0.6,
             "#e6f5d0"
            ],
            [
             0.7,
             "#b8e186"
            ],
            [
             0.8,
             "#7fbc41"
            ],
            [
             0.9,
             "#4d9221"
            ],
            [
             1,
             "#276419"
            ]
           ],
           "sequential": [
            [
             0,
             "#0d0887"
            ],
            [
             0.1111111111111111,
             "#46039f"
            ],
            [
             0.2222222222222222,
             "#7201a8"
            ],
            [
             0.3333333333333333,
             "#9c179e"
            ],
            [
             0.4444444444444444,
             "#bd3786"
            ],
            [
             0.5555555555555556,
             "#d8576b"
            ],
            [
             0.6666666666666666,
             "#ed7953"
            ],
            [
             0.7777777777777778,
             "#fb9f3a"
            ],
            [
             0.8888888888888888,
             "#fdca26"
            ],
            [
             1,
             "#f0f921"
            ]
           ],
           "sequentialminus": [
            [
             0,
             "#0d0887"
            ],
            [
             0.1111111111111111,
             "#46039f"
            ],
            [
             0.2222222222222222,
             "#7201a8"
            ],
            [
             0.3333333333333333,
             "#9c179e"
            ],
            [
             0.4444444444444444,
             "#bd3786"
            ],
            [
             0.5555555555555556,
             "#d8576b"
            ],
            [
             0.6666666666666666,
             "#ed7953"
            ],
            [
             0.7777777777777778,
             "#fb9f3a"
            ],
            [
             0.8888888888888888,
             "#fdca26"
            ],
            [
             1,
             "#f0f921"
            ]
           ]
          },
          "colorway": [
           "#636efa",
           "#EF553B",
           "#00cc96",
           "#ab63fa",
           "#FFA15A",
           "#19d3f3",
           "#FF6692",
           "#B6E880",
           "#FF97FF",
           "#FECB52"
          ],
          "font": {
           "color": "#2a3f5f"
          },
          "geo": {
           "bgcolor": "white",
           "lakecolor": "white",
           "landcolor": "#E5ECF6",
           "showlakes": true,
           "showland": true,
           "subunitcolor": "white"
          },
          "hoverlabel": {
           "align": "left"
          },
          "hovermode": "closest",
          "mapbox": {
           "style": "light"
          },
          "paper_bgcolor": "white",
          "plot_bgcolor": "#E5ECF6",
          "polar": {
           "angularaxis": {
            "gridcolor": "white",
            "linecolor": "white",
            "ticks": ""
           },
           "bgcolor": "#E5ECF6",
           "radialaxis": {
            "gridcolor": "white",
            "linecolor": "white",
            "ticks": ""
           }
          },
          "scene": {
           "xaxis": {
            "backgroundcolor": "#E5ECF6",
            "gridcolor": "white",
            "gridwidth": 2,
            "linecolor": "white",
            "showbackground": true,
            "ticks": "",
            "zerolinecolor": "white"
           },
           "yaxis": {
            "backgroundcolor": "#E5ECF6",
            "gridcolor": "white",
            "gridwidth": 2,
            "linecolor": "white",
            "showbackground": true,
            "ticks": "",
            "zerolinecolor": "white"
           },
           "zaxis": {
            "backgroundcolor": "#E5ECF6",
            "gridcolor": "white",
            "gridwidth": 2,
            "linecolor": "white",
            "showbackground": true,
            "ticks": "",
            "zerolinecolor": "white"
           }
          },
          "shapedefaults": {
           "line": {
            "color": "#2a3f5f"
           }
          },
          "ternary": {
           "aaxis": {
            "gridcolor": "white",
            "linecolor": "white",
            "ticks": ""
           },
           "baxis": {
            "gridcolor": "white",
            "linecolor": "white",
            "ticks": ""
           },
           "bgcolor": "#E5ECF6",
           "caxis": {
            "gridcolor": "white",
            "linecolor": "white",
            "ticks": ""
           }
          },
          "title": {
           "x": 0.05
          },
          "xaxis": {
           "automargin": true,
           "gridcolor": "white",
           "linecolor": "white",
           "ticks": "",
           "title": {
            "standoff": 15
           },
           "zerolinecolor": "white",
           "zerolinewidth": 2
          },
          "yaxis": {
           "automargin": true,
           "gridcolor": "white",
           "linecolor": "white",
           "ticks": "",
           "title": {
            "standoff": 15
           },
           "zerolinecolor": "white",
           "zerolinewidth": 2
          }
         }
        },
        "title": {
         "font": {
          "color": "#000000",
          "family": "Arial",
          "size": 20
         },
         "text": "<b>Geoff Collins: Analytics Darling?</b><br><i style=\"font-size:15px;\">2019-2020 seasons; data from A.I. Sports 4th Down Bot</i>"
        },
        "width": 1024,
        "xaxis": {
         "anchor": "y",
         "domain": [
          0,
          1
         ],
         "title": {
          "text": "Optimal Decision"
         }
        },
        "yaxis": {
         "anchor": "x",
         "domain": [
          0,
          1
         ],
         "tickformat": ".0%",
         "title": {
          "text": ""
         }
        }
       }
      },
      "text/html": [
       "<div>\n",
       "        \n",
       "        \n",
       "            <div id=\"b4f2fd58-c549-4e48-b606-099e371830e3\" class=\"plotly-graph-div\" style=\"height:512px; width:1024px;\"></div>\n",
       "            <script type=\"text/javascript\">\n",
       "                require([\"plotly\"], function(Plotly) {\n",
       "                    window.PLOTLYENV=window.PLOTLYENV || {};\n",
       "                    \n",
       "                if (document.getElementById(\"b4f2fd58-c549-4e48-b606-099e371830e3\")) {\n",
       "                    Plotly.newPlot(\n",
       "                        'b4f2fd58-c549-4e48-b606-099e371830e3',\n",
       "                        [{\"alignmentgroup\": \"True\", \"hovertemplate\": \"Collins' Choice=FG<br>Optimal Decision=%{x}<br>=%{y}<extra></extra>\", \"legendgroup\": \"FG\", \"marker\": {\"color\": \"#002c59\"}, \"name\": \"FG\", \"offsetgroup\": \"FG\", \"orientation\": \"v\", \"showlegend\": true, \"textposition\": \"auto\", \"type\": \"bar\", \"x\": [\"FG\", \"Go\"], \"xaxis\": \"x\", \"y\": [0.47058823529411764, 0.03896103896103896], \"yaxis\": \"y\"}, {\"alignmentgroup\": \"True\", \"hovertemplate\": \"Collins' Choice=Go<br>Optimal Decision=%{x}<br>=%{y}<extra></extra>\", \"legendgroup\": \"Go\", \"marker\": {\"color\": \"#b3a369\"}, \"name\": \"Go\", \"offsetgroup\": \"Go\", \"orientation\": \"v\", \"showlegend\": true, \"textposition\": \"auto\", \"type\": \"bar\", \"x\": [\"FG\", \"Go\", \"Punt\", \"Toss-up\"], \"xaxis\": \"x\", \"y\": [0.47058823529411764, 0.36363636363636365, 0.03508771929824561, 0.05], \"yaxis\": \"y\"}, {\"alignmentgroup\": \"True\", \"hovertemplate\": \"Collins' Choice=Punt<br>Optimal Decision=%{x}<br>=%{y}<extra></extra>\", \"legendgroup\": \"Punt\", \"marker\": {\"color\": \"gray\"}, \"name\": \"Punt\", \"offsetgroup\": \"Punt\", \"orientation\": \"v\", \"showlegend\": true, \"textposition\": \"auto\", \"type\": \"bar\", \"x\": [\"FG\", \"Go\", \"Punt\", \"Toss-up\"], \"xaxis\": \"x\", \"y\": [0.058823529411764705, 0.5194805194805194, 0.8245614035087719, 0.9], \"yaxis\": \"y\"}, {\"alignmentgroup\": \"True\", \"hovertemplate\": \"Collins' Choice=Penalty<br>Optimal Decision=%{x}<br>=%{y}<extra></extra>\", \"legendgroup\": \"Penalty\", \"marker\": {\"color\": \"gold\"}, \"name\": \"Penalty\", \"offsetgroup\": \"Penalty\", \"orientation\": \"v\", \"showlegend\": true, \"textposition\": \"auto\", \"type\": \"bar\", \"x\": [\"Go\", \"Punt\", \"Toss-up\"], \"xaxis\": \"x\", \"y\": [0.07792207792207792, 0.14035087719298245, 0.05], \"yaxis\": \"y\"}],\n",
       "                        {\"annotations\": [{\"align\": \"right\", \"showarrow\": false, \"text\": \"<span style=\\\"color:#000;\\\">Recommendations provided by A.I. Sports 4th Down Bot, created by Jared Lee (<a href=\\\"https://twitter.com/JDLee\\\">@JDLee</a>).</span><br><span style=\\\"color:#000;\\\">Chart created by Akshay Easwaran (<a href=\\\"https://twitter.com/akeaswaran\\\">@akeaswaran</a>).</span>\", \"x\": 1.0, \"xref\": \"paper\", \"y\": -0.25, \"yref\": \"paper\"}], \"barmode\": \"relative\", \"height\": 512, \"legend\": {\"title\": {\"text\": \"Collins' Choice\"}, \"tracegroupgap\": 0}, \"template\": {\"data\": {\"bar\": [{\"error_x\": {\"color\": \"#2a3f5f\"}, \"error_y\": {\"color\": \"#2a3f5f\"}, \"marker\": {\"line\": {\"color\": \"#E5ECF6\", \"width\": 0.5}}, \"type\": \"bar\"}], \"barpolar\": [{\"marker\": {\"line\": {\"color\": \"#E5ECF6\", \"width\": 0.5}}, \"type\": \"barpolar\"}], \"carpet\": [{\"aaxis\": {\"endlinecolor\": \"#2a3f5f\", \"gridcolor\": \"white\", \"linecolor\": \"white\", \"minorgridcolor\": \"white\", \"startlinecolor\": \"#2a3f5f\"}, \"baxis\": {\"endlinecolor\": \"#2a3f5f\", \"gridcolor\": \"white\", \"linecolor\": \"white\", \"minorgridcolor\": \"white\", \"startlinecolor\": \"#2a3f5f\"}, \"type\": \"carpet\"}], \"choropleth\": [{\"colorbar\": {\"outlinewidth\": 0, \"ticks\": \"\"}, \"type\": \"choropleth\"}], \"contour\": [{\"colorbar\": {\"outlinewidth\": 0, \"ticks\": \"\"}, \"colorscale\": [[0.0, \"#0d0887\"], [0.1111111111111111, \"#46039f\"], [0.2222222222222222, \"#7201a8\"], [0.3333333333333333, \"#9c179e\"], [0.4444444444444444, \"#bd3786\"], [0.5555555555555556, \"#d8576b\"], [0.6666666666666666, \"#ed7953\"], [0.7777777777777778, \"#fb9f3a\"], [0.8888888888888888, \"#fdca26\"], [1.0, \"#f0f921\"]], \"type\": \"contour\"}], \"contourcarpet\": [{\"colorbar\": {\"outlinewidth\": 0, \"ticks\": \"\"}, \"type\": \"contourcarpet\"}], \"heatmap\": [{\"colorbar\": {\"outlinewidth\": 0, \"ticks\": \"\"}, \"colorscale\": [[0.0, \"#0d0887\"], [0.1111111111111111, \"#46039f\"], [0.2222222222222222, \"#7201a8\"], [0.3333333333333333, \"#9c179e\"], [0.4444444444444444, \"#bd3786\"], [0.5555555555555556, \"#d8576b\"], [0.6666666666666666, \"#ed7953\"], [0.7777777777777778, \"#fb9f3a\"], [0.8888888888888888, \"#fdca26\"], [1.0, \"#f0f921\"]], \"type\": \"heatmap\"}], \"heatmapgl\": [{\"colorbar\": {\"outlinewidth\": 0, \"ticks\": \"\"}, \"colorscale\": [[0.0, \"#0d0887\"], [0.1111111111111111, \"#46039f\"], [0.2222222222222222, \"#7201a8\"], [0.3333333333333333, \"#9c179e\"], [0.4444444444444444, \"#bd3786\"], [0.5555555555555556, \"#d8576b\"], [0.6666666666666666, \"#ed7953\"], [0.7777777777777778, \"#fb9f3a\"], [0.8888888888888888, \"#fdca26\"], [1.0, \"#f0f921\"]], \"type\": \"heatmapgl\"}], \"histogram\": [{\"marker\": {\"colorbar\": {\"outlinewidth\": 0, \"ticks\": \"\"}}, \"type\": \"histogram\"}], \"histogram2d\": [{\"colorbar\": {\"outlinewidth\": 0, \"ticks\": \"\"}, \"colorscale\": [[0.0, \"#0d0887\"], [0.1111111111111111, \"#46039f\"], [0.2222222222222222, \"#7201a8\"], [0.3333333333333333, \"#9c179e\"], [0.4444444444444444, \"#bd3786\"], [0.5555555555555556, \"#d8576b\"], [0.6666666666666666, \"#ed7953\"], [0.7777777777777778, \"#fb9f3a\"], [0.8888888888888888, \"#fdca26\"], [1.0, \"#f0f921\"]], \"type\": \"histogram2d\"}], \"histogram2dcontour\": [{\"colorbar\": {\"outlinewidth\": 0, \"ticks\": \"\"}, \"colorscale\": [[0.0, \"#0d0887\"], [0.1111111111111111, \"#46039f\"], [0.2222222222222222, \"#7201a8\"], [0.3333333333333333, \"#9c179e\"], [0.4444444444444444, \"#bd3786\"], [0.5555555555555556, \"#d8576b\"], [0.6666666666666666, \"#ed7953\"], [0.7777777777777778, \"#fb9f3a\"], [0.8888888888888888, \"#fdca26\"], [1.0, \"#f0f921\"]], \"type\": \"histogram2dcontour\"}], \"mesh3d\": [{\"colorbar\": {\"outlinewidth\": 0, \"ticks\": \"\"}, \"type\": \"mesh3d\"}], \"parcoords\": [{\"line\": {\"colorbar\": {\"outlinewidth\": 0, \"ticks\": \"\"}}, \"type\": \"parcoords\"}], \"pie\": [{\"automargin\": true, \"type\": \"pie\"}], \"scatter\": [{\"marker\": {\"colorbar\": {\"outlinewidth\": 0, \"ticks\": \"\"}}, \"type\": \"scatter\"}], \"scatter3d\": [{\"line\": {\"colorbar\": {\"outlinewidth\": 0, \"ticks\": \"\"}}, \"marker\": {\"colorbar\": {\"outlinewidth\": 0, \"ticks\": \"\"}}, \"type\": \"scatter3d\"}], \"scattercarpet\": [{\"marker\": {\"colorbar\": {\"outlinewidth\": 0, \"ticks\": \"\"}}, \"type\": \"scattercarpet\"}], \"scattergeo\": [{\"marker\": {\"colorbar\": {\"outlinewidth\": 0, \"ticks\": \"\"}}, \"type\": \"scattergeo\"}], \"scattergl\": [{\"marker\": {\"colorbar\": {\"outlinewidth\": 0, \"ticks\": \"\"}}, \"type\": \"scattergl\"}], \"scattermapbox\": [{\"marker\": {\"colorbar\": {\"outlinewidth\": 0, \"ticks\": \"\"}}, \"type\": \"scattermapbox\"}], \"scatterpolar\": [{\"marker\": {\"colorbar\": {\"outlinewidth\": 0, \"ticks\": \"\"}}, \"type\": \"scatterpolar\"}], \"scatterpolargl\": [{\"marker\": {\"colorbar\": {\"outlinewidth\": 0, \"ticks\": \"\"}}, \"type\": \"scatterpolargl\"}], \"scatterternary\": [{\"marker\": {\"colorbar\": {\"outlinewidth\": 0, \"ticks\": \"\"}}, \"type\": \"scatterternary\"}], \"surface\": [{\"colorbar\": {\"outlinewidth\": 0, \"ticks\": \"\"}, \"colorscale\": [[0.0, \"#0d0887\"], [0.1111111111111111, \"#46039f\"], [0.2222222222222222, \"#7201a8\"], [0.3333333333333333, \"#9c179e\"], [0.4444444444444444, \"#bd3786\"], [0.5555555555555556, \"#d8576b\"], [0.6666666666666666, \"#ed7953\"], [0.7777777777777778, \"#fb9f3a\"], [0.8888888888888888, \"#fdca26\"], [1.0, \"#f0f921\"]], \"type\": \"surface\"}], \"table\": [{\"cells\": {\"fill\": {\"color\": \"#EBF0F8\"}, \"line\": {\"color\": \"white\"}}, \"header\": {\"fill\": {\"color\": \"#C8D4E3\"}, \"line\": {\"color\": \"white\"}}, \"type\": \"table\"}]}, \"layout\": {\"annotationdefaults\": {\"arrowcolor\": \"#2a3f5f\", \"arrowhead\": 0, \"arrowwidth\": 1}, \"coloraxis\": {\"colorbar\": {\"outlinewidth\": 0, \"ticks\": \"\"}}, \"colorscale\": {\"diverging\": [[0, \"#8e0152\"], [0.1, \"#c51b7d\"], [0.2, \"#de77ae\"], [0.3, \"#f1b6da\"], [0.4, \"#fde0ef\"], [0.5, \"#f7f7f7\"], [0.6, \"#e6f5d0\"], [0.7, \"#b8e186\"], [0.8, \"#7fbc41\"], [0.9, \"#4d9221\"], [1, \"#276419\"]], \"sequential\": [[0.0, \"#0d0887\"], [0.1111111111111111, \"#46039f\"], [0.2222222222222222, \"#7201a8\"], [0.3333333333333333, \"#9c179e\"], [0.4444444444444444, \"#bd3786\"], [0.5555555555555556, \"#d8576b\"], [0.6666666666666666, \"#ed7953\"], [0.7777777777777778, \"#fb9f3a\"], [0.8888888888888888, \"#fdca26\"], [1.0, \"#f0f921\"]], \"sequentialminus\": [[0.0, \"#0d0887\"], [0.1111111111111111, \"#46039f\"], [0.2222222222222222, \"#7201a8\"], [0.3333333333333333, \"#9c179e\"], [0.4444444444444444, \"#bd3786\"], [0.5555555555555556, \"#d8576b\"], [0.6666666666666666, \"#ed7953\"], [0.7777777777777778, \"#fb9f3a\"], [0.8888888888888888, \"#fdca26\"], [1.0, \"#f0f921\"]]}, \"colorway\": [\"#636efa\", \"#EF553B\", \"#00cc96\", \"#ab63fa\", \"#FFA15A\", \"#19d3f3\", \"#FF6692\", \"#B6E880\", \"#FF97FF\", \"#FECB52\"], \"font\": {\"color\": \"#2a3f5f\"}, \"geo\": {\"bgcolor\": \"white\", \"lakecolor\": \"white\", \"landcolor\": \"#E5ECF6\", \"showlakes\": true, \"showland\": true, \"subunitcolor\": \"white\"}, \"hoverlabel\": {\"align\": \"left\"}, \"hovermode\": \"closest\", \"mapbox\": {\"style\": \"light\"}, \"paper_bgcolor\": \"white\", \"plot_bgcolor\": \"#E5ECF6\", \"polar\": {\"angularaxis\": {\"gridcolor\": \"white\", \"linecolor\": \"white\", \"ticks\": \"\"}, \"bgcolor\": \"#E5ECF6\", \"radialaxis\": {\"gridcolor\": \"white\", \"linecolor\": \"white\", \"ticks\": \"\"}}, \"scene\": {\"xaxis\": {\"backgroundcolor\": \"#E5ECF6\", \"gridcolor\": \"white\", \"gridwidth\": 2, \"linecolor\": \"white\", \"showbackground\": true, \"ticks\": \"\", \"zerolinecolor\": \"white\"}, \"yaxis\": {\"backgroundcolor\": \"#E5ECF6\", \"gridcolor\": \"white\", \"gridwidth\": 2, \"linecolor\": \"white\", \"showbackground\": true, \"ticks\": \"\", \"zerolinecolor\": \"white\"}, \"zaxis\": {\"backgroundcolor\": \"#E5ECF6\", \"gridcolor\": \"white\", \"gridwidth\": 2, \"linecolor\": \"white\", \"showbackground\": true, \"ticks\": \"\", \"zerolinecolor\": \"white\"}}, \"shapedefaults\": {\"line\": {\"color\": \"#2a3f5f\"}}, \"ternary\": {\"aaxis\": {\"gridcolor\": \"white\", \"linecolor\": \"white\", \"ticks\": \"\"}, \"baxis\": {\"gridcolor\": \"white\", \"linecolor\": \"white\", \"ticks\": \"\"}, \"bgcolor\": \"#E5ECF6\", \"caxis\": {\"gridcolor\": \"white\", \"linecolor\": \"white\", \"ticks\": \"\"}}, \"title\": {\"x\": 0.05}, \"xaxis\": {\"automargin\": true, \"gridcolor\": \"white\", \"linecolor\": \"white\", \"ticks\": \"\", \"title\": {\"standoff\": 15}, \"zerolinecolor\": \"white\", \"zerolinewidth\": 2}, \"yaxis\": {\"automargin\": true, \"gridcolor\": \"white\", \"linecolor\": \"white\", \"ticks\": \"\", \"title\": {\"standoff\": 15}, \"zerolinecolor\": \"white\", \"zerolinewidth\": 2}}}, \"title\": {\"font\": {\"color\": \"#000000\", \"family\": \"Arial\", \"size\": 20}, \"text\": \"<b>Geoff Collins: Analytics Darling?</b><br><i style=\\\"font-size:15px;\\\">2019-2020 seasons; data from A.I. Sports 4th Down Bot</i>\"}, \"width\": 1024, \"xaxis\": {\"anchor\": \"y\", \"domain\": [0.0, 1.0], \"title\": {\"text\": \"Optimal Decision\"}}, \"yaxis\": {\"anchor\": \"x\", \"domain\": [0.0, 1.0], \"tickformat\": \".0%\", \"title\": {\"text\": \"\"}}},\n",
       "                        {\"responsive\": true}\n",
       "                    ).then(function(){\n",
       "                            \n",
       "var gd = document.getElementById('b4f2fd58-c549-4e48-b606-099e371830e3');\n",
       "var x = new MutationObserver(function (mutations, observer) {{\n",
       "        var display = window.getComputedStyle(gd).display;\n",
       "        if (!display || display === 'none') {{\n",
       "            console.log([gd, 'removed!']);\n",
       "            Plotly.purge(gd);\n",
       "            observer.disconnect();\n",
       "        }}\n",
       "}});\n",
       "\n",
       "// Listen for the removal of the full notebook cells\n",
       "var notebookContainer = gd.closest('#notebook-container');\n",
       "if (notebookContainer) {{\n",
       "    x.observe(notebookContainer, {childList: true});\n",
       "}}\n",
       "\n",
       "// Listen for the clearing of the current output cell\n",
       "var outputEl = gd.closest('.output');\n",
       "if (outputEl) {{\n",
       "    x.observe(outputEl, {childList: true});\n",
       "}}\n",
       "\n",
       "                        })\n",
       "                };\n",
       "                });\n",
       "            </script>\n",
       "        </div>"
      ]
     },
     "metadata": {},
     "output_type": "display_data"
    }
   ],
   "source": [
    "import plotly.express as px\n",
    "\n",
    "def make_plotly_decision_chart(df, title, subtitle, legend_title):\n",
    "    base_df = df.groupby(\"recommendation\").choice.value_counts(normalize=True).reset_index(name='count')\n",
    "    fig = px.bar(base_df, x=\"recommendation\", y=\"count\", color=\"choice\", title=title, color_discrete_map={\n",
    "        \"Go\" : \"#b3a369\",\n",
    "        \"Punt\" : \"gray\",\n",
    "        \"FG\" : \"#002c59\",\n",
    "        \"Penalty\" : \"gold\"\n",
    "    }, labels=dict(recommendation=\"Optimal Decision\", count=\"\", choice=legend_title))\n",
    "    fig.add_annotation(dict(xref='paper',\n",
    "                            yref='paper',\n",
    "                            x=1.0, y=-0.25,\n",
    "                            showarrow=False,\n",
    "                            align=\"right\",\n",
    "                            text ='<span style=\"color:#000;\">Recommendations provided by A.I. Sports 4th Down Bot, created by Jared Lee (<a href=\"https://twitter.com/JDLee\">@JDLee</a>).</span><br><span style=\"color:#000;\">Chart created by Akshay Easwaran (<a href=\"https://twitter.com/akeaswaran\">@akeaswaran</a>).</span>'\n",
    "                           )\n",
    "                      )\n",
    "    fig.update_layout(width=1024,\n",
    "                      height=512,\n",
    "                    title=dict(\n",
    "                        text=f'<b>{title}</b><br><i style=\"font-size:15px;\">{subtitle}</i>',\n",
    "                        font=dict(\n",
    "                            family=\"Arial\",\n",
    "                            size=20,\n",
    "                            color='#000000'\n",
    "                        )\n",
    "                    ),\n",
    "                     yaxis=dict(tickformat=\".0%\"))\n",
    "    fig.show()\n",
    "    \n",
    "make_plotly_decision_chart(decisions[(decisions.pos_team == \"Georgia Tech\") & (decisions.season >= 2019)],\"Geoff Collins: Analytics Darling?\",\"2019-2020 seasons; data from A.I. Sports 4th Down Bot\",'Collins\\' Choice')\n"
   ]
  },
  {
   "cell_type": "code",
   "execution_count": 282,
   "metadata": {},
   "outputs": [
    {
     "data": {
      "application/vnd.plotly.v1+json": {
       "config": {
        "plotlyServerURL": "https://plot.ly"
       },
       "data": [
        {
         "alignmentgroup": "True",
         "hovertemplate": "Johnson's Choice=FG<br>Optimal Decision=%{x}<br>=%{y}<extra></extra>",
         "legendgroup": "FG",
         "marker": {
          "color": "#002c59"
         },
         "name": "FG",
         "offsetgroup": "FG",
         "orientation": "v",
         "showlegend": true,
         "textposition": "auto",
         "type": "bar",
         "x": [
          "FG",
          "Go"
         ],
         "xaxis": "x",
         "y": [
          0.5416666666666666,
          0.06451612903225806
         ],
         "yaxis": "y"
        },
        {
         "alignmentgroup": "True",
         "hovertemplate": "Johnson's Choice=Go<br>Optimal Decision=%{x}<br>=%{y}<extra></extra>",
         "legendgroup": "Go",
         "marker": {
          "color": "#b3a369"
         },
         "name": "Go",
         "offsetgroup": "Go",
         "orientation": "v",
         "showlegend": true,
         "textposition": "auto",
         "type": "bar",
         "x": [
          "FG",
          "Go",
          "Punt",
          "Toss-up"
         ],
         "xaxis": "x",
         "y": [
          0.375,
          0.5161290322580645,
          0.047619047619047616,
          0.05555555555555555
         ],
         "yaxis": "y"
        },
        {
         "alignmentgroup": "True",
         "hovertemplate": "Johnson's Choice=Penalty<br>Optimal Decision=%{x}<br>=%{y}<extra></extra>",
         "legendgroup": "Penalty",
         "marker": {
          "color": "gold"
         },
         "name": "Penalty",
         "offsetgroup": "Penalty",
         "orientation": "v",
         "showlegend": true,
         "textposition": "auto",
         "type": "bar",
         "x": [
          "FG",
          "Go",
          "Punt",
          "Toss-up"
         ],
         "xaxis": "x",
         "y": [
          0.041666666666666664,
          0.0967741935483871,
          0.07142857142857142,
          0.05555555555555555
         ],
         "yaxis": "y"
        },
        {
         "alignmentgroup": "True",
         "hovertemplate": "Johnson's Choice=Punt<br>Optimal Decision=%{x}<br>=%{y}<extra></extra>",
         "legendgroup": "Punt",
         "marker": {
          "color": "gray"
         },
         "name": "Punt",
         "offsetgroup": "Punt",
         "orientation": "v",
         "showlegend": true,
         "textposition": "auto",
         "type": "bar",
         "x": [
          "FG",
          "Go",
          "Punt",
          "Toss-up"
         ],
         "xaxis": "x",
         "y": [
          0.041666666666666664,
          0.3225806451612903,
          0.8809523809523809,
          0.8888888888888888
         ],
         "yaxis": "y"
        }
       ],
       "layout": {
        "annotations": [
         {
          "align": "right",
          "showarrow": false,
          "text": "<span style=\"color:#000;\">Recommendations provided by A.I. Sports 4th Down Bot, created by Jared Lee (<a href=\"https://twitter.com/JDLee\">@JDLee</a>).</span><br><span style=\"color:#000;\">Chart created by Akshay Easwaran (<a href=\"https://twitter.com/akeaswaran\">@akeaswaran</a>).</span>",
          "x": 1,
          "xref": "paper",
          "y": -0.25,
          "yref": "paper"
         }
        ],
        "barmode": "relative",
        "height": 512,
        "legend": {
         "title": {
          "text": "Johnson's Choice"
         },
         "tracegroupgap": 0
        },
        "template": {
         "data": {
          "bar": [
           {
            "error_x": {
             "color": "#2a3f5f"
            },
            "error_y": {
             "color": "#2a3f5f"
            },
            "marker": {
             "line": {
              "color": "#E5ECF6",
              "width": 0.5
             }
            },
            "type": "bar"
           }
          ],
          "barpolar": [
           {
            "marker": {
             "line": {
              "color": "#E5ECF6",
              "width": 0.5
             }
            },
            "type": "barpolar"
           }
          ],
          "carpet": [
           {
            "aaxis": {
             "endlinecolor": "#2a3f5f",
             "gridcolor": "white",
             "linecolor": "white",
             "minorgridcolor": "white",
             "startlinecolor": "#2a3f5f"
            },
            "baxis": {
             "endlinecolor": "#2a3f5f",
             "gridcolor": "white",
             "linecolor": "white",
             "minorgridcolor": "white",
             "startlinecolor": "#2a3f5f"
            },
            "type": "carpet"
           }
          ],
          "choropleth": [
           {
            "colorbar": {
             "outlinewidth": 0,
             "ticks": ""
            },
            "type": "choropleth"
           }
          ],
          "contour": [
           {
            "colorbar": {
             "outlinewidth": 0,
             "ticks": ""
            },
            "colorscale": [
             [
              0,
              "#0d0887"
             ],
             [
              0.1111111111111111,
              "#46039f"
             ],
             [
              0.2222222222222222,
              "#7201a8"
             ],
             [
              0.3333333333333333,
              "#9c179e"
             ],
             [
              0.4444444444444444,
              "#bd3786"
             ],
             [
              0.5555555555555556,
              "#d8576b"
             ],
             [
              0.6666666666666666,
              "#ed7953"
             ],
             [
              0.7777777777777778,
              "#fb9f3a"
             ],
             [
              0.8888888888888888,
              "#fdca26"
             ],
             [
              1,
              "#f0f921"
             ]
            ],
            "type": "contour"
           }
          ],
          "contourcarpet": [
           {
            "colorbar": {
             "outlinewidth": 0,
             "ticks": ""
            },
            "type": "contourcarpet"
           }
          ],
          "heatmap": [
           {
            "colorbar": {
             "outlinewidth": 0,
             "ticks": ""
            },
            "colorscale": [
             [
              0,
              "#0d0887"
             ],
             [
              0.1111111111111111,
              "#46039f"
             ],
             [
              0.2222222222222222,
              "#7201a8"
             ],
             [
              0.3333333333333333,
              "#9c179e"
             ],
             [
              0.4444444444444444,
              "#bd3786"
             ],
             [
              0.5555555555555556,
              "#d8576b"
             ],
             [
              0.6666666666666666,
              "#ed7953"
             ],
             [
              0.7777777777777778,
              "#fb9f3a"
             ],
             [
              0.8888888888888888,
              "#fdca26"
             ],
             [
              1,
              "#f0f921"
             ]
            ],
            "type": "heatmap"
           }
          ],
          "heatmapgl": [
           {
            "colorbar": {
             "outlinewidth": 0,
             "ticks": ""
            },
            "colorscale": [
             [
              0,
              "#0d0887"
             ],
             [
              0.1111111111111111,
              "#46039f"
             ],
             [
              0.2222222222222222,
              "#7201a8"
             ],
             [
              0.3333333333333333,
              "#9c179e"
             ],
             [
              0.4444444444444444,
              "#bd3786"
             ],
             [
              0.5555555555555556,
              "#d8576b"
             ],
             [
              0.6666666666666666,
              "#ed7953"
             ],
             [
              0.7777777777777778,
              "#fb9f3a"
             ],
             [
              0.8888888888888888,
              "#fdca26"
             ],
             [
              1,
              "#f0f921"
             ]
            ],
            "type": "heatmapgl"
           }
          ],
          "histogram": [
           {
            "marker": {
             "colorbar": {
              "outlinewidth": 0,
              "ticks": ""
             }
            },
            "type": "histogram"
           }
          ],
          "histogram2d": [
           {
            "colorbar": {
             "outlinewidth": 0,
             "ticks": ""
            },
            "colorscale": [
             [
              0,
              "#0d0887"
             ],
             [
              0.1111111111111111,
              "#46039f"
             ],
             [
              0.2222222222222222,
              "#7201a8"
             ],
             [
              0.3333333333333333,
              "#9c179e"
             ],
             [
              0.4444444444444444,
              "#bd3786"
             ],
             [
              0.5555555555555556,
              "#d8576b"
             ],
             [
              0.6666666666666666,
              "#ed7953"
             ],
             [
              0.7777777777777778,
              "#fb9f3a"
             ],
             [
              0.8888888888888888,
              "#fdca26"
             ],
             [
              1,
              "#f0f921"
             ]
            ],
            "type": "histogram2d"
           }
          ],
          "histogram2dcontour": [
           {
            "colorbar": {
             "outlinewidth": 0,
             "ticks": ""
            },
            "colorscale": [
             [
              0,
              "#0d0887"
             ],
             [
              0.1111111111111111,
              "#46039f"
             ],
             [
              0.2222222222222222,
              "#7201a8"
             ],
             [
              0.3333333333333333,
              "#9c179e"
             ],
             [
              0.4444444444444444,
              "#bd3786"
             ],
             [
              0.5555555555555556,
              "#d8576b"
             ],
             [
              0.6666666666666666,
              "#ed7953"
             ],
             [
              0.7777777777777778,
              "#fb9f3a"
             ],
             [
              0.8888888888888888,
              "#fdca26"
             ],
             [
              1,
              "#f0f921"
             ]
            ],
            "type": "histogram2dcontour"
           }
          ],
          "mesh3d": [
           {
            "colorbar": {
             "outlinewidth": 0,
             "ticks": ""
            },
            "type": "mesh3d"
           }
          ],
          "parcoords": [
           {
            "line": {
             "colorbar": {
              "outlinewidth": 0,
              "ticks": ""
             }
            },
            "type": "parcoords"
           }
          ],
          "pie": [
           {
            "automargin": true,
            "type": "pie"
           }
          ],
          "scatter": [
           {
            "marker": {
             "colorbar": {
              "outlinewidth": 0,
              "ticks": ""
             }
            },
            "type": "scatter"
           }
          ],
          "scatter3d": [
           {
            "line": {
             "colorbar": {
              "outlinewidth": 0,
              "ticks": ""
             }
            },
            "marker": {
             "colorbar": {
              "outlinewidth": 0,
              "ticks": ""
             }
            },
            "type": "scatter3d"
           }
          ],
          "scattercarpet": [
           {
            "marker": {
             "colorbar": {
              "outlinewidth": 0,
              "ticks": ""
             }
            },
            "type": "scattercarpet"
           }
          ],
          "scattergeo": [
           {
            "marker": {
             "colorbar": {
              "outlinewidth": 0,
              "ticks": ""
             }
            },
            "type": "scattergeo"
           }
          ],
          "scattergl": [
           {
            "marker": {
             "colorbar": {
              "outlinewidth": 0,
              "ticks": ""
             }
            },
            "type": "scattergl"
           }
          ],
          "scattermapbox": [
           {
            "marker": {
             "colorbar": {
              "outlinewidth": 0,
              "ticks": ""
             }
            },
            "type": "scattermapbox"
           }
          ],
          "scatterpolar": [
           {
            "marker": {
             "colorbar": {
              "outlinewidth": 0,
              "ticks": ""
             }
            },
            "type": "scatterpolar"
           }
          ],
          "scatterpolargl": [
           {
            "marker": {
             "colorbar": {
              "outlinewidth": 0,
              "ticks": ""
             }
            },
            "type": "scatterpolargl"
           }
          ],
          "scatterternary": [
           {
            "marker": {
             "colorbar": {
              "outlinewidth": 0,
              "ticks": ""
             }
            },
            "type": "scatterternary"
           }
          ],
          "surface": [
           {
            "colorbar": {
             "outlinewidth": 0,
             "ticks": ""
            },
            "colorscale": [
             [
              0,
              "#0d0887"
             ],
             [
              0.1111111111111111,
              "#46039f"
             ],
             [
              0.2222222222222222,
              "#7201a8"
             ],
             [
              0.3333333333333333,
              "#9c179e"
             ],
             [
              0.4444444444444444,
              "#bd3786"
             ],
             [
              0.5555555555555556,
              "#d8576b"
             ],
             [
              0.6666666666666666,
              "#ed7953"
             ],
             [
              0.7777777777777778,
              "#fb9f3a"
             ],
             [
              0.8888888888888888,
              "#fdca26"
             ],
             [
              1,
              "#f0f921"
             ]
            ],
            "type": "surface"
           }
          ],
          "table": [
           {
            "cells": {
             "fill": {
              "color": "#EBF0F8"
             },
             "line": {
              "color": "white"
             }
            },
            "header": {
             "fill": {
              "color": "#C8D4E3"
             },
             "line": {
              "color": "white"
             }
            },
            "type": "table"
           }
          ]
         },
         "layout": {
          "annotationdefaults": {
           "arrowcolor": "#2a3f5f",
           "arrowhead": 0,
           "arrowwidth": 1
          },
          "coloraxis": {
           "colorbar": {
            "outlinewidth": 0,
            "ticks": ""
           }
          },
          "colorscale": {
           "diverging": [
            [
             0,
             "#8e0152"
            ],
            [
             0.1,
             "#c51b7d"
            ],
            [
             0.2,
             "#de77ae"
            ],
            [
             0.3,
             "#f1b6da"
            ],
            [
             0.4,
             "#fde0ef"
            ],
            [
             0.5,
             "#f7f7f7"
            ],
            [
             0.6,
             "#e6f5d0"
            ],
            [
             0.7,
             "#b8e186"
            ],
            [
             0.8,
             "#7fbc41"
            ],
            [
             0.9,
             "#4d9221"
            ],
            [
             1,
             "#276419"
            ]
           ],
           "sequential": [
            [
             0,
             "#0d0887"
            ],
            [
             0.1111111111111111,
             "#46039f"
            ],
            [
             0.2222222222222222,
             "#7201a8"
            ],
            [
             0.3333333333333333,
             "#9c179e"
            ],
            [
             0.4444444444444444,
             "#bd3786"
            ],
            [
             0.5555555555555556,
             "#d8576b"
            ],
            [
             0.6666666666666666,
             "#ed7953"
            ],
            [
             0.7777777777777778,
             "#fb9f3a"
            ],
            [
             0.8888888888888888,
             "#fdca26"
            ],
            [
             1,
             "#f0f921"
            ]
           ],
           "sequentialminus": [
            [
             0,
             "#0d0887"
            ],
            [
             0.1111111111111111,
             "#46039f"
            ],
            [
             0.2222222222222222,
             "#7201a8"
            ],
            [
             0.3333333333333333,
             "#9c179e"
            ],
            [
             0.4444444444444444,
             "#bd3786"
            ],
            [
             0.5555555555555556,
             "#d8576b"
            ],
            [
             0.6666666666666666,
             "#ed7953"
            ],
            [
             0.7777777777777778,
             "#fb9f3a"
            ],
            [
             0.8888888888888888,
             "#fdca26"
            ],
            [
             1,
             "#f0f921"
            ]
           ]
          },
          "colorway": [
           "#636efa",
           "#EF553B",
           "#00cc96",
           "#ab63fa",
           "#FFA15A",
           "#19d3f3",
           "#FF6692",
           "#B6E880",
           "#FF97FF",
           "#FECB52"
          ],
          "font": {
           "color": "#2a3f5f"
          },
          "geo": {
           "bgcolor": "white",
           "lakecolor": "white",
           "landcolor": "#E5ECF6",
           "showlakes": true,
           "showland": true,
           "subunitcolor": "white"
          },
          "hoverlabel": {
           "align": "left"
          },
          "hovermode": "closest",
          "mapbox": {
           "style": "light"
          },
          "paper_bgcolor": "white",
          "plot_bgcolor": "#E5ECF6",
          "polar": {
           "angularaxis": {
            "gridcolor": "white",
            "linecolor": "white",
            "ticks": ""
           },
           "bgcolor": "#E5ECF6",
           "radialaxis": {
            "gridcolor": "white",
            "linecolor": "white",
            "ticks": ""
           }
          },
          "scene": {
           "xaxis": {
            "backgroundcolor": "#E5ECF6",
            "gridcolor": "white",
            "gridwidth": 2,
            "linecolor": "white",
            "showbackground": true,
            "ticks": "",
            "zerolinecolor": "white"
           },
           "yaxis": {
            "backgroundcolor": "#E5ECF6",
            "gridcolor": "white",
            "gridwidth": 2,
            "linecolor": "white",
            "showbackground": true,
            "ticks": "",
            "zerolinecolor": "white"
           },
           "zaxis": {
            "backgroundcolor": "#E5ECF6",
            "gridcolor": "white",
            "gridwidth": 2,
            "linecolor": "white",
            "showbackground": true,
            "ticks": "",
            "zerolinecolor": "white"
           }
          },
          "shapedefaults": {
           "line": {
            "color": "#2a3f5f"
           }
          },
          "ternary": {
           "aaxis": {
            "gridcolor": "white",
            "linecolor": "white",
            "ticks": ""
           },
           "baxis": {
            "gridcolor": "white",
            "linecolor": "white",
            "ticks": ""
           },
           "bgcolor": "#E5ECF6",
           "caxis": {
            "gridcolor": "white",
            "linecolor": "white",
            "ticks": ""
           }
          },
          "title": {
           "x": 0.05
          },
          "xaxis": {
           "automargin": true,
           "gridcolor": "white",
           "linecolor": "white",
           "ticks": "",
           "title": {
            "standoff": 15
           },
           "zerolinecolor": "white",
           "zerolinewidth": 2
          },
          "yaxis": {
           "automargin": true,
           "gridcolor": "white",
           "linecolor": "white",
           "ticks": "",
           "title": {
            "standoff": 15
           },
           "zerolinecolor": "white",
           "zerolinewidth": 2
          }
         }
        },
        "title": {
         "font": {
          "color": "#000000",
          "family": "Arial",
          "size": 20
         },
         "text": "<b>Paul Johnson: High-Stakes Gambler?</b><br><i style=\"font-size:15px;\">2017-2018 seasons; data from A.I. Sports 4th Down Bot</i>"
        },
        "width": 1024,
        "xaxis": {
         "anchor": "y",
         "domain": [
          0,
          1
         ],
         "title": {
          "text": "Optimal Decision"
         }
        },
        "yaxis": {
         "anchor": "x",
         "domain": [
          0,
          1
         ],
         "tickformat": ".0%",
         "title": {
          "text": ""
         }
        }
       }
      },
      "text/html": [
       "<div>\n",
       "        \n",
       "        \n",
       "            <div id=\"c999c1b7-522d-4d02-bc0f-fe0256b2fdea\" class=\"plotly-graph-div\" style=\"height:512px; width:1024px;\"></div>\n",
       "            <script type=\"text/javascript\">\n",
       "                require([\"plotly\"], function(Plotly) {\n",
       "                    window.PLOTLYENV=window.PLOTLYENV || {};\n",
       "                    \n",
       "                if (document.getElementById(\"c999c1b7-522d-4d02-bc0f-fe0256b2fdea\")) {\n",
       "                    Plotly.newPlot(\n",
       "                        'c999c1b7-522d-4d02-bc0f-fe0256b2fdea',\n",
       "                        [{\"alignmentgroup\": \"True\", \"hovertemplate\": \"Johnson's Choice=FG<br>Optimal Decision=%{x}<br>=%{y}<extra></extra>\", \"legendgroup\": \"FG\", \"marker\": {\"color\": \"#002c59\"}, \"name\": \"FG\", \"offsetgroup\": \"FG\", \"orientation\": \"v\", \"showlegend\": true, \"textposition\": \"auto\", \"type\": \"bar\", \"x\": [\"FG\", \"Go\"], \"xaxis\": \"x\", \"y\": [0.5416666666666666, 0.06451612903225806], \"yaxis\": \"y\"}, {\"alignmentgroup\": \"True\", \"hovertemplate\": \"Johnson's Choice=Go<br>Optimal Decision=%{x}<br>=%{y}<extra></extra>\", \"legendgroup\": \"Go\", \"marker\": {\"color\": \"#b3a369\"}, \"name\": \"Go\", \"offsetgroup\": \"Go\", \"orientation\": \"v\", \"showlegend\": true, \"textposition\": \"auto\", \"type\": \"bar\", \"x\": [\"FG\", \"Go\", \"Punt\", \"Toss-up\"], \"xaxis\": \"x\", \"y\": [0.375, 0.5161290322580645, 0.047619047619047616, 0.05555555555555555], \"yaxis\": \"y\"}, {\"alignmentgroup\": \"True\", \"hovertemplate\": \"Johnson's Choice=Penalty<br>Optimal Decision=%{x}<br>=%{y}<extra></extra>\", \"legendgroup\": \"Penalty\", \"marker\": {\"color\": \"gold\"}, \"name\": \"Penalty\", \"offsetgroup\": \"Penalty\", \"orientation\": \"v\", \"showlegend\": true, \"textposition\": \"auto\", \"type\": \"bar\", \"x\": [\"FG\", \"Go\", \"Punt\", \"Toss-up\"], \"xaxis\": \"x\", \"y\": [0.041666666666666664, 0.0967741935483871, 0.07142857142857142, 0.05555555555555555], \"yaxis\": \"y\"}, {\"alignmentgroup\": \"True\", \"hovertemplate\": \"Johnson's Choice=Punt<br>Optimal Decision=%{x}<br>=%{y}<extra></extra>\", \"legendgroup\": \"Punt\", \"marker\": {\"color\": \"gray\"}, \"name\": \"Punt\", \"offsetgroup\": \"Punt\", \"orientation\": \"v\", \"showlegend\": true, \"textposition\": \"auto\", \"type\": \"bar\", \"x\": [\"FG\", \"Go\", \"Punt\", \"Toss-up\"], \"xaxis\": \"x\", \"y\": [0.041666666666666664, 0.3225806451612903, 0.8809523809523809, 0.8888888888888888], \"yaxis\": \"y\"}],\n",
       "                        {\"annotations\": [{\"align\": \"right\", \"showarrow\": false, \"text\": \"<span style=\\\"color:#000;\\\">Recommendations provided by A.I. Sports 4th Down Bot, created by Jared Lee (<a href=\\\"https://twitter.com/JDLee\\\">@JDLee</a>).</span><br><span style=\\\"color:#000;\\\">Chart created by Akshay Easwaran (<a href=\\\"https://twitter.com/akeaswaran\\\">@akeaswaran</a>).</span>\", \"x\": 1.0, \"xref\": \"paper\", \"y\": -0.25, \"yref\": \"paper\"}], \"barmode\": \"relative\", \"height\": 512, \"legend\": {\"title\": {\"text\": \"Johnson's Choice\"}, \"tracegroupgap\": 0}, \"template\": {\"data\": {\"bar\": [{\"error_x\": {\"color\": \"#2a3f5f\"}, \"error_y\": {\"color\": \"#2a3f5f\"}, \"marker\": {\"line\": {\"color\": \"#E5ECF6\", \"width\": 0.5}}, \"type\": \"bar\"}], \"barpolar\": [{\"marker\": {\"line\": {\"color\": \"#E5ECF6\", \"width\": 0.5}}, \"type\": \"barpolar\"}], \"carpet\": [{\"aaxis\": {\"endlinecolor\": \"#2a3f5f\", \"gridcolor\": \"white\", \"linecolor\": \"white\", \"minorgridcolor\": \"white\", \"startlinecolor\": \"#2a3f5f\"}, \"baxis\": {\"endlinecolor\": \"#2a3f5f\", \"gridcolor\": \"white\", \"linecolor\": \"white\", \"minorgridcolor\": \"white\", \"startlinecolor\": \"#2a3f5f\"}, \"type\": \"carpet\"}], \"choropleth\": [{\"colorbar\": {\"outlinewidth\": 0, \"ticks\": \"\"}, \"type\": \"choropleth\"}], \"contour\": [{\"colorbar\": {\"outlinewidth\": 0, \"ticks\": \"\"}, \"colorscale\": [[0.0, \"#0d0887\"], [0.1111111111111111, \"#46039f\"], [0.2222222222222222, \"#7201a8\"], [0.3333333333333333, \"#9c179e\"], [0.4444444444444444, \"#bd3786\"], [0.5555555555555556, \"#d8576b\"], [0.6666666666666666, \"#ed7953\"], [0.7777777777777778, \"#fb9f3a\"], [0.8888888888888888, \"#fdca26\"], [1.0, \"#f0f921\"]], \"type\": \"contour\"}], \"contourcarpet\": [{\"colorbar\": {\"outlinewidth\": 0, \"ticks\": \"\"}, \"type\": \"contourcarpet\"}], \"heatmap\": [{\"colorbar\": {\"outlinewidth\": 0, \"ticks\": \"\"}, \"colorscale\": [[0.0, \"#0d0887\"], [0.1111111111111111, \"#46039f\"], [0.2222222222222222, \"#7201a8\"], [0.3333333333333333, \"#9c179e\"], [0.4444444444444444, \"#bd3786\"], [0.5555555555555556, \"#d8576b\"], [0.6666666666666666, \"#ed7953\"], [0.7777777777777778, \"#fb9f3a\"], [0.8888888888888888, \"#fdca26\"], [1.0, \"#f0f921\"]], \"type\": \"heatmap\"}], \"heatmapgl\": [{\"colorbar\": {\"outlinewidth\": 0, \"ticks\": \"\"}, \"colorscale\": [[0.0, \"#0d0887\"], [0.1111111111111111, \"#46039f\"], [0.2222222222222222, \"#7201a8\"], [0.3333333333333333, \"#9c179e\"], [0.4444444444444444, \"#bd3786\"], [0.5555555555555556, \"#d8576b\"], [0.6666666666666666, \"#ed7953\"], [0.7777777777777778, \"#fb9f3a\"], [0.8888888888888888, \"#fdca26\"], [1.0, \"#f0f921\"]], \"type\": \"heatmapgl\"}], \"histogram\": [{\"marker\": {\"colorbar\": {\"outlinewidth\": 0, \"ticks\": \"\"}}, \"type\": \"histogram\"}], \"histogram2d\": [{\"colorbar\": {\"outlinewidth\": 0, \"ticks\": \"\"}, \"colorscale\": [[0.0, \"#0d0887\"], [0.1111111111111111, \"#46039f\"], [0.2222222222222222, \"#7201a8\"], [0.3333333333333333, \"#9c179e\"], [0.4444444444444444, \"#bd3786\"], [0.5555555555555556, \"#d8576b\"], [0.6666666666666666, \"#ed7953\"], [0.7777777777777778, \"#fb9f3a\"], [0.8888888888888888, \"#fdca26\"], [1.0, \"#f0f921\"]], \"type\": \"histogram2d\"}], \"histogram2dcontour\": [{\"colorbar\": {\"outlinewidth\": 0, \"ticks\": \"\"}, \"colorscale\": [[0.0, \"#0d0887\"], [0.1111111111111111, \"#46039f\"], [0.2222222222222222, \"#7201a8\"], [0.3333333333333333, \"#9c179e\"], [0.4444444444444444, \"#bd3786\"], [0.5555555555555556, \"#d8576b\"], [0.6666666666666666, \"#ed7953\"], [0.7777777777777778, \"#fb9f3a\"], [0.8888888888888888, \"#fdca26\"], [1.0, \"#f0f921\"]], \"type\": \"histogram2dcontour\"}], \"mesh3d\": [{\"colorbar\": {\"outlinewidth\": 0, \"ticks\": \"\"}, \"type\": \"mesh3d\"}], \"parcoords\": [{\"line\": {\"colorbar\": {\"outlinewidth\": 0, \"ticks\": \"\"}}, \"type\": \"parcoords\"}], \"pie\": [{\"automargin\": true, \"type\": \"pie\"}], \"scatter\": [{\"marker\": {\"colorbar\": {\"outlinewidth\": 0, \"ticks\": \"\"}}, \"type\": \"scatter\"}], \"scatter3d\": [{\"line\": {\"colorbar\": {\"outlinewidth\": 0, \"ticks\": \"\"}}, \"marker\": {\"colorbar\": {\"outlinewidth\": 0, \"ticks\": \"\"}}, \"type\": \"scatter3d\"}], \"scattercarpet\": [{\"marker\": {\"colorbar\": {\"outlinewidth\": 0, \"ticks\": \"\"}}, \"type\": \"scattercarpet\"}], \"scattergeo\": [{\"marker\": {\"colorbar\": {\"outlinewidth\": 0, \"ticks\": \"\"}}, \"type\": \"scattergeo\"}], \"scattergl\": [{\"marker\": {\"colorbar\": {\"outlinewidth\": 0, \"ticks\": \"\"}}, \"type\": \"scattergl\"}], \"scattermapbox\": [{\"marker\": {\"colorbar\": {\"outlinewidth\": 0, \"ticks\": \"\"}}, \"type\": \"scattermapbox\"}], \"scatterpolar\": [{\"marker\": {\"colorbar\": {\"outlinewidth\": 0, \"ticks\": \"\"}}, \"type\": \"scatterpolar\"}], \"scatterpolargl\": [{\"marker\": {\"colorbar\": {\"outlinewidth\": 0, \"ticks\": \"\"}}, \"type\": \"scatterpolargl\"}], \"scatterternary\": [{\"marker\": {\"colorbar\": {\"outlinewidth\": 0, \"ticks\": \"\"}}, \"type\": \"scatterternary\"}], \"surface\": [{\"colorbar\": {\"outlinewidth\": 0, \"ticks\": \"\"}, \"colorscale\": [[0.0, \"#0d0887\"], [0.1111111111111111, \"#46039f\"], [0.2222222222222222, \"#7201a8\"], [0.3333333333333333, \"#9c179e\"], [0.4444444444444444, \"#bd3786\"], [0.5555555555555556, \"#d8576b\"], [0.6666666666666666, \"#ed7953\"], [0.7777777777777778, \"#fb9f3a\"], [0.8888888888888888, \"#fdca26\"], [1.0, \"#f0f921\"]], \"type\": \"surface\"}], \"table\": [{\"cells\": {\"fill\": {\"color\": \"#EBF0F8\"}, \"line\": {\"color\": \"white\"}}, \"header\": {\"fill\": {\"color\": \"#C8D4E3\"}, \"line\": {\"color\": \"white\"}}, \"type\": \"table\"}]}, \"layout\": {\"annotationdefaults\": {\"arrowcolor\": \"#2a3f5f\", \"arrowhead\": 0, \"arrowwidth\": 1}, \"coloraxis\": {\"colorbar\": {\"outlinewidth\": 0, \"ticks\": \"\"}}, \"colorscale\": {\"diverging\": [[0, \"#8e0152\"], [0.1, \"#c51b7d\"], [0.2, \"#de77ae\"], [0.3, \"#f1b6da\"], [0.4, \"#fde0ef\"], [0.5, \"#f7f7f7\"], [0.6, \"#e6f5d0\"], [0.7, \"#b8e186\"], [0.8, \"#7fbc41\"], [0.9, \"#4d9221\"], [1, \"#276419\"]], \"sequential\": [[0.0, \"#0d0887\"], [0.1111111111111111, \"#46039f\"], [0.2222222222222222, \"#7201a8\"], [0.3333333333333333, \"#9c179e\"], [0.4444444444444444, \"#bd3786\"], [0.5555555555555556, \"#d8576b\"], [0.6666666666666666, \"#ed7953\"], [0.7777777777777778, \"#fb9f3a\"], [0.8888888888888888, \"#fdca26\"], [1.0, \"#f0f921\"]], \"sequentialminus\": [[0.0, \"#0d0887\"], [0.1111111111111111, \"#46039f\"], [0.2222222222222222, \"#7201a8\"], [0.3333333333333333, \"#9c179e\"], [0.4444444444444444, \"#bd3786\"], [0.5555555555555556, \"#d8576b\"], [0.6666666666666666, \"#ed7953\"], [0.7777777777777778, \"#fb9f3a\"], [0.8888888888888888, \"#fdca26\"], [1.0, \"#f0f921\"]]}, \"colorway\": [\"#636efa\", \"#EF553B\", \"#00cc96\", \"#ab63fa\", \"#FFA15A\", \"#19d3f3\", \"#FF6692\", \"#B6E880\", \"#FF97FF\", \"#FECB52\"], \"font\": {\"color\": \"#2a3f5f\"}, \"geo\": {\"bgcolor\": \"white\", \"lakecolor\": \"white\", \"landcolor\": \"#E5ECF6\", \"showlakes\": true, \"showland\": true, \"subunitcolor\": \"white\"}, \"hoverlabel\": {\"align\": \"left\"}, \"hovermode\": \"closest\", \"mapbox\": {\"style\": \"light\"}, \"paper_bgcolor\": \"white\", \"plot_bgcolor\": \"#E5ECF6\", \"polar\": {\"angularaxis\": {\"gridcolor\": \"white\", \"linecolor\": \"white\", \"ticks\": \"\"}, \"bgcolor\": \"#E5ECF6\", \"radialaxis\": {\"gridcolor\": \"white\", \"linecolor\": \"white\", \"ticks\": \"\"}}, \"scene\": {\"xaxis\": {\"backgroundcolor\": \"#E5ECF6\", \"gridcolor\": \"white\", \"gridwidth\": 2, \"linecolor\": \"white\", \"showbackground\": true, \"ticks\": \"\", \"zerolinecolor\": \"white\"}, \"yaxis\": {\"backgroundcolor\": \"#E5ECF6\", \"gridcolor\": \"white\", \"gridwidth\": 2, \"linecolor\": \"white\", \"showbackground\": true, \"ticks\": \"\", \"zerolinecolor\": \"white\"}, \"zaxis\": {\"backgroundcolor\": \"#E5ECF6\", \"gridcolor\": \"white\", \"gridwidth\": 2, \"linecolor\": \"white\", \"showbackground\": true, \"ticks\": \"\", \"zerolinecolor\": \"white\"}}, \"shapedefaults\": {\"line\": {\"color\": \"#2a3f5f\"}}, \"ternary\": {\"aaxis\": {\"gridcolor\": \"white\", \"linecolor\": \"white\", \"ticks\": \"\"}, \"baxis\": {\"gridcolor\": \"white\", \"linecolor\": \"white\", \"ticks\": \"\"}, \"bgcolor\": \"#E5ECF6\", \"caxis\": {\"gridcolor\": \"white\", \"linecolor\": \"white\", \"ticks\": \"\"}}, \"title\": {\"x\": 0.05}, \"xaxis\": {\"automargin\": true, \"gridcolor\": \"white\", \"linecolor\": \"white\", \"ticks\": \"\", \"title\": {\"standoff\": 15}, \"zerolinecolor\": \"white\", \"zerolinewidth\": 2}, \"yaxis\": {\"automargin\": true, \"gridcolor\": \"white\", \"linecolor\": \"white\", \"ticks\": \"\", \"title\": {\"standoff\": 15}, \"zerolinecolor\": \"white\", \"zerolinewidth\": 2}}}, \"title\": {\"font\": {\"color\": \"#000000\", \"family\": \"Arial\", \"size\": 20}, \"text\": \"<b>Paul Johnson: High-Stakes Gambler?</b><br><i style=\\\"font-size:15px;\\\">2017-2018 seasons; data from A.I. Sports 4th Down Bot</i>\"}, \"width\": 1024, \"xaxis\": {\"anchor\": \"y\", \"domain\": [0.0, 1.0], \"title\": {\"text\": \"Optimal Decision\"}}, \"yaxis\": {\"anchor\": \"x\", \"domain\": [0.0, 1.0], \"tickformat\": \".0%\", \"title\": {\"text\": \"\"}}},\n",
       "                        {\"responsive\": true}\n",
       "                    ).then(function(){\n",
       "                            \n",
       "var gd = document.getElementById('c999c1b7-522d-4d02-bc0f-fe0256b2fdea');\n",
       "var x = new MutationObserver(function (mutations, observer) {{\n",
       "        var display = window.getComputedStyle(gd).display;\n",
       "        if (!display || display === 'none') {{\n",
       "            console.log([gd, 'removed!']);\n",
       "            Plotly.purge(gd);\n",
       "            observer.disconnect();\n",
       "        }}\n",
       "}});\n",
       "\n",
       "// Listen for the removal of the full notebook cells\n",
       "var notebookContainer = gd.closest('#notebook-container');\n",
       "if (notebookContainer) {{\n",
       "    x.observe(notebookContainer, {childList: true});\n",
       "}}\n",
       "\n",
       "// Listen for the clearing of the current output cell\n",
       "var outputEl = gd.closest('.output');\n",
       "if (outputEl) {{\n",
       "    x.observe(outputEl, {childList: true});\n",
       "}}\n",
       "\n",
       "                        })\n",
       "                };\n",
       "                });\n",
       "            </script>\n",
       "        </div>"
      ]
     },
     "metadata": {},
     "output_type": "display_data"
    }
   ],
   "source": [
    "make_plotly_decision_chart(decisions[(decisions.pos_team == \"Georgia Tech\") & (decisions.season < 2019)],\"Paul Johnson: High-Stakes Gambler?\",\"2017-2018 seasons; data from A.I. Sports 4th Down Bot\",'Johnson\\'s Choice')\n"
   ]
  },
  {
   "cell_type": "code",
   "execution_count": 283,
   "metadata": {},
   "outputs": [
    {
     "data": {
      "text/html": [
       "<div>\n",
       "<style scoped>\n",
       "    .dataframe tbody tr th:only-of-type {\n",
       "        vertical-align: middle;\n",
       "    }\n",
       "\n",
       "    .dataframe tbody tr th {\n",
       "        vertical-align: top;\n",
       "    }\n",
       "\n",
       "    .dataframe thead th {\n",
       "        text-align: right;\n",
       "    }\n",
       "</style>\n",
       "<table border=\"1\" class=\"dataframe\">\n",
       "  <thead>\n",
       "    <tr style=\"text-align: right;\">\n",
       "      <th></th>\n",
       "      <th>conference</th>\n",
       "      <th>recommendation</th>\n",
       "      <th>choice</th>\n",
       "      <th>value</th>\n",
       "      <th>percentage</th>\n",
       "    </tr>\n",
       "  </thead>\n",
       "  <tbody>\n",
       "    <tr>\n",
       "      <th>0</th>\n",
       "      <td>ACC</td>\n",
       "      <td>FG</td>\n",
       "      <td>FG</td>\n",
       "      <td>0.676005</td>\n",
       "      <td>67.6%</td>\n",
       "    </tr>\n",
       "    <tr>\n",
       "      <th>1</th>\n",
       "      <td>ACC</td>\n",
       "      <td>Go</td>\n",
       "      <td>FG</td>\n",
       "      <td>0.156086</td>\n",
       "      <td>15.6%</td>\n",
       "    </tr>\n",
       "    <tr>\n",
       "      <th>2</th>\n",
       "      <td>ACC</td>\n",
       "      <td>Punt</td>\n",
       "      <td>FG</td>\n",
       "      <td>0.003715</td>\n",
       "      <td>0.4%</td>\n",
       "    </tr>\n",
       "    <tr>\n",
       "      <th>3</th>\n",
       "      <td>ACC</td>\n",
       "      <td>Toss-up</td>\n",
       "      <td>FG</td>\n",
       "      <td>0.011643</td>\n",
       "      <td>1.2%</td>\n",
       "    </tr>\n",
       "    <tr>\n",
       "      <th>4</th>\n",
       "      <td>ACC</td>\n",
       "      <td>FG</td>\n",
       "      <td>Go</td>\n",
       "      <td>0.221681</td>\n",
       "      <td>22.2%</td>\n",
       "    </tr>\n",
       "    <tr>\n",
       "      <th>5</th>\n",
       "      <td>ACC</td>\n",
       "      <td>Go</td>\n",
       "      <td>Go</td>\n",
       "      <td>0.345734</td>\n",
       "      <td>34.6%</td>\n",
       "    </tr>\n",
       "    <tr>\n",
       "      <th>6</th>\n",
       "      <td>ACC</td>\n",
       "      <td>Punt</td>\n",
       "      <td>Go</td>\n",
       "      <td>0.029721</td>\n",
       "      <td>3.0%</td>\n",
       "    </tr>\n",
       "    <tr>\n",
       "      <th>7</th>\n",
       "      <td>ACC</td>\n",
       "      <td>Toss-up</td>\n",
       "      <td>Go</td>\n",
       "      <td>0.067270</td>\n",
       "      <td>6.7%</td>\n",
       "    </tr>\n",
       "    <tr>\n",
       "      <th>8</th>\n",
       "      <td>ACC</td>\n",
       "      <td>FG</td>\n",
       "      <td>Penalty</td>\n",
       "      <td>0.046285</td>\n",
       "      <td>4.6%</td>\n",
       "    </tr>\n",
       "    <tr>\n",
       "      <th>9</th>\n",
       "      <td>ACC</td>\n",
       "      <td>Go</td>\n",
       "      <td>Penalty</td>\n",
       "      <td>0.069147</td>\n",
       "      <td>6.9%</td>\n",
       "    </tr>\n",
       "    <tr>\n",
       "      <th>10</th>\n",
       "      <td>ACC</td>\n",
       "      <td>Punt</td>\n",
       "      <td>Penalty</td>\n",
       "      <td>0.042105</td>\n",
       "      <td>4.2%</td>\n",
       "    </tr>\n",
       "    <tr>\n",
       "      <th>11</th>\n",
       "      <td>ACC</td>\n",
       "      <td>Toss-up</td>\n",
       "      <td>Penalty</td>\n",
       "      <td>0.056921</td>\n",
       "      <td>5.7%</td>\n",
       "    </tr>\n",
       "    <tr>\n",
       "      <th>12</th>\n",
       "      <td>ACC</td>\n",
       "      <td>FG</td>\n",
       "      <td>Punt</td>\n",
       "      <td>0.056029</td>\n",
       "      <td>5.6%</td>\n",
       "    </tr>\n",
       "    <tr>\n",
       "      <th>13</th>\n",
       "      <td>ACC</td>\n",
       "      <td>Go</td>\n",
       "      <td>Punt</td>\n",
       "      <td>0.429034</td>\n",
       "      <td>42.9%</td>\n",
       "    </tr>\n",
       "    <tr>\n",
       "      <th>14</th>\n",
       "      <td>ACC</td>\n",
       "      <td>Punt</td>\n",
       "      <td>Punt</td>\n",
       "      <td>0.924458</td>\n",
       "      <td>92.4%</td>\n",
       "    </tr>\n",
       "    <tr>\n",
       "      <th>15</th>\n",
       "      <td>ACC</td>\n",
       "      <td>Toss-up</td>\n",
       "      <td>Punt</td>\n",
       "      <td>0.864166</td>\n",
       "      <td>86.4%</td>\n",
       "    </tr>\n",
       "    <tr>\n",
       "      <th>0</th>\n",
       "      <td>FBS Average</td>\n",
       "      <td>FG</td>\n",
       "      <td>FG</td>\n",
       "      <td>0.656560</td>\n",
       "      <td>65.7%</td>\n",
       "    </tr>\n",
       "    <tr>\n",
       "      <th>1</th>\n",
       "      <td>FBS Average</td>\n",
       "      <td>Go</td>\n",
       "      <td>FG</td>\n",
       "      <td>0.167043</td>\n",
       "      <td>16.7%</td>\n",
       "    </tr>\n",
       "    <tr>\n",
       "      <th>2</th>\n",
       "      <td>FBS Average</td>\n",
       "      <td>Punt</td>\n",
       "      <td>FG</td>\n",
       "      <td>0.003031</td>\n",
       "      <td>0.3%</td>\n",
       "    </tr>\n",
       "    <tr>\n",
       "      <th>3</th>\n",
       "      <td>FBS Average</td>\n",
       "      <td>Toss-up</td>\n",
       "      <td>FG</td>\n",
       "      <td>0.009159</td>\n",
       "      <td>0.9%</td>\n",
       "    </tr>\n",
       "    <tr>\n",
       "      <th>4</th>\n",
       "      <td>FBS Average</td>\n",
       "      <td>FG</td>\n",
       "      <td>Go</td>\n",
       "      <td>0.221850</td>\n",
       "      <td>22.2%</td>\n",
       "    </tr>\n",
       "    <tr>\n",
       "      <th>5</th>\n",
       "      <td>FBS Average</td>\n",
       "      <td>Go</td>\n",
       "      <td>Go</td>\n",
       "      <td>0.339505</td>\n",
       "      <td>34.0%</td>\n",
       "    </tr>\n",
       "    <tr>\n",
       "      <th>6</th>\n",
       "      <td>FBS Average</td>\n",
       "      <td>Punt</td>\n",
       "      <td>Go</td>\n",
       "      <td>0.032737</td>\n",
       "      <td>3.3%</td>\n",
       "    </tr>\n",
       "    <tr>\n",
       "      <th>7</th>\n",
       "      <td>FBS Average</td>\n",
       "      <td>Toss-up</td>\n",
       "      <td>Go</td>\n",
       "      <td>0.074398</td>\n",
       "      <td>7.4%</td>\n",
       "    </tr>\n",
       "    <tr>\n",
       "      <th>8</th>\n",
       "      <td>FBS Average</td>\n",
       "      <td>FG</td>\n",
       "      <td>Penalty</td>\n",
       "      <td>0.052720</td>\n",
       "      <td>5.3%</td>\n",
       "    </tr>\n",
       "    <tr>\n",
       "      <th>9</th>\n",
       "      <td>FBS Average</td>\n",
       "      <td>Go</td>\n",
       "      <td>Penalty</td>\n",
       "      <td>0.065332</td>\n",
       "      <td>6.5%</td>\n",
       "    </tr>\n",
       "    <tr>\n",
       "      <th>10</th>\n",
       "      <td>FBS Average</td>\n",
       "      <td>Punt</td>\n",
       "      <td>Penalty</td>\n",
       "      <td>0.052061</td>\n",
       "      <td>5.2%</td>\n",
       "    </tr>\n",
       "    <tr>\n",
       "      <th>11</th>\n",
       "      <td>FBS Average</td>\n",
       "      <td>Toss-up</td>\n",
       "      <td>Penalty</td>\n",
       "      <td>0.053262</td>\n",
       "      <td>5.3%</td>\n",
       "    </tr>\n",
       "    <tr>\n",
       "      <th>12</th>\n",
       "      <td>FBS Average</td>\n",
       "      <td>FG</td>\n",
       "      <td>Punt</td>\n",
       "      <td>0.068871</td>\n",
       "      <td>6.9%</td>\n",
       "    </tr>\n",
       "    <tr>\n",
       "      <th>13</th>\n",
       "      <td>FBS Average</td>\n",
       "      <td>Go</td>\n",
       "      <td>Punt</td>\n",
       "      <td>0.428120</td>\n",
       "      <td>42.8%</td>\n",
       "    </tr>\n",
       "    <tr>\n",
       "      <th>14</th>\n",
       "      <td>FBS Average</td>\n",
       "      <td>Punt</td>\n",
       "      <td>Punt</td>\n",
       "      <td>0.912170</td>\n",
       "      <td>91.2%</td>\n",
       "    </tr>\n",
       "    <tr>\n",
       "      <th>15</th>\n",
       "      <td>FBS Average</td>\n",
       "      <td>Toss-up</td>\n",
       "      <td>Punt</td>\n",
       "      <td>0.863182</td>\n",
       "      <td>86.3%</td>\n",
       "    </tr>\n",
       "  </tbody>\n",
       "</table>\n",
       "</div>"
      ],
      "text/plain": [
       "     conference recommendation   choice     value percentage\n",
       "0           ACC             FG       FG  0.676005      67.6%\n",
       "1           ACC             Go       FG  0.156086      15.6%\n",
       "2           ACC           Punt       FG  0.003715       0.4%\n",
       "3           ACC        Toss-up       FG  0.011643       1.2%\n",
       "4           ACC             FG       Go  0.221681      22.2%\n",
       "5           ACC             Go       Go  0.345734      34.6%\n",
       "6           ACC           Punt       Go  0.029721       3.0%\n",
       "7           ACC        Toss-up       Go  0.067270       6.7%\n",
       "8           ACC             FG  Penalty  0.046285       4.6%\n",
       "9           ACC             Go  Penalty  0.069147       6.9%\n",
       "10          ACC           Punt  Penalty  0.042105       4.2%\n",
       "11          ACC        Toss-up  Penalty  0.056921       5.7%\n",
       "12          ACC             FG     Punt  0.056029       5.6%\n",
       "13          ACC             Go     Punt  0.429034      42.9%\n",
       "14          ACC           Punt     Punt  0.924458      92.4%\n",
       "15          ACC        Toss-up     Punt  0.864166      86.4%\n",
       "0   FBS Average             FG       FG  0.656560      65.7%\n",
       "1   FBS Average             Go       FG  0.167043      16.7%\n",
       "2   FBS Average           Punt       FG  0.003031       0.3%\n",
       "3   FBS Average        Toss-up       FG  0.009159       0.9%\n",
       "4   FBS Average             FG       Go  0.221850      22.2%\n",
       "5   FBS Average             Go       Go  0.339505      34.0%\n",
       "6   FBS Average           Punt       Go  0.032737       3.3%\n",
       "7   FBS Average        Toss-up       Go  0.074398       7.4%\n",
       "8   FBS Average             FG  Penalty  0.052720       5.3%\n",
       "9   FBS Average             Go  Penalty  0.065332       6.5%\n",
       "10  FBS Average           Punt  Penalty  0.052061       5.2%\n",
       "11  FBS Average        Toss-up  Penalty  0.053262       5.3%\n",
       "12  FBS Average             FG     Punt  0.068871       6.9%\n",
       "13  FBS Average             Go     Punt  0.428120      42.8%\n",
       "14  FBS Average           Punt     Punt  0.912170      91.2%\n",
       "15  FBS Average        Toss-up     Punt  0.863182      86.3%"
      ]
     },
     "execution_count": 283,
     "metadata": {},
     "output_type": "execute_result"
    }
   ],
   "source": [
    "conf_decisions = decisions.groupby([\"recommendation\",\"conference\"])\n",
    "tmp = conf_decisions.choice.value_counts(normalize=True).unstack().reset_index()\n",
    "acc_df=pd.melt(tmp[(tmp.conference == \"ACC\")],id_vars=[\"conference\",\"recommendation\"],var_name='choice', value_name='value')\n",
    "\n",
    "tmp_avg = decisions.groupby(\"recommendation\").choice.value_counts(normalize=True).unstack().reset_index()\n",
    "tmp_melt = pd.melt(tmp_avg,id_vars=[\"recommendation\"],var_name='choice', value_name='value')\n",
    "tmp_melt[\"conference\"] = \"FBS Average\"\n",
    "\n",
    "acc_df = acc_df.append(tmp_melt)\n",
    "acc_df[\"percentage\"] = acc_df.value.apply(lambda x: \"0.0%\" if (np.isnan(x) == True) else f\"{round(x * 100, 1)}%\")\n",
    "acc_df"
   ]
  },
  {
   "cell_type": "code",
   "execution_count": 299,
   "metadata": {},
   "outputs": [
    {
     "data": {
      "application/vnd.plotly.v1+json": {
       "config": {
        "plotlyServerURL": "https://plot.ly"
       },
       "data": [
        {
         "marker": {
          "color": "#002c59"
         },
         "name": "FG",
         "text": [
          "67.6%",
          "15.6%",
          "0.4%",
          "1.2%",
          "65.7%",
          "16.7%",
          "0.3%",
          "0.9%"
         ],
         "textposition": "auto",
         "type": "bar",
         "x": [
          [
           "FG",
           "Go",
           "Punt",
           "Toss-up",
           "FG",
           "Go",
           "Punt",
           "Toss-up"
          ],
          [
           "ACC",
           "ACC",
           "ACC",
           "ACC",
           "FBS Average",
           "FBS Average",
           "FBS Average",
           "FBS Average"
          ]
         ],
         "y": [
          0.6760048721071864,
          0.15608572583906186,
          0.0037151702786377707,
          0.01164294954721863,
          0.656559500228554,
          0.16704300265944103,
          0.003031221582297666,
          0.009158799492743412
         ]
        },
        {
         "marker": {
          "color": "#B3A369"
         },
         "name": "Go",
         "text": [
          "22.2%",
          "34.6%",
          "3.0%",
          "6.7%",
          "22.2%",
          "34.0%",
          "3.3%",
          "7.4%"
         ],
         "textposition": "auto",
         "type": "bar",
         "x": [
          [
           "FG",
           "Go",
           "Punt",
           "Toss-up",
           "FG",
           "Go",
           "Punt",
           "Toss-up"
          ],
          [
           "ACC",
           "ACC",
           "ACC",
           "ACC",
           "FBS Average",
           "FBS Average",
           "FBS Average",
           "FBS Average"
          ]
         ],
         "y": [
          0.22168087697929353,
          0.3457339264051759,
          0.029721362229102165,
          0.06727037516170763,
          0.2218497638275179,
          0.33950524361483264,
          0.032737193088814794,
          0.07439763280259265
         ]
        },
        {
         "marker": {
          "color": "gold"
         },
         "name": "Penalty",
         "text": [
          "4.6%",
          "6.9%",
          "4.2%",
          "5.7%",
          "5.3%",
          "6.5%",
          "5.2%",
          "5.3%"
         ],
         "textposition": "auto",
         "type": "bar",
         "x": [
          [
           "FG",
           "Go",
           "Punt",
           "Toss-up",
           "FG",
           "Go",
           "Punt",
           "Toss-up"
          ],
          [
           "ACC",
           "ACC",
           "ACC",
           "ACC",
           "FBS Average",
           "FBS Average",
           "FBS Average",
           "FBS Average"
          ]
         ],
         "y": [
          0.04628501827040195,
          0.06914678528103518,
          0.042105263157894736,
          0.056921086675291076,
          0.05271979277769313,
          0.06533192834562697,
          0.05206123067596241,
          0.05326194166549246
         ]
        },
        {
         "marker": {
          "color": "gray"
         },
         "name": "Punt",
         "text": [
          "5.6%",
          "42.9%",
          "92.4%",
          "86.4%",
          "6.9%",
          "42.8%",
          "91.2%",
          "86.3%"
         ],
         "textposition": "auto",
         "type": "bar",
         "x": [
          [
           "FG",
           "Go",
           "Punt",
           "Toss-up",
           "FG",
           "Go",
           "Punt",
           "Toss-up"
          ],
          [
           "ACC",
           "ACC",
           "ACC",
           "ACC",
           "FBS Average",
           "FBS Average",
           "FBS Average",
           "FBS Average"
          ]
         ],
         "y": [
          0.05602923264311815,
          0.42903356247472707,
          0.9244582043343653,
          0.8641655886157826,
          0.06887094316623496,
          0.42811982538009935,
          0.9121703546529252,
          0.8631816260391715
         ]
        }
       ],
       "layout": {
        "barmode": "stack",
        "height": 512,
        "legend": {
         "title": {
          "text": "Coach's Choice"
         }
        },
        "template": {
         "data": {
          "bar": [
           {
            "error_x": {
             "color": "rgb(36,36,36)"
            },
            "error_y": {
             "color": "rgb(36,36,36)"
            },
            "marker": {
             "line": {
              "color": "white",
              "width": 0.5
             }
            },
            "type": "bar"
           }
          ],
          "barpolar": [
           {
            "marker": {
             "line": {
              "color": "white",
              "width": 0.5
             }
            },
            "type": "barpolar"
           }
          ],
          "carpet": [
           {
            "aaxis": {
             "endlinecolor": "rgb(36,36,36)",
             "gridcolor": "white",
             "linecolor": "white",
             "minorgridcolor": "white",
             "startlinecolor": "rgb(36,36,36)"
            },
            "baxis": {
             "endlinecolor": "rgb(36,36,36)",
             "gridcolor": "white",
             "linecolor": "white",
             "minorgridcolor": "white",
             "startlinecolor": "rgb(36,36,36)"
            },
            "type": "carpet"
           }
          ],
          "choropleth": [
           {
            "colorbar": {
             "outlinewidth": 1,
             "tickcolor": "rgb(36,36,36)",
             "ticks": "outside"
            },
            "type": "choropleth"
           }
          ],
          "contour": [
           {
            "colorbar": {
             "outlinewidth": 1,
             "tickcolor": "rgb(36,36,36)",
             "ticks": "outside"
            },
            "colorscale": [
             [
              0,
              "#440154"
             ],
             [
              0.1111111111111111,
              "#482878"
             ],
             [
              0.2222222222222222,
              "#3e4989"
             ],
             [
              0.3333333333333333,
              "#31688e"
             ],
             [
              0.4444444444444444,
              "#26828e"
             ],
             [
              0.5555555555555556,
              "#1f9e89"
             ],
             [
              0.6666666666666666,
              "#35b779"
             ],
             [
              0.7777777777777778,
              "#6ece58"
             ],
             [
              0.8888888888888888,
              "#b5de2b"
             ],
             [
              1,
              "#fde725"
             ]
            ],
            "type": "contour"
           }
          ],
          "contourcarpet": [
           {
            "colorbar": {
             "outlinewidth": 1,
             "tickcolor": "rgb(36,36,36)",
             "ticks": "outside"
            },
            "type": "contourcarpet"
           }
          ],
          "heatmap": [
           {
            "colorbar": {
             "outlinewidth": 1,
             "tickcolor": "rgb(36,36,36)",
             "ticks": "outside"
            },
            "colorscale": [
             [
              0,
              "#440154"
             ],
             [
              0.1111111111111111,
              "#482878"
             ],
             [
              0.2222222222222222,
              "#3e4989"
             ],
             [
              0.3333333333333333,
              "#31688e"
             ],
             [
              0.4444444444444444,
              "#26828e"
             ],
             [
              0.5555555555555556,
              "#1f9e89"
             ],
             [
              0.6666666666666666,
              "#35b779"
             ],
             [
              0.7777777777777778,
              "#6ece58"
             ],
             [
              0.8888888888888888,
              "#b5de2b"
             ],
             [
              1,
              "#fde725"
             ]
            ],
            "type": "heatmap"
           }
          ],
          "heatmapgl": [
           {
            "colorbar": {
             "outlinewidth": 1,
             "tickcolor": "rgb(36,36,36)",
             "ticks": "outside"
            },
            "colorscale": [
             [
              0,
              "#440154"
             ],
             [
              0.1111111111111111,
              "#482878"
             ],
             [
              0.2222222222222222,
              "#3e4989"
             ],
             [
              0.3333333333333333,
              "#31688e"
             ],
             [
              0.4444444444444444,
              "#26828e"
             ],
             [
              0.5555555555555556,
              "#1f9e89"
             ],
             [
              0.6666666666666666,
              "#35b779"
             ],
             [
              0.7777777777777778,
              "#6ece58"
             ],
             [
              0.8888888888888888,
              "#b5de2b"
             ],
             [
              1,
              "#fde725"
             ]
            ],
            "type": "heatmapgl"
           }
          ],
          "histogram": [
           {
            "marker": {
             "line": {
              "color": "white",
              "width": 0.6
             }
            },
            "type": "histogram"
           }
          ],
          "histogram2d": [
           {
            "colorbar": {
             "outlinewidth": 1,
             "tickcolor": "rgb(36,36,36)",
             "ticks": "outside"
            },
            "colorscale": [
             [
              0,
              "#440154"
             ],
             [
              0.1111111111111111,
              "#482878"
             ],
             [
              0.2222222222222222,
              "#3e4989"
             ],
             [
              0.3333333333333333,
              "#31688e"
             ],
             [
              0.4444444444444444,
              "#26828e"
             ],
             [
              0.5555555555555556,
              "#1f9e89"
             ],
             [
              0.6666666666666666,
              "#35b779"
             ],
             [
              0.7777777777777778,
              "#6ece58"
             ],
             [
              0.8888888888888888,
              "#b5de2b"
             ],
             [
              1,
              "#fde725"
             ]
            ],
            "type": "histogram2d"
           }
          ],
          "histogram2dcontour": [
           {
            "colorbar": {
             "outlinewidth": 1,
             "tickcolor": "rgb(36,36,36)",
             "ticks": "outside"
            },
            "colorscale": [
             [
              0,
              "#440154"
             ],
             [
              0.1111111111111111,
              "#482878"
             ],
             [
              0.2222222222222222,
              "#3e4989"
             ],
             [
              0.3333333333333333,
              "#31688e"
             ],
             [
              0.4444444444444444,
              "#26828e"
             ],
             [
              0.5555555555555556,
              "#1f9e89"
             ],
             [
              0.6666666666666666,
              "#35b779"
             ],
             [
              0.7777777777777778,
              "#6ece58"
             ],
             [
              0.8888888888888888,
              "#b5de2b"
             ],
             [
              1,
              "#fde725"
             ]
            ],
            "type": "histogram2dcontour"
           }
          ],
          "mesh3d": [
           {
            "colorbar": {
             "outlinewidth": 1,
             "tickcolor": "rgb(36,36,36)",
             "ticks": "outside"
            },
            "type": "mesh3d"
           }
          ],
          "parcoords": [
           {
            "line": {
             "colorbar": {
              "outlinewidth": 1,
              "tickcolor": "rgb(36,36,36)",
              "ticks": "outside"
             }
            },
            "type": "parcoords"
           }
          ],
          "pie": [
           {
            "automargin": true,
            "type": "pie"
           }
          ],
          "scatter": [
           {
            "marker": {
             "colorbar": {
              "outlinewidth": 1,
              "tickcolor": "rgb(36,36,36)",
              "ticks": "outside"
             }
            },
            "type": "scatter"
           }
          ],
          "scatter3d": [
           {
            "line": {
             "colorbar": {
              "outlinewidth": 1,
              "tickcolor": "rgb(36,36,36)",
              "ticks": "outside"
             }
            },
            "marker": {
             "colorbar": {
              "outlinewidth": 1,
              "tickcolor": "rgb(36,36,36)",
              "ticks": "outside"
             }
            },
            "type": "scatter3d"
           }
          ],
          "scattercarpet": [
           {
            "marker": {
             "colorbar": {
              "outlinewidth": 1,
              "tickcolor": "rgb(36,36,36)",
              "ticks": "outside"
             }
            },
            "type": "scattercarpet"
           }
          ],
          "scattergeo": [
           {
            "marker": {
             "colorbar": {
              "outlinewidth": 1,
              "tickcolor": "rgb(36,36,36)",
              "ticks": "outside"
             }
            },
            "type": "scattergeo"
           }
          ],
          "scattergl": [
           {
            "marker": {
             "colorbar": {
              "outlinewidth": 1,
              "tickcolor": "rgb(36,36,36)",
              "ticks": "outside"
             }
            },
            "type": "scattergl"
           }
          ],
          "scattermapbox": [
           {
            "marker": {
             "colorbar": {
              "outlinewidth": 1,
              "tickcolor": "rgb(36,36,36)",
              "ticks": "outside"
             }
            },
            "type": "scattermapbox"
           }
          ],
          "scatterpolar": [
           {
            "marker": {
             "colorbar": {
              "outlinewidth": 1,
              "tickcolor": "rgb(36,36,36)",
              "ticks": "outside"
             }
            },
            "type": "scatterpolar"
           }
          ],
          "scatterpolargl": [
           {
            "marker": {
             "colorbar": {
              "outlinewidth": 1,
              "tickcolor": "rgb(36,36,36)",
              "ticks": "outside"
             }
            },
            "type": "scatterpolargl"
           }
          ],
          "scatterternary": [
           {
            "marker": {
             "colorbar": {
              "outlinewidth": 1,
              "tickcolor": "rgb(36,36,36)",
              "ticks": "outside"
             }
            },
            "type": "scatterternary"
           }
          ],
          "surface": [
           {
            "colorbar": {
             "outlinewidth": 1,
             "tickcolor": "rgb(36,36,36)",
             "ticks": "outside"
            },
            "colorscale": [
             [
              0,
              "#440154"
             ],
             [
              0.1111111111111111,
              "#482878"
             ],
             [
              0.2222222222222222,
              "#3e4989"
             ],
             [
              0.3333333333333333,
              "#31688e"
             ],
             [
              0.4444444444444444,
              "#26828e"
             ],
             [
              0.5555555555555556,
              "#1f9e89"
             ],
             [
              0.6666666666666666,
              "#35b779"
             ],
             [
              0.7777777777777778,
              "#6ece58"
             ],
             [
              0.8888888888888888,
              "#b5de2b"
             ],
             [
              1,
              "#fde725"
             ]
            ],
            "type": "surface"
           }
          ],
          "table": [
           {
            "cells": {
             "fill": {
              "color": "rgb(237,237,237)"
             },
             "line": {
              "color": "white"
             }
            },
            "header": {
             "fill": {
              "color": "rgb(217,217,217)"
             },
             "line": {
              "color": "white"
             }
            },
            "type": "table"
           }
          ]
         },
         "layout": {
          "annotationdefaults": {
           "arrowhead": 0,
           "arrowwidth": 1
          },
          "coloraxis": {
           "colorbar": {
            "outlinewidth": 1,
            "tickcolor": "rgb(36,36,36)",
            "ticks": "outside"
           }
          },
          "colorscale": {
           "diverging": [
            [
             0,
             "rgb(103,0,31)"
            ],
            [
             0.1,
             "rgb(178,24,43)"
            ],
            [
             0.2,
             "rgb(214,96,77)"
            ],
            [
             0.3,
             "rgb(244,165,130)"
            ],
            [
             0.4,
             "rgb(253,219,199)"
            ],
            [
             0.5,
             "rgb(247,247,247)"
            ],
            [
             0.6,
             "rgb(209,229,240)"
            ],
            [
             0.7,
             "rgb(146,197,222)"
            ],
            [
             0.8,
             "rgb(67,147,195)"
            ],
            [
             0.9,
             "rgb(33,102,172)"
            ],
            [
             1,
             "rgb(5,48,97)"
            ]
           ],
           "sequential": [
            [
             0,
             "#440154"
            ],
            [
             0.1111111111111111,
             "#482878"
            ],
            [
             0.2222222222222222,
             "#3e4989"
            ],
            [
             0.3333333333333333,
             "#31688e"
            ],
            [
             0.4444444444444444,
             "#26828e"
            ],
            [
             0.5555555555555556,
             "#1f9e89"
            ],
            [
             0.6666666666666666,
             "#35b779"
            ],
            [
             0.7777777777777778,
             "#6ece58"
            ],
            [
             0.8888888888888888,
             "#b5de2b"
            ],
            [
             1,
             "#fde725"
            ]
           ],
           "sequentialminus": [
            [
             0,
             "#440154"
            ],
            [
             0.1111111111111111,
             "#482878"
            ],
            [
             0.2222222222222222,
             "#3e4989"
            ],
            [
             0.3333333333333333,
             "#31688e"
            ],
            [
             0.4444444444444444,
             "#26828e"
            ],
            [
             0.5555555555555556,
             "#1f9e89"
            ],
            [
             0.6666666666666666,
             "#35b779"
            ],
            [
             0.7777777777777778,
             "#6ece58"
            ],
            [
             0.8888888888888888,
             "#b5de2b"
            ],
            [
             1,
             "#fde725"
            ]
           ]
          },
          "colorway": [
           "#1F77B4",
           "#FF7F0E",
           "#2CA02C",
           "#D62728",
           "#9467BD",
           "#8C564B",
           "#E377C2",
           "#7F7F7F",
           "#BCBD22",
           "#17BECF"
          ],
          "font": {
           "color": "rgb(36,36,36)"
          },
          "geo": {
           "bgcolor": "white",
           "lakecolor": "white",
           "landcolor": "white",
           "showlakes": true,
           "showland": true,
           "subunitcolor": "white"
          },
          "hoverlabel": {
           "align": "left"
          },
          "hovermode": "closest",
          "mapbox": {
           "style": "light"
          },
          "paper_bgcolor": "white",
          "plot_bgcolor": "white",
          "polar": {
           "angularaxis": {
            "gridcolor": "rgb(232,232,232)",
            "linecolor": "rgb(36,36,36)",
            "showgrid": false,
            "showline": true,
            "ticks": "outside"
           },
           "bgcolor": "white",
           "radialaxis": {
            "gridcolor": "rgb(232,232,232)",
            "linecolor": "rgb(36,36,36)",
            "showgrid": false,
            "showline": true,
            "ticks": "outside"
           }
          },
          "scene": {
           "xaxis": {
            "backgroundcolor": "white",
            "gridcolor": "rgb(232,232,232)",
            "gridwidth": 2,
            "linecolor": "rgb(36,36,36)",
            "showbackground": true,
            "showgrid": false,
            "showline": true,
            "ticks": "outside",
            "zeroline": false,
            "zerolinecolor": "rgb(36,36,36)"
           },
           "yaxis": {
            "backgroundcolor": "white",
            "gridcolor": "rgb(232,232,232)",
            "gridwidth": 2,
            "linecolor": "rgb(36,36,36)",
            "showbackground": true,
            "showgrid": false,
            "showline": true,
            "ticks": "outside",
            "zeroline": false,
            "zerolinecolor": "rgb(36,36,36)"
           },
           "zaxis": {
            "backgroundcolor": "white",
            "gridcolor": "rgb(232,232,232)",
            "gridwidth": 2,
            "linecolor": "rgb(36,36,36)",
            "showbackground": true,
            "showgrid": false,
            "showline": true,
            "ticks": "outside",
            "zeroline": false,
            "zerolinecolor": "rgb(36,36,36)"
           }
          },
          "shapedefaults": {
           "fillcolor": "black",
           "line": {
            "width": 0
           },
           "opacity": 0.3
          },
          "ternary": {
           "aaxis": {
            "gridcolor": "rgb(232,232,232)",
            "linecolor": "rgb(36,36,36)",
            "showgrid": false,
            "showline": true,
            "ticks": "outside"
           },
           "baxis": {
            "gridcolor": "rgb(232,232,232)",
            "linecolor": "rgb(36,36,36)",
            "showgrid": false,
            "showline": true,
            "ticks": "outside"
           },
           "bgcolor": "white",
           "caxis": {
            "gridcolor": "rgb(232,232,232)",
            "linecolor": "rgb(36,36,36)",
            "showgrid": false,
            "showline": true,
            "ticks": "outside"
           }
          },
          "title": {
           "x": 0.05
          },
          "xaxis": {
           "automargin": true,
           "gridcolor": "rgb(232,232,232)",
           "linecolor": "rgb(36,36,36)",
           "showgrid": false,
           "showline": true,
           "ticks": "outside",
           "title": {
            "standoff": 15
           },
           "zeroline": false,
           "zerolinecolor": "rgb(36,36,36)"
          },
          "yaxis": {
           "automargin": true,
           "gridcolor": "rgb(232,232,232)",
           "linecolor": "rgb(36,36,36)",
           "showgrid": false,
           "showline": true,
           "ticks": "outside",
           "title": {
            "standoff": 15
           },
           "zeroline": false,
           "zerolinecolor": "rgb(36,36,36)"
          }
         }
        },
        "title": {
         "text": "<b>ACC 4th Down Decision Making (2017-2020)</b><br><span style=\"color:#222;font-size:12px;\">Recommendations provided by A.I. Sports 4th Down Bot, created by Jared Lee (<a href=\"https://twitter.com/JDLee\">@JDLee</a>). Chart created by Akshay Easwaran (<a href=\"https://twitter.com/akeaswaran\">@akeaswaran</a>).</span>"
        },
        "width": 1024,
        "xaxis": {
         "title": {
          "text": "Optimal Decision"
         }
        },
        "yaxis": {
         "tickformat": ".0%"
        }
       }
      },
      "text/html": [
       "<div>\n",
       "        \n",
       "        \n",
       "            <div id=\"07403b0d-26aa-42ce-8d85-80a38a670e42\" class=\"plotly-graph-div\" style=\"height:512px; width:1024px;\"></div>\n",
       "            <script type=\"text/javascript\">\n",
       "                require([\"plotly\"], function(Plotly) {\n",
       "                    window.PLOTLYENV=window.PLOTLYENV || {};\n",
       "                    \n",
       "                if (document.getElementById(\"07403b0d-26aa-42ce-8d85-80a38a670e42\")) {\n",
       "                    Plotly.newPlot(\n",
       "                        '07403b0d-26aa-42ce-8d85-80a38a670e42',\n",
       "                        [{\"marker\": {\"color\": \"#002c59\"}, \"name\": \"FG\", \"text\": [\"67.6%\", \"15.6%\", \"0.4%\", \"1.2%\", \"65.7%\", \"16.7%\", \"0.3%\", \"0.9%\"], \"textposition\": \"auto\", \"type\": \"bar\", \"x\": [[\"FG\", \"Go\", \"Punt\", \"Toss-up\", \"FG\", \"Go\", \"Punt\", \"Toss-up\"], [\"ACC\", \"ACC\", \"ACC\", \"ACC\", \"FBS Average\", \"FBS Average\", \"FBS Average\", \"FBS Average\"]], \"y\": [0.6760048721071864, 0.15608572583906186, 0.0037151702786377707, 0.01164294954721863, 0.656559500228554, 0.16704300265944103, 0.003031221582297666, 0.009158799492743412]}, {\"marker\": {\"color\": \"#B3A369\"}, \"name\": \"Go\", \"text\": [\"22.2%\", \"34.6%\", \"3.0%\", \"6.7%\", \"22.2%\", \"34.0%\", \"3.3%\", \"7.4%\"], \"textposition\": \"auto\", \"type\": \"bar\", \"x\": [[\"FG\", \"Go\", \"Punt\", \"Toss-up\", \"FG\", \"Go\", \"Punt\", \"Toss-up\"], [\"ACC\", \"ACC\", \"ACC\", \"ACC\", \"FBS Average\", \"FBS Average\", \"FBS Average\", \"FBS Average\"]], \"y\": [0.22168087697929353, 0.3457339264051759, 0.029721362229102165, 0.06727037516170763, 0.2218497638275179, 0.33950524361483264, 0.032737193088814794, 0.07439763280259265]}, {\"marker\": {\"color\": \"gold\"}, \"name\": \"Penalty\", \"text\": [\"4.6%\", \"6.9%\", \"4.2%\", \"5.7%\", \"5.3%\", \"6.5%\", \"5.2%\", \"5.3%\"], \"textposition\": \"auto\", \"type\": \"bar\", \"x\": [[\"FG\", \"Go\", \"Punt\", \"Toss-up\", \"FG\", \"Go\", \"Punt\", \"Toss-up\"], [\"ACC\", \"ACC\", \"ACC\", \"ACC\", \"FBS Average\", \"FBS Average\", \"FBS Average\", \"FBS Average\"]], \"y\": [0.04628501827040195, 0.06914678528103518, 0.042105263157894736, 0.056921086675291076, 0.05271979277769313, 0.06533192834562697, 0.05206123067596241, 0.05326194166549246]}, {\"marker\": {\"color\": \"gray\"}, \"name\": \"Punt\", \"text\": [\"5.6%\", \"42.9%\", \"92.4%\", \"86.4%\", \"6.9%\", \"42.8%\", \"91.2%\", \"86.3%\"], \"textposition\": \"auto\", \"type\": \"bar\", \"x\": [[\"FG\", \"Go\", \"Punt\", \"Toss-up\", \"FG\", \"Go\", \"Punt\", \"Toss-up\"], [\"ACC\", \"ACC\", \"ACC\", \"ACC\", \"FBS Average\", \"FBS Average\", \"FBS Average\", \"FBS Average\"]], \"y\": [0.05602923264311815, 0.42903356247472707, 0.9244582043343653, 0.8641655886157826, 0.06887094316623496, 0.42811982538009935, 0.9121703546529252, 0.8631816260391715]}],\n",
       "                        {\"barmode\": \"stack\", \"height\": 512, \"legend\": {\"title\": {\"text\": \"Coach's Choice\"}}, \"template\": {\"data\": {\"bar\": [{\"error_x\": {\"color\": \"rgb(36,36,36)\"}, \"error_y\": {\"color\": \"rgb(36,36,36)\"}, \"marker\": {\"line\": {\"color\": \"white\", \"width\": 0.5}}, \"type\": \"bar\"}], \"barpolar\": [{\"marker\": {\"line\": {\"color\": \"white\", \"width\": 0.5}}, \"type\": \"barpolar\"}], \"carpet\": [{\"aaxis\": {\"endlinecolor\": \"rgb(36,36,36)\", \"gridcolor\": \"white\", \"linecolor\": \"white\", \"minorgridcolor\": \"white\", \"startlinecolor\": \"rgb(36,36,36)\"}, \"baxis\": {\"endlinecolor\": \"rgb(36,36,36)\", \"gridcolor\": \"white\", \"linecolor\": \"white\", \"minorgridcolor\": \"white\", \"startlinecolor\": \"rgb(36,36,36)\"}, \"type\": \"carpet\"}], \"choropleth\": [{\"colorbar\": {\"outlinewidth\": 1, \"tickcolor\": \"rgb(36,36,36)\", \"ticks\": \"outside\"}, \"type\": \"choropleth\"}], \"contour\": [{\"colorbar\": {\"outlinewidth\": 1, \"tickcolor\": \"rgb(36,36,36)\", \"ticks\": \"outside\"}, \"colorscale\": [[0.0, \"#440154\"], [0.1111111111111111, \"#482878\"], [0.2222222222222222, \"#3e4989\"], [0.3333333333333333, \"#31688e\"], [0.4444444444444444, \"#26828e\"], [0.5555555555555556, \"#1f9e89\"], [0.6666666666666666, \"#35b779\"], [0.7777777777777778, \"#6ece58\"], [0.8888888888888888, \"#b5de2b\"], [1.0, \"#fde725\"]], \"type\": \"contour\"}], \"contourcarpet\": [{\"colorbar\": {\"outlinewidth\": 1, \"tickcolor\": \"rgb(36,36,36)\", \"ticks\": \"outside\"}, \"type\": \"contourcarpet\"}], \"heatmap\": [{\"colorbar\": {\"outlinewidth\": 1, \"tickcolor\": \"rgb(36,36,36)\", \"ticks\": \"outside\"}, \"colorscale\": [[0.0, \"#440154\"], [0.1111111111111111, \"#482878\"], [0.2222222222222222, \"#3e4989\"], [0.3333333333333333, \"#31688e\"], [0.4444444444444444, \"#26828e\"], [0.5555555555555556, \"#1f9e89\"], [0.6666666666666666, \"#35b779\"], [0.7777777777777778, \"#6ece58\"], [0.8888888888888888, \"#b5de2b\"], [1.0, \"#fde725\"]], \"type\": \"heatmap\"}], \"heatmapgl\": [{\"colorbar\": {\"outlinewidth\": 1, \"tickcolor\": \"rgb(36,36,36)\", \"ticks\": \"outside\"}, \"colorscale\": [[0.0, \"#440154\"], [0.1111111111111111, \"#482878\"], [0.2222222222222222, \"#3e4989\"], [0.3333333333333333, \"#31688e\"], [0.4444444444444444, \"#26828e\"], [0.5555555555555556, \"#1f9e89\"], [0.6666666666666666, \"#35b779\"], [0.7777777777777778, \"#6ece58\"], [0.8888888888888888, \"#b5de2b\"], [1.0, \"#fde725\"]], \"type\": \"heatmapgl\"}], \"histogram\": [{\"marker\": {\"line\": {\"color\": \"white\", \"width\": 0.6}}, \"type\": \"histogram\"}], \"histogram2d\": [{\"colorbar\": {\"outlinewidth\": 1, \"tickcolor\": \"rgb(36,36,36)\", \"ticks\": \"outside\"}, \"colorscale\": [[0.0, \"#440154\"], [0.1111111111111111, \"#482878\"], [0.2222222222222222, \"#3e4989\"], [0.3333333333333333, \"#31688e\"], [0.4444444444444444, \"#26828e\"], [0.5555555555555556, \"#1f9e89\"], [0.6666666666666666, \"#35b779\"], [0.7777777777777778, \"#6ece58\"], [0.8888888888888888, \"#b5de2b\"], [1.0, \"#fde725\"]], \"type\": \"histogram2d\"}], \"histogram2dcontour\": [{\"colorbar\": {\"outlinewidth\": 1, \"tickcolor\": \"rgb(36,36,36)\", \"ticks\": \"outside\"}, \"colorscale\": [[0.0, \"#440154\"], [0.1111111111111111, \"#482878\"], [0.2222222222222222, \"#3e4989\"], [0.3333333333333333, \"#31688e\"], [0.4444444444444444, \"#26828e\"], [0.5555555555555556, \"#1f9e89\"], [0.6666666666666666, \"#35b779\"], [0.7777777777777778, \"#6ece58\"], [0.8888888888888888, \"#b5de2b\"], [1.0, \"#fde725\"]], \"type\": \"histogram2dcontour\"}], \"mesh3d\": [{\"colorbar\": {\"outlinewidth\": 1, \"tickcolor\": \"rgb(36,36,36)\", \"ticks\": \"outside\"}, \"type\": \"mesh3d\"}], \"parcoords\": [{\"line\": {\"colorbar\": {\"outlinewidth\": 1, \"tickcolor\": \"rgb(36,36,36)\", \"ticks\": \"outside\"}}, \"type\": \"parcoords\"}], \"pie\": [{\"automargin\": true, \"type\": \"pie\"}], \"scatter\": [{\"marker\": {\"colorbar\": {\"outlinewidth\": 1, \"tickcolor\": \"rgb(36,36,36)\", \"ticks\": \"outside\"}}, \"type\": \"scatter\"}], \"scatter3d\": [{\"line\": {\"colorbar\": {\"outlinewidth\": 1, \"tickcolor\": \"rgb(36,36,36)\", \"ticks\": \"outside\"}}, \"marker\": {\"colorbar\": {\"outlinewidth\": 1, \"tickcolor\": \"rgb(36,36,36)\", \"ticks\": \"outside\"}}, \"type\": \"scatter3d\"}], \"scattercarpet\": [{\"marker\": {\"colorbar\": {\"outlinewidth\": 1, \"tickcolor\": \"rgb(36,36,36)\", \"ticks\": \"outside\"}}, \"type\": \"scattercarpet\"}], \"scattergeo\": [{\"marker\": {\"colorbar\": {\"outlinewidth\": 1, \"tickcolor\": \"rgb(36,36,36)\", \"ticks\": \"outside\"}}, \"type\": \"scattergeo\"}], \"scattergl\": [{\"marker\": {\"colorbar\": {\"outlinewidth\": 1, \"tickcolor\": \"rgb(36,36,36)\", \"ticks\": \"outside\"}}, \"type\": \"scattergl\"}], \"scattermapbox\": [{\"marker\": {\"colorbar\": {\"outlinewidth\": 1, \"tickcolor\": \"rgb(36,36,36)\", \"ticks\": \"outside\"}}, \"type\": \"scattermapbox\"}], \"scatterpolar\": [{\"marker\": {\"colorbar\": {\"outlinewidth\": 1, \"tickcolor\": \"rgb(36,36,36)\", \"ticks\": \"outside\"}}, \"type\": \"scatterpolar\"}], \"scatterpolargl\": [{\"marker\": {\"colorbar\": {\"outlinewidth\": 1, \"tickcolor\": \"rgb(36,36,36)\", \"ticks\": \"outside\"}}, \"type\": \"scatterpolargl\"}], \"scatterternary\": [{\"marker\": {\"colorbar\": {\"outlinewidth\": 1, \"tickcolor\": \"rgb(36,36,36)\", \"ticks\": \"outside\"}}, \"type\": \"scatterternary\"}], \"surface\": [{\"colorbar\": {\"outlinewidth\": 1, \"tickcolor\": \"rgb(36,36,36)\", \"ticks\": \"outside\"}, \"colorscale\": [[0.0, \"#440154\"], [0.1111111111111111, \"#482878\"], [0.2222222222222222, \"#3e4989\"], [0.3333333333333333, \"#31688e\"], [0.4444444444444444, \"#26828e\"], [0.5555555555555556, \"#1f9e89\"], [0.6666666666666666, \"#35b779\"], [0.7777777777777778, \"#6ece58\"], [0.8888888888888888, \"#b5de2b\"], [1.0, \"#fde725\"]], \"type\": \"surface\"}], \"table\": [{\"cells\": {\"fill\": {\"color\": \"rgb(237,237,237)\"}, \"line\": {\"color\": \"white\"}}, \"header\": {\"fill\": {\"color\": \"rgb(217,217,217)\"}, \"line\": {\"color\": \"white\"}}, \"type\": \"table\"}]}, \"layout\": {\"annotationdefaults\": {\"arrowhead\": 0, \"arrowwidth\": 1}, \"coloraxis\": {\"colorbar\": {\"outlinewidth\": 1, \"tickcolor\": \"rgb(36,36,36)\", \"ticks\": \"outside\"}}, \"colorscale\": {\"diverging\": [[0.0, \"rgb(103,0,31)\"], [0.1, \"rgb(178,24,43)\"], [0.2, \"rgb(214,96,77)\"], [0.3, \"rgb(244,165,130)\"], [0.4, \"rgb(253,219,199)\"], [0.5, \"rgb(247,247,247)\"], [0.6, \"rgb(209,229,240)\"], [0.7, \"rgb(146,197,222)\"], [0.8, \"rgb(67,147,195)\"], [0.9, \"rgb(33,102,172)\"], [1.0, \"rgb(5,48,97)\"]], \"sequential\": [[0.0, \"#440154\"], [0.1111111111111111, \"#482878\"], [0.2222222222222222, \"#3e4989\"], [0.3333333333333333, \"#31688e\"], [0.4444444444444444, \"#26828e\"], [0.5555555555555556, \"#1f9e89\"], [0.6666666666666666, \"#35b779\"], [0.7777777777777778, \"#6ece58\"], [0.8888888888888888, \"#b5de2b\"], [1.0, \"#fde725\"]], \"sequentialminus\": [[0.0, \"#440154\"], [0.1111111111111111, \"#482878\"], [0.2222222222222222, \"#3e4989\"], [0.3333333333333333, \"#31688e\"], [0.4444444444444444, \"#26828e\"], [0.5555555555555556, \"#1f9e89\"], [0.6666666666666666, \"#35b779\"], [0.7777777777777778, \"#6ece58\"], [0.8888888888888888, \"#b5de2b\"], [1.0, \"#fde725\"]]}, \"colorway\": [\"#1F77B4\", \"#FF7F0E\", \"#2CA02C\", \"#D62728\", \"#9467BD\", \"#8C564B\", \"#E377C2\", \"#7F7F7F\", \"#BCBD22\", \"#17BECF\"], \"font\": {\"color\": \"rgb(36,36,36)\"}, \"geo\": {\"bgcolor\": \"white\", \"lakecolor\": \"white\", \"landcolor\": \"white\", \"showlakes\": true, \"showland\": true, \"subunitcolor\": \"white\"}, \"hoverlabel\": {\"align\": \"left\"}, \"hovermode\": \"closest\", \"mapbox\": {\"style\": \"light\"}, \"paper_bgcolor\": \"white\", \"plot_bgcolor\": \"white\", \"polar\": {\"angularaxis\": {\"gridcolor\": \"rgb(232,232,232)\", \"linecolor\": \"rgb(36,36,36)\", \"showgrid\": false, \"showline\": true, \"ticks\": \"outside\"}, \"bgcolor\": \"white\", \"radialaxis\": {\"gridcolor\": \"rgb(232,232,232)\", \"linecolor\": \"rgb(36,36,36)\", \"showgrid\": false, \"showline\": true, \"ticks\": \"outside\"}}, \"scene\": {\"xaxis\": {\"backgroundcolor\": \"white\", \"gridcolor\": \"rgb(232,232,232)\", \"gridwidth\": 2, \"linecolor\": \"rgb(36,36,36)\", \"showbackground\": true, \"showgrid\": false, \"showline\": true, \"ticks\": \"outside\", \"zeroline\": false, \"zerolinecolor\": \"rgb(36,36,36)\"}, \"yaxis\": {\"backgroundcolor\": \"white\", \"gridcolor\": \"rgb(232,232,232)\", \"gridwidth\": 2, \"linecolor\": \"rgb(36,36,36)\", \"showbackground\": true, \"showgrid\": false, \"showline\": true, \"ticks\": \"outside\", \"zeroline\": false, \"zerolinecolor\": \"rgb(36,36,36)\"}, \"zaxis\": {\"backgroundcolor\": \"white\", \"gridcolor\": \"rgb(232,232,232)\", \"gridwidth\": 2, \"linecolor\": \"rgb(36,36,36)\", \"showbackground\": true, \"showgrid\": false, \"showline\": true, \"ticks\": \"outside\", \"zeroline\": false, \"zerolinecolor\": \"rgb(36,36,36)\"}}, \"shapedefaults\": {\"fillcolor\": \"black\", \"line\": {\"width\": 0}, \"opacity\": 0.3}, \"ternary\": {\"aaxis\": {\"gridcolor\": \"rgb(232,232,232)\", \"linecolor\": \"rgb(36,36,36)\", \"showgrid\": false, \"showline\": true, \"ticks\": \"outside\"}, \"baxis\": {\"gridcolor\": \"rgb(232,232,232)\", \"linecolor\": \"rgb(36,36,36)\", \"showgrid\": false, \"showline\": true, \"ticks\": \"outside\"}, \"bgcolor\": \"white\", \"caxis\": {\"gridcolor\": \"rgb(232,232,232)\", \"linecolor\": \"rgb(36,36,36)\", \"showgrid\": false, \"showline\": true, \"ticks\": \"outside\"}}, \"title\": {\"x\": 0.05}, \"xaxis\": {\"automargin\": true, \"gridcolor\": \"rgb(232,232,232)\", \"linecolor\": \"rgb(36,36,36)\", \"showgrid\": false, \"showline\": true, \"ticks\": \"outside\", \"title\": {\"standoff\": 15}, \"zeroline\": false, \"zerolinecolor\": \"rgb(36,36,36)\"}, \"yaxis\": {\"automargin\": true, \"gridcolor\": \"rgb(232,232,232)\", \"linecolor\": \"rgb(36,36,36)\", \"showgrid\": false, \"showline\": true, \"ticks\": \"outside\", \"title\": {\"standoff\": 15}, \"zeroline\": false, \"zerolinecolor\": \"rgb(36,36,36)\"}}}, \"title\": {\"text\": \"<b>ACC 4th Down Decision Making (2017-2020)</b><br><span style=\\\"color:#222;font-size:12px;\\\">Recommendations provided by A.I. Sports 4th Down Bot, created by Jared Lee (<a href=\\\"https://twitter.com/JDLee\\\">@JDLee</a>). Chart created by Akshay Easwaran (<a href=\\\"https://twitter.com/akeaswaran\\\">@akeaswaran</a>).</span>\"}, \"width\": 1024, \"xaxis\": {\"title\": {\"text\": \"Optimal Decision\"}}, \"yaxis\": {\"tickformat\": \".0%\"}},\n",
       "                        {\"responsive\": true}\n",
       "                    ).then(function(){\n",
       "                            \n",
       "var gd = document.getElementById('07403b0d-26aa-42ce-8d85-80a38a670e42');\n",
       "var x = new MutationObserver(function (mutations, observer) {{\n",
       "        var display = window.getComputedStyle(gd).display;\n",
       "        if (!display || display === 'none') {{\n",
       "            console.log([gd, 'removed!']);\n",
       "            Plotly.purge(gd);\n",
       "            observer.disconnect();\n",
       "        }}\n",
       "}});\n",
       "\n",
       "// Listen for the removal of the full notebook cells\n",
       "var notebookContainer = gd.closest('#notebook-container');\n",
       "if (notebookContainer) {{\n",
       "    x.observe(notebookContainer, {childList: true});\n",
       "}}\n",
       "\n",
       "// Listen for the clearing of the current output cell\n",
       "var outputEl = gd.closest('.output');\n",
       "if (outputEl) {{\n",
       "    x.observe(outputEl, {childList: true});\n",
       "}}\n",
       "\n",
       "                        })\n",
       "                };\n",
       "                });\n",
       "            </script>\n",
       "        </div>"
      ]
     },
     "metadata": {},
     "output_type": "display_data"
    }
   ],
   "source": [
    "fig = go.Figure()\n",
    "\n",
    "fig.update_layout(\n",
    "    template=\"simple_white\",\n",
    "    xaxis=dict(title_text=\"Optimal Decision\"),\n",
    "    yaxis=dict(tickformat=\".0%\"),\n",
    "    barmode=\"stack\",\n",
    "    title='<b>ACC 4th Down Decision Making (2017-2020)</b><br><span style=\"color:#222;font-size:12px;\">Recommendations provided by A.I. Sports 4th Down Bot, created by Jared Lee (<a href=\"https://twitter.com/JDLee\">@JDLee</a>). Chart created by Akshay Easwaran (<a href=\"https://twitter.com/akeaswaran\">@akeaswaran</a>).</span>',\n",
    "    legend_title=\"Coach's Choice\",\n",
    "    width=1024,\n",
    "    height=512\n",
    ")\n",
    "\n",
    "\n",
    "colors = ['#002c59', '#B3A369','gold', 'gray']\n",
    "recommendation_ids = [\"FG\",\"Go\",\"Penalty\",\"Punt\"]\n",
    "\n",
    "for r, c in zip(acc_df.choice.unique(), colors):\n",
    "    plot_df = acc_df[(acc_df.choice == r)]\n",
    "    fig.add_trace(\n",
    "        go.Bar(x=[plot_df.recommendation, plot_df.conference], y=plot_df.value, text=plot_df.percentage, textposition='auto', name=r, marker_color=c),\n",
    "    )    \n",
    "    \n",
    "fig"
   ]
  },
  {
   "cell_type": "code",
   "execution_count": 289,
   "metadata": {},
   "outputs": [
    {
     "data": {
      "text/html": [
       "<div>\n",
       "<style scoped>\n",
       "    .dataframe tbody tr th:only-of-type {\n",
       "        vertical-align: middle;\n",
       "    }\n",
       "\n",
       "    .dataframe tbody tr th {\n",
       "        vertical-align: top;\n",
       "    }\n",
       "\n",
       "    .dataframe thead th {\n",
       "        text-align: right;\n",
       "    }\n",
       "</style>\n",
       "<table border=\"1\" class=\"dataframe\">\n",
       "  <thead>\n",
       "    <tr style=\"text-align: right;\">\n",
       "      <th></th>\n",
       "      <th>season</th>\n",
       "      <th>conference</th>\n",
       "      <th>recommendation</th>\n",
       "      <th>choice</th>\n",
       "      <th>value</th>\n",
       "      <th>percentage</th>\n",
       "    </tr>\n",
       "  </thead>\n",
       "  <tbody>\n",
       "    <tr>\n",
       "      <th>0</th>\n",
       "      <td>2017</td>\n",
       "      <td>ACC</td>\n",
       "      <td>FG</td>\n",
       "      <td>FG</td>\n",
       "      <td>0.641791</td>\n",
       "      <td>64.2%</td>\n",
       "    </tr>\n",
       "    <tr>\n",
       "      <th>1</th>\n",
       "      <td>2017</td>\n",
       "      <td>ACC</td>\n",
       "      <td>Go</td>\n",
       "      <td>FG</td>\n",
       "      <td>0.153846</td>\n",
       "      <td>15.4%</td>\n",
       "    </tr>\n",
       "    <tr>\n",
       "      <th>2</th>\n",
       "      <td>2017</td>\n",
       "      <td>ACC</td>\n",
       "      <td>Punt</td>\n",
       "      <td>FG</td>\n",
       "      <td>NaN</td>\n",
       "      <td>0.0%</td>\n",
       "    </tr>\n",
       "    <tr>\n",
       "      <th>3</th>\n",
       "      <td>2017</td>\n",
       "      <td>ACC</td>\n",
       "      <td>Toss-up</td>\n",
       "      <td>FG</td>\n",
       "      <td>0.017442</td>\n",
       "      <td>1.7%</td>\n",
       "    </tr>\n",
       "    <tr>\n",
       "      <th>4</th>\n",
       "      <td>2018</td>\n",
       "      <td>ACC</td>\n",
       "      <td>FG</td>\n",
       "      <td>FG</td>\n",
       "      <td>0.661765</td>\n",
       "      <td>66.2%</td>\n",
       "    </tr>\n",
       "    <tr>\n",
       "      <th>...</th>\n",
       "      <td>...</td>\n",
       "      <td>...</td>\n",
       "      <td>...</td>\n",
       "      <td>...</td>\n",
       "      <td>...</td>\n",
       "      <td>...</td>\n",
       "    </tr>\n",
       "    <tr>\n",
       "      <th>59</th>\n",
       "      <td>2019</td>\n",
       "      <td>ACC</td>\n",
       "      <td>Toss-up</td>\n",
       "      <td>Punt</td>\n",
       "      <td>0.867925</td>\n",
       "      <td>86.8%</td>\n",
       "    </tr>\n",
       "    <tr>\n",
       "      <th>60</th>\n",
       "      <td>2020</td>\n",
       "      <td>ACC</td>\n",
       "      <td>FG</td>\n",
       "      <td>Punt</td>\n",
       "      <td>0.059783</td>\n",
       "      <td>6.0%</td>\n",
       "    </tr>\n",
       "    <tr>\n",
       "      <th>61</th>\n",
       "      <td>2020</td>\n",
       "      <td>ACC</td>\n",
       "      <td>Go</td>\n",
       "      <td>Punt</td>\n",
       "      <td>0.377143</td>\n",
       "      <td>37.7%</td>\n",
       "    </tr>\n",
       "    <tr>\n",
       "      <th>62</th>\n",
       "      <td>2020</td>\n",
       "      <td>ACC</td>\n",
       "      <td>Punt</td>\n",
       "      <td>Punt</td>\n",
       "      <td>0.897833</td>\n",
       "      <td>89.8%</td>\n",
       "    </tr>\n",
       "    <tr>\n",
       "      <th>63</th>\n",
       "      <td>2020</td>\n",
       "      <td>ACC</td>\n",
       "      <td>Toss-up</td>\n",
       "      <td>Punt</td>\n",
       "      <td>0.831579</td>\n",
       "      <td>83.2%</td>\n",
       "    </tr>\n",
       "  </tbody>\n",
       "</table>\n",
       "<p>64 rows × 6 columns</p>\n",
       "</div>"
      ],
      "text/plain": [
       "    season conference recommendation choice     value percentage\n",
       "0     2017        ACC             FG     FG  0.641791      64.2%\n",
       "1     2017        ACC             Go     FG  0.153846      15.4%\n",
       "2     2017        ACC           Punt     FG       NaN       0.0%\n",
       "3     2017        ACC        Toss-up     FG  0.017442       1.7%\n",
       "4     2018        ACC             FG     FG  0.661765      66.2%\n",
       "..     ...        ...            ...    ...       ...        ...\n",
       "59    2019        ACC        Toss-up   Punt  0.867925      86.8%\n",
       "60    2020        ACC             FG   Punt  0.059783       6.0%\n",
       "61    2020        ACC             Go   Punt  0.377143      37.7%\n",
       "62    2020        ACC           Punt   Punt  0.897833      89.8%\n",
       "63    2020        ACC        Toss-up   Punt  0.831579      83.2%\n",
       "\n",
       "[64 rows x 6 columns]"
      ]
     },
     "execution_count": 289,
     "metadata": {},
     "output_type": "execute_result"
    }
   ],
   "source": [
    "conf_szn_decisions = decisions.groupby([\"season\",\"recommendation\",\"conference\"])\n",
    "tmp = conf_szn_decisions.choice.value_counts(normalize=True).unstack().reset_index()\n",
    "acc_szn_df=pd.melt(tmp[tmp.conference != \"ACC\"],id_vars=[\"season\",\"conference\",\"recommendation\"],var_name='choice', value_name='value')\n",
    "\n",
    "acc_szn_df[\"percentage\"] = acc_szn_df.value.apply(lambda x: \"0.0%\" if (np.isnan(x) == True) else f\"{round(x * 100, 1)}%\")\n",
    "acc_szn_df"
   ]
  },
  {
   "cell_type": "code",
   "execution_count": 290,
   "metadata": {},
   "outputs": [
    {
     "data": {
      "application/vnd.plotly.v1+json": {
       "config": {
        "plotlyServerURL": "https://plot.ly"
       },
       "data": [
        {
         "marker": {
          "color": "#002c59"
         },
         "name": "FG",
         "text": [
          "64.2%",
          "15.4%",
          "0.0%",
          "1.7%",
          "66.2%",
          "14.4%",
          "0.3%",
          "0.0%",
          "69.8%",
          "15.1%",
          "0.5%",
          "0.9%",
          "70.1%",
          "17.9%",
          "0.9%",
          "2.1%"
         ],
         "textposition": "auto",
         "type": "bar",
         "x": [
          [
           2017,
           2017,
           2017,
           2017,
           2018,
           2018,
           2018,
           2018,
           2019,
           2019,
           2019,
           2019,
           2020,
           2020,
           2020,
           2020
          ],
          [
           "FG",
           "Go",
           "Punt",
           "Toss-up",
           "FG",
           "Go",
           "Punt",
           "Toss-up",
           "FG",
           "Go",
           "Punt",
           "Toss-up",
           "FG",
           "Go",
           "Punt",
           "Toss-up"
          ]
         ],
         "y": [
          0.6417910447761194,
          0.15384615384615385,
          null,
          0.01744186046511628,
          0.6617647058823529,
          0.14442700156985872,
          0.002570694087403599,
          null,
          0.6982758620689655,
          0.1513353115727003,
          0.004608294930875576,
          0.009433962264150943,
          0.7010869565217391,
          0.17904761904761904,
          0.009287925696594427,
          0.021052631578947368
         ]
        },
        {
         "marker": {
          "color": "#B3A369"
         },
         "name": "Go",
         "text": [
          "25.4%",
          "33.8%",
          "2.8%",
          "7.6%",
          "23.5%",
          "35.2%",
          "3.6%",
          "6.0%",
          "19.8%",
          "33.4%",
          "2.8%",
          "5.7%",
          "20.1%",
          "36.4%",
          "2.8%",
          "7.9%"
         ],
         "textposition": "auto",
         "type": "bar",
         "x": [
          [
           2017,
           2017,
           2017,
           2017,
           2018,
           2018,
           2018,
           2018,
           2019,
           2019,
           2019,
           2019,
           2020,
           2020,
           2020,
           2020
          ],
          [
           "FG",
           "Go",
           "Punt",
           "Toss-up",
           "FG",
           "Go",
           "Punt",
           "Toss-up",
           "FG",
           "Go",
           "Punt",
           "Toss-up",
           "FG",
           "Go",
           "Punt",
           "Toss-up"
          ]
         ],
         "y": [
          0.2537313432835821,
          0.33751962323390894,
          0.02771855010660981,
          0.0755813953488372,
          0.23529411764705882,
          0.3516483516483517,
          0.03598971722365039,
          0.06030150753768844,
          0.19827586206896552,
          0.33382789317507416,
          0.027649769585253458,
          0.05660377358490566,
          0.20108695652173914,
          0.3638095238095238,
          0.02786377708978328,
          0.07894736842105263
         ]
        },
        {
         "marker": {
          "color": "gold"
         },
         "name": "Penalty",
         "text": [
          "5.0%",
          "5.8%",
          "4.1%",
          "3.5%",
          "4.9%",
          "6.4%",
          "3.1%",
          "5.5%",
          "4.7%",
          "7.6%",
          "3.7%",
          "6.6%",
          "3.8%",
          "8.0%",
          "6.5%",
          "6.8%"
         ],
         "textposition": "auto",
         "type": "bar",
         "x": [
          [
           2017,
           2017,
           2017,
           2017,
           2018,
           2018,
           2018,
           2018,
           2019,
           2019,
           2019,
           2019,
           2020,
           2020,
           2020,
           2020
          ],
          [
           "FG",
           "Go",
           "Punt",
           "Toss-up",
           "FG",
           "Go",
           "Punt",
           "Toss-up",
           "FG",
           "Go",
           "Punt",
           "Toss-up",
           "FG",
           "Go",
           "Punt",
           "Toss-up"
          ]
         ],
         "y": [
          0.04975124378109453,
          0.058084772370486655,
          0.04051172707889126,
          0.03488372093023256,
          0.049019607843137254,
          0.06436420722135008,
          0.030848329048843187,
          0.05527638190954774,
          0.04741379310344827,
          0.07566765578635015,
          0.03686635944700461,
          0.0660377358490566,
          0.03804347826086957,
          0.08,
          0.06501547987616099,
          0.06842105263157895
         ]
        },
        {
         "marker": {
          "color": "gray"
         },
         "name": "Punt",
         "text": [
          "5.5%",
          "45.1%",
          "93.2%",
          "87.2%",
          "5.4%",
          "44.0%",
          "93.1%",
          "88.4%",
          "5.6%",
          "43.9%",
          "93.1%",
          "86.8%",
          "6.0%",
          "37.7%",
          "89.8%",
          "83.2%"
         ],
         "textposition": "auto",
         "type": "bar",
         "x": [
          [
           2017,
           2017,
           2017,
           2017,
           2018,
           2018,
           2018,
           2018,
           2019,
           2019,
           2019,
           2019,
           2020,
           2020,
           2020,
           2020
          ],
          [
           "FG",
           "Go",
           "Punt",
           "Toss-up",
           "FG",
           "Go",
           "Punt",
           "Toss-up",
           "FG",
           "Go",
           "Punt",
           "Toss-up",
           "FG",
           "Go",
           "Punt",
           "Toss-up"
          ]
         ],
         "y": [
          0.05472636815920398,
          0.45054945054945056,
          0.9317697228144989,
          0.872093023255814,
          0.05392156862745098,
          0.43956043956043955,
          0.9305912596401028,
          0.8844221105527639,
          0.05603448275862069,
          0.4391691394658754,
          0.9308755760368663,
          0.8679245283018868,
          0.059782608695652176,
          0.37714285714285717,
          0.8978328173374613,
          0.8315789473684211
         ]
        }
       ],
       "layout": {
        "barmode": "stack",
        "height": 512,
        "legend": {
         "title": {
          "text": "Coach's Choice"
         }
        },
        "template": {
         "data": {
          "bar": [
           {
            "error_x": {
             "color": "rgb(36,36,36)"
            },
            "error_y": {
             "color": "rgb(36,36,36)"
            },
            "marker": {
             "line": {
              "color": "white",
              "width": 0.5
             }
            },
            "type": "bar"
           }
          ],
          "barpolar": [
           {
            "marker": {
             "line": {
              "color": "white",
              "width": 0.5
             }
            },
            "type": "barpolar"
           }
          ],
          "carpet": [
           {
            "aaxis": {
             "endlinecolor": "rgb(36,36,36)",
             "gridcolor": "white",
             "linecolor": "white",
             "minorgridcolor": "white",
             "startlinecolor": "rgb(36,36,36)"
            },
            "baxis": {
             "endlinecolor": "rgb(36,36,36)",
             "gridcolor": "white",
             "linecolor": "white",
             "minorgridcolor": "white",
             "startlinecolor": "rgb(36,36,36)"
            },
            "type": "carpet"
           }
          ],
          "choropleth": [
           {
            "colorbar": {
             "outlinewidth": 1,
             "tickcolor": "rgb(36,36,36)",
             "ticks": "outside"
            },
            "type": "choropleth"
           }
          ],
          "contour": [
           {
            "colorbar": {
             "outlinewidth": 1,
             "tickcolor": "rgb(36,36,36)",
             "ticks": "outside"
            },
            "colorscale": [
             [
              0,
              "#440154"
             ],
             [
              0.1111111111111111,
              "#482878"
             ],
             [
              0.2222222222222222,
              "#3e4989"
             ],
             [
              0.3333333333333333,
              "#31688e"
             ],
             [
              0.4444444444444444,
              "#26828e"
             ],
             [
              0.5555555555555556,
              "#1f9e89"
             ],
             [
              0.6666666666666666,
              "#35b779"
             ],
             [
              0.7777777777777778,
              "#6ece58"
             ],
             [
              0.8888888888888888,
              "#b5de2b"
             ],
             [
              1,
              "#fde725"
             ]
            ],
            "type": "contour"
           }
          ],
          "contourcarpet": [
           {
            "colorbar": {
             "outlinewidth": 1,
             "tickcolor": "rgb(36,36,36)",
             "ticks": "outside"
            },
            "type": "contourcarpet"
           }
          ],
          "heatmap": [
           {
            "colorbar": {
             "outlinewidth": 1,
             "tickcolor": "rgb(36,36,36)",
             "ticks": "outside"
            },
            "colorscale": [
             [
              0,
              "#440154"
             ],
             [
              0.1111111111111111,
              "#482878"
             ],
             [
              0.2222222222222222,
              "#3e4989"
             ],
             [
              0.3333333333333333,
              "#31688e"
             ],
             [
              0.4444444444444444,
              "#26828e"
             ],
             [
              0.5555555555555556,
              "#1f9e89"
             ],
             [
              0.6666666666666666,
              "#35b779"
             ],
             [
              0.7777777777777778,
              "#6ece58"
             ],
             [
              0.8888888888888888,
              "#b5de2b"
             ],
             [
              1,
              "#fde725"
             ]
            ],
            "type": "heatmap"
           }
          ],
          "heatmapgl": [
           {
            "colorbar": {
             "outlinewidth": 1,
             "tickcolor": "rgb(36,36,36)",
             "ticks": "outside"
            },
            "colorscale": [
             [
              0,
              "#440154"
             ],
             [
              0.1111111111111111,
              "#482878"
             ],
             [
              0.2222222222222222,
              "#3e4989"
             ],
             [
              0.3333333333333333,
              "#31688e"
             ],
             [
              0.4444444444444444,
              "#26828e"
             ],
             [
              0.5555555555555556,
              "#1f9e89"
             ],
             [
              0.6666666666666666,
              "#35b779"
             ],
             [
              0.7777777777777778,
              "#6ece58"
             ],
             [
              0.8888888888888888,
              "#b5de2b"
             ],
             [
              1,
              "#fde725"
             ]
            ],
            "type": "heatmapgl"
           }
          ],
          "histogram": [
           {
            "marker": {
             "line": {
              "color": "white",
              "width": 0.6
             }
            },
            "type": "histogram"
           }
          ],
          "histogram2d": [
           {
            "colorbar": {
             "outlinewidth": 1,
             "tickcolor": "rgb(36,36,36)",
             "ticks": "outside"
            },
            "colorscale": [
             [
              0,
              "#440154"
             ],
             [
              0.1111111111111111,
              "#482878"
             ],
             [
              0.2222222222222222,
              "#3e4989"
             ],
             [
              0.3333333333333333,
              "#31688e"
             ],
             [
              0.4444444444444444,
              "#26828e"
             ],
             [
              0.5555555555555556,
              "#1f9e89"
             ],
             [
              0.6666666666666666,
              "#35b779"
             ],
             [
              0.7777777777777778,
              "#6ece58"
             ],
             [
              0.8888888888888888,
              "#b5de2b"
             ],
             [
              1,
              "#fde725"
             ]
            ],
            "type": "histogram2d"
           }
          ],
          "histogram2dcontour": [
           {
            "colorbar": {
             "outlinewidth": 1,
             "tickcolor": "rgb(36,36,36)",
             "ticks": "outside"
            },
            "colorscale": [
             [
              0,
              "#440154"
             ],
             [
              0.1111111111111111,
              "#482878"
             ],
             [
              0.2222222222222222,
              "#3e4989"
             ],
             [
              0.3333333333333333,
              "#31688e"
             ],
             [
              0.4444444444444444,
              "#26828e"
             ],
             [
              0.5555555555555556,
              "#1f9e89"
             ],
             [
              0.6666666666666666,
              "#35b779"
             ],
             [
              0.7777777777777778,
              "#6ece58"
             ],
             [
              0.8888888888888888,
              "#b5de2b"
             ],
             [
              1,
              "#fde725"
             ]
            ],
            "type": "histogram2dcontour"
           }
          ],
          "mesh3d": [
           {
            "colorbar": {
             "outlinewidth": 1,
             "tickcolor": "rgb(36,36,36)",
             "ticks": "outside"
            },
            "type": "mesh3d"
           }
          ],
          "parcoords": [
           {
            "line": {
             "colorbar": {
              "outlinewidth": 1,
              "tickcolor": "rgb(36,36,36)",
              "ticks": "outside"
             }
            },
            "type": "parcoords"
           }
          ],
          "pie": [
           {
            "automargin": true,
            "type": "pie"
           }
          ],
          "scatter": [
           {
            "marker": {
             "colorbar": {
              "outlinewidth": 1,
              "tickcolor": "rgb(36,36,36)",
              "ticks": "outside"
             }
            },
            "type": "scatter"
           }
          ],
          "scatter3d": [
           {
            "line": {
             "colorbar": {
              "outlinewidth": 1,
              "tickcolor": "rgb(36,36,36)",
              "ticks": "outside"
             }
            },
            "marker": {
             "colorbar": {
              "outlinewidth": 1,
              "tickcolor": "rgb(36,36,36)",
              "ticks": "outside"
             }
            },
            "type": "scatter3d"
           }
          ],
          "scattercarpet": [
           {
            "marker": {
             "colorbar": {
              "outlinewidth": 1,
              "tickcolor": "rgb(36,36,36)",
              "ticks": "outside"
             }
            },
            "type": "scattercarpet"
           }
          ],
          "scattergeo": [
           {
            "marker": {
             "colorbar": {
              "outlinewidth": 1,
              "tickcolor": "rgb(36,36,36)",
              "ticks": "outside"
             }
            },
            "type": "scattergeo"
           }
          ],
          "scattergl": [
           {
            "marker": {
             "colorbar": {
              "outlinewidth": 1,
              "tickcolor": "rgb(36,36,36)",
              "ticks": "outside"
             }
            },
            "type": "scattergl"
           }
          ],
          "scattermapbox": [
           {
            "marker": {
             "colorbar": {
              "outlinewidth": 1,
              "tickcolor": "rgb(36,36,36)",
              "ticks": "outside"
             }
            },
            "type": "scattermapbox"
           }
          ],
          "scatterpolar": [
           {
            "marker": {
             "colorbar": {
              "outlinewidth": 1,
              "tickcolor": "rgb(36,36,36)",
              "ticks": "outside"
             }
            },
            "type": "scatterpolar"
           }
          ],
          "scatterpolargl": [
           {
            "marker": {
             "colorbar": {
              "outlinewidth": 1,
              "tickcolor": "rgb(36,36,36)",
              "ticks": "outside"
             }
            },
            "type": "scatterpolargl"
           }
          ],
          "scatterternary": [
           {
            "marker": {
             "colorbar": {
              "outlinewidth": 1,
              "tickcolor": "rgb(36,36,36)",
              "ticks": "outside"
             }
            },
            "type": "scatterternary"
           }
          ],
          "surface": [
           {
            "colorbar": {
             "outlinewidth": 1,
             "tickcolor": "rgb(36,36,36)",
             "ticks": "outside"
            },
            "colorscale": [
             [
              0,
              "#440154"
             ],
             [
              0.1111111111111111,
              "#482878"
             ],
             [
              0.2222222222222222,
              "#3e4989"
             ],
             [
              0.3333333333333333,
              "#31688e"
             ],
             [
              0.4444444444444444,
              "#26828e"
             ],
             [
              0.5555555555555556,
              "#1f9e89"
             ],
             [
              0.6666666666666666,
              "#35b779"
             ],
             [
              0.7777777777777778,
              "#6ece58"
             ],
             [
              0.8888888888888888,
              "#b5de2b"
             ],
             [
              1,
              "#fde725"
             ]
            ],
            "type": "surface"
           }
          ],
          "table": [
           {
            "cells": {
             "fill": {
              "color": "rgb(237,237,237)"
             },
             "line": {
              "color": "white"
             }
            },
            "header": {
             "fill": {
              "color": "rgb(217,217,217)"
             },
             "line": {
              "color": "white"
             }
            },
            "type": "table"
           }
          ]
         },
         "layout": {
          "annotationdefaults": {
           "arrowhead": 0,
           "arrowwidth": 1
          },
          "coloraxis": {
           "colorbar": {
            "outlinewidth": 1,
            "tickcolor": "rgb(36,36,36)",
            "ticks": "outside"
           }
          },
          "colorscale": {
           "diverging": [
            [
             0,
             "rgb(103,0,31)"
            ],
            [
             0.1,
             "rgb(178,24,43)"
            ],
            [
             0.2,
             "rgb(214,96,77)"
            ],
            [
             0.3,
             "rgb(244,165,130)"
            ],
            [
             0.4,
             "rgb(253,219,199)"
            ],
            [
             0.5,
             "rgb(247,247,247)"
            ],
            [
             0.6,
             "rgb(209,229,240)"
            ],
            [
             0.7,
             "rgb(146,197,222)"
            ],
            [
             0.8,
             "rgb(67,147,195)"
            ],
            [
             0.9,
             "rgb(33,102,172)"
            ],
            [
             1,
             "rgb(5,48,97)"
            ]
           ],
           "sequential": [
            [
             0,
             "#440154"
            ],
            [
             0.1111111111111111,
             "#482878"
            ],
            [
             0.2222222222222222,
             "#3e4989"
            ],
            [
             0.3333333333333333,
             "#31688e"
            ],
            [
             0.4444444444444444,
             "#26828e"
            ],
            [
             0.5555555555555556,
             "#1f9e89"
            ],
            [
             0.6666666666666666,
             "#35b779"
            ],
            [
             0.7777777777777778,
             "#6ece58"
            ],
            [
             0.8888888888888888,
             "#b5de2b"
            ],
            [
             1,
             "#fde725"
            ]
           ],
           "sequentialminus": [
            [
             0,
             "#440154"
            ],
            [
             0.1111111111111111,
             "#482878"
            ],
            [
             0.2222222222222222,
             "#3e4989"
            ],
            [
             0.3333333333333333,
             "#31688e"
            ],
            [
             0.4444444444444444,
             "#26828e"
            ],
            [
             0.5555555555555556,
             "#1f9e89"
            ],
            [
             0.6666666666666666,
             "#35b779"
            ],
            [
             0.7777777777777778,
             "#6ece58"
            ],
            [
             0.8888888888888888,
             "#b5de2b"
            ],
            [
             1,
             "#fde725"
            ]
           ]
          },
          "colorway": [
           "#1F77B4",
           "#FF7F0E",
           "#2CA02C",
           "#D62728",
           "#9467BD",
           "#8C564B",
           "#E377C2",
           "#7F7F7F",
           "#BCBD22",
           "#17BECF"
          ],
          "font": {
           "color": "rgb(36,36,36)"
          },
          "geo": {
           "bgcolor": "white",
           "lakecolor": "white",
           "landcolor": "white",
           "showlakes": true,
           "showland": true,
           "subunitcolor": "white"
          },
          "hoverlabel": {
           "align": "left"
          },
          "hovermode": "closest",
          "mapbox": {
           "style": "light"
          },
          "paper_bgcolor": "white",
          "plot_bgcolor": "white",
          "polar": {
           "angularaxis": {
            "gridcolor": "rgb(232,232,232)",
            "linecolor": "rgb(36,36,36)",
            "showgrid": false,
            "showline": true,
            "ticks": "outside"
           },
           "bgcolor": "white",
           "radialaxis": {
            "gridcolor": "rgb(232,232,232)",
            "linecolor": "rgb(36,36,36)",
            "showgrid": false,
            "showline": true,
            "ticks": "outside"
           }
          },
          "scene": {
           "xaxis": {
            "backgroundcolor": "white",
            "gridcolor": "rgb(232,232,232)",
            "gridwidth": 2,
            "linecolor": "rgb(36,36,36)",
            "showbackground": true,
            "showgrid": false,
            "showline": true,
            "ticks": "outside",
            "zeroline": false,
            "zerolinecolor": "rgb(36,36,36)"
           },
           "yaxis": {
            "backgroundcolor": "white",
            "gridcolor": "rgb(232,232,232)",
            "gridwidth": 2,
            "linecolor": "rgb(36,36,36)",
            "showbackground": true,
            "showgrid": false,
            "showline": true,
            "ticks": "outside",
            "zeroline": false,
            "zerolinecolor": "rgb(36,36,36)"
           },
           "zaxis": {
            "backgroundcolor": "white",
            "gridcolor": "rgb(232,232,232)",
            "gridwidth": 2,
            "linecolor": "rgb(36,36,36)",
            "showbackground": true,
            "showgrid": false,
            "showline": true,
            "ticks": "outside",
            "zeroline": false,
            "zerolinecolor": "rgb(36,36,36)"
           }
          },
          "shapedefaults": {
           "fillcolor": "black",
           "line": {
            "width": 0
           },
           "opacity": 0.3
          },
          "ternary": {
           "aaxis": {
            "gridcolor": "rgb(232,232,232)",
            "linecolor": "rgb(36,36,36)",
            "showgrid": false,
            "showline": true,
            "ticks": "outside"
           },
           "baxis": {
            "gridcolor": "rgb(232,232,232)",
            "linecolor": "rgb(36,36,36)",
            "showgrid": false,
            "showline": true,
            "ticks": "outside"
           },
           "bgcolor": "white",
           "caxis": {
            "gridcolor": "rgb(232,232,232)",
            "linecolor": "rgb(36,36,36)",
            "showgrid": false,
            "showline": true,
            "ticks": "outside"
           }
          },
          "title": {
           "x": 0.05
          },
          "xaxis": {
           "automargin": true,
           "gridcolor": "rgb(232,232,232)",
           "linecolor": "rgb(36,36,36)",
           "showgrid": false,
           "showline": true,
           "ticks": "outside",
           "title": {
            "standoff": 15
           },
           "zeroline": false,
           "zerolinecolor": "rgb(36,36,36)"
          },
          "yaxis": {
           "automargin": true,
           "gridcolor": "rgb(232,232,232)",
           "linecolor": "rgb(36,36,36)",
           "showgrid": false,
           "showline": true,
           "ticks": "outside",
           "title": {
            "standoff": 15
           },
           "zeroline": false,
           "zerolinecolor": "rgb(36,36,36)"
          }
         }
        },
        "title": {
         "text": "<b>ACC 4th Down Decision Making (2017-2020)</b><br><span style=\"color:#222;font-size:12px;\">Recommendations provided by A.I. Sports 4th Down Bot, created by Jared Lee (<a href=\"https://twitter.com/JDLee\">@JDLee</a>). Chart created by Akshay Easwaran (<a href=\"https://twitter.com/akeaswaran\">@akeaswaran</a>).</span>"
        },
        "width": 1024,
        "xaxis": {
         "title": {
          "text": "Optimal Decision"
         }
        },
        "yaxis": {
         "tickformat": ".0%"
        }
       }
      },
      "text/html": [
       "<div>\n",
       "        \n",
       "        \n",
       "            <div id=\"05d6281e-12db-49f8-af29-be934cd57d8e\" class=\"plotly-graph-div\" style=\"height:512px; width:1024px;\"></div>\n",
       "            <script type=\"text/javascript\">\n",
       "                require([\"plotly\"], function(Plotly) {\n",
       "                    window.PLOTLYENV=window.PLOTLYENV || {};\n",
       "                    \n",
       "                if (document.getElementById(\"05d6281e-12db-49f8-af29-be934cd57d8e\")) {\n",
       "                    Plotly.newPlot(\n",
       "                        '05d6281e-12db-49f8-af29-be934cd57d8e',\n",
       "                        [{\"marker\": {\"color\": \"#002c59\"}, \"name\": \"FG\", \"text\": [\"64.2%\", \"15.4%\", \"0.0%\", \"1.7%\", \"66.2%\", \"14.4%\", \"0.3%\", \"0.0%\", \"69.8%\", \"15.1%\", \"0.5%\", \"0.9%\", \"70.1%\", \"17.9%\", \"0.9%\", \"2.1%\"], \"textposition\": \"auto\", \"type\": \"bar\", \"x\": [[2017, 2017, 2017, 2017, 2018, 2018, 2018, 2018, 2019, 2019, 2019, 2019, 2020, 2020, 2020, 2020], [\"FG\", \"Go\", \"Punt\", \"Toss-up\", \"FG\", \"Go\", \"Punt\", \"Toss-up\", \"FG\", \"Go\", \"Punt\", \"Toss-up\", \"FG\", \"Go\", \"Punt\", \"Toss-up\"]], \"y\": [0.6417910447761194, 0.15384615384615385, null, 0.01744186046511628, 0.6617647058823529, 0.14442700156985872, 0.002570694087403599, null, 0.6982758620689655, 0.1513353115727003, 0.004608294930875576, 0.009433962264150943, 0.7010869565217391, 0.17904761904761904, 0.009287925696594427, 0.021052631578947368]}, {\"marker\": {\"color\": \"#B3A369\"}, \"name\": \"Go\", \"text\": [\"25.4%\", \"33.8%\", \"2.8%\", \"7.6%\", \"23.5%\", \"35.2%\", \"3.6%\", \"6.0%\", \"19.8%\", \"33.4%\", \"2.8%\", \"5.7%\", \"20.1%\", \"36.4%\", \"2.8%\", \"7.9%\"], \"textposition\": \"auto\", \"type\": \"bar\", \"x\": [[2017, 2017, 2017, 2017, 2018, 2018, 2018, 2018, 2019, 2019, 2019, 2019, 2020, 2020, 2020, 2020], [\"FG\", \"Go\", \"Punt\", \"Toss-up\", \"FG\", \"Go\", \"Punt\", \"Toss-up\", \"FG\", \"Go\", \"Punt\", \"Toss-up\", \"FG\", \"Go\", \"Punt\", \"Toss-up\"]], \"y\": [0.2537313432835821, 0.33751962323390894, 0.02771855010660981, 0.0755813953488372, 0.23529411764705882, 0.3516483516483517, 0.03598971722365039, 0.06030150753768844, 0.19827586206896552, 0.33382789317507416, 0.027649769585253458, 0.05660377358490566, 0.20108695652173914, 0.3638095238095238, 0.02786377708978328, 0.07894736842105263]}, {\"marker\": {\"color\": \"gold\"}, \"name\": \"Penalty\", \"text\": [\"5.0%\", \"5.8%\", \"4.1%\", \"3.5%\", \"4.9%\", \"6.4%\", \"3.1%\", \"5.5%\", \"4.7%\", \"7.6%\", \"3.7%\", \"6.6%\", \"3.8%\", \"8.0%\", \"6.5%\", \"6.8%\"], \"textposition\": \"auto\", \"type\": \"bar\", \"x\": [[2017, 2017, 2017, 2017, 2018, 2018, 2018, 2018, 2019, 2019, 2019, 2019, 2020, 2020, 2020, 2020], [\"FG\", \"Go\", \"Punt\", \"Toss-up\", \"FG\", \"Go\", \"Punt\", \"Toss-up\", \"FG\", \"Go\", \"Punt\", \"Toss-up\", \"FG\", \"Go\", \"Punt\", \"Toss-up\"]], \"y\": [0.04975124378109453, 0.058084772370486655, 0.04051172707889126, 0.03488372093023256, 0.049019607843137254, 0.06436420722135008, 0.030848329048843187, 0.05527638190954774, 0.04741379310344827, 0.07566765578635015, 0.03686635944700461, 0.0660377358490566, 0.03804347826086957, 0.08, 0.06501547987616099, 0.06842105263157895]}, {\"marker\": {\"color\": \"gray\"}, \"name\": \"Punt\", \"text\": [\"5.5%\", \"45.1%\", \"93.2%\", \"87.2%\", \"5.4%\", \"44.0%\", \"93.1%\", \"88.4%\", \"5.6%\", \"43.9%\", \"93.1%\", \"86.8%\", \"6.0%\", \"37.7%\", \"89.8%\", \"83.2%\"], \"textposition\": \"auto\", \"type\": \"bar\", \"x\": [[2017, 2017, 2017, 2017, 2018, 2018, 2018, 2018, 2019, 2019, 2019, 2019, 2020, 2020, 2020, 2020], [\"FG\", \"Go\", \"Punt\", \"Toss-up\", \"FG\", \"Go\", \"Punt\", \"Toss-up\", \"FG\", \"Go\", \"Punt\", \"Toss-up\", \"FG\", \"Go\", \"Punt\", \"Toss-up\"]], \"y\": [0.05472636815920398, 0.45054945054945056, 0.9317697228144989, 0.872093023255814, 0.05392156862745098, 0.43956043956043955, 0.9305912596401028, 0.8844221105527639, 0.05603448275862069, 0.4391691394658754, 0.9308755760368663, 0.8679245283018868, 0.059782608695652176, 0.37714285714285717, 0.8978328173374613, 0.8315789473684211]}],\n",
       "                        {\"barmode\": \"stack\", \"height\": 512, \"legend\": {\"title\": {\"text\": \"Coach's Choice\"}}, \"template\": {\"data\": {\"bar\": [{\"error_x\": {\"color\": \"rgb(36,36,36)\"}, \"error_y\": {\"color\": \"rgb(36,36,36)\"}, \"marker\": {\"line\": {\"color\": \"white\", \"width\": 0.5}}, \"type\": \"bar\"}], \"barpolar\": [{\"marker\": {\"line\": {\"color\": \"white\", \"width\": 0.5}}, \"type\": \"barpolar\"}], \"carpet\": [{\"aaxis\": {\"endlinecolor\": \"rgb(36,36,36)\", \"gridcolor\": \"white\", \"linecolor\": \"white\", \"minorgridcolor\": \"white\", \"startlinecolor\": \"rgb(36,36,36)\"}, \"baxis\": {\"endlinecolor\": \"rgb(36,36,36)\", \"gridcolor\": \"white\", \"linecolor\": \"white\", \"minorgridcolor\": \"white\", \"startlinecolor\": \"rgb(36,36,36)\"}, \"type\": \"carpet\"}], \"choropleth\": [{\"colorbar\": {\"outlinewidth\": 1, \"tickcolor\": \"rgb(36,36,36)\", \"ticks\": \"outside\"}, \"type\": \"choropleth\"}], \"contour\": [{\"colorbar\": {\"outlinewidth\": 1, \"tickcolor\": \"rgb(36,36,36)\", \"ticks\": \"outside\"}, \"colorscale\": [[0.0, \"#440154\"], [0.1111111111111111, \"#482878\"], [0.2222222222222222, \"#3e4989\"], [0.3333333333333333, \"#31688e\"], [0.4444444444444444, \"#26828e\"], [0.5555555555555556, \"#1f9e89\"], [0.6666666666666666, \"#35b779\"], [0.7777777777777778, \"#6ece58\"], [0.8888888888888888, \"#b5de2b\"], [1.0, \"#fde725\"]], \"type\": \"contour\"}], \"contourcarpet\": [{\"colorbar\": {\"outlinewidth\": 1, \"tickcolor\": \"rgb(36,36,36)\", \"ticks\": \"outside\"}, \"type\": \"contourcarpet\"}], \"heatmap\": [{\"colorbar\": {\"outlinewidth\": 1, \"tickcolor\": \"rgb(36,36,36)\", \"ticks\": \"outside\"}, \"colorscale\": [[0.0, \"#440154\"], [0.1111111111111111, \"#482878\"], [0.2222222222222222, \"#3e4989\"], [0.3333333333333333, \"#31688e\"], [0.4444444444444444, \"#26828e\"], [0.5555555555555556, \"#1f9e89\"], [0.6666666666666666, \"#35b779\"], [0.7777777777777778, \"#6ece58\"], [0.8888888888888888, \"#b5de2b\"], [1.0, \"#fde725\"]], \"type\": \"heatmap\"}], \"heatmapgl\": [{\"colorbar\": {\"outlinewidth\": 1, \"tickcolor\": \"rgb(36,36,36)\", \"ticks\": \"outside\"}, \"colorscale\": [[0.0, \"#440154\"], [0.1111111111111111, \"#482878\"], [0.2222222222222222, \"#3e4989\"], [0.3333333333333333, \"#31688e\"], [0.4444444444444444, \"#26828e\"], [0.5555555555555556, \"#1f9e89\"], [0.6666666666666666, \"#35b779\"], [0.7777777777777778, \"#6ece58\"], [0.8888888888888888, \"#b5de2b\"], [1.0, \"#fde725\"]], \"type\": \"heatmapgl\"}], \"histogram\": [{\"marker\": {\"line\": {\"color\": \"white\", \"width\": 0.6}}, \"type\": \"histogram\"}], \"histogram2d\": [{\"colorbar\": {\"outlinewidth\": 1, \"tickcolor\": \"rgb(36,36,36)\", \"ticks\": \"outside\"}, \"colorscale\": [[0.0, \"#440154\"], [0.1111111111111111, \"#482878\"], [0.2222222222222222, \"#3e4989\"], [0.3333333333333333, \"#31688e\"], [0.4444444444444444, \"#26828e\"], [0.5555555555555556, \"#1f9e89\"], [0.6666666666666666, \"#35b779\"], [0.7777777777777778, \"#6ece58\"], [0.8888888888888888, \"#b5de2b\"], [1.0, \"#fde725\"]], \"type\": \"histogram2d\"}], \"histogram2dcontour\": [{\"colorbar\": {\"outlinewidth\": 1, \"tickcolor\": \"rgb(36,36,36)\", \"ticks\": \"outside\"}, \"colorscale\": [[0.0, \"#440154\"], [0.1111111111111111, \"#482878\"], [0.2222222222222222, \"#3e4989\"], [0.3333333333333333, \"#31688e\"], [0.4444444444444444, \"#26828e\"], [0.5555555555555556, \"#1f9e89\"], [0.6666666666666666, \"#35b779\"], [0.7777777777777778, \"#6ece58\"], [0.8888888888888888, \"#b5de2b\"], [1.0, \"#fde725\"]], \"type\": \"histogram2dcontour\"}], \"mesh3d\": [{\"colorbar\": {\"outlinewidth\": 1, \"tickcolor\": \"rgb(36,36,36)\", \"ticks\": \"outside\"}, \"type\": \"mesh3d\"}], \"parcoords\": [{\"line\": {\"colorbar\": {\"outlinewidth\": 1, \"tickcolor\": \"rgb(36,36,36)\", \"ticks\": \"outside\"}}, \"type\": \"parcoords\"}], \"pie\": [{\"automargin\": true, \"type\": \"pie\"}], \"scatter\": [{\"marker\": {\"colorbar\": {\"outlinewidth\": 1, \"tickcolor\": \"rgb(36,36,36)\", \"ticks\": \"outside\"}}, \"type\": \"scatter\"}], \"scatter3d\": [{\"line\": {\"colorbar\": {\"outlinewidth\": 1, \"tickcolor\": \"rgb(36,36,36)\", \"ticks\": \"outside\"}}, \"marker\": {\"colorbar\": {\"outlinewidth\": 1, \"tickcolor\": \"rgb(36,36,36)\", \"ticks\": \"outside\"}}, \"type\": \"scatter3d\"}], \"scattercarpet\": [{\"marker\": {\"colorbar\": {\"outlinewidth\": 1, \"tickcolor\": \"rgb(36,36,36)\", \"ticks\": \"outside\"}}, \"type\": \"scattercarpet\"}], \"scattergeo\": [{\"marker\": {\"colorbar\": {\"outlinewidth\": 1, \"tickcolor\": \"rgb(36,36,36)\", \"ticks\": \"outside\"}}, \"type\": \"scattergeo\"}], \"scattergl\": [{\"marker\": {\"colorbar\": {\"outlinewidth\": 1, \"tickcolor\": \"rgb(36,36,36)\", \"ticks\": \"outside\"}}, \"type\": \"scattergl\"}], \"scattermapbox\": [{\"marker\": {\"colorbar\": {\"outlinewidth\": 1, \"tickcolor\": \"rgb(36,36,36)\", \"ticks\": \"outside\"}}, \"type\": \"scattermapbox\"}], \"scatterpolar\": [{\"marker\": {\"colorbar\": {\"outlinewidth\": 1, \"tickcolor\": \"rgb(36,36,36)\", \"ticks\": \"outside\"}}, \"type\": \"scatterpolar\"}], \"scatterpolargl\": [{\"marker\": {\"colorbar\": {\"outlinewidth\": 1, \"tickcolor\": \"rgb(36,36,36)\", \"ticks\": \"outside\"}}, \"type\": \"scatterpolargl\"}], \"scatterternary\": [{\"marker\": {\"colorbar\": {\"outlinewidth\": 1, \"tickcolor\": \"rgb(36,36,36)\", \"ticks\": \"outside\"}}, \"type\": \"scatterternary\"}], \"surface\": [{\"colorbar\": {\"outlinewidth\": 1, \"tickcolor\": \"rgb(36,36,36)\", \"ticks\": \"outside\"}, \"colorscale\": [[0.0, \"#440154\"], [0.1111111111111111, \"#482878\"], [0.2222222222222222, \"#3e4989\"], [0.3333333333333333, \"#31688e\"], [0.4444444444444444, \"#26828e\"], [0.5555555555555556, \"#1f9e89\"], [0.6666666666666666, \"#35b779\"], [0.7777777777777778, \"#6ece58\"], [0.8888888888888888, \"#b5de2b\"], [1.0, \"#fde725\"]], \"type\": \"surface\"}], \"table\": [{\"cells\": {\"fill\": {\"color\": \"rgb(237,237,237)\"}, \"line\": {\"color\": \"white\"}}, \"header\": {\"fill\": {\"color\": \"rgb(217,217,217)\"}, \"line\": {\"color\": \"white\"}}, \"type\": \"table\"}]}, \"layout\": {\"annotationdefaults\": {\"arrowhead\": 0, \"arrowwidth\": 1}, \"coloraxis\": {\"colorbar\": {\"outlinewidth\": 1, \"tickcolor\": \"rgb(36,36,36)\", \"ticks\": \"outside\"}}, \"colorscale\": {\"diverging\": [[0.0, \"rgb(103,0,31)\"], [0.1, \"rgb(178,24,43)\"], [0.2, \"rgb(214,96,77)\"], [0.3, \"rgb(244,165,130)\"], [0.4, \"rgb(253,219,199)\"], [0.5, \"rgb(247,247,247)\"], [0.6, \"rgb(209,229,240)\"], [0.7, \"rgb(146,197,222)\"], [0.8, \"rgb(67,147,195)\"], [0.9, \"rgb(33,102,172)\"], [1.0, \"rgb(5,48,97)\"]], \"sequential\": [[0.0, \"#440154\"], [0.1111111111111111, \"#482878\"], [0.2222222222222222, \"#3e4989\"], [0.3333333333333333, \"#31688e\"], [0.4444444444444444, \"#26828e\"], [0.5555555555555556, \"#1f9e89\"], [0.6666666666666666, \"#35b779\"], [0.7777777777777778, \"#6ece58\"], [0.8888888888888888, \"#b5de2b\"], [1.0, \"#fde725\"]], \"sequentialminus\": [[0.0, \"#440154\"], [0.1111111111111111, \"#482878\"], [0.2222222222222222, \"#3e4989\"], [0.3333333333333333, \"#31688e\"], [0.4444444444444444, \"#26828e\"], [0.5555555555555556, \"#1f9e89\"], [0.6666666666666666, \"#35b779\"], [0.7777777777777778, \"#6ece58\"], [0.8888888888888888, \"#b5de2b\"], [1.0, \"#fde725\"]]}, \"colorway\": [\"#1F77B4\", \"#FF7F0E\", \"#2CA02C\", \"#D62728\", \"#9467BD\", \"#8C564B\", \"#E377C2\", \"#7F7F7F\", \"#BCBD22\", \"#17BECF\"], \"font\": {\"color\": \"rgb(36,36,36)\"}, \"geo\": {\"bgcolor\": \"white\", \"lakecolor\": \"white\", \"landcolor\": \"white\", \"showlakes\": true, \"showland\": true, \"subunitcolor\": \"white\"}, \"hoverlabel\": {\"align\": \"left\"}, \"hovermode\": \"closest\", \"mapbox\": {\"style\": \"light\"}, \"paper_bgcolor\": \"white\", \"plot_bgcolor\": \"white\", \"polar\": {\"angularaxis\": {\"gridcolor\": \"rgb(232,232,232)\", \"linecolor\": \"rgb(36,36,36)\", \"showgrid\": false, \"showline\": true, \"ticks\": \"outside\"}, \"bgcolor\": \"white\", \"radialaxis\": {\"gridcolor\": \"rgb(232,232,232)\", \"linecolor\": \"rgb(36,36,36)\", \"showgrid\": false, \"showline\": true, \"ticks\": \"outside\"}}, \"scene\": {\"xaxis\": {\"backgroundcolor\": \"white\", \"gridcolor\": \"rgb(232,232,232)\", \"gridwidth\": 2, \"linecolor\": \"rgb(36,36,36)\", \"showbackground\": true, \"showgrid\": false, \"showline\": true, \"ticks\": \"outside\", \"zeroline\": false, \"zerolinecolor\": \"rgb(36,36,36)\"}, \"yaxis\": {\"backgroundcolor\": \"white\", \"gridcolor\": \"rgb(232,232,232)\", \"gridwidth\": 2, \"linecolor\": \"rgb(36,36,36)\", \"showbackground\": true, \"showgrid\": false, \"showline\": true, \"ticks\": \"outside\", \"zeroline\": false, \"zerolinecolor\": \"rgb(36,36,36)\"}, \"zaxis\": {\"backgroundcolor\": \"white\", \"gridcolor\": \"rgb(232,232,232)\", \"gridwidth\": 2, \"linecolor\": \"rgb(36,36,36)\", \"showbackground\": true, \"showgrid\": false, \"showline\": true, \"ticks\": \"outside\", \"zeroline\": false, \"zerolinecolor\": \"rgb(36,36,36)\"}}, \"shapedefaults\": {\"fillcolor\": \"black\", \"line\": {\"width\": 0}, \"opacity\": 0.3}, \"ternary\": {\"aaxis\": {\"gridcolor\": \"rgb(232,232,232)\", \"linecolor\": \"rgb(36,36,36)\", \"showgrid\": false, \"showline\": true, \"ticks\": \"outside\"}, \"baxis\": {\"gridcolor\": \"rgb(232,232,232)\", \"linecolor\": \"rgb(36,36,36)\", \"showgrid\": false, \"showline\": true, \"ticks\": \"outside\"}, \"bgcolor\": \"white\", \"caxis\": {\"gridcolor\": \"rgb(232,232,232)\", \"linecolor\": \"rgb(36,36,36)\", \"showgrid\": false, \"showline\": true, \"ticks\": \"outside\"}}, \"title\": {\"x\": 0.05}, \"xaxis\": {\"automargin\": true, \"gridcolor\": \"rgb(232,232,232)\", \"linecolor\": \"rgb(36,36,36)\", \"showgrid\": false, \"showline\": true, \"ticks\": \"outside\", \"title\": {\"standoff\": 15}, \"zeroline\": false, \"zerolinecolor\": \"rgb(36,36,36)\"}, \"yaxis\": {\"automargin\": true, \"gridcolor\": \"rgb(232,232,232)\", \"linecolor\": \"rgb(36,36,36)\", \"showgrid\": false, \"showline\": true, \"ticks\": \"outside\", \"title\": {\"standoff\": 15}, \"zeroline\": false, \"zerolinecolor\": \"rgb(36,36,36)\"}}}, \"title\": {\"text\": \"<b>ACC 4th Down Decision Making (2017-2020)</b><br><span style=\\\"color:#222;font-size:12px;\\\">Recommendations provided by A.I. Sports 4th Down Bot, created by Jared Lee (<a href=\\\"https://twitter.com/JDLee\\\">@JDLee</a>). Chart created by Akshay Easwaran (<a href=\\\"https://twitter.com/akeaswaran\\\">@akeaswaran</a>).</span>\"}, \"width\": 1024, \"xaxis\": {\"title\": {\"text\": \"Optimal Decision\"}}, \"yaxis\": {\"tickformat\": \".0%\"}},\n",
       "                        {\"responsive\": true}\n",
       "                    ).then(function(){\n",
       "                            \n",
       "var gd = document.getElementById('05d6281e-12db-49f8-af29-be934cd57d8e');\n",
       "var x = new MutationObserver(function (mutations, observer) {{\n",
       "        var display = window.getComputedStyle(gd).display;\n",
       "        if (!display || display === 'none') {{\n",
       "            console.log([gd, 'removed!']);\n",
       "            Plotly.purge(gd);\n",
       "            observer.disconnect();\n",
       "        }}\n",
       "}});\n",
       "\n",
       "// Listen for the removal of the full notebook cells\n",
       "var notebookContainer = gd.closest('#notebook-container');\n",
       "if (notebookContainer) {{\n",
       "    x.observe(notebookContainer, {childList: true});\n",
       "}}\n",
       "\n",
       "// Listen for the clearing of the current output cell\n",
       "var outputEl = gd.closest('.output');\n",
       "if (outputEl) {{\n",
       "    x.observe(outputEl, {childList: true});\n",
       "}}\n",
       "\n",
       "                        })\n",
       "                };\n",
       "                });\n",
       "            </script>\n",
       "        </div>"
      ]
     },
     "metadata": {},
     "output_type": "display_data"
    }
   ],
   "source": [
    "fig = go.Figure()\n",
    "\n",
    "fig.update_layout(\n",
    "    template=\"simple_white\",\n",
    "    xaxis=dict(title_text=\"Optimal Decision\"),\n",
    "    yaxis=dict(tickformat=\".0%\"),\n",
    "    barmode=\"stack\",\n",
    "    title='<b>ACC 4th Down Decision Making (2017-2020)</b><br><span style=\"color:#222;font-size:12px;\">Recommendations provided by A.I. Sports 4th Down Bot, created by Jared Lee (<a href=\"https://twitter.com/JDLee\">@JDLee</a>). Chart created by Akshay Easwaran (<a href=\"https://twitter.com/akeaswaran\">@akeaswaran</a>).</span>',\n",
    "    legend_title=\"Coach's Choice\",\n",
    "    width=1024,\n",
    "    height=512\n",
    ")\n",
    "\n",
    "\n",
    "colors = ['#002c59', '#B3A369','gold', 'gray']\n",
    "recommendation_ids = [\"FG\",\"Go\",\"Penalty\",\"Punt\"]\n",
    "\n",
    "for r, c in zip(acc_szn_df.choice.unique(), colors):\n",
    "    plot_df = acc_szn_df[(acc_szn_df.choice == r)]\n",
    "    fig.add_trace(\n",
    "        go.Bar(x=[plot_df.season, plot_df.recommendation], y=plot_df.value, text=plot_df.percentage, textposition='auto', name=r, marker_color=c),\n",
    "    )    \n",
    "    \n",
    "fig"
   ]
  },
  {
   "cell_type": "code",
   "execution_count": 292,
   "metadata": {},
   "outputs": [
    {
     "data": {
      "text/html": [
       "<div>\n",
       "<style scoped>\n",
       "    .dataframe tbody tr th:only-of-type {\n",
       "        vertical-align: middle;\n",
       "    }\n",
       "\n",
       "    .dataframe tbody tr th {\n",
       "        vertical-align: top;\n",
       "    }\n",
       "\n",
       "    .dataframe thead th {\n",
       "        text-align: right;\n",
       "    }\n",
       "</style>\n",
       "<table border=\"1\" class=\"dataframe\">\n",
       "  <thead>\n",
       "    <tr style=\"text-align: right;\">\n",
       "      <th></th>\n",
       "      <th>pos_team</th>\n",
       "      <th>recommendation</th>\n",
       "      <th>choice</th>\n",
       "      <th>value</th>\n",
       "      <th>percentage</th>\n",
       "    </tr>\n",
       "  </thead>\n",
       "  <tbody>\n",
       "    <tr>\n",
       "      <th>0</th>\n",
       "      <td>Boston College</td>\n",
       "      <td>FG</td>\n",
       "      <td>FG</td>\n",
       "      <td>0.928571</td>\n",
       "      <td>92.9%</td>\n",
       "    </tr>\n",
       "    <tr>\n",
       "      <th>1</th>\n",
       "      <td>Clemson</td>\n",
       "      <td>FG</td>\n",
       "      <td>FG</td>\n",
       "      <td>0.750000</td>\n",
       "      <td>75.0%</td>\n",
       "    </tr>\n",
       "    <tr>\n",
       "      <th>2</th>\n",
       "      <td>Duke</td>\n",
       "      <td>FG</td>\n",
       "      <td>FG</td>\n",
       "      <td>0.500000</td>\n",
       "      <td>50.0%</td>\n",
       "    </tr>\n",
       "    <tr>\n",
       "      <th>3</th>\n",
       "      <td>Florida State</td>\n",
       "      <td>FG</td>\n",
       "      <td>FG</td>\n",
       "      <td>0.714286</td>\n",
       "      <td>71.4%</td>\n",
       "    </tr>\n",
       "    <tr>\n",
       "      <th>4</th>\n",
       "      <td>Georgia Tech</td>\n",
       "      <td>FG</td>\n",
       "      <td>FG</td>\n",
       "      <td>0.375000</td>\n",
       "      <td>37.5%</td>\n",
       "    </tr>\n",
       "    <tr>\n",
       "      <th>...</th>\n",
       "      <td>...</td>\n",
       "      <td>...</td>\n",
       "      <td>...</td>\n",
       "      <td>...</td>\n",
       "      <td>...</td>\n",
       "    </tr>\n",
       "    <tr>\n",
       "      <th>11</th>\n",
       "      <td>FBS Average</td>\n",
       "      <td>Toss-up</td>\n",
       "      <td>Penalty</td>\n",
       "      <td>0.060137</td>\n",
       "      <td>6.0%</td>\n",
       "    </tr>\n",
       "    <tr>\n",
       "      <th>12</th>\n",
       "      <td>FBS Average</td>\n",
       "      <td>FG</td>\n",
       "      <td>Punt</td>\n",
       "      <td>0.047537</td>\n",
       "      <td>4.8%</td>\n",
       "    </tr>\n",
       "    <tr>\n",
       "      <th>13</th>\n",
       "      <td>FBS Average</td>\n",
       "      <td>Go</td>\n",
       "      <td>Punt</td>\n",
       "      <td>0.383110</td>\n",
       "      <td>38.3%</td>\n",
       "    </tr>\n",
       "    <tr>\n",
       "      <th>14</th>\n",
       "      <td>FBS Average</td>\n",
       "      <td>Punt</td>\n",
       "      <td>Punt</td>\n",
       "      <td>0.899427</td>\n",
       "      <td>89.9%</td>\n",
       "    </tr>\n",
       "    <tr>\n",
       "      <th>15</th>\n",
       "      <td>FBS Average</td>\n",
       "      <td>Toss-up</td>\n",
       "      <td>Punt</td>\n",
       "      <td>0.834192</td>\n",
       "      <td>83.4%</td>\n",
       "    </tr>\n",
       "  </tbody>\n",
       "</table>\n",
       "<p>256 rows × 5 columns</p>\n",
       "</div>"
      ],
      "text/plain": [
       "          pos_team recommendation   choice     value percentage\n",
       "0   Boston College             FG       FG  0.928571      92.9%\n",
       "1          Clemson             FG       FG  0.750000      75.0%\n",
       "2             Duke             FG       FG  0.500000      50.0%\n",
       "3    Florida State             FG       FG  0.714286      71.4%\n",
       "4     Georgia Tech             FG       FG  0.375000      37.5%\n",
       "..             ...            ...      ...       ...        ...\n",
       "11     FBS Average        Toss-up  Penalty  0.060137       6.0%\n",
       "12     FBS Average             FG     Punt  0.047537       4.8%\n",
       "13     FBS Average             Go     Punt  0.383110      38.3%\n",
       "14     FBS Average           Punt     Punt  0.899427      89.9%\n",
       "15     FBS Average        Toss-up     Punt  0.834192      83.4%\n",
       "\n",
       "[256 rows x 5 columns]"
      ]
     },
     "execution_count": 292,
     "metadata": {},
     "output_type": "execute_result"
    }
   ],
   "source": [
    "conf_2020_decisions = decisions[(decisions.conference == \"ACC\") & (decisions.season == 2020)].groupby([\"recommendation\",\"pos_team\"])\n",
    "tmp = conf_2020_decisions.choice.value_counts(normalize=True).unstack().reset_index()\n",
    "acc_team_df=pd.melt(tmp[tmp.pos_team.isin(acc)],id_vars=[\"pos_team\",\"recommendation\"],var_name='choice', value_name='value')\n",
    "\n",
    "\n",
    "tmp_avg = decisions[(decisions.season == 2020)].groupby([\"recommendation\"]).choice.value_counts(normalize=True).unstack().reset_index()\n",
    "tmp_melt = pd.melt(tmp_avg,id_vars=[\"recommendation\"],var_name='choice', value_name='value')\n",
    "tmp_melt[\"pos_team\"] = \"FBS Average\"\n",
    "\n",
    "acc_team_df = acc_team_df.append(tmp_melt)\n",
    "\n",
    "acc_team_df[\"percentage\"] = acc_team_df.value.apply(lambda x: \"0.0%\" if (np.isnan(x) == True) else f\"{round(x * 100, 1)}%\")\n",
    "acc_team_df"
   ]
  },
  {
   "cell_type": "code",
   "execution_count": 293,
   "metadata": {},
   "outputs": [
    {
     "data": {
      "text/html": [
       "<div>\n",
       "<style scoped>\n",
       "    .dataframe tbody tr th:only-of-type {\n",
       "        vertical-align: middle;\n",
       "    }\n",
       "\n",
       "    .dataframe tbody tr th {\n",
       "        vertical-align: top;\n",
       "    }\n",
       "\n",
       "    .dataframe thead th {\n",
       "        text-align: right;\n",
       "    }\n",
       "</style>\n",
       "<table border=\"1\" class=\"dataframe\">\n",
       "  <thead>\n",
       "    <tr style=\"text-align: right;\">\n",
       "      <th></th>\n",
       "      <th>pos_team</th>\n",
       "      <th>recommendation</th>\n",
       "      <th>choice</th>\n",
       "      <th>value</th>\n",
       "      <th>percentage</th>\n",
       "    </tr>\n",
       "  </thead>\n",
       "  <tbody>\n",
       "    <tr>\n",
       "      <th>80</th>\n",
       "      <td>Louisville</td>\n",
       "      <td>Go</td>\n",
       "      <td>Go</td>\n",
       "      <td>0.515152</td>\n",
       "      <td>51.5%</td>\n",
       "    </tr>\n",
       "    <tr>\n",
       "      <th>78</th>\n",
       "      <td>Florida State</td>\n",
       "      <td>Go</td>\n",
       "      <td>Go</td>\n",
       "      <td>0.500000</td>\n",
       "      <td>50.0%</td>\n",
       "    </tr>\n",
       "    <tr>\n",
       "      <th>87</th>\n",
       "      <td>Virginia</td>\n",
       "      <td>Go</td>\n",
       "      <td>Go</td>\n",
       "      <td>0.500000</td>\n",
       "      <td>50.0%</td>\n",
       "    </tr>\n",
       "    <tr>\n",
       "      <th>79</th>\n",
       "      <td>Georgia Tech</td>\n",
       "      <td>Go</td>\n",
       "      <td>Go</td>\n",
       "      <td>0.473684</td>\n",
       "      <td>47.4%</td>\n",
       "    </tr>\n",
       "    <tr>\n",
       "      <th>77</th>\n",
       "      <td>Duke</td>\n",
       "      <td>Go</td>\n",
       "      <td>Go</td>\n",
       "      <td>0.416667</td>\n",
       "      <td>41.7%</td>\n",
       "    </tr>\n",
       "  </tbody>\n",
       "</table>\n",
       "</div>"
      ],
      "text/plain": [
       "         pos_team recommendation choice     value percentage\n",
       "80     Louisville             Go     Go  0.515152      51.5%\n",
       "78  Florida State             Go     Go  0.500000      50.0%\n",
       "87       Virginia             Go     Go  0.500000      50.0%\n",
       "79   Georgia Tech             Go     Go  0.473684      47.4%\n",
       "77           Duke             Go     Go  0.416667      41.7%"
      ]
     },
     "execution_count": 293,
     "metadata": {},
     "output_type": "execute_result"
    }
   ],
   "source": [
    "acc_team_df[(acc_team_df.recommendation == \"Go\") & (acc_team_df.recommendation == acc_team_df.choice)].sort_values(by=\"value\", ascending=False).head()"
   ]
  },
  {
   "cell_type": "code",
   "execution_count": 296,
   "metadata": {},
   "outputs": [
    {
     "data": {
      "application/vnd.plotly.v1+json": {
       "config": {
        "plotlyServerURL": "https://plot.ly"
       },
       "data": [
        {
         "marker": {
          "color": "#002c59"
         },
         "name": "FG",
         "type": "bar",
         "x": [
          [
           "FG",
           "FG",
           "FG",
           "FG",
           "FG",
           "FG",
           "FG",
           "Go",
           "Go",
           "Go",
           "Go",
           "Go",
           "Go",
           "Go",
           "Punt",
           "Punt",
           "Punt",
           "Punt",
           "Punt",
           "Punt",
           "Punt",
           "Toss-up",
           "Toss-up",
           "Toss-up",
           "Toss-up",
           "Toss-up",
           "Toss-up",
           "Toss-up"
          ],
          [
           "Boston College",
           "Clemson",
           "Florida State",
           "Louisville",
           "NC State",
           "Syracuse",
           "Wake Forest",
           "Boston College",
           "Clemson",
           "Florida State",
           "Louisville",
           "NC State",
           "Syracuse",
           "Wake Forest",
           "Boston College",
           "Clemson",
           "Florida State",
           "Louisville",
           "NC State",
           "Syracuse",
           "Wake Forest",
           "Boston College",
           "Clemson",
           "Florida State",
           "Louisville",
           "NC State",
           "Syracuse",
           "Wake Forest"
          ]
         ],
         "y": [
          0.9285714285714286,
          0.75,
          0.7142857142857143,
          0.6666666666666666,
          0.8571428571428571,
          0.5555555555555556,
          0.6666666666666666,
          0.03571428571428571,
          0.21428571428571427,
          0.1590909090909091,
          0.15151515151515152,
          0.25925925925925924,
          0.17647058823529413,
          0.23529411764705882,
          null,
          null,
          null,
          null,
          0.023255813953488372,
          null,
          null,
          0.1111111111111111,
          null,
          null,
          null,
          null,
          null,
          null
         ]
        },
        {
         "marker": {
          "color": "#B3A369"
         },
         "name": "Go",
         "type": "bar",
         "x": [
          [
           "FG",
           "FG",
           "FG",
           "FG",
           "FG",
           "FG",
           "FG",
           "Go",
           "Go",
           "Go",
           "Go",
           "Go",
           "Go",
           "Go",
           "Punt",
           "Punt",
           "Punt",
           "Punt",
           "Punt",
           "Punt",
           "Punt",
           "Toss-up",
           "Toss-up",
           "Toss-up",
           "Toss-up",
           "Toss-up",
           "Toss-up",
           "Toss-up"
          ],
          [
           "Boston College",
           "Clemson",
           "Florida State",
           "Louisville",
           "NC State",
           "Syracuse",
           "Wake Forest",
           "Boston College",
           "Clemson",
           "Florida State",
           "Louisville",
           "NC State",
           "Syracuse",
           "Wake Forest",
           "Boston College",
           "Clemson",
           "Florida State",
           "Louisville",
           "NC State",
           "Syracuse",
           "Wake Forest",
           "Boston College",
           "Clemson",
           "Florida State",
           "Louisville",
           "NC State",
           "Syracuse",
           "Wake Forest"
          ]
         ],
         "y": [
          0.07142857142857142,
          0.08333333333333333,
          0.2857142857142857,
          0.16666666666666666,
          null,
          0.1111111111111111,
          0.16666666666666666,
          0.39285714285714285,
          0.23809523809523808,
          0.5,
          0.5151515151515151,
          0.3333333333333333,
          0.35294117647058826,
          0.29411764705882354,
          null,
          null,
          0.05555555555555555,
          0.047619047619047616,
          0.023255813953488372,
          0.027777777777777776,
          0.13333333333333333,
          null,
          null,
          0.125,
          null,
          0.3333333333333333,
          0.08,
          0.3076923076923077
         ]
        },
        {
         "marker": {
          "color": "gold"
         },
         "name": "Penalty",
         "type": "bar",
         "x": [
          [
           "FG",
           "FG",
           "FG",
           "FG",
           "FG",
           "FG",
           "FG",
           "Go",
           "Go",
           "Go",
           "Go",
           "Go",
           "Go",
           "Go",
           "Punt",
           "Punt",
           "Punt",
           "Punt",
           "Punt",
           "Punt",
           "Punt",
           "Toss-up",
           "Toss-up",
           "Toss-up",
           "Toss-up",
           "Toss-up",
           "Toss-up",
           "Toss-up"
          ],
          [
           "Boston College",
           "Clemson",
           "Florida State",
           "Louisville",
           "NC State",
           "Syracuse",
           "Wake Forest",
           "Boston College",
           "Clemson",
           "Florida State",
           "Louisville",
           "NC State",
           "Syracuse",
           "Wake Forest",
           "Boston College",
           "Clemson",
           "Florida State",
           "Louisville",
           "NC State",
           "Syracuse",
           "Wake Forest",
           "Boston College",
           "Clemson",
           "Florida State",
           "Louisville",
           "NC State",
           "Syracuse",
           "Wake Forest"
          ]
         ],
         "y": [
          null,
          null,
          null,
          0.16666666666666666,
          0.14285714285714285,
          0.1111111111111111,
          0.08333333333333333,
          0.14285714285714285,
          0.047619047619047616,
          0.09090909090909091,
          0.12121212121212122,
          0.037037037037037035,
          null,
          0.029411764705882353,
          0.09523809523809523,
          null,
          null,
          null,
          0.06976744186046512,
          0.1111111111111111,
          0.06666666666666667,
          null,
          0.06666666666666667,
          null,
          0.09090909090909091,
          null,
          0.04,
          0.07692307692307693
         ]
        },
        {
         "marker": {
          "color": "gray"
         },
         "name": "Punt",
         "type": "bar",
         "x": [
          [
           "FG",
           "FG",
           "FG",
           "FG",
           "FG",
           "FG",
           "FG",
           "Go",
           "Go",
           "Go",
           "Go",
           "Go",
           "Go",
           "Go",
           "Punt",
           "Punt",
           "Punt",
           "Punt",
           "Punt",
           "Punt",
           "Punt",
           "Toss-up",
           "Toss-up",
           "Toss-up",
           "Toss-up",
           "Toss-up",
           "Toss-up",
           "Toss-up"
          ],
          [
           "Boston College",
           "Clemson",
           "Florida State",
           "Louisville",
           "NC State",
           "Syracuse",
           "Wake Forest",
           "Boston College",
           "Clemson",
           "Florida State",
           "Louisville",
           "NC State",
           "Syracuse",
           "Wake Forest",
           "Boston College",
           "Clemson",
           "Florida State",
           "Louisville",
           "NC State",
           "Syracuse",
           "Wake Forest",
           "Boston College",
           "Clemson",
           "Florida State",
           "Louisville",
           "NC State",
           "Syracuse",
           "Wake Forest"
          ]
         ],
         "y": [
          null,
          0.16666666666666666,
          null,
          null,
          null,
          0.2222222222222222,
          0.08333333333333333,
          0.42857142857142855,
          0.5,
          0.25,
          0.21212121212121213,
          0.37037037037037035,
          0.47058823529411764,
          0.4411764705882353,
          0.9047619047619048,
          1,
          0.9444444444444444,
          0.9523809523809523,
          0.8837209302325582,
          0.8611111111111112,
          0.8,
          0.8888888888888888,
          0.9333333333333333,
          0.875,
          0.9090909090909091,
          0.6666666666666666,
          0.88,
          0.6153846153846154
         ]
        }
       ],
       "layout": {
        "barmode": "stack",
        "height": 512,
        "legend": {
         "title": {
          "text": "Coach's Choice"
         }
        },
        "template": {
         "data": {
          "bar": [
           {
            "error_x": {
             "color": "rgb(36,36,36)"
            },
            "error_y": {
             "color": "rgb(36,36,36)"
            },
            "marker": {
             "line": {
              "color": "white",
              "width": 0.5
             }
            },
            "type": "bar"
           }
          ],
          "barpolar": [
           {
            "marker": {
             "line": {
              "color": "white",
              "width": 0.5
             }
            },
            "type": "barpolar"
           }
          ],
          "carpet": [
           {
            "aaxis": {
             "endlinecolor": "rgb(36,36,36)",
             "gridcolor": "white",
             "linecolor": "white",
             "minorgridcolor": "white",
             "startlinecolor": "rgb(36,36,36)"
            },
            "baxis": {
             "endlinecolor": "rgb(36,36,36)",
             "gridcolor": "white",
             "linecolor": "white",
             "minorgridcolor": "white",
             "startlinecolor": "rgb(36,36,36)"
            },
            "type": "carpet"
           }
          ],
          "choropleth": [
           {
            "colorbar": {
             "outlinewidth": 1,
             "tickcolor": "rgb(36,36,36)",
             "ticks": "outside"
            },
            "type": "choropleth"
           }
          ],
          "contour": [
           {
            "colorbar": {
             "outlinewidth": 1,
             "tickcolor": "rgb(36,36,36)",
             "ticks": "outside"
            },
            "colorscale": [
             [
              0,
              "#440154"
             ],
             [
              0.1111111111111111,
              "#482878"
             ],
             [
              0.2222222222222222,
              "#3e4989"
             ],
             [
              0.3333333333333333,
              "#31688e"
             ],
             [
              0.4444444444444444,
              "#26828e"
             ],
             [
              0.5555555555555556,
              "#1f9e89"
             ],
             [
              0.6666666666666666,
              "#35b779"
             ],
             [
              0.7777777777777778,
              "#6ece58"
             ],
             [
              0.8888888888888888,
              "#b5de2b"
             ],
             [
              1,
              "#fde725"
             ]
            ],
            "type": "contour"
           }
          ],
          "contourcarpet": [
           {
            "colorbar": {
             "outlinewidth": 1,
             "tickcolor": "rgb(36,36,36)",
             "ticks": "outside"
            },
            "type": "contourcarpet"
           }
          ],
          "heatmap": [
           {
            "colorbar": {
             "outlinewidth": 1,
             "tickcolor": "rgb(36,36,36)",
             "ticks": "outside"
            },
            "colorscale": [
             [
              0,
              "#440154"
             ],
             [
              0.1111111111111111,
              "#482878"
             ],
             [
              0.2222222222222222,
              "#3e4989"
             ],
             [
              0.3333333333333333,
              "#31688e"
             ],
             [
              0.4444444444444444,
              "#26828e"
             ],
             [
              0.5555555555555556,
              "#1f9e89"
             ],
             [
              0.6666666666666666,
              "#35b779"
             ],
             [
              0.7777777777777778,
              "#6ece58"
             ],
             [
              0.8888888888888888,
              "#b5de2b"
             ],
             [
              1,
              "#fde725"
             ]
            ],
            "type": "heatmap"
           }
          ],
          "heatmapgl": [
           {
            "colorbar": {
             "outlinewidth": 1,
             "tickcolor": "rgb(36,36,36)",
             "ticks": "outside"
            },
            "colorscale": [
             [
              0,
              "#440154"
             ],
             [
              0.1111111111111111,
              "#482878"
             ],
             [
              0.2222222222222222,
              "#3e4989"
             ],
             [
              0.3333333333333333,
              "#31688e"
             ],
             [
              0.4444444444444444,
              "#26828e"
             ],
             [
              0.5555555555555556,
              "#1f9e89"
             ],
             [
              0.6666666666666666,
              "#35b779"
             ],
             [
              0.7777777777777778,
              "#6ece58"
             ],
             [
              0.8888888888888888,
              "#b5de2b"
             ],
             [
              1,
              "#fde725"
             ]
            ],
            "type": "heatmapgl"
           }
          ],
          "histogram": [
           {
            "marker": {
             "line": {
              "color": "white",
              "width": 0.6
             }
            },
            "type": "histogram"
           }
          ],
          "histogram2d": [
           {
            "colorbar": {
             "outlinewidth": 1,
             "tickcolor": "rgb(36,36,36)",
             "ticks": "outside"
            },
            "colorscale": [
             [
              0,
              "#440154"
             ],
             [
              0.1111111111111111,
              "#482878"
             ],
             [
              0.2222222222222222,
              "#3e4989"
             ],
             [
              0.3333333333333333,
              "#31688e"
             ],
             [
              0.4444444444444444,
              "#26828e"
             ],
             [
              0.5555555555555556,
              "#1f9e89"
             ],
             [
              0.6666666666666666,
              "#35b779"
             ],
             [
              0.7777777777777778,
              "#6ece58"
             ],
             [
              0.8888888888888888,
              "#b5de2b"
             ],
             [
              1,
              "#fde725"
             ]
            ],
            "type": "histogram2d"
           }
          ],
          "histogram2dcontour": [
           {
            "colorbar": {
             "outlinewidth": 1,
             "tickcolor": "rgb(36,36,36)",
             "ticks": "outside"
            },
            "colorscale": [
             [
              0,
              "#440154"
             ],
             [
              0.1111111111111111,
              "#482878"
             ],
             [
              0.2222222222222222,
              "#3e4989"
             ],
             [
              0.3333333333333333,
              "#31688e"
             ],
             [
              0.4444444444444444,
              "#26828e"
             ],
             [
              0.5555555555555556,
              "#1f9e89"
             ],
             [
              0.6666666666666666,
              "#35b779"
             ],
             [
              0.7777777777777778,
              "#6ece58"
             ],
             [
              0.8888888888888888,
              "#b5de2b"
             ],
             [
              1,
              "#fde725"
             ]
            ],
            "type": "histogram2dcontour"
           }
          ],
          "mesh3d": [
           {
            "colorbar": {
             "outlinewidth": 1,
             "tickcolor": "rgb(36,36,36)",
             "ticks": "outside"
            },
            "type": "mesh3d"
           }
          ],
          "parcoords": [
           {
            "line": {
             "colorbar": {
              "outlinewidth": 1,
              "tickcolor": "rgb(36,36,36)",
              "ticks": "outside"
             }
            },
            "type": "parcoords"
           }
          ],
          "pie": [
           {
            "automargin": true,
            "type": "pie"
           }
          ],
          "scatter": [
           {
            "marker": {
             "colorbar": {
              "outlinewidth": 1,
              "tickcolor": "rgb(36,36,36)",
              "ticks": "outside"
             }
            },
            "type": "scatter"
           }
          ],
          "scatter3d": [
           {
            "line": {
             "colorbar": {
              "outlinewidth": 1,
              "tickcolor": "rgb(36,36,36)",
              "ticks": "outside"
             }
            },
            "marker": {
             "colorbar": {
              "outlinewidth": 1,
              "tickcolor": "rgb(36,36,36)",
              "ticks": "outside"
             }
            },
            "type": "scatter3d"
           }
          ],
          "scattercarpet": [
           {
            "marker": {
             "colorbar": {
              "outlinewidth": 1,
              "tickcolor": "rgb(36,36,36)",
              "ticks": "outside"
             }
            },
            "type": "scattercarpet"
           }
          ],
          "scattergeo": [
           {
            "marker": {
             "colorbar": {
              "outlinewidth": 1,
              "tickcolor": "rgb(36,36,36)",
              "ticks": "outside"
             }
            },
            "type": "scattergeo"
           }
          ],
          "scattergl": [
           {
            "marker": {
             "colorbar": {
              "outlinewidth": 1,
              "tickcolor": "rgb(36,36,36)",
              "ticks": "outside"
             }
            },
            "type": "scattergl"
           }
          ],
          "scattermapbox": [
           {
            "marker": {
             "colorbar": {
              "outlinewidth": 1,
              "tickcolor": "rgb(36,36,36)",
              "ticks": "outside"
             }
            },
            "type": "scattermapbox"
           }
          ],
          "scatterpolar": [
           {
            "marker": {
             "colorbar": {
              "outlinewidth": 1,
              "tickcolor": "rgb(36,36,36)",
              "ticks": "outside"
             }
            },
            "type": "scatterpolar"
           }
          ],
          "scatterpolargl": [
           {
            "marker": {
             "colorbar": {
              "outlinewidth": 1,
              "tickcolor": "rgb(36,36,36)",
              "ticks": "outside"
             }
            },
            "type": "scatterpolargl"
           }
          ],
          "scatterternary": [
           {
            "marker": {
             "colorbar": {
              "outlinewidth": 1,
              "tickcolor": "rgb(36,36,36)",
              "ticks": "outside"
             }
            },
            "type": "scatterternary"
           }
          ],
          "surface": [
           {
            "colorbar": {
             "outlinewidth": 1,
             "tickcolor": "rgb(36,36,36)",
             "ticks": "outside"
            },
            "colorscale": [
             [
              0,
              "#440154"
             ],
             [
              0.1111111111111111,
              "#482878"
             ],
             [
              0.2222222222222222,
              "#3e4989"
             ],
             [
              0.3333333333333333,
              "#31688e"
             ],
             [
              0.4444444444444444,
              "#26828e"
             ],
             [
              0.5555555555555556,
              "#1f9e89"
             ],
             [
              0.6666666666666666,
              "#35b779"
             ],
             [
              0.7777777777777778,
              "#6ece58"
             ],
             [
              0.8888888888888888,
              "#b5de2b"
             ],
             [
              1,
              "#fde725"
             ]
            ],
            "type": "surface"
           }
          ],
          "table": [
           {
            "cells": {
             "fill": {
              "color": "rgb(237,237,237)"
             },
             "line": {
              "color": "white"
             }
            },
            "header": {
             "fill": {
              "color": "rgb(217,217,217)"
             },
             "line": {
              "color": "white"
             }
            },
            "type": "table"
           }
          ]
         },
         "layout": {
          "annotationdefaults": {
           "arrowhead": 0,
           "arrowwidth": 1
          },
          "coloraxis": {
           "colorbar": {
            "outlinewidth": 1,
            "tickcolor": "rgb(36,36,36)",
            "ticks": "outside"
           }
          },
          "colorscale": {
           "diverging": [
            [
             0,
             "rgb(103,0,31)"
            ],
            [
             0.1,
             "rgb(178,24,43)"
            ],
            [
             0.2,
             "rgb(214,96,77)"
            ],
            [
             0.3,
             "rgb(244,165,130)"
            ],
            [
             0.4,
             "rgb(253,219,199)"
            ],
            [
             0.5,
             "rgb(247,247,247)"
            ],
            [
             0.6,
             "rgb(209,229,240)"
            ],
            [
             0.7,
             "rgb(146,197,222)"
            ],
            [
             0.8,
             "rgb(67,147,195)"
            ],
            [
             0.9,
             "rgb(33,102,172)"
            ],
            [
             1,
             "rgb(5,48,97)"
            ]
           ],
           "sequential": [
            [
             0,
             "#440154"
            ],
            [
             0.1111111111111111,
             "#482878"
            ],
            [
             0.2222222222222222,
             "#3e4989"
            ],
            [
             0.3333333333333333,
             "#31688e"
            ],
            [
             0.4444444444444444,
             "#26828e"
            ],
            [
             0.5555555555555556,
             "#1f9e89"
            ],
            [
             0.6666666666666666,
             "#35b779"
            ],
            [
             0.7777777777777778,
             "#6ece58"
            ],
            [
             0.8888888888888888,
             "#b5de2b"
            ],
            [
             1,
             "#fde725"
            ]
           ],
           "sequentialminus": [
            [
             0,
             "#440154"
            ],
            [
             0.1111111111111111,
             "#482878"
            ],
            [
             0.2222222222222222,
             "#3e4989"
            ],
            [
             0.3333333333333333,
             "#31688e"
            ],
            [
             0.4444444444444444,
             "#26828e"
            ],
            [
             0.5555555555555556,
             "#1f9e89"
            ],
            [
             0.6666666666666666,
             "#35b779"
            ],
            [
             0.7777777777777778,
             "#6ece58"
            ],
            [
             0.8888888888888888,
             "#b5de2b"
            ],
            [
             1,
             "#fde725"
            ]
           ]
          },
          "colorway": [
           "#1F77B4",
           "#FF7F0E",
           "#2CA02C",
           "#D62728",
           "#9467BD",
           "#8C564B",
           "#E377C2",
           "#7F7F7F",
           "#BCBD22",
           "#17BECF"
          ],
          "font": {
           "color": "rgb(36,36,36)"
          },
          "geo": {
           "bgcolor": "white",
           "lakecolor": "white",
           "landcolor": "white",
           "showlakes": true,
           "showland": true,
           "subunitcolor": "white"
          },
          "hoverlabel": {
           "align": "left"
          },
          "hovermode": "closest",
          "mapbox": {
           "style": "light"
          },
          "paper_bgcolor": "white",
          "plot_bgcolor": "white",
          "polar": {
           "angularaxis": {
            "gridcolor": "rgb(232,232,232)",
            "linecolor": "rgb(36,36,36)",
            "showgrid": false,
            "showline": true,
            "ticks": "outside"
           },
           "bgcolor": "white",
           "radialaxis": {
            "gridcolor": "rgb(232,232,232)",
            "linecolor": "rgb(36,36,36)",
            "showgrid": false,
            "showline": true,
            "ticks": "outside"
           }
          },
          "scene": {
           "xaxis": {
            "backgroundcolor": "white",
            "gridcolor": "rgb(232,232,232)",
            "gridwidth": 2,
            "linecolor": "rgb(36,36,36)",
            "showbackground": true,
            "showgrid": false,
            "showline": true,
            "ticks": "outside",
            "zeroline": false,
            "zerolinecolor": "rgb(36,36,36)"
           },
           "yaxis": {
            "backgroundcolor": "white",
            "gridcolor": "rgb(232,232,232)",
            "gridwidth": 2,
            "linecolor": "rgb(36,36,36)",
            "showbackground": true,
            "showgrid": false,
            "showline": true,
            "ticks": "outside",
            "zeroline": false,
            "zerolinecolor": "rgb(36,36,36)"
           },
           "zaxis": {
            "backgroundcolor": "white",
            "gridcolor": "rgb(232,232,232)",
            "gridwidth": 2,
            "linecolor": "rgb(36,36,36)",
            "showbackground": true,
            "showgrid": false,
            "showline": true,
            "ticks": "outside",
            "zeroline": false,
            "zerolinecolor": "rgb(36,36,36)"
           }
          },
          "shapedefaults": {
           "fillcolor": "black",
           "line": {
            "width": 0
           },
           "opacity": 0.3
          },
          "ternary": {
           "aaxis": {
            "gridcolor": "rgb(232,232,232)",
            "linecolor": "rgb(36,36,36)",
            "showgrid": false,
            "showline": true,
            "ticks": "outside"
           },
           "baxis": {
            "gridcolor": "rgb(232,232,232)",
            "linecolor": "rgb(36,36,36)",
            "showgrid": false,
            "showline": true,
            "ticks": "outside"
           },
           "bgcolor": "white",
           "caxis": {
            "gridcolor": "rgb(232,232,232)",
            "linecolor": "rgb(36,36,36)",
            "showgrid": false,
            "showline": true,
            "ticks": "outside"
           }
          },
          "title": {
           "x": 0.05
          },
          "xaxis": {
           "automargin": true,
           "gridcolor": "rgb(232,232,232)",
           "linecolor": "rgb(36,36,36)",
           "showgrid": false,
           "showline": true,
           "ticks": "outside",
           "title": {
            "standoff": 15
           },
           "zeroline": false,
           "zerolinecolor": "rgb(36,36,36)"
          },
          "yaxis": {
           "automargin": true,
           "gridcolor": "rgb(232,232,232)",
           "linecolor": "rgb(36,36,36)",
           "showgrid": false,
           "showline": true,
           "ticks": "outside",
           "title": {
            "standoff": 15
           },
           "zeroline": false,
           "zerolinecolor": "rgb(36,36,36)"
          }
         }
        },
        "title": {
         "text": "<b>ACC Atlantic 4th Down Decision Making in 2020</b><br><span style=\"color:#222;font-size:12px;\">Recommendations provided by A.I. Sports 4th Down Bot, created by Jared Lee (<a href=\"https://twitter.com/JDLee\">@JDLee</a>). Chart created by Akshay Easwaran (<a href=\"https://twitter.com/akeaswaran\">@akeaswaran</a>).</span>"
        },
        "width": 1024,
        "xaxis": {
         "title": {
          "text": "Optimal Decision"
         }
        },
        "yaxis": {
         "tickformat": ".0%"
        }
       }
      },
      "text/html": [
       "<div>\n",
       "        \n",
       "        \n",
       "            <div id=\"7053ba60-b572-48c3-a815-d1ac45a74b6d\" class=\"plotly-graph-div\" style=\"height:512px; width:1024px;\"></div>\n",
       "            <script type=\"text/javascript\">\n",
       "                require([\"plotly\"], function(Plotly) {\n",
       "                    window.PLOTLYENV=window.PLOTLYENV || {};\n",
       "                    \n",
       "                if (document.getElementById(\"7053ba60-b572-48c3-a815-d1ac45a74b6d\")) {\n",
       "                    Plotly.newPlot(\n",
       "                        '7053ba60-b572-48c3-a815-d1ac45a74b6d',\n",
       "                        [{\"marker\": {\"color\": \"#002c59\"}, \"name\": \"FG\", \"type\": \"bar\", \"x\": [[\"FG\", \"FG\", \"FG\", \"FG\", \"FG\", \"FG\", \"FG\", \"Go\", \"Go\", \"Go\", \"Go\", \"Go\", \"Go\", \"Go\", \"Punt\", \"Punt\", \"Punt\", \"Punt\", \"Punt\", \"Punt\", \"Punt\", \"Toss-up\", \"Toss-up\", \"Toss-up\", \"Toss-up\", \"Toss-up\", \"Toss-up\", \"Toss-up\"], [\"Boston College\", \"Clemson\", \"Florida State\", \"Louisville\", \"NC State\", \"Syracuse\", \"Wake Forest\", \"Boston College\", \"Clemson\", \"Florida State\", \"Louisville\", \"NC State\", \"Syracuse\", \"Wake Forest\", \"Boston College\", \"Clemson\", \"Florida State\", \"Louisville\", \"NC State\", \"Syracuse\", \"Wake Forest\", \"Boston College\", \"Clemson\", \"Florida State\", \"Louisville\", \"NC State\", \"Syracuse\", \"Wake Forest\"]], \"y\": [0.9285714285714286, 0.75, 0.7142857142857143, 0.6666666666666666, 0.8571428571428571, 0.5555555555555556, 0.6666666666666666, 0.03571428571428571, 0.21428571428571427, 0.1590909090909091, 0.15151515151515152, 0.25925925925925924, 0.17647058823529413, 0.23529411764705882, null, null, null, null, 0.023255813953488372, null, null, 0.1111111111111111, null, null, null, null, null, null]}, {\"marker\": {\"color\": \"#B3A369\"}, \"name\": \"Go\", \"type\": \"bar\", \"x\": [[\"FG\", \"FG\", \"FG\", \"FG\", \"FG\", \"FG\", \"FG\", \"Go\", \"Go\", \"Go\", \"Go\", \"Go\", \"Go\", \"Go\", \"Punt\", \"Punt\", \"Punt\", \"Punt\", \"Punt\", \"Punt\", \"Punt\", \"Toss-up\", \"Toss-up\", \"Toss-up\", \"Toss-up\", \"Toss-up\", \"Toss-up\", \"Toss-up\"], [\"Boston College\", \"Clemson\", \"Florida State\", \"Louisville\", \"NC State\", \"Syracuse\", \"Wake Forest\", \"Boston College\", \"Clemson\", \"Florida State\", \"Louisville\", \"NC State\", \"Syracuse\", \"Wake Forest\", \"Boston College\", \"Clemson\", \"Florida State\", \"Louisville\", \"NC State\", \"Syracuse\", \"Wake Forest\", \"Boston College\", \"Clemson\", \"Florida State\", \"Louisville\", \"NC State\", \"Syracuse\", \"Wake Forest\"]], \"y\": [0.07142857142857142, 0.08333333333333333, 0.2857142857142857, 0.16666666666666666, null, 0.1111111111111111, 0.16666666666666666, 0.39285714285714285, 0.23809523809523808, 0.5, 0.5151515151515151, 0.3333333333333333, 0.35294117647058826, 0.29411764705882354, null, null, 0.05555555555555555, 0.047619047619047616, 0.023255813953488372, 0.027777777777777776, 0.13333333333333333, null, null, 0.125, null, 0.3333333333333333, 0.08, 0.3076923076923077]}, {\"marker\": {\"color\": \"gold\"}, \"name\": \"Penalty\", \"type\": \"bar\", \"x\": [[\"FG\", \"FG\", \"FG\", \"FG\", \"FG\", \"FG\", \"FG\", \"Go\", \"Go\", \"Go\", \"Go\", \"Go\", \"Go\", \"Go\", \"Punt\", \"Punt\", \"Punt\", \"Punt\", \"Punt\", \"Punt\", \"Punt\", \"Toss-up\", \"Toss-up\", \"Toss-up\", \"Toss-up\", \"Toss-up\", \"Toss-up\", \"Toss-up\"], [\"Boston College\", \"Clemson\", \"Florida State\", \"Louisville\", \"NC State\", \"Syracuse\", \"Wake Forest\", \"Boston College\", \"Clemson\", \"Florida State\", \"Louisville\", \"NC State\", \"Syracuse\", \"Wake Forest\", \"Boston College\", \"Clemson\", \"Florida State\", \"Louisville\", \"NC State\", \"Syracuse\", \"Wake Forest\", \"Boston College\", \"Clemson\", \"Florida State\", \"Louisville\", \"NC State\", \"Syracuse\", \"Wake Forest\"]], \"y\": [null, null, null, 0.16666666666666666, 0.14285714285714285, 0.1111111111111111, 0.08333333333333333, 0.14285714285714285, 0.047619047619047616, 0.09090909090909091, 0.12121212121212122, 0.037037037037037035, null, 0.029411764705882353, 0.09523809523809523, null, null, null, 0.06976744186046512, 0.1111111111111111, 0.06666666666666667, null, 0.06666666666666667, null, 0.09090909090909091, null, 0.04, 0.07692307692307693]}, {\"marker\": {\"color\": \"gray\"}, \"name\": \"Punt\", \"type\": \"bar\", \"x\": [[\"FG\", \"FG\", \"FG\", \"FG\", \"FG\", \"FG\", \"FG\", \"Go\", \"Go\", \"Go\", \"Go\", \"Go\", \"Go\", \"Go\", \"Punt\", \"Punt\", \"Punt\", \"Punt\", \"Punt\", \"Punt\", \"Punt\", \"Toss-up\", \"Toss-up\", \"Toss-up\", \"Toss-up\", \"Toss-up\", \"Toss-up\", \"Toss-up\"], [\"Boston College\", \"Clemson\", \"Florida State\", \"Louisville\", \"NC State\", \"Syracuse\", \"Wake Forest\", \"Boston College\", \"Clemson\", \"Florida State\", \"Louisville\", \"NC State\", \"Syracuse\", \"Wake Forest\", \"Boston College\", \"Clemson\", \"Florida State\", \"Louisville\", \"NC State\", \"Syracuse\", \"Wake Forest\", \"Boston College\", \"Clemson\", \"Florida State\", \"Louisville\", \"NC State\", \"Syracuse\", \"Wake Forest\"]], \"y\": [null, 0.16666666666666666, null, null, null, 0.2222222222222222, 0.08333333333333333, 0.42857142857142855, 0.5, 0.25, 0.21212121212121213, 0.37037037037037035, 0.47058823529411764, 0.4411764705882353, 0.9047619047619048, 1.0, 0.9444444444444444, 0.9523809523809523, 0.8837209302325582, 0.8611111111111112, 0.8, 0.8888888888888888, 0.9333333333333333, 0.875, 0.9090909090909091, 0.6666666666666666, 0.88, 0.6153846153846154]}],\n",
       "                        {\"barmode\": \"stack\", \"height\": 512, \"legend\": {\"title\": {\"text\": \"Coach's Choice\"}}, \"template\": {\"data\": {\"bar\": [{\"error_x\": {\"color\": \"rgb(36,36,36)\"}, \"error_y\": {\"color\": \"rgb(36,36,36)\"}, \"marker\": {\"line\": {\"color\": \"white\", \"width\": 0.5}}, \"type\": \"bar\"}], \"barpolar\": [{\"marker\": {\"line\": {\"color\": \"white\", \"width\": 0.5}}, \"type\": \"barpolar\"}], \"carpet\": [{\"aaxis\": {\"endlinecolor\": \"rgb(36,36,36)\", \"gridcolor\": \"white\", \"linecolor\": \"white\", \"minorgridcolor\": \"white\", \"startlinecolor\": \"rgb(36,36,36)\"}, \"baxis\": {\"endlinecolor\": \"rgb(36,36,36)\", \"gridcolor\": \"white\", \"linecolor\": \"white\", \"minorgridcolor\": \"white\", \"startlinecolor\": \"rgb(36,36,36)\"}, \"type\": \"carpet\"}], \"choropleth\": [{\"colorbar\": {\"outlinewidth\": 1, \"tickcolor\": \"rgb(36,36,36)\", \"ticks\": \"outside\"}, \"type\": \"choropleth\"}], \"contour\": [{\"colorbar\": {\"outlinewidth\": 1, \"tickcolor\": \"rgb(36,36,36)\", \"ticks\": \"outside\"}, \"colorscale\": [[0.0, \"#440154\"], [0.1111111111111111, \"#482878\"], [0.2222222222222222, \"#3e4989\"], [0.3333333333333333, \"#31688e\"], [0.4444444444444444, \"#26828e\"], [0.5555555555555556, \"#1f9e89\"], [0.6666666666666666, \"#35b779\"], [0.7777777777777778, \"#6ece58\"], [0.8888888888888888, \"#b5de2b\"], [1.0, \"#fde725\"]], \"type\": \"contour\"}], \"contourcarpet\": [{\"colorbar\": {\"outlinewidth\": 1, \"tickcolor\": \"rgb(36,36,36)\", \"ticks\": \"outside\"}, \"type\": \"contourcarpet\"}], \"heatmap\": [{\"colorbar\": {\"outlinewidth\": 1, \"tickcolor\": \"rgb(36,36,36)\", \"ticks\": \"outside\"}, \"colorscale\": [[0.0, \"#440154\"], [0.1111111111111111, \"#482878\"], [0.2222222222222222, \"#3e4989\"], [0.3333333333333333, \"#31688e\"], [0.4444444444444444, \"#26828e\"], [0.5555555555555556, \"#1f9e89\"], [0.6666666666666666, \"#35b779\"], [0.7777777777777778, \"#6ece58\"], [0.8888888888888888, \"#b5de2b\"], [1.0, \"#fde725\"]], \"type\": \"heatmap\"}], \"heatmapgl\": [{\"colorbar\": {\"outlinewidth\": 1, \"tickcolor\": \"rgb(36,36,36)\", \"ticks\": \"outside\"}, \"colorscale\": [[0.0, \"#440154\"], [0.1111111111111111, \"#482878\"], [0.2222222222222222, \"#3e4989\"], [0.3333333333333333, \"#31688e\"], [0.4444444444444444, \"#26828e\"], [0.5555555555555556, \"#1f9e89\"], [0.6666666666666666, \"#35b779\"], [0.7777777777777778, \"#6ece58\"], [0.8888888888888888, \"#b5de2b\"], [1.0, \"#fde725\"]], \"type\": \"heatmapgl\"}], \"histogram\": [{\"marker\": {\"line\": {\"color\": \"white\", \"width\": 0.6}}, \"type\": \"histogram\"}], \"histogram2d\": [{\"colorbar\": {\"outlinewidth\": 1, \"tickcolor\": \"rgb(36,36,36)\", \"ticks\": \"outside\"}, \"colorscale\": [[0.0, \"#440154\"], [0.1111111111111111, \"#482878\"], [0.2222222222222222, \"#3e4989\"], [0.3333333333333333, \"#31688e\"], [0.4444444444444444, \"#26828e\"], [0.5555555555555556, \"#1f9e89\"], [0.6666666666666666, \"#35b779\"], [0.7777777777777778, \"#6ece58\"], [0.8888888888888888, \"#b5de2b\"], [1.0, \"#fde725\"]], \"type\": \"histogram2d\"}], \"histogram2dcontour\": [{\"colorbar\": {\"outlinewidth\": 1, \"tickcolor\": \"rgb(36,36,36)\", \"ticks\": \"outside\"}, \"colorscale\": [[0.0, \"#440154\"], [0.1111111111111111, \"#482878\"], [0.2222222222222222, \"#3e4989\"], [0.3333333333333333, \"#31688e\"], [0.4444444444444444, \"#26828e\"], [0.5555555555555556, \"#1f9e89\"], [0.6666666666666666, \"#35b779\"], [0.7777777777777778, \"#6ece58\"], [0.8888888888888888, \"#b5de2b\"], [1.0, \"#fde725\"]], \"type\": \"histogram2dcontour\"}], \"mesh3d\": [{\"colorbar\": {\"outlinewidth\": 1, \"tickcolor\": \"rgb(36,36,36)\", \"ticks\": \"outside\"}, \"type\": \"mesh3d\"}], \"parcoords\": [{\"line\": {\"colorbar\": {\"outlinewidth\": 1, \"tickcolor\": \"rgb(36,36,36)\", \"ticks\": \"outside\"}}, \"type\": \"parcoords\"}], \"pie\": [{\"automargin\": true, \"type\": \"pie\"}], \"scatter\": [{\"marker\": {\"colorbar\": {\"outlinewidth\": 1, \"tickcolor\": \"rgb(36,36,36)\", \"ticks\": \"outside\"}}, \"type\": \"scatter\"}], \"scatter3d\": [{\"line\": {\"colorbar\": {\"outlinewidth\": 1, \"tickcolor\": \"rgb(36,36,36)\", \"ticks\": \"outside\"}}, \"marker\": {\"colorbar\": {\"outlinewidth\": 1, \"tickcolor\": \"rgb(36,36,36)\", \"ticks\": \"outside\"}}, \"type\": \"scatter3d\"}], \"scattercarpet\": [{\"marker\": {\"colorbar\": {\"outlinewidth\": 1, \"tickcolor\": \"rgb(36,36,36)\", \"ticks\": \"outside\"}}, \"type\": \"scattercarpet\"}], \"scattergeo\": [{\"marker\": {\"colorbar\": {\"outlinewidth\": 1, \"tickcolor\": \"rgb(36,36,36)\", \"ticks\": \"outside\"}}, \"type\": \"scattergeo\"}], \"scattergl\": [{\"marker\": {\"colorbar\": {\"outlinewidth\": 1, \"tickcolor\": \"rgb(36,36,36)\", \"ticks\": \"outside\"}}, \"type\": \"scattergl\"}], \"scattermapbox\": [{\"marker\": {\"colorbar\": {\"outlinewidth\": 1, \"tickcolor\": \"rgb(36,36,36)\", \"ticks\": \"outside\"}}, \"type\": \"scattermapbox\"}], \"scatterpolar\": [{\"marker\": {\"colorbar\": {\"outlinewidth\": 1, \"tickcolor\": \"rgb(36,36,36)\", \"ticks\": \"outside\"}}, \"type\": \"scatterpolar\"}], \"scatterpolargl\": [{\"marker\": {\"colorbar\": {\"outlinewidth\": 1, \"tickcolor\": \"rgb(36,36,36)\", \"ticks\": \"outside\"}}, \"type\": \"scatterpolargl\"}], \"scatterternary\": [{\"marker\": {\"colorbar\": {\"outlinewidth\": 1, \"tickcolor\": \"rgb(36,36,36)\", \"ticks\": \"outside\"}}, \"type\": \"scatterternary\"}], \"surface\": [{\"colorbar\": {\"outlinewidth\": 1, \"tickcolor\": \"rgb(36,36,36)\", \"ticks\": \"outside\"}, \"colorscale\": [[0.0, \"#440154\"], [0.1111111111111111, \"#482878\"], [0.2222222222222222, \"#3e4989\"], [0.3333333333333333, \"#31688e\"], [0.4444444444444444, \"#26828e\"], [0.5555555555555556, \"#1f9e89\"], [0.6666666666666666, \"#35b779\"], [0.7777777777777778, \"#6ece58\"], [0.8888888888888888, \"#b5de2b\"], [1.0, \"#fde725\"]], \"type\": \"surface\"}], \"table\": [{\"cells\": {\"fill\": {\"color\": \"rgb(237,237,237)\"}, \"line\": {\"color\": \"white\"}}, \"header\": {\"fill\": {\"color\": \"rgb(217,217,217)\"}, \"line\": {\"color\": \"white\"}}, \"type\": \"table\"}]}, \"layout\": {\"annotationdefaults\": {\"arrowhead\": 0, \"arrowwidth\": 1}, \"coloraxis\": {\"colorbar\": {\"outlinewidth\": 1, \"tickcolor\": \"rgb(36,36,36)\", \"ticks\": \"outside\"}}, \"colorscale\": {\"diverging\": [[0.0, \"rgb(103,0,31)\"], [0.1, \"rgb(178,24,43)\"], [0.2, \"rgb(214,96,77)\"], [0.3, \"rgb(244,165,130)\"], [0.4, \"rgb(253,219,199)\"], [0.5, \"rgb(247,247,247)\"], [0.6, \"rgb(209,229,240)\"], [0.7, \"rgb(146,197,222)\"], [0.8, \"rgb(67,147,195)\"], [0.9, \"rgb(33,102,172)\"], [1.0, \"rgb(5,48,97)\"]], \"sequential\": [[0.0, \"#440154\"], [0.1111111111111111, \"#482878\"], [0.2222222222222222, \"#3e4989\"], [0.3333333333333333, \"#31688e\"], [0.4444444444444444, \"#26828e\"], [0.5555555555555556, \"#1f9e89\"], [0.6666666666666666, \"#35b779\"], [0.7777777777777778, \"#6ece58\"], [0.8888888888888888, \"#b5de2b\"], [1.0, \"#fde725\"]], \"sequentialminus\": [[0.0, \"#440154\"], [0.1111111111111111, \"#482878\"], [0.2222222222222222, \"#3e4989\"], [0.3333333333333333, \"#31688e\"], [0.4444444444444444, \"#26828e\"], [0.5555555555555556, \"#1f9e89\"], [0.6666666666666666, \"#35b779\"], [0.7777777777777778, \"#6ece58\"], [0.8888888888888888, \"#b5de2b\"], [1.0, \"#fde725\"]]}, \"colorway\": [\"#1F77B4\", \"#FF7F0E\", \"#2CA02C\", \"#D62728\", \"#9467BD\", \"#8C564B\", \"#E377C2\", \"#7F7F7F\", \"#BCBD22\", \"#17BECF\"], \"font\": {\"color\": \"rgb(36,36,36)\"}, \"geo\": {\"bgcolor\": \"white\", \"lakecolor\": \"white\", \"landcolor\": \"white\", \"showlakes\": true, \"showland\": true, \"subunitcolor\": \"white\"}, \"hoverlabel\": {\"align\": \"left\"}, \"hovermode\": \"closest\", \"mapbox\": {\"style\": \"light\"}, \"paper_bgcolor\": \"white\", \"plot_bgcolor\": \"white\", \"polar\": {\"angularaxis\": {\"gridcolor\": \"rgb(232,232,232)\", \"linecolor\": \"rgb(36,36,36)\", \"showgrid\": false, \"showline\": true, \"ticks\": \"outside\"}, \"bgcolor\": \"white\", \"radialaxis\": {\"gridcolor\": \"rgb(232,232,232)\", \"linecolor\": \"rgb(36,36,36)\", \"showgrid\": false, \"showline\": true, \"ticks\": \"outside\"}}, \"scene\": {\"xaxis\": {\"backgroundcolor\": \"white\", \"gridcolor\": \"rgb(232,232,232)\", \"gridwidth\": 2, \"linecolor\": \"rgb(36,36,36)\", \"showbackground\": true, \"showgrid\": false, \"showline\": true, \"ticks\": \"outside\", \"zeroline\": false, \"zerolinecolor\": \"rgb(36,36,36)\"}, \"yaxis\": {\"backgroundcolor\": \"white\", \"gridcolor\": \"rgb(232,232,232)\", \"gridwidth\": 2, \"linecolor\": \"rgb(36,36,36)\", \"showbackground\": true, \"showgrid\": false, \"showline\": true, \"ticks\": \"outside\", \"zeroline\": false, \"zerolinecolor\": \"rgb(36,36,36)\"}, \"zaxis\": {\"backgroundcolor\": \"white\", \"gridcolor\": \"rgb(232,232,232)\", \"gridwidth\": 2, \"linecolor\": \"rgb(36,36,36)\", \"showbackground\": true, \"showgrid\": false, \"showline\": true, \"ticks\": \"outside\", \"zeroline\": false, \"zerolinecolor\": \"rgb(36,36,36)\"}}, \"shapedefaults\": {\"fillcolor\": \"black\", \"line\": {\"width\": 0}, \"opacity\": 0.3}, \"ternary\": {\"aaxis\": {\"gridcolor\": \"rgb(232,232,232)\", \"linecolor\": \"rgb(36,36,36)\", \"showgrid\": false, \"showline\": true, \"ticks\": \"outside\"}, \"baxis\": {\"gridcolor\": \"rgb(232,232,232)\", \"linecolor\": \"rgb(36,36,36)\", \"showgrid\": false, \"showline\": true, \"ticks\": \"outside\"}, \"bgcolor\": \"white\", \"caxis\": {\"gridcolor\": \"rgb(232,232,232)\", \"linecolor\": \"rgb(36,36,36)\", \"showgrid\": false, \"showline\": true, \"ticks\": \"outside\"}}, \"title\": {\"x\": 0.05}, \"xaxis\": {\"automargin\": true, \"gridcolor\": \"rgb(232,232,232)\", \"linecolor\": \"rgb(36,36,36)\", \"showgrid\": false, \"showline\": true, \"ticks\": \"outside\", \"title\": {\"standoff\": 15}, \"zeroline\": false, \"zerolinecolor\": \"rgb(36,36,36)\"}, \"yaxis\": {\"automargin\": true, \"gridcolor\": \"rgb(232,232,232)\", \"linecolor\": \"rgb(36,36,36)\", \"showgrid\": false, \"showline\": true, \"ticks\": \"outside\", \"title\": {\"standoff\": 15}, \"zeroline\": false, \"zerolinecolor\": \"rgb(36,36,36)\"}}}, \"title\": {\"text\": \"<b>ACC Atlantic 4th Down Decision Making in 2020</b><br><span style=\\\"color:#222;font-size:12px;\\\">Recommendations provided by A.I. Sports 4th Down Bot, created by Jared Lee (<a href=\\\"https://twitter.com/JDLee\\\">@JDLee</a>). Chart created by Akshay Easwaran (<a href=\\\"https://twitter.com/akeaswaran\\\">@akeaswaran</a>).</span>\"}, \"width\": 1024, \"xaxis\": {\"title\": {\"text\": \"Optimal Decision\"}}, \"yaxis\": {\"tickformat\": \".0%\"}},\n",
       "                        {\"responsive\": true}\n",
       "                    ).then(function(){\n",
       "                            \n",
       "var gd = document.getElementById('7053ba60-b572-48c3-a815-d1ac45a74b6d');\n",
       "var x = new MutationObserver(function (mutations, observer) {{\n",
       "        var display = window.getComputedStyle(gd).display;\n",
       "        if (!display || display === 'none') {{\n",
       "            console.log([gd, 'removed!']);\n",
       "            Plotly.purge(gd);\n",
       "            observer.disconnect();\n",
       "        }}\n",
       "}});\n",
       "\n",
       "// Listen for the removal of the full notebook cells\n",
       "var notebookContainer = gd.closest('#notebook-container');\n",
       "if (notebookContainer) {{\n",
       "    x.observe(notebookContainer, {childList: true});\n",
       "}}\n",
       "\n",
       "// Listen for the clearing of the current output cell\n",
       "var outputEl = gd.closest('.output');\n",
       "if (outputEl) {{\n",
       "    x.observe(outputEl, {childList: true});\n",
       "}}\n",
       "\n",
       "                        })\n",
       "                };\n",
       "                });\n",
       "            </script>\n",
       "        </div>"
      ]
     },
     "metadata": {},
     "output_type": "display_data"
    }
   ],
   "source": [
    "fig = go.Figure()\n",
    "\n",
    "fig.update_layout(\n",
    "    template=\"simple_white\",\n",
    "    xaxis=dict(title_text=\"Optimal Decision\"),\n",
    "    yaxis=dict(tickformat=\".0%\"),\n",
    "    barmode=\"stack\",\n",
    "    title='<b>ACC Atlantic 4th Down Decision Making in 2020</b><br><span style=\"color:#222;font-size:12px;\">Recommendations provided by A.I. Sports 4th Down Bot, created by Jared Lee (<a href=\"https://twitter.com/JDLee\">@JDLee</a>). Chart created by Akshay Easwaran (<a href=\"https://twitter.com/akeaswaran\">@akeaswaran</a>).</span>',\n",
    "    legend_title=\"Coach's Choice\",\n",
    "    width=1024,\n",
    "    height=512\n",
    ")\n",
    "\n",
    "\n",
    "colors = ['#002c59', '#B3A369','gold', 'gray']\n",
    "recommendation_ids = [\"FG\",\"Go\",\"Penalty\",\"Punt\"]\n",
    "\n",
    "coastal = [\"Georgia Tech\",\"Duke\",\"North Carolina\",\"Miami\",\"Pittsburgh\",\"Virginia\",\"Virginia Tech\"]\n",
    "atlantic = [\"Louisville\",\"Florida State\", \"Clemson\", \"NC State\", \"Wake Forest\", \"Boston College\",\"Syracuse\"]\n",
    "\n",
    "coastal_df = acc_team_df[acc_team_df.pos_team.isin(coastal)]\n",
    "atlantic_df = acc_team_df[acc_team_df.pos_team.isin(atlantic)]\n",
    "\n",
    "for r, c in zip(atlantic_df.choice.unique(), colors):\n",
    "    plot_df = atlantic_df[(atlantic_df.choice == r)]\n",
    "    fig.add_trace(\n",
    "        go.Bar(x=[plot_df.recommendation, plot_df.pos_team], y=plot_df.value, name=r, marker_color=c),\n",
    "    )    \n",
    "    \n",
    "fig"
   ]
  },
  {
   "cell_type": "code",
   "execution_count": 8,
   "metadata": {},
   "outputs": [
    {
     "name": "stdout",
     "output_type": "stream",
     "text": [
      "Pulling url https://raw.githubusercontent.com/saiemgilani/cfbscrapR-data/master/data/parquet/pbp_players_pos_2020.parquet\n"
     ]
    },
    {
     "data": {
      "text/html": [
       "<div>\n",
       "<style scoped>\n",
       "    .dataframe tbody tr th:only-of-type {\n",
       "        vertical-align: middle;\n",
       "    }\n",
       "\n",
       "    .dataframe tbody tr th {\n",
       "        vertical-align: top;\n",
       "    }\n",
       "\n",
       "    .dataframe thead th {\n",
       "        text-align: right;\n",
       "    }\n",
       "</style>\n",
       "<table border=\"1\" class=\"dataframe\">\n",
       "  <thead>\n",
       "    <tr style=\"text-align: right;\">\n",
       "      <th></th>\n",
       "      <th>EPA</th>\n",
       "      <th>ExpScoreDiff</th>\n",
       "      <th>ExpScoreDiff_Time_Ratio</th>\n",
       "      <th>FG_after</th>\n",
       "      <th>FG_before</th>\n",
       "      <th>Goal_To_Go</th>\n",
       "      <th>Goal_To_Go_end</th>\n",
       "      <th>No_Score_after</th>\n",
       "      <th>No_Score_before</th>\n",
       "      <th>Opp_FG_after</th>\n",
       "      <th>...</th>\n",
       "      <th>yds_kickoff</th>\n",
       "      <th>yds_kickoff_return</th>\n",
       "      <th>yds_penalty</th>\n",
       "      <th>yds_punt_gained</th>\n",
       "      <th>yds_punt_return</th>\n",
       "      <th>yds_punted</th>\n",
       "      <th>yds_receiving</th>\n",
       "      <th>yds_rushed</th>\n",
       "      <th>yds_sacked</th>\n",
       "      <th>year</th>\n",
       "    </tr>\n",
       "  </thead>\n",
       "  <tbody>\n",
       "    <tr>\n",
       "      <th>0</th>\n",
       "      <td>0.000000</td>\n",
       "      <td>0.833168</td>\n",
       "      <td>0.000231</td>\n",
       "      <td>0.146772</td>\n",
       "      <td>0.170347</td>\n",
       "      <td>False</td>\n",
       "      <td>False</td>\n",
       "      <td>0.002032</td>\n",
       "      <td>0.001775</td>\n",
       "      <td>0.110364</td>\n",
       "      <td>...</td>\n",
       "      <td>65.0</td>\n",
       "      <td>25.0</td>\n",
       "      <td>NaN</td>\n",
       "      <td>NaN</td>\n",
       "      <td>NaN</td>\n",
       "      <td>NaN</td>\n",
       "      <td>NaN</td>\n",
       "      <td>NaN</td>\n",
       "      <td>NaN</td>\n",
       "      <td>2020.0</td>\n",
       "    </tr>\n",
       "    <tr>\n",
       "      <th>1</th>\n",
       "      <td>-0.942772</td>\n",
       "      <td>0.833168</td>\n",
       "      <td>0.000231</td>\n",
       "      <td>0.134086</td>\n",
       "      <td>0.146772</td>\n",
       "      <td>False</td>\n",
       "      <td>False</td>\n",
       "      <td>0.002164</td>\n",
       "      <td>0.002032</td>\n",
       "      <td>0.129309</td>\n",
       "      <td>...</td>\n",
       "      <td>NaN</td>\n",
       "      <td>NaN</td>\n",
       "      <td>NaN</td>\n",
       "      <td>NaN</td>\n",
       "      <td>NaN</td>\n",
       "      <td>NaN</td>\n",
       "      <td>NaN</td>\n",
       "      <td>NaN</td>\n",
       "      <td>NaN</td>\n",
       "      <td>2020.0</td>\n",
       "    </tr>\n",
       "    <tr>\n",
       "      <th>2</th>\n",
       "      <td>-0.580199</td>\n",
       "      <td>-0.109604</td>\n",
       "      <td>-0.000030</td>\n",
       "      <td>0.113570</td>\n",
       "      <td>0.134086</td>\n",
       "      <td>False</td>\n",
       "      <td>False</td>\n",
       "      <td>0.002116</td>\n",
       "      <td>0.002164</td>\n",
       "      <td>0.142802</td>\n",
       "      <td>...</td>\n",
       "      <td>NaN</td>\n",
       "      <td>NaN</td>\n",
       "      <td>NaN</td>\n",
       "      <td>NaN</td>\n",
       "      <td>NaN</td>\n",
       "      <td>NaN</td>\n",
       "      <td>NaN</td>\n",
       "      <td>3.0</td>\n",
       "      <td>NaN</td>\n",
       "      <td>2020.0</td>\n",
       "    </tr>\n",
       "    <tr>\n",
       "      <th>3</th>\n",
       "      <td>3.684710</td>\n",
       "      <td>-0.689802</td>\n",
       "      <td>-0.000192</td>\n",
       "      <td>0.205539</td>\n",
       "      <td>0.113570</td>\n",
       "      <td>False</td>\n",
       "      <td>False</td>\n",
       "      <td>0.001360</td>\n",
       "      <td>0.002116</td>\n",
       "      <td>0.060326</td>\n",
       "      <td>...</td>\n",
       "      <td>NaN</td>\n",
       "      <td>NaN</td>\n",
       "      <td>NaN</td>\n",
       "      <td>NaN</td>\n",
       "      <td>NaN</td>\n",
       "      <td>NaN</td>\n",
       "      <td>23.0</td>\n",
       "      <td>NaN</td>\n",
       "      <td>NaN</td>\n",
       "      <td>2020.0</td>\n",
       "    </tr>\n",
       "    <tr>\n",
       "      <th>4</th>\n",
       "      <td>-0.336147</td>\n",
       "      <td>2.994907</td>\n",
       "      <td>0.000832</td>\n",
       "      <td>0.218856</td>\n",
       "      <td>0.205539</td>\n",
       "      <td>False</td>\n",
       "      <td>False</td>\n",
       "      <td>0.001399</td>\n",
       "      <td>0.001360</td>\n",
       "      <td>0.064455</td>\n",
       "      <td>...</td>\n",
       "      <td>NaN</td>\n",
       "      <td>NaN</td>\n",
       "      <td>NaN</td>\n",
       "      <td>NaN</td>\n",
       "      <td>NaN</td>\n",
       "      <td>NaN</td>\n",
       "      <td>NaN</td>\n",
       "      <td>3.0</td>\n",
       "      <td>NaN</td>\n",
       "      <td>2020.0</td>\n",
       "    </tr>\n",
       "  </tbody>\n",
       "</table>\n",
       "<p>5 rows × 330 columns</p>\n",
       "</div>"
      ],
      "text/plain": [
       "        EPA  ExpScoreDiff  ExpScoreDiff_Time_Ratio  FG_after  FG_before  \\\n",
       "0  0.000000      0.833168                 0.000231  0.146772   0.170347   \n",
       "1 -0.942772      0.833168                 0.000231  0.134086   0.146772   \n",
       "2 -0.580199     -0.109604                -0.000030  0.113570   0.134086   \n",
       "3  3.684710     -0.689802                -0.000192  0.205539   0.113570   \n",
       "4 -0.336147      2.994907                 0.000832  0.218856   0.205539   \n",
       "\n",
       "   Goal_To_Go Goal_To_Go_end  No_Score_after  No_Score_before  Opp_FG_after  \\\n",
       "0       False          False        0.002032         0.001775      0.110364   \n",
       "1       False          False        0.002164         0.002032      0.129309   \n",
       "2       False          False        0.002116         0.002164      0.142802   \n",
       "3       False          False        0.001360         0.002116      0.060326   \n",
       "4       False          False        0.001399         0.001360      0.064455   \n",
       "\n",
       "   ...  yds_kickoff  yds_kickoff_return  yds_penalty  yds_punt_gained  \\\n",
       "0  ...         65.0                25.0          NaN              NaN   \n",
       "1  ...          NaN                 NaN          NaN              NaN   \n",
       "2  ...          NaN                 NaN          NaN              NaN   \n",
       "3  ...          NaN                 NaN          NaN              NaN   \n",
       "4  ...          NaN                 NaN          NaN              NaN   \n",
       "\n",
       "   yds_punt_return  yds_punted  yds_receiving  yds_rushed  yds_sacked    year  \n",
       "0              NaN         NaN            NaN         NaN         NaN  2020.0  \n",
       "1              NaN         NaN            NaN         NaN         NaN  2020.0  \n",
       "2              NaN         NaN            NaN         3.0         NaN  2020.0  \n",
       "3              NaN         NaN           23.0         NaN         NaN  2020.0  \n",
       "4              NaN         NaN            NaN         3.0         NaN  2020.0  \n",
       "\n",
       "[5 rows x 330 columns]"
      ]
     },
     "execution_count": 8,
     "metadata": {},
     "output_type": "execute_result"
    }
   ],
   "source": [
    "pbp_data = pd.DataFrame()\n",
    "years = range(2020, 2021)\n",
    "for i in years:\n",
    "    url = f\"https://raw.githubusercontent.com/saiemgilani/cfbscrapR-data/master/data/parquet/pbp_players_pos_{i}.parquet\"\n",
    "    print(f\"Pulling url {url}\")\n",
    "    i_data = pd.read_parquet(url, engine='pyarrow')\n",
    "\n",
    "    #sort=True eliminates a warning and alphabetically sorts columns\n",
    "    pbp_data = pbp_data.append(i_data, sort=True)\n",
    "\n",
    "#Give each row a unique index\n",
    "pbp_data.reset_index(drop=True, inplace=True)\n",
    "pbp_data.head()"
   ]
  },
  {
   "cell_type": "code",
   "execution_count": 9,
   "metadata": {},
   "outputs": [],
   "source": [
    "pbp_data[\"is_GT\"] = np.where(pbp_data.pos_team.str.contains(\"Georgia Tech\"), \"Georgia Tech\", \"FBS Average\")\n",
    "valid_plays = pbp_data[(pbp_data.down > 0) & (pbp_data.down < 5) & (pbp_data.distance > 0) & (pbp_data.distance < 16) & (pbp_data.kick_play == False) & (pbp_data.punt_play == False)]"
   ]
  },
  {
   "cell_type": "code",
   "execution_count": 10,
   "metadata": {},
   "outputs": [
    {
     "data": {
      "text/html": [
       "<div>\n",
       "<style scoped>\n",
       "    .dataframe tbody tr th:only-of-type {\n",
       "        vertical-align: middle;\n",
       "    }\n",
       "\n",
       "    .dataframe tbody tr th {\n",
       "        vertical-align: top;\n",
       "    }\n",
       "\n",
       "    .dataframe thead th {\n",
       "        text-align: right;\n",
       "    }\n",
       "</style>\n",
       "<table border=\"1\" class=\"dataframe\">\n",
       "  <thead>\n",
       "    <tr style=\"text-align: right;\">\n",
       "      <th></th>\n",
       "      <th>is_GT</th>\n",
       "      <th>distance</th>\n",
       "      <th>avgEPA</th>\n",
       "    </tr>\n",
       "  </thead>\n",
       "  <tbody>\n",
       "    <tr>\n",
       "      <th>0</th>\n",
       "      <td>FBS Average</td>\n",
       "      <td>1.0</td>\n",
       "      <td>-0.136450</td>\n",
       "    </tr>\n",
       "    <tr>\n",
       "      <th>1</th>\n",
       "      <td>FBS Average</td>\n",
       "      <td>2.0</td>\n",
       "      <td>-0.173797</td>\n",
       "    </tr>\n",
       "    <tr>\n",
       "      <th>2</th>\n",
       "      <td>FBS Average</td>\n",
       "      <td>3.0</td>\n",
       "      <td>-0.096108</td>\n",
       "    </tr>\n",
       "    <tr>\n",
       "      <th>3</th>\n",
       "      <td>FBS Average</td>\n",
       "      <td>4.0</td>\n",
       "      <td>-0.050286</td>\n",
       "    </tr>\n",
       "    <tr>\n",
       "      <th>4</th>\n",
       "      <td>FBS Average</td>\n",
       "      <td>5.0</td>\n",
       "      <td>-0.040567</td>\n",
       "    </tr>\n",
       "    <tr>\n",
       "      <th>5</th>\n",
       "      <td>FBS Average</td>\n",
       "      <td>6.0</td>\n",
       "      <td>-0.092425</td>\n",
       "    </tr>\n",
       "    <tr>\n",
       "      <th>6</th>\n",
       "      <td>FBS Average</td>\n",
       "      <td>7.0</td>\n",
       "      <td>-0.090527</td>\n",
       "    </tr>\n",
       "    <tr>\n",
       "      <th>7</th>\n",
       "      <td>FBS Average</td>\n",
       "      <td>8.0</td>\n",
       "      <td>-0.032025</td>\n",
       "    </tr>\n",
       "    <tr>\n",
       "      <th>8</th>\n",
       "      <td>FBS Average</td>\n",
       "      <td>9.0</td>\n",
       "      <td>-0.068948</td>\n",
       "    </tr>\n",
       "    <tr>\n",
       "      <th>9</th>\n",
       "      <td>FBS Average</td>\n",
       "      <td>10.0</td>\n",
       "      <td>-0.084191</td>\n",
       "    </tr>\n",
       "    <tr>\n",
       "      <th>10</th>\n",
       "      <td>FBS Average</td>\n",
       "      <td>11.0</td>\n",
       "      <td>-0.154774</td>\n",
       "    </tr>\n",
       "    <tr>\n",
       "      <th>11</th>\n",
       "      <td>FBS Average</td>\n",
       "      <td>12.0</td>\n",
       "      <td>-0.132345</td>\n",
       "    </tr>\n",
       "    <tr>\n",
       "      <th>12</th>\n",
       "      <td>FBS Average</td>\n",
       "      <td>13.0</td>\n",
       "      <td>-0.025607</td>\n",
       "    </tr>\n",
       "    <tr>\n",
       "      <th>13</th>\n",
       "      <td>FBS Average</td>\n",
       "      <td>14.0</td>\n",
       "      <td>-0.113087</td>\n",
       "    </tr>\n",
       "    <tr>\n",
       "      <th>14</th>\n",
       "      <td>FBS Average</td>\n",
       "      <td>15.0</td>\n",
       "      <td>-0.137233</td>\n",
       "    </tr>\n",
       "    <tr>\n",
       "      <th>15</th>\n",
       "      <td>Georgia Tech</td>\n",
       "      <td>1.0</td>\n",
       "      <td>-0.259890</td>\n",
       "    </tr>\n",
       "    <tr>\n",
       "      <th>16</th>\n",
       "      <td>Georgia Tech</td>\n",
       "      <td>2.0</td>\n",
       "      <td>-0.937321</td>\n",
       "    </tr>\n",
       "    <tr>\n",
       "      <th>17</th>\n",
       "      <td>Georgia Tech</td>\n",
       "      <td>3.0</td>\n",
       "      <td>0.222936</td>\n",
       "    </tr>\n",
       "    <tr>\n",
       "      <th>18</th>\n",
       "      <td>Georgia Tech</td>\n",
       "      <td>4.0</td>\n",
       "      <td>-0.117987</td>\n",
       "    </tr>\n",
       "    <tr>\n",
       "      <th>19</th>\n",
       "      <td>Georgia Tech</td>\n",
       "      <td>5.0</td>\n",
       "      <td>-0.006662</td>\n",
       "    </tr>\n",
       "    <tr>\n",
       "      <th>20</th>\n",
       "      <td>Georgia Tech</td>\n",
       "      <td>6.0</td>\n",
       "      <td>-0.391277</td>\n",
       "    </tr>\n",
       "    <tr>\n",
       "      <th>21</th>\n",
       "      <td>Georgia Tech</td>\n",
       "      <td>7.0</td>\n",
       "      <td>0.534340</td>\n",
       "    </tr>\n",
       "    <tr>\n",
       "      <th>22</th>\n",
       "      <td>Georgia Tech</td>\n",
       "      <td>8.0</td>\n",
       "      <td>0.131163</td>\n",
       "    </tr>\n",
       "    <tr>\n",
       "      <th>23</th>\n",
       "      <td>Georgia Tech</td>\n",
       "      <td>9.0</td>\n",
       "      <td>-0.930850</td>\n",
       "    </tr>\n",
       "    <tr>\n",
       "      <th>24</th>\n",
       "      <td>Georgia Tech</td>\n",
       "      <td>10.0</td>\n",
       "      <td>-0.172164</td>\n",
       "    </tr>\n",
       "    <tr>\n",
       "      <th>25</th>\n",
       "      <td>Georgia Tech</td>\n",
       "      <td>11.0</td>\n",
       "      <td>-1.030118</td>\n",
       "    </tr>\n",
       "    <tr>\n",
       "      <th>26</th>\n",
       "      <td>Georgia Tech</td>\n",
       "      <td>12.0</td>\n",
       "      <td>-0.014832</td>\n",
       "    </tr>\n",
       "    <tr>\n",
       "      <th>27</th>\n",
       "      <td>Georgia Tech</td>\n",
       "      <td>13.0</td>\n",
       "      <td>-0.673994</td>\n",
       "    </tr>\n",
       "    <tr>\n",
       "      <th>28</th>\n",
       "      <td>Georgia Tech</td>\n",
       "      <td>14.0</td>\n",
       "      <td>-0.806379</td>\n",
       "    </tr>\n",
       "    <tr>\n",
       "      <th>29</th>\n",
       "      <td>Georgia Tech</td>\n",
       "      <td>15.0</td>\n",
       "      <td>-0.493267</td>\n",
       "    </tr>\n",
       "  </tbody>\n",
       "</table>\n",
       "</div>"
      ],
      "text/plain": [
       "           is_GT  distance    avgEPA\n",
       "0    FBS Average       1.0 -0.136450\n",
       "1    FBS Average       2.0 -0.173797\n",
       "2    FBS Average       3.0 -0.096108\n",
       "3    FBS Average       4.0 -0.050286\n",
       "4    FBS Average       5.0 -0.040567\n",
       "5    FBS Average       6.0 -0.092425\n",
       "6    FBS Average       7.0 -0.090527\n",
       "7    FBS Average       8.0 -0.032025\n",
       "8    FBS Average       9.0 -0.068948\n",
       "9    FBS Average      10.0 -0.084191\n",
       "10   FBS Average      11.0 -0.154774\n",
       "11   FBS Average      12.0 -0.132345\n",
       "12   FBS Average      13.0 -0.025607\n",
       "13   FBS Average      14.0 -0.113087\n",
       "14   FBS Average      15.0 -0.137233\n",
       "15  Georgia Tech       1.0 -0.259890\n",
       "16  Georgia Tech       2.0 -0.937321\n",
       "17  Georgia Tech       3.0  0.222936\n",
       "18  Georgia Tech       4.0 -0.117987\n",
       "19  Georgia Tech       5.0 -0.006662\n",
       "20  Georgia Tech       6.0 -0.391277\n",
       "21  Georgia Tech       7.0  0.534340\n",
       "22  Georgia Tech       8.0  0.131163\n",
       "23  Georgia Tech       9.0 -0.930850\n",
       "24  Georgia Tech      10.0 -0.172164\n",
       "25  Georgia Tech      11.0 -1.030118\n",
       "26  Georgia Tech      12.0 -0.014832\n",
       "27  Georgia Tech      13.0 -0.673994\n",
       "28  Georgia Tech      14.0 -0.806379\n",
       "29  Georgia Tech      15.0 -0.493267"
      ]
     },
     "execution_count": 10,
     "metadata": {},
     "output_type": "execute_result"
    }
   ],
   "source": [
    "yardage_epa_base = valid_plays.groupby([\"is_GT\", 'distance']).EPA.mean()\n",
    "yardage_epa = yardage_epa_base.reset_index(name='avgEPA')\n",
    "yardage_epa"
   ]
  },
  {
   "cell_type": "code",
   "execution_count": 40,
   "metadata": {},
   "outputs": [],
   "source": [
    "def generate_epa_fig(df, title, subtitle, color=\"is_GT\", color_map={ \"Georgia Tech\" : \"#b3a369\", \"FBS Average\" : \"blue\" }):\n",
    "    fig = px.scatter(df,\n",
    "                     x=\"distance\", \n",
    "                     y=\"avgEPA\", \n",
    "                     color=color, \n",
    "                     labels={\"distance\":\"Yards to Go\", \"avgEPA\":\"EPA/Play\", f\"{color}\":\"\"}, \n",
    "                     trendline=\"lowess\", \n",
    "                     color_discrete_map=color_map\n",
    "                    )\n",
    "    fig.update_layout(width=1024,\n",
    "                          height=512,\n",
    "                          xaxis = dict(\n",
    "                            tickmode = 'linear',\n",
    "#                             range=[0, 16],\n",
    "                            tick0 = 0,\n",
    "                            dtick = 1\n",
    "                          ),\n",
    "                          yaxis = dict(\n",
    "                            range=[-1, 1],\n",
    "                            tickmode = 'linear',\n",
    "                            tick0 = -1,\n",
    "                            dtick = 0.5\n",
    "                          ),\n",
    "                          title=dict(\n",
    "                            yanchor=\"top\",\n",
    "                            text=f'<b>{title}</b> <i style=\"font-size:15px;\">{subtitle}</i>',\n",
    "                            font=dict(\n",
    "                                family=\"Arial\",\n",
    "                                size=20,\n",
    "                                color='#000000'\n",
    "                            ),\n",
    "                            pad = dict(b = 90)\n",
    "                          )\n",
    "                         )\n",
    "    fig.add_annotation(dict(xref='paper',\n",
    "                        yref='paper',\n",
    "                        x=1.0, y=-0.2,\n",
    "                        showarrow=False,\n",
    "                        align=\"right\",\n",
    "                        text ='<span style=\"color:#000;\">Data provided by <a href=\"https://twitter.com/cfbscrapR\">@cfbscrapR</a>.</span> <span style=\"color:#000;\">Chart created by Akshay Easwaran (<a href=\"https://twitter.com/akeaswaran\">@akeaswaran</a>).</span>'\n",
    "                       )\n",
    "                  )\n",
    "    return fig"
   ]
  },
  {
   "cell_type": "code",
   "execution_count": 33,
   "metadata": {},
   "outputs": [
    {
     "ename": "ValueError",
     "evalue": "Value of 'color' is not the name of a column in 'data_frame'. Expected one of ['coach', 'distance', 'avgEPA'] but received: is_GT",
     "output_type": "error",
     "traceback": [
      "\u001b[0;31m---------------------------------------------------------------------------\u001b[0m",
      "\u001b[0;31mValueError\u001b[0m                                Traceback (most recent call last)",
      "\u001b[0;32m<ipython-input-33-ff1f49837bc0>\u001b[0m in \u001b[0;36m<module>\u001b[0;34m\u001b[0m\n\u001b[1;32m     43\u001b[0m     \u001b[0;32mreturn\u001b[0m \u001b[0mfig\u001b[0m\u001b[0;34m\u001b[0m\u001b[0;34m\u001b[0m\u001b[0m\n\u001b[1;32m     44\u001b[0m \u001b[0;34m\u001b[0m\u001b[0m\n\u001b[0;32m---> 45\u001b[0;31m \u001b[0mepa_fig\u001b[0m \u001b[0;34m=\u001b[0m \u001b[0mgenerate_epa_fig\u001b[0m\u001b[0;34m(\u001b[0m\u001b[0myardage_epa\u001b[0m\u001b[0;34m,\u001b[0m \u001b[0;34m\"Dave Patenaude vs FBS Average\"\u001b[0m\u001b[0;34m,\u001b[0m \u001b[0;34m\"EPA/Play by Distance | All Situations\"\u001b[0m\u001b[0;34m)\u001b[0m\u001b[0;34m\u001b[0m\u001b[0;34m\u001b[0m\u001b[0m\n\u001b[0m\u001b[1;32m     46\u001b[0m \u001b[0mepa_fig\u001b[0m\u001b[0;34m.\u001b[0m\u001b[0mshow\u001b[0m\u001b[0;34m(\u001b[0m\u001b[0;34m)\u001b[0m\u001b[0;34m\u001b[0m\u001b[0;34m\u001b[0m\u001b[0m\n",
      "\u001b[0;32m<ipython-input-33-ff1f49837bc0>\u001b[0m in \u001b[0;36mgenerate_epa_fig\u001b[0;34m(df, title, subtitle, color, color_map)\u001b[0m\n\u001b[1;32m      6\u001b[0m                      \u001b[0mlabels\u001b[0m\u001b[0;34m=\u001b[0m\u001b[0;34m{\u001b[0m\u001b[0;34m\"distance\"\u001b[0m\u001b[0;34m:\u001b[0m\u001b[0;34m\"Yards to Go\"\u001b[0m\u001b[0;34m,\u001b[0m \u001b[0;34m\"avgEPA\"\u001b[0m\u001b[0;34m:\u001b[0m\u001b[0;34m\"EPA/Play\"\u001b[0m\u001b[0;34m,\u001b[0m \u001b[0;34mf\"{color}\"\u001b[0m\u001b[0;34m:\u001b[0m\u001b[0;34m\"\"\u001b[0m\u001b[0;34m}\u001b[0m\u001b[0;34m,\u001b[0m\u001b[0;34m\u001b[0m\u001b[0;34m\u001b[0m\u001b[0m\n\u001b[1;32m      7\u001b[0m                      \u001b[0mtrendline\u001b[0m\u001b[0;34m=\u001b[0m\u001b[0;34m\"lowess\"\u001b[0m\u001b[0;34m,\u001b[0m\u001b[0;34m\u001b[0m\u001b[0;34m\u001b[0m\u001b[0m\n\u001b[0;32m----> 8\u001b[0;31m                      \u001b[0mcolor_discrete_map\u001b[0m\u001b[0;34m=\u001b[0m\u001b[0mcolor_map\u001b[0m\u001b[0;34m\u001b[0m\u001b[0;34m\u001b[0m\u001b[0m\n\u001b[0m\u001b[1;32m      9\u001b[0m                     )\n\u001b[1;32m     10\u001b[0m     fig.update_layout(width=1024,\n",
      "\u001b[0;32m~/anaconda3/lib/python3.7/site-packages/plotly/express/_chart_types.py\u001b[0m in \u001b[0;36mscatter\u001b[0;34m(data_frame, x, y, color, symbol, size, hover_name, hover_data, custom_data, text, facet_row, facet_col, facet_col_wrap, error_x, error_x_minus, error_y, error_y_minus, animation_frame, animation_group, category_orders, labels, color_discrete_sequence, color_discrete_map, color_continuous_scale, range_color, color_continuous_midpoint, symbol_sequence, symbol_map, opacity, size_max, marginal_x, marginal_y, trendline, trendline_color_override, log_x, log_y, range_x, range_y, render_mode, title, template, width, height)\u001b[0m\n\u001b[1;32m     53\u001b[0m     \u001b[0mmark\u001b[0m \u001b[0;32min\u001b[0m \u001b[0;36m2\u001b[0m\u001b[0mD\u001b[0m \u001b[0mspace\u001b[0m\u001b[0;34m.\u001b[0m\u001b[0;34m\u001b[0m\u001b[0;34m\u001b[0m\u001b[0m\n\u001b[1;32m     54\u001b[0m     \"\"\"\n\u001b[0;32m---> 55\u001b[0;31m     \u001b[0;32mreturn\u001b[0m \u001b[0mmake_figure\u001b[0m\u001b[0;34m(\u001b[0m\u001b[0margs\u001b[0m\u001b[0;34m=\u001b[0m\u001b[0mlocals\u001b[0m\u001b[0;34m(\u001b[0m\u001b[0;34m)\u001b[0m\u001b[0;34m,\u001b[0m \u001b[0mconstructor\u001b[0m\u001b[0;34m=\u001b[0m\u001b[0mgo\u001b[0m\u001b[0;34m.\u001b[0m\u001b[0mScatter\u001b[0m\u001b[0;34m)\u001b[0m\u001b[0;34m\u001b[0m\u001b[0;34m\u001b[0m\u001b[0m\n\u001b[0m\u001b[1;32m     56\u001b[0m \u001b[0;34m\u001b[0m\u001b[0m\n\u001b[1;32m     57\u001b[0m \u001b[0;34m\u001b[0m\u001b[0m\n",
      "\u001b[0;32m~/anaconda3/lib/python3.7/site-packages/plotly/express/_core.py\u001b[0m in \u001b[0;36mmake_figure\u001b[0;34m(args, constructor, trace_patch, layout_patch)\u001b[0m\n\u001b[1;32m   1366\u001b[0m \u001b[0;34m\u001b[0m\u001b[0m\n\u001b[1;32m   1367\u001b[0m     args, trace_specs, grouped_mappings, sizeref, show_colorbar = infer_config(\n\u001b[0;32m-> 1368\u001b[0;31m         \u001b[0margs\u001b[0m\u001b[0;34m,\u001b[0m \u001b[0mconstructor\u001b[0m\u001b[0;34m,\u001b[0m \u001b[0mtrace_patch\u001b[0m\u001b[0;34m\u001b[0m\u001b[0;34m\u001b[0m\u001b[0m\n\u001b[0m\u001b[1;32m   1369\u001b[0m     )\n\u001b[1;32m   1370\u001b[0m     \u001b[0mgrouper\u001b[0m \u001b[0;34m=\u001b[0m \u001b[0;34m[\u001b[0m\u001b[0mx\u001b[0m\u001b[0;34m.\u001b[0m\u001b[0mgrouper\u001b[0m \u001b[0;32mor\u001b[0m \u001b[0mone_group\u001b[0m \u001b[0;32mfor\u001b[0m \u001b[0mx\u001b[0m \u001b[0;32min\u001b[0m \u001b[0mgrouped_mappings\u001b[0m\u001b[0;34m]\u001b[0m \u001b[0;32mor\u001b[0m \u001b[0;34m[\u001b[0m\u001b[0mone_group\u001b[0m\u001b[0;34m]\u001b[0m\u001b[0;34m\u001b[0m\u001b[0;34m\u001b[0m\u001b[0m\n",
      "\u001b[0;32m~/anaconda3/lib/python3.7/site-packages/plotly/express/_core.py\u001b[0m in \u001b[0;36minfer_config\u001b[0;34m(args, constructor, trace_patch)\u001b[0m\n\u001b[1;32m   1209\u001b[0m             \u001b[0mall_attrables\u001b[0m \u001b[0;34m+=\u001b[0m \u001b[0;34m[\u001b[0m\u001b[0mgroup_attr\u001b[0m\u001b[0;34m]\u001b[0m\u001b[0;34m\u001b[0m\u001b[0;34m\u001b[0m\u001b[0m\n\u001b[1;32m   1210\u001b[0m \u001b[0;34m\u001b[0m\u001b[0m\n\u001b[0;32m-> 1211\u001b[0;31m     \u001b[0margs\u001b[0m \u001b[0;34m=\u001b[0m \u001b[0mbuild_dataframe\u001b[0m\u001b[0;34m(\u001b[0m\u001b[0margs\u001b[0m\u001b[0;34m,\u001b[0m \u001b[0mall_attrables\u001b[0m\u001b[0;34m,\u001b[0m \u001b[0marray_attrables\u001b[0m\u001b[0;34m)\u001b[0m\u001b[0;34m\u001b[0m\u001b[0;34m\u001b[0m\u001b[0m\n\u001b[0m\u001b[1;32m   1212\u001b[0m     \u001b[0;32mif\u001b[0m \u001b[0mconstructor\u001b[0m \u001b[0;32min\u001b[0m \u001b[0;34m[\u001b[0m\u001b[0mgo\u001b[0m\u001b[0;34m.\u001b[0m\u001b[0mTreemap\u001b[0m\u001b[0;34m,\u001b[0m \u001b[0mgo\u001b[0m\u001b[0;34m.\u001b[0m\u001b[0mSunburst\u001b[0m\u001b[0;34m]\u001b[0m \u001b[0;32mand\u001b[0m \u001b[0margs\u001b[0m\u001b[0;34m[\u001b[0m\u001b[0;34m\"path\"\u001b[0m\u001b[0;34m]\u001b[0m \u001b[0;32mis\u001b[0m \u001b[0;32mnot\u001b[0m \u001b[0;32mNone\u001b[0m\u001b[0;34m:\u001b[0m\u001b[0;34m\u001b[0m\u001b[0;34m\u001b[0m\u001b[0m\n\u001b[1;32m   1213\u001b[0m         \u001b[0margs\u001b[0m \u001b[0;34m=\u001b[0m \u001b[0mprocess_dataframe_hierarchy\u001b[0m\u001b[0;34m(\u001b[0m\u001b[0margs\u001b[0m\u001b[0;34m)\u001b[0m\u001b[0;34m\u001b[0m\u001b[0;34m\u001b[0m\u001b[0m\n",
      "\u001b[0;32m~/anaconda3/lib/python3.7/site-packages/plotly/express/_core.py\u001b[0m in \u001b[0;36mbuild_dataframe\u001b[0;34m(args, attrables, array_attrables)\u001b[0m\n\u001b[1;32m    973\u001b[0m                             \u001b[0;34m\"\\n To use the index, pass it in directly as `df.index`.\"\u001b[0m\u001b[0;34m\u001b[0m\u001b[0;34m\u001b[0m\u001b[0m\n\u001b[1;32m    974\u001b[0m                         )\n\u001b[0;32m--> 975\u001b[0;31m                     \u001b[0;32mraise\u001b[0m \u001b[0mValueError\u001b[0m\u001b[0;34m(\u001b[0m\u001b[0merr_msg\u001b[0m\u001b[0;34m)\u001b[0m\u001b[0;34m\u001b[0m\u001b[0;34m\u001b[0m\u001b[0m\n\u001b[0m\u001b[1;32m    976\u001b[0m                 \u001b[0;32mif\u001b[0m \u001b[0mlength\u001b[0m \u001b[0;32mand\u001b[0m \u001b[0mlen\u001b[0m\u001b[0;34m(\u001b[0m\u001b[0mdf_input\u001b[0m\u001b[0;34m[\u001b[0m\u001b[0margument\u001b[0m\u001b[0;34m]\u001b[0m\u001b[0;34m)\u001b[0m \u001b[0;34m!=\u001b[0m \u001b[0mlength\u001b[0m\u001b[0;34m:\u001b[0m\u001b[0;34m\u001b[0m\u001b[0;34m\u001b[0m\u001b[0m\n\u001b[1;32m    977\u001b[0m                     raise ValueError(\n",
      "\u001b[0;31mValueError\u001b[0m: Value of 'color' is not the name of a column in 'data_frame'. Expected one of ['coach', 'distance', 'avgEPA'] but received: is_GT"
     ]
    }
   ],
   "source": [
    "epa_fig = generate_epa_fig(yardage_epa, \"Dave Patenaude vs FBS Average\", \"EPA/Play by Distance | All Situations\")\n",
    "epa_fig.show()"
   ]
  },
  {
   "cell_type": "code",
   "execution_count": null,
   "metadata": {},
   "outputs": [],
   "source": [
    "pass_epa_base = valid_plays[valid_plays[\"pass\"] == True].groupby([\"distance\", 'is_GT']).EPA.mean()\n",
    "pass_epa = pass_epa_base.reset_index(name='avgEPA')\n",
    "pass_epa\n",
    "\n",
    "pass_epa_fig = generate_epa_fig(pass_epa, \"Dave Patenaude vs FBS Average\", \"EPA/Play by Distance | Passes\")\n",
    "pass_epa_fig.show()"
   ]
  },
  {
   "cell_type": "code",
   "execution_count": null,
   "metadata": {},
   "outputs": [],
   "source": [
    "rush_epa_base = valid_plays[valid_plays[\"rush\"] == True].groupby([\"distance\", 'is_GT']).EPA.mean()\n",
    "rush_epa = rush_epa_base.reset_index(name='avgEPA')\n",
    "rush_epa\n",
    "\n",
    "rush_epa_fig = generate_epa_fig(rush_epa, \"Dave Patenaude vs FBS Average\", \"EPA/Play by Distance | Rushes\")\n",
    "rush_epa_fig.show()"
   ]
  },
  {
   "cell_type": "code",
   "execution_count": null,
   "metadata": {},
   "outputs": [],
   "source": [
    "early_downs_pass_epa_base = valid_plays[(valid_plays[\"pass\"] == True) & (valid_plays.down < 3)].groupby([\"distance\", 'is_GT']).EPA.mean()\n",
    "early_downs_pass = early_downs_pass_epa_base.reset_index(name='avgEPA')\n",
    "early_downs_pass\n",
    "\n",
    "ed_pass_fig = generate_epa_fig(early_downs_pass, \"Dave Patenaude vs FBS Average\", \"EPA/Play by Distance | Early Downs Passing\")\n",
    "ed_pass_fig.show()"
   ]
  },
  {
   "cell_type": "code",
   "execution_count": null,
   "metadata": {},
   "outputs": [],
   "source": [
    "early_downs_rush_epa_base = valid_plays[(valid_plays[\"rush\"] == True) & (valid_plays.down < 3)].groupby([\"distance\", 'is_GT']).EPA.mean()\n",
    "early_downs_rush = early_downs_rush_epa_base.reset_index(name='avgEPA')\n",
    "early_downs_pass\n",
    "\n",
    "ed_rush_fig = generate_epa_fig(early_downs_rush, \"Dave Patenaude vs FBS Average\", \"EPA/Play by Distance | Early Downs Rushing\")\n",
    "ed_rush_fig.show()"
   ]
  },
  {
   "cell_type": "code",
   "execution_count": null,
   "metadata": {},
   "outputs": [],
   "source": [
    "pbp_data = pd.DataFrame()\n",
    "years = range(2014, 2021)\n",
    "for i in years:\n",
    "    url = f\"https://raw.githubusercontent.com/saiemgilani/cfbscrapR-data/master/data/parquet/pbp_players_pos_{i}.parquet\"\n",
    "    print(f\"Pulling url {url}\")\n",
    "    i_data = pd.read_parquet(url, engine='pyarrow')\n",
    "\n",
    "    #sort=True eliminates a warning and alphabetically sorts columns\n",
    "    pbp_data = pbp_data.append(i_data, sort=True)\n",
    "\n",
    "#Give each row a unique index\n",
    "pbp_data.reset_index(drop=True, inplace=True)\n",
    "pbp_data.head()"
   ]
  },
  {
   "cell_type": "code",
   "execution_count": null,
   "metadata": {},
   "outputs": [],
   "source": [
    "pbp_data[\"coach\"] = np.where(pbp_data.pos_team.str.contains(\"Georgia Tech\"), np.where(pbp_data.year <= 2018, \"Paul Johnson\", \"Geoff Collins\"), \"FBS Average\")\n",
    "coach_valid_plays = pbp_data[(pbp_data.down > 0) & (pbp_data.down < 5) & (pbp_data.distance > 0) & (pbp_data.distance < 16) & (pbp_data.kick_play == False) & (pbp_data.punt_play == False)]"
   ]
  },
  {
   "cell_type": "code",
   "execution_count": 31,
   "metadata": {},
   "outputs": [
    {
     "data": {
      "text/html": [
       "<div>\n",
       "<style scoped>\n",
       "    .dataframe tbody tr th:only-of-type {\n",
       "        vertical-align: middle;\n",
       "    }\n",
       "\n",
       "    .dataframe tbody tr th {\n",
       "        vertical-align: top;\n",
       "    }\n",
       "\n",
       "    .dataframe thead th {\n",
       "        text-align: right;\n",
       "    }\n",
       "</style>\n",
       "<table border=\"1\" class=\"dataframe\">\n",
       "  <thead>\n",
       "    <tr style=\"text-align: right;\">\n",
       "      <th></th>\n",
       "      <th>coach</th>\n",
       "      <th>distance</th>\n",
       "      <th>avgEPA</th>\n",
       "    </tr>\n",
       "  </thead>\n",
       "  <tbody>\n",
       "    <tr>\n",
       "      <th>0</th>\n",
       "      <td>FBS Average</td>\n",
       "      <td>1.0</td>\n",
       "      <td>-0.212302</td>\n",
       "    </tr>\n",
       "    <tr>\n",
       "      <th>1</th>\n",
       "      <td>FBS Average</td>\n",
       "      <td>2.0</td>\n",
       "      <td>-0.159192</td>\n",
       "    </tr>\n",
       "    <tr>\n",
       "      <th>2</th>\n",
       "      <td>FBS Average</td>\n",
       "      <td>3.0</td>\n",
       "      <td>-0.122488</td>\n",
       "    </tr>\n",
       "    <tr>\n",
       "      <th>3</th>\n",
       "      <td>FBS Average</td>\n",
       "      <td>4.0</td>\n",
       "      <td>-0.077841</td>\n",
       "    </tr>\n",
       "    <tr>\n",
       "      <th>4</th>\n",
       "      <td>FBS Average</td>\n",
       "      <td>5.0</td>\n",
       "      <td>-0.076781</td>\n",
       "    </tr>\n",
       "    <tr>\n",
       "      <th>5</th>\n",
       "      <td>FBS Average</td>\n",
       "      <td>6.0</td>\n",
       "      <td>-0.079506</td>\n",
       "    </tr>\n",
       "    <tr>\n",
       "      <th>6</th>\n",
       "      <td>FBS Average</td>\n",
       "      <td>7.0</td>\n",
       "      <td>-0.094632</td>\n",
       "    </tr>\n",
       "    <tr>\n",
       "      <th>7</th>\n",
       "      <td>FBS Average</td>\n",
       "      <td>8.0</td>\n",
       "      <td>-0.091954</td>\n",
       "    </tr>\n",
       "    <tr>\n",
       "      <th>8</th>\n",
       "      <td>FBS Average</td>\n",
       "      <td>9.0</td>\n",
       "      <td>-0.108614</td>\n",
       "    </tr>\n",
       "    <tr>\n",
       "      <th>9</th>\n",
       "      <td>FBS Average</td>\n",
       "      <td>10.0</td>\n",
       "      <td>-0.098246</td>\n",
       "    </tr>\n",
       "    <tr>\n",
       "      <th>10</th>\n",
       "      <td>FBS Average</td>\n",
       "      <td>11.0</td>\n",
       "      <td>-0.129210</td>\n",
       "    </tr>\n",
       "    <tr>\n",
       "      <th>11</th>\n",
       "      <td>FBS Average</td>\n",
       "      <td>12.0</td>\n",
       "      <td>-0.186629</td>\n",
       "    </tr>\n",
       "    <tr>\n",
       "      <th>12</th>\n",
       "      <td>FBS Average</td>\n",
       "      <td>13.0</td>\n",
       "      <td>-0.139231</td>\n",
       "    </tr>\n",
       "    <tr>\n",
       "      <th>13</th>\n",
       "      <td>FBS Average</td>\n",
       "      <td>14.0</td>\n",
       "      <td>-0.164236</td>\n",
       "    </tr>\n",
       "    <tr>\n",
       "      <th>14</th>\n",
       "      <td>FBS Average</td>\n",
       "      <td>15.0</td>\n",
       "      <td>-0.130456</td>\n",
       "    </tr>\n",
       "    <tr>\n",
       "      <th>15</th>\n",
       "      <td>Geoff Collins</td>\n",
       "      <td>1.0</td>\n",
       "      <td>-0.531088</td>\n",
       "    </tr>\n",
       "    <tr>\n",
       "      <th>16</th>\n",
       "      <td>Geoff Collins</td>\n",
       "      <td>2.0</td>\n",
       "      <td>-0.594074</td>\n",
       "    </tr>\n",
       "    <tr>\n",
       "      <th>17</th>\n",
       "      <td>Geoff Collins</td>\n",
       "      <td>3.0</td>\n",
       "      <td>0.347868</td>\n",
       "    </tr>\n",
       "    <tr>\n",
       "      <th>18</th>\n",
       "      <td>Geoff Collins</td>\n",
       "      <td>4.0</td>\n",
       "      <td>-0.160062</td>\n",
       "    </tr>\n",
       "    <tr>\n",
       "      <th>19</th>\n",
       "      <td>Geoff Collins</td>\n",
       "      <td>5.0</td>\n",
       "      <td>-0.101398</td>\n",
       "    </tr>\n",
       "    <tr>\n",
       "      <th>20</th>\n",
       "      <td>Geoff Collins</td>\n",
       "      <td>6.0</td>\n",
       "      <td>-0.502255</td>\n",
       "    </tr>\n",
       "    <tr>\n",
       "      <th>21</th>\n",
       "      <td>Geoff Collins</td>\n",
       "      <td>7.0</td>\n",
       "      <td>0.039540</td>\n",
       "    </tr>\n",
       "    <tr>\n",
       "      <th>22</th>\n",
       "      <td>Geoff Collins</td>\n",
       "      <td>8.0</td>\n",
       "      <td>-0.132543</td>\n",
       "    </tr>\n",
       "    <tr>\n",
       "      <th>23</th>\n",
       "      <td>Geoff Collins</td>\n",
       "      <td>9.0</td>\n",
       "      <td>-0.685209</td>\n",
       "    </tr>\n",
       "    <tr>\n",
       "      <th>24</th>\n",
       "      <td>Geoff Collins</td>\n",
       "      <td>10.0</td>\n",
       "      <td>-0.169146</td>\n",
       "    </tr>\n",
       "    <tr>\n",
       "      <th>25</th>\n",
       "      <td>Geoff Collins</td>\n",
       "      <td>11.0</td>\n",
       "      <td>-0.721589</td>\n",
       "    </tr>\n",
       "    <tr>\n",
       "      <th>26</th>\n",
       "      <td>Geoff Collins</td>\n",
       "      <td>12.0</td>\n",
       "      <td>0.046948</td>\n",
       "    </tr>\n",
       "    <tr>\n",
       "      <th>27</th>\n",
       "      <td>Geoff Collins</td>\n",
       "      <td>13.0</td>\n",
       "      <td>-0.277051</td>\n",
       "    </tr>\n",
       "    <tr>\n",
       "      <th>28</th>\n",
       "      <td>Geoff Collins</td>\n",
       "      <td>14.0</td>\n",
       "      <td>-1.151805</td>\n",
       "    </tr>\n",
       "    <tr>\n",
       "      <th>29</th>\n",
       "      <td>Geoff Collins</td>\n",
       "      <td>15.0</td>\n",
       "      <td>-0.303775</td>\n",
       "    </tr>\n",
       "    <tr>\n",
       "      <th>30</th>\n",
       "      <td>Paul Johnson</td>\n",
       "      <td>1.0</td>\n",
       "      <td>0.032696</td>\n",
       "    </tr>\n",
       "    <tr>\n",
       "      <th>31</th>\n",
       "      <td>Paul Johnson</td>\n",
       "      <td>2.0</td>\n",
       "      <td>0.082592</td>\n",
       "    </tr>\n",
       "    <tr>\n",
       "      <th>32</th>\n",
       "      <td>Paul Johnson</td>\n",
       "      <td>3.0</td>\n",
       "      <td>-0.015634</td>\n",
       "    </tr>\n",
       "    <tr>\n",
       "      <th>33</th>\n",
       "      <td>Paul Johnson</td>\n",
       "      <td>4.0</td>\n",
       "      <td>-0.238916</td>\n",
       "    </tr>\n",
       "    <tr>\n",
       "      <th>34</th>\n",
       "      <td>Paul Johnson</td>\n",
       "      <td>5.0</td>\n",
       "      <td>0.100018</td>\n",
       "    </tr>\n",
       "    <tr>\n",
       "      <th>35</th>\n",
       "      <td>Paul Johnson</td>\n",
       "      <td>6.0</td>\n",
       "      <td>0.086241</td>\n",
       "    </tr>\n",
       "    <tr>\n",
       "      <th>36</th>\n",
       "      <td>Paul Johnson</td>\n",
       "      <td>7.0</td>\n",
       "      <td>-0.236159</td>\n",
       "    </tr>\n",
       "    <tr>\n",
       "      <th>37</th>\n",
       "      <td>Paul Johnson</td>\n",
       "      <td>8.0</td>\n",
       "      <td>-0.092516</td>\n",
       "    </tr>\n",
       "    <tr>\n",
       "      <th>38</th>\n",
       "      <td>Paul Johnson</td>\n",
       "      <td>9.0</td>\n",
       "      <td>-0.165319</td>\n",
       "    </tr>\n",
       "    <tr>\n",
       "      <th>39</th>\n",
       "      <td>Paul Johnson</td>\n",
       "      <td>10.0</td>\n",
       "      <td>-0.090713</td>\n",
       "    </tr>\n",
       "    <tr>\n",
       "      <th>40</th>\n",
       "      <td>Paul Johnson</td>\n",
       "      <td>11.0</td>\n",
       "      <td>0.099315</td>\n",
       "    </tr>\n",
       "    <tr>\n",
       "      <th>41</th>\n",
       "      <td>Paul Johnson</td>\n",
       "      <td>12.0</td>\n",
       "      <td>0.016836</td>\n",
       "    </tr>\n",
       "    <tr>\n",
       "      <th>42</th>\n",
       "      <td>Paul Johnson</td>\n",
       "      <td>13.0</td>\n",
       "      <td>0.452326</td>\n",
       "    </tr>\n",
       "    <tr>\n",
       "      <th>43</th>\n",
       "      <td>Paul Johnson</td>\n",
       "      <td>14.0</td>\n",
       "      <td>-0.214969</td>\n",
       "    </tr>\n",
       "    <tr>\n",
       "      <th>44</th>\n",
       "      <td>Paul Johnson</td>\n",
       "      <td>15.0</td>\n",
       "      <td>-0.252412</td>\n",
       "    </tr>\n",
       "  </tbody>\n",
       "</table>\n",
       "</div>"
      ],
      "text/plain": [
       "            coach  distance    avgEPA\n",
       "0     FBS Average       1.0 -0.212302\n",
       "1     FBS Average       2.0 -0.159192\n",
       "2     FBS Average       3.0 -0.122488\n",
       "3     FBS Average       4.0 -0.077841\n",
       "4     FBS Average       5.0 -0.076781\n",
       "5     FBS Average       6.0 -0.079506\n",
       "6     FBS Average       7.0 -0.094632\n",
       "7     FBS Average       8.0 -0.091954\n",
       "8     FBS Average       9.0 -0.108614\n",
       "9     FBS Average      10.0 -0.098246\n",
       "10    FBS Average      11.0 -0.129210\n",
       "11    FBS Average      12.0 -0.186629\n",
       "12    FBS Average      13.0 -0.139231\n",
       "13    FBS Average      14.0 -0.164236\n",
       "14    FBS Average      15.0 -0.130456\n",
       "15  Geoff Collins       1.0 -0.531088\n",
       "16  Geoff Collins       2.0 -0.594074\n",
       "17  Geoff Collins       3.0  0.347868\n",
       "18  Geoff Collins       4.0 -0.160062\n",
       "19  Geoff Collins       5.0 -0.101398\n",
       "20  Geoff Collins       6.0 -0.502255\n",
       "21  Geoff Collins       7.0  0.039540\n",
       "22  Geoff Collins       8.0 -0.132543\n",
       "23  Geoff Collins       9.0 -0.685209\n",
       "24  Geoff Collins      10.0 -0.169146\n",
       "25  Geoff Collins      11.0 -0.721589\n",
       "26  Geoff Collins      12.0  0.046948\n",
       "27  Geoff Collins      13.0 -0.277051\n",
       "28  Geoff Collins      14.0 -1.151805\n",
       "29  Geoff Collins      15.0 -0.303775\n",
       "30   Paul Johnson       1.0  0.032696\n",
       "31   Paul Johnson       2.0  0.082592\n",
       "32   Paul Johnson       3.0 -0.015634\n",
       "33   Paul Johnson       4.0 -0.238916\n",
       "34   Paul Johnson       5.0  0.100018\n",
       "35   Paul Johnson       6.0  0.086241\n",
       "36   Paul Johnson       7.0 -0.236159\n",
       "37   Paul Johnson       8.0 -0.092516\n",
       "38   Paul Johnson       9.0 -0.165319\n",
       "39   Paul Johnson      10.0 -0.090713\n",
       "40   Paul Johnson      11.0  0.099315\n",
       "41   Paul Johnson      12.0  0.016836\n",
       "42   Paul Johnson      13.0  0.452326\n",
       "43   Paul Johnson      14.0 -0.214969\n",
       "44   Paul Johnson      15.0 -0.252412"
      ]
     },
     "execution_count": 31,
     "metadata": {},
     "output_type": "execute_result"
    }
   ],
   "source": [
    "coach_yardage_epa_base = valid_plays.groupby([\"coach\", 'distance']).EPA.mean()\n",
    "coach_yardage_epa = coach_yardage_epa_base.reset_index(name='avgEPA')\n",
    "coach_yardage_epa"
   ]
  },
  {
   "cell_type": "code",
   "execution_count": 41,
   "metadata": {},
   "outputs": [
    {
     "data": {
      "application/vnd.plotly.v1+json": {
       "config": {
        "plotlyServerURL": "https://plot.ly"
       },
       "data": [
        {
         "hovertemplate": "=FBS Average<br>Yards to Go=%{x}<br>EPA/Play=%{y}<extra></extra>",
         "legendgroup": "FBS Average",
         "marker": {
          "color": "gray",
          "symbol": "circle"
         },
         "mode": "markers",
         "name": "FBS Average",
         "showlegend": true,
         "type": "scatter",
         "x": [
          1,
          2,
          3,
          4,
          5,
          6,
          7,
          8,
          9,
          10,
          11,
          12,
          13,
          14,
          15
         ],
         "xaxis": "x",
         "y": [
          -0.21230236401523417,
          -0.1591919911727445,
          -0.12248787208535568,
          -0.07784074976291476,
          -0.07678126198226234,
          -0.07950621449483472,
          -0.09463162756432128,
          -0.09195401136924355,
          -0.10861371078769748,
          -0.0982456709972832,
          -0.12920985407394317,
          -0.18662917093790674,
          -0.13923118353029373,
          -0.16423612718563446,
          -0.13045573155891318
         ],
         "yaxis": "y"
        },
        {
         "hovertemplate": "<b>LOWESS trendline</b><br><br>=FBS Average<br>Yards to Go=%{x}<br>EPA/Play=%{y} <b>(trend)</b><extra></extra>",
         "legendgroup": "FBS Average",
         "marker": {
          "color": "gray",
          "symbol": "circle"
         },
         "mode": "lines",
         "name": "FBS Average",
         "showlegend": false,
         "type": "scatter",
         "x": [
          1,
          2,
          3,
          4,
          5,
          6,
          7,
          8,
          9,
          10,
          11,
          12,
          13,
          14,
          15
         ],
         "xaxis": "x",
         "y": [
          -0.17564903481996033,
          -0.15505446384528404,
          -0.13599957318741926,
          -0.11800755925932867,
          -0.10028947461054903,
          -0.09249414817844327,
          -0.09140521673416377,
          -0.09710623545519932,
          -0.1064735523492158,
          -0.11668781168923259,
          -0.12615769815809386,
          -0.13323290143458558,
          -0.1404517138284949,
          -0.14760013541275113,
          -0.15437532204529342
         ],
         "yaxis": "y"
        },
        {
         "hovertemplate": "=Geoff Collins<br>Yards to Go=%{x}<br>EPA/Play=%{y}<extra></extra>",
         "legendgroup": "Geoff Collins",
         "marker": {
          "color": "blue",
          "symbol": "circle"
         },
         "mode": "markers",
         "name": "Geoff Collins",
         "showlegend": true,
         "type": "scatter",
         "x": [
          1,
          2,
          3,
          4,
          5,
          6,
          7,
          8,
          9,
          10,
          11,
          12,
          13,
          14,
          15
         ],
         "xaxis": "x",
         "y": [
          -0.531087959181134,
          -0.5940740600684697,
          0.347868393221923,
          -0.16006159823601038,
          -0.10139808136744992,
          -0.5022547894429987,
          0.03954011621928212,
          -0.13254292360724965,
          -0.685209347402558,
          -0.16914557374914205,
          -0.7215889175449159,
          0.04694785386998322,
          -0.27705118292980085,
          -1.1518048142762791,
          -0.3037746450708451
         ],
         "yaxis": "y"
        },
        {
         "hovertemplate": "<b>LOWESS trendline</b><br><br>=Geoff Collins<br>Yards to Go=%{x}<br>EPA/Play=%{y} <b>(trend)</b><extra></extra>",
         "legendgroup": "Geoff Collins",
         "marker": {
          "color": "blue",
          "symbol": "circle"
         },
         "mode": "lines",
         "name": "Geoff Collins",
         "showlegend": false,
         "type": "scatter",
         "x": [
          1,
          2,
          3,
          4,
          5,
          6,
          7,
          8,
          9,
          10,
          11,
          12,
          13,
          14,
          15
         ],
         "xaxis": "x",
         "y": [
          -0.40966472627844946,
          -0.34684376697065894,
          -0.2919236198678206,
          -0.23750349672242846,
          -0.17783093373739145,
          -0.18768035546552225,
          -0.24252876526678113,
          -0.29087083494723254,
          -0.3070107354777816,
          -0.3249494228359143,
          -0.3750968450711356,
          -0.40978255545537656,
          -0.4306734901616717,
          -0.4518760902225022,
          -0.47836807614882004
         ],
         "yaxis": "y"
        },
        {
         "hovertemplate": "=Paul Johnson<br>Yards to Go=%{x}<br>EPA/Play=%{y}<extra></extra>",
         "legendgroup": "Paul Johnson",
         "marker": {
          "color": "#b3a369",
          "symbol": "circle"
         },
         "mode": "markers",
         "name": "Paul Johnson",
         "showlegend": true,
         "type": "scatter",
         "x": [
          1,
          2,
          3,
          4,
          5,
          6,
          7,
          8,
          9,
          10,
          11,
          12,
          13,
          14,
          15
         ],
         "xaxis": "x",
         "y": [
          0.03269564731225383,
          0.08259206456814149,
          -0.015634412060947744,
          -0.23891583277237688,
          0.10001843456201771,
          0.08624139011619418,
          -0.2361594748918026,
          -0.09251633597547809,
          -0.16531936946845185,
          -0.09071287432148872,
          0.09931451857271295,
          0.01683627365111321,
          0.45232596462121755,
          -0.21496916187951465,
          -0.2524120549264654
         ],
         "yaxis": "y"
        },
        {
         "hovertemplate": "<b>LOWESS trendline</b><br><br>=Paul Johnson<br>Yards to Go=%{x}<br>EPA/Play=%{y} <b>(trend)</b><extra></extra>",
         "legendgroup": "Paul Johnson",
         "marker": {
          "color": "#b3a369",
          "symbol": "circle"
         },
         "mode": "lines",
         "name": "Paul Johnson",
         "showlegend": false,
         "type": "scatter",
         "x": [
          1,
          2,
          3,
          4,
          5,
          6,
          7,
          8,
          9,
          10,
          11,
          12,
          13,
          14,
          15
         ],
         "xaxis": "x",
         "y": [
          0.04052667105125488,
          0.021910747944515085,
          0.003593780269028645,
          -0.016233523995503325,
          -0.0402367717920216,
          -0.0639531276687157,
          -0.07312390544982542,
          -0.0726779588974735,
          -0.07031982949069707,
          -0.05881396240218603,
          -0.06626493651784705,
          -0.10293264832645416,
          -0.13234328268122902,
          -0.16533403617528025,
          -0.20385439756521884
         ],
         "yaxis": "y"
        }
       ],
       "layout": {
        "annotations": [
         {
          "align": "right",
          "showarrow": false,
          "text": "<span style=\"color:#000;\">Data provided by <a href=\"https://twitter.com/cfbscrapR\">@cfbscrapR</a>.</span> <span style=\"color:#000;\">Chart created by Akshay Easwaran (<a href=\"https://twitter.com/akeaswaran\">@akeaswaran</a>).</span>",
          "x": 1,
          "xref": "paper",
          "y": -0.2,
          "yref": "paper"
         }
        ],
        "height": 512,
        "legend": {
         "title": {
          "text": ""
         },
         "tracegroupgap": 0
        },
        "margin": {
         "t": 60
        },
        "template": {
         "data": {
          "bar": [
           {
            "error_x": {
             "color": "#2a3f5f"
            },
            "error_y": {
             "color": "#2a3f5f"
            },
            "marker": {
             "line": {
              "color": "#E5ECF6",
              "width": 0.5
             }
            },
            "type": "bar"
           }
          ],
          "barpolar": [
           {
            "marker": {
             "line": {
              "color": "#E5ECF6",
              "width": 0.5
             }
            },
            "type": "barpolar"
           }
          ],
          "carpet": [
           {
            "aaxis": {
             "endlinecolor": "#2a3f5f",
             "gridcolor": "white",
             "linecolor": "white",
             "minorgridcolor": "white",
             "startlinecolor": "#2a3f5f"
            },
            "baxis": {
             "endlinecolor": "#2a3f5f",
             "gridcolor": "white",
             "linecolor": "white",
             "minorgridcolor": "white",
             "startlinecolor": "#2a3f5f"
            },
            "type": "carpet"
           }
          ],
          "choropleth": [
           {
            "colorbar": {
             "outlinewidth": 0,
             "ticks": ""
            },
            "type": "choropleth"
           }
          ],
          "contour": [
           {
            "colorbar": {
             "outlinewidth": 0,
             "ticks": ""
            },
            "colorscale": [
             [
              0,
              "#0d0887"
             ],
             [
              0.1111111111111111,
              "#46039f"
             ],
             [
              0.2222222222222222,
              "#7201a8"
             ],
             [
              0.3333333333333333,
              "#9c179e"
             ],
             [
              0.4444444444444444,
              "#bd3786"
             ],
             [
              0.5555555555555556,
              "#d8576b"
             ],
             [
              0.6666666666666666,
              "#ed7953"
             ],
             [
              0.7777777777777778,
              "#fb9f3a"
             ],
             [
              0.8888888888888888,
              "#fdca26"
             ],
             [
              1,
              "#f0f921"
             ]
            ],
            "type": "contour"
           }
          ],
          "contourcarpet": [
           {
            "colorbar": {
             "outlinewidth": 0,
             "ticks": ""
            },
            "type": "contourcarpet"
           }
          ],
          "heatmap": [
           {
            "colorbar": {
             "outlinewidth": 0,
             "ticks": ""
            },
            "colorscale": [
             [
              0,
              "#0d0887"
             ],
             [
              0.1111111111111111,
              "#46039f"
             ],
             [
              0.2222222222222222,
              "#7201a8"
             ],
             [
              0.3333333333333333,
              "#9c179e"
             ],
             [
              0.4444444444444444,
              "#bd3786"
             ],
             [
              0.5555555555555556,
              "#d8576b"
             ],
             [
              0.6666666666666666,
              "#ed7953"
             ],
             [
              0.7777777777777778,
              "#fb9f3a"
             ],
             [
              0.8888888888888888,
              "#fdca26"
             ],
             [
              1,
              "#f0f921"
             ]
            ],
            "type": "heatmap"
           }
          ],
          "heatmapgl": [
           {
            "colorbar": {
             "outlinewidth": 0,
             "ticks": ""
            },
            "colorscale": [
             [
              0,
              "#0d0887"
             ],
             [
              0.1111111111111111,
              "#46039f"
             ],
             [
              0.2222222222222222,
              "#7201a8"
             ],
             [
              0.3333333333333333,
              "#9c179e"
             ],
             [
              0.4444444444444444,
              "#bd3786"
             ],
             [
              0.5555555555555556,
              "#d8576b"
             ],
             [
              0.6666666666666666,
              "#ed7953"
             ],
             [
              0.7777777777777778,
              "#fb9f3a"
             ],
             [
              0.8888888888888888,
              "#fdca26"
             ],
             [
              1,
              "#f0f921"
             ]
            ],
            "type": "heatmapgl"
           }
          ],
          "histogram": [
           {
            "marker": {
             "colorbar": {
              "outlinewidth": 0,
              "ticks": ""
             }
            },
            "type": "histogram"
           }
          ],
          "histogram2d": [
           {
            "colorbar": {
             "outlinewidth": 0,
             "ticks": ""
            },
            "colorscale": [
             [
              0,
              "#0d0887"
             ],
             [
              0.1111111111111111,
              "#46039f"
             ],
             [
              0.2222222222222222,
              "#7201a8"
             ],
             [
              0.3333333333333333,
              "#9c179e"
             ],
             [
              0.4444444444444444,
              "#bd3786"
             ],
             [
              0.5555555555555556,
              "#d8576b"
             ],
             [
              0.6666666666666666,
              "#ed7953"
             ],
             [
              0.7777777777777778,
              "#fb9f3a"
             ],
             [
              0.8888888888888888,
              "#fdca26"
             ],
             [
              1,
              "#f0f921"
             ]
            ],
            "type": "histogram2d"
           }
          ],
          "histogram2dcontour": [
           {
            "colorbar": {
             "outlinewidth": 0,
             "ticks": ""
            },
            "colorscale": [
             [
              0,
              "#0d0887"
             ],
             [
              0.1111111111111111,
              "#46039f"
             ],
             [
              0.2222222222222222,
              "#7201a8"
             ],
             [
              0.3333333333333333,
              "#9c179e"
             ],
             [
              0.4444444444444444,
              "#bd3786"
             ],
             [
              0.5555555555555556,
              "#d8576b"
             ],
             [
              0.6666666666666666,
              "#ed7953"
             ],
             [
              0.7777777777777778,
              "#fb9f3a"
             ],
             [
              0.8888888888888888,
              "#fdca26"
             ],
             [
              1,
              "#f0f921"
             ]
            ],
            "type": "histogram2dcontour"
           }
          ],
          "mesh3d": [
           {
            "colorbar": {
             "outlinewidth": 0,
             "ticks": ""
            },
            "type": "mesh3d"
           }
          ],
          "parcoords": [
           {
            "line": {
             "colorbar": {
              "outlinewidth": 0,
              "ticks": ""
             }
            },
            "type": "parcoords"
           }
          ],
          "pie": [
           {
            "automargin": true,
            "type": "pie"
           }
          ],
          "scatter": [
           {
            "marker": {
             "colorbar": {
              "outlinewidth": 0,
              "ticks": ""
             }
            },
            "type": "scatter"
           }
          ],
          "scatter3d": [
           {
            "line": {
             "colorbar": {
              "outlinewidth": 0,
              "ticks": ""
             }
            },
            "marker": {
             "colorbar": {
              "outlinewidth": 0,
              "ticks": ""
             }
            },
            "type": "scatter3d"
           }
          ],
          "scattercarpet": [
           {
            "marker": {
             "colorbar": {
              "outlinewidth": 0,
              "ticks": ""
             }
            },
            "type": "scattercarpet"
           }
          ],
          "scattergeo": [
           {
            "marker": {
             "colorbar": {
              "outlinewidth": 0,
              "ticks": ""
             }
            },
            "type": "scattergeo"
           }
          ],
          "scattergl": [
           {
            "marker": {
             "colorbar": {
              "outlinewidth": 0,
              "ticks": ""
             }
            },
            "type": "scattergl"
           }
          ],
          "scattermapbox": [
           {
            "marker": {
             "colorbar": {
              "outlinewidth": 0,
              "ticks": ""
             }
            },
            "type": "scattermapbox"
           }
          ],
          "scatterpolar": [
           {
            "marker": {
             "colorbar": {
              "outlinewidth": 0,
              "ticks": ""
             }
            },
            "type": "scatterpolar"
           }
          ],
          "scatterpolargl": [
           {
            "marker": {
             "colorbar": {
              "outlinewidth": 0,
              "ticks": ""
             }
            },
            "type": "scatterpolargl"
           }
          ],
          "scatterternary": [
           {
            "marker": {
             "colorbar": {
              "outlinewidth": 0,
              "ticks": ""
             }
            },
            "type": "scatterternary"
           }
          ],
          "surface": [
           {
            "colorbar": {
             "outlinewidth": 0,
             "ticks": ""
            },
            "colorscale": [
             [
              0,
              "#0d0887"
             ],
             [
              0.1111111111111111,
              "#46039f"
             ],
             [
              0.2222222222222222,
              "#7201a8"
             ],
             [
              0.3333333333333333,
              "#9c179e"
             ],
             [
              0.4444444444444444,
              "#bd3786"
             ],
             [
              0.5555555555555556,
              "#d8576b"
             ],
             [
              0.6666666666666666,
              "#ed7953"
             ],
             [
              0.7777777777777778,
              "#fb9f3a"
             ],
             [
              0.8888888888888888,
              "#fdca26"
             ],
             [
              1,
              "#f0f921"
             ]
            ],
            "type": "surface"
           }
          ],
          "table": [
           {
            "cells": {
             "fill": {
              "color": "#EBF0F8"
             },
             "line": {
              "color": "white"
             }
            },
            "header": {
             "fill": {
              "color": "#C8D4E3"
             },
             "line": {
              "color": "white"
             }
            },
            "type": "table"
           }
          ]
         },
         "layout": {
          "annotationdefaults": {
           "arrowcolor": "#2a3f5f",
           "arrowhead": 0,
           "arrowwidth": 1
          },
          "coloraxis": {
           "colorbar": {
            "outlinewidth": 0,
            "ticks": ""
           }
          },
          "colorscale": {
           "diverging": [
            [
             0,
             "#8e0152"
            ],
            [
             0.1,
             "#c51b7d"
            ],
            [
             0.2,
             "#de77ae"
            ],
            [
             0.3,
             "#f1b6da"
            ],
            [
             0.4,
             "#fde0ef"
            ],
            [
             0.5,
             "#f7f7f7"
            ],
            [
             0.6,
             "#e6f5d0"
            ],
            [
             0.7,
             "#b8e186"
            ],
            [
             0.8,
             "#7fbc41"
            ],
            [
             0.9,
             "#4d9221"
            ],
            [
             1,
             "#276419"
            ]
           ],
           "sequential": [
            [
             0,
             "#0d0887"
            ],
            [
             0.1111111111111111,
             "#46039f"
            ],
            [
             0.2222222222222222,
             "#7201a8"
            ],
            [
             0.3333333333333333,
             "#9c179e"
            ],
            [
             0.4444444444444444,
             "#bd3786"
            ],
            [
             0.5555555555555556,
             "#d8576b"
            ],
            [
             0.6666666666666666,
             "#ed7953"
            ],
            [
             0.7777777777777778,
             "#fb9f3a"
            ],
            [
             0.8888888888888888,
             "#fdca26"
            ],
            [
             1,
             "#f0f921"
            ]
           ],
           "sequentialminus": [
            [
             0,
             "#0d0887"
            ],
            [
             0.1111111111111111,
             "#46039f"
            ],
            [
             0.2222222222222222,
             "#7201a8"
            ],
            [
             0.3333333333333333,
             "#9c179e"
            ],
            [
             0.4444444444444444,
             "#bd3786"
            ],
            [
             0.5555555555555556,
             "#d8576b"
            ],
            [
             0.6666666666666666,
             "#ed7953"
            ],
            [
             0.7777777777777778,
             "#fb9f3a"
            ],
            [
             0.8888888888888888,
             "#fdca26"
            ],
            [
             1,
             "#f0f921"
            ]
           ]
          },
          "colorway": [
           "#636efa",
           "#EF553B",
           "#00cc96",
           "#ab63fa",
           "#FFA15A",
           "#19d3f3",
           "#FF6692",
           "#B6E880",
           "#FF97FF",
           "#FECB52"
          ],
          "font": {
           "color": "#2a3f5f"
          },
          "geo": {
           "bgcolor": "white",
           "lakecolor": "white",
           "landcolor": "#E5ECF6",
           "showlakes": true,
           "showland": true,
           "subunitcolor": "white"
          },
          "hoverlabel": {
           "align": "left"
          },
          "hovermode": "closest",
          "mapbox": {
           "style": "light"
          },
          "paper_bgcolor": "white",
          "plot_bgcolor": "#E5ECF6",
          "polar": {
           "angularaxis": {
            "gridcolor": "white",
            "linecolor": "white",
            "ticks": ""
           },
           "bgcolor": "#E5ECF6",
           "radialaxis": {
            "gridcolor": "white",
            "linecolor": "white",
            "ticks": ""
           }
          },
          "scene": {
           "xaxis": {
            "backgroundcolor": "#E5ECF6",
            "gridcolor": "white",
            "gridwidth": 2,
            "linecolor": "white",
            "showbackground": true,
            "ticks": "",
            "zerolinecolor": "white"
           },
           "yaxis": {
            "backgroundcolor": "#E5ECF6",
            "gridcolor": "white",
            "gridwidth": 2,
            "linecolor": "white",
            "showbackground": true,
            "ticks": "",
            "zerolinecolor": "white"
           },
           "zaxis": {
            "backgroundcolor": "#E5ECF6",
            "gridcolor": "white",
            "gridwidth": 2,
            "linecolor": "white",
            "showbackground": true,
            "ticks": "",
            "zerolinecolor": "white"
           }
          },
          "shapedefaults": {
           "line": {
            "color": "#2a3f5f"
           }
          },
          "ternary": {
           "aaxis": {
            "gridcolor": "white",
            "linecolor": "white",
            "ticks": ""
           },
           "baxis": {
            "gridcolor": "white",
            "linecolor": "white",
            "ticks": ""
           },
           "bgcolor": "#E5ECF6",
           "caxis": {
            "gridcolor": "white",
            "linecolor": "white",
            "ticks": ""
           }
          },
          "title": {
           "x": 0.05
          },
          "xaxis": {
           "automargin": true,
           "gridcolor": "white",
           "linecolor": "white",
           "ticks": "",
           "title": {
            "standoff": 15
           },
           "zerolinecolor": "white",
           "zerolinewidth": 2
          },
          "yaxis": {
           "automargin": true,
           "gridcolor": "white",
           "linecolor": "white",
           "ticks": "",
           "title": {
            "standoff": 15
           },
           "zerolinecolor": "white",
           "zerolinewidth": 2
          }
         }
        },
        "title": {
         "font": {
          "color": "#000000",
          "family": "Arial",
          "size": 20
         },
         "pad": {
          "b": 90
         },
         "text": "<b>Paul Johnson vs Geoff Collins</b> <i style=\"font-size:15px;\">EPA/Play by Distance | All Situations</i>",
         "yanchor": "top"
        },
        "width": 1024,
        "xaxis": {
         "anchor": "y",
         "domain": [
          0,
          1
         ],
         "dtick": 1,
         "tick0": 0,
         "tickmode": "linear",
         "title": {
          "text": "Yards to Go"
         }
        },
        "yaxis": {
         "anchor": "x",
         "domain": [
          0,
          1
         ],
         "dtick": 0.5,
         "range": [
          -1,
          1
         ],
         "tick0": -1,
         "tickmode": "linear",
         "title": {
          "text": "EPA/Play"
         }
        }
       }
      },
      "text/html": [
       "<div>\n",
       "        \n",
       "        \n",
       "            <div id=\"28d6d8c7-6d62-48c0-a4d9-946eebae3ce8\" class=\"plotly-graph-div\" style=\"height:512px; width:1024px;\"></div>\n",
       "            <script type=\"text/javascript\">\n",
       "                require([\"plotly\"], function(Plotly) {\n",
       "                    window.PLOTLYENV=window.PLOTLYENV || {};\n",
       "                    \n",
       "                if (document.getElementById(\"28d6d8c7-6d62-48c0-a4d9-946eebae3ce8\")) {\n",
       "                    Plotly.newPlot(\n",
       "                        '28d6d8c7-6d62-48c0-a4d9-946eebae3ce8',\n",
       "                        [{\"hovertemplate\": \"=FBS Average<br>Yards to Go=%{x}<br>EPA/Play=%{y}<extra></extra>\", \"legendgroup\": \"FBS Average\", \"marker\": {\"color\": \"gray\", \"symbol\": \"circle\"}, \"mode\": \"markers\", \"name\": \"FBS Average\", \"showlegend\": true, \"type\": \"scatter\", \"x\": [1.0, 2.0, 3.0, 4.0, 5.0, 6.0, 7.0, 8.0, 9.0, 10.0, 11.0, 12.0, 13.0, 14.0, 15.0], \"xaxis\": \"x\", \"y\": [-0.21230236401523417, -0.1591919911727445, -0.12248787208535568, -0.07784074976291476, -0.07678126198226234, -0.07950621449483472, -0.09463162756432128, -0.09195401136924355, -0.10861371078769748, -0.0982456709972832, -0.12920985407394317, -0.18662917093790674, -0.13923118353029373, -0.16423612718563446, -0.13045573155891318], \"yaxis\": \"y\"}, {\"hovertemplate\": \"<b>LOWESS trendline</b><br><br>=FBS Average<br>Yards to Go=%{x}<br>EPA/Play=%{y} <b>(trend)</b><extra></extra>\", \"legendgroup\": \"FBS Average\", \"marker\": {\"color\": \"gray\", \"symbol\": \"circle\"}, \"mode\": \"lines\", \"name\": \"FBS Average\", \"showlegend\": false, \"type\": \"scatter\", \"x\": [1.0, 2.0, 3.0, 4.0, 5.0, 6.0, 7.0, 8.0, 9.0, 10.0, 11.0, 12.0, 13.0, 14.0, 15.0], \"xaxis\": \"x\", \"y\": [-0.17564903481996033, -0.15505446384528404, -0.13599957318741926, -0.11800755925932867, -0.10028947461054903, -0.09249414817844327, -0.09140521673416377, -0.09710623545519932, -0.1064735523492158, -0.11668781168923259, -0.12615769815809386, -0.13323290143458558, -0.1404517138284949, -0.14760013541275113, -0.15437532204529342], \"yaxis\": \"y\"}, {\"hovertemplate\": \"=Geoff Collins<br>Yards to Go=%{x}<br>EPA/Play=%{y}<extra></extra>\", \"legendgroup\": \"Geoff Collins\", \"marker\": {\"color\": \"blue\", \"symbol\": \"circle\"}, \"mode\": \"markers\", \"name\": \"Geoff Collins\", \"showlegend\": true, \"type\": \"scatter\", \"x\": [1.0, 2.0, 3.0, 4.0, 5.0, 6.0, 7.0, 8.0, 9.0, 10.0, 11.0, 12.0, 13.0, 14.0, 15.0], \"xaxis\": \"x\", \"y\": [-0.531087959181134, -0.5940740600684697, 0.347868393221923, -0.16006159823601038, -0.10139808136744992, -0.5022547894429987, 0.03954011621928212, -0.13254292360724965, -0.685209347402558, -0.16914557374914205, -0.7215889175449159, 0.04694785386998322, -0.27705118292980085, -1.1518048142762791, -0.3037746450708451], \"yaxis\": \"y\"}, {\"hovertemplate\": \"<b>LOWESS trendline</b><br><br>=Geoff Collins<br>Yards to Go=%{x}<br>EPA/Play=%{y} <b>(trend)</b><extra></extra>\", \"legendgroup\": \"Geoff Collins\", \"marker\": {\"color\": \"blue\", \"symbol\": \"circle\"}, \"mode\": \"lines\", \"name\": \"Geoff Collins\", \"showlegend\": false, \"type\": \"scatter\", \"x\": [1.0, 2.0, 3.0, 4.0, 5.0, 6.0, 7.0, 8.0, 9.0, 10.0, 11.0, 12.0, 13.0, 14.0, 15.0], \"xaxis\": \"x\", \"y\": [-0.40966472627844946, -0.34684376697065894, -0.2919236198678206, -0.23750349672242846, -0.17783093373739145, -0.18768035546552225, -0.24252876526678113, -0.29087083494723254, -0.3070107354777816, -0.3249494228359143, -0.3750968450711356, -0.40978255545537656, -0.4306734901616717, -0.4518760902225022, -0.47836807614882004], \"yaxis\": \"y\"}, {\"hovertemplate\": \"=Paul Johnson<br>Yards to Go=%{x}<br>EPA/Play=%{y}<extra></extra>\", \"legendgroup\": \"Paul Johnson\", \"marker\": {\"color\": \"#b3a369\", \"symbol\": \"circle\"}, \"mode\": \"markers\", \"name\": \"Paul Johnson\", \"showlegend\": true, \"type\": \"scatter\", \"x\": [1.0, 2.0, 3.0, 4.0, 5.0, 6.0, 7.0, 8.0, 9.0, 10.0, 11.0, 12.0, 13.0, 14.0, 15.0], \"xaxis\": \"x\", \"y\": [0.03269564731225383, 0.08259206456814149, -0.015634412060947744, -0.23891583277237688, 0.10001843456201771, 0.08624139011619418, -0.2361594748918026, -0.09251633597547809, -0.16531936946845185, -0.09071287432148872, 0.09931451857271295, 0.01683627365111321, 0.45232596462121755, -0.21496916187951465, -0.2524120549264654], \"yaxis\": \"y\"}, {\"hovertemplate\": \"<b>LOWESS trendline</b><br><br>=Paul Johnson<br>Yards to Go=%{x}<br>EPA/Play=%{y} <b>(trend)</b><extra></extra>\", \"legendgroup\": \"Paul Johnson\", \"marker\": {\"color\": \"#b3a369\", \"symbol\": \"circle\"}, \"mode\": \"lines\", \"name\": \"Paul Johnson\", \"showlegend\": false, \"type\": \"scatter\", \"x\": [1.0, 2.0, 3.0, 4.0, 5.0, 6.0, 7.0, 8.0, 9.0, 10.0, 11.0, 12.0, 13.0, 14.0, 15.0], \"xaxis\": \"x\", \"y\": [0.04052667105125488, 0.021910747944515085, 0.003593780269028645, -0.016233523995503325, -0.0402367717920216, -0.0639531276687157, -0.07312390544982542, -0.0726779588974735, -0.07031982949069707, -0.05881396240218603, -0.06626493651784705, -0.10293264832645416, -0.13234328268122902, -0.16533403617528025, -0.20385439756521884], \"yaxis\": \"y\"}],\n",
       "                        {\"annotations\": [{\"align\": \"right\", \"showarrow\": false, \"text\": \"<span style=\\\"color:#000;\\\">Data provided by <a href=\\\"https://twitter.com/cfbscrapR\\\">@cfbscrapR</a>.</span> <span style=\\\"color:#000;\\\">Chart created by Akshay Easwaran (<a href=\\\"https://twitter.com/akeaswaran\\\">@akeaswaran</a>).</span>\", \"x\": 1.0, \"xref\": \"paper\", \"y\": -0.2, \"yref\": \"paper\"}], \"height\": 512, \"legend\": {\"title\": {\"text\": \"\"}, \"tracegroupgap\": 0}, \"margin\": {\"t\": 60}, \"template\": {\"data\": {\"bar\": [{\"error_x\": {\"color\": \"#2a3f5f\"}, \"error_y\": {\"color\": \"#2a3f5f\"}, \"marker\": {\"line\": {\"color\": \"#E5ECF6\", \"width\": 0.5}}, \"type\": \"bar\"}], \"barpolar\": [{\"marker\": {\"line\": {\"color\": \"#E5ECF6\", \"width\": 0.5}}, \"type\": \"barpolar\"}], \"carpet\": [{\"aaxis\": {\"endlinecolor\": \"#2a3f5f\", \"gridcolor\": \"white\", \"linecolor\": \"white\", \"minorgridcolor\": \"white\", \"startlinecolor\": \"#2a3f5f\"}, \"baxis\": {\"endlinecolor\": \"#2a3f5f\", \"gridcolor\": \"white\", \"linecolor\": \"white\", \"minorgridcolor\": \"white\", \"startlinecolor\": \"#2a3f5f\"}, \"type\": \"carpet\"}], \"choropleth\": [{\"colorbar\": {\"outlinewidth\": 0, \"ticks\": \"\"}, \"type\": \"choropleth\"}], \"contour\": [{\"colorbar\": {\"outlinewidth\": 0, \"ticks\": \"\"}, \"colorscale\": [[0.0, \"#0d0887\"], [0.1111111111111111, \"#46039f\"], [0.2222222222222222, \"#7201a8\"], [0.3333333333333333, \"#9c179e\"], [0.4444444444444444, \"#bd3786\"], [0.5555555555555556, \"#d8576b\"], [0.6666666666666666, \"#ed7953\"], [0.7777777777777778, \"#fb9f3a\"], [0.8888888888888888, \"#fdca26\"], [1.0, \"#f0f921\"]], \"type\": \"contour\"}], \"contourcarpet\": [{\"colorbar\": {\"outlinewidth\": 0, \"ticks\": \"\"}, \"type\": \"contourcarpet\"}], \"heatmap\": [{\"colorbar\": {\"outlinewidth\": 0, \"ticks\": \"\"}, \"colorscale\": [[0.0, \"#0d0887\"], [0.1111111111111111, \"#46039f\"], [0.2222222222222222, \"#7201a8\"], [0.3333333333333333, \"#9c179e\"], [0.4444444444444444, \"#bd3786\"], [0.5555555555555556, \"#d8576b\"], [0.6666666666666666, \"#ed7953\"], [0.7777777777777778, \"#fb9f3a\"], [0.8888888888888888, \"#fdca26\"], [1.0, \"#f0f921\"]], \"type\": \"heatmap\"}], \"heatmapgl\": [{\"colorbar\": {\"outlinewidth\": 0, \"ticks\": \"\"}, \"colorscale\": [[0.0, \"#0d0887\"], [0.1111111111111111, \"#46039f\"], [0.2222222222222222, \"#7201a8\"], [0.3333333333333333, \"#9c179e\"], [0.4444444444444444, \"#bd3786\"], [0.5555555555555556, \"#d8576b\"], [0.6666666666666666, \"#ed7953\"], [0.7777777777777778, \"#fb9f3a\"], [0.8888888888888888, \"#fdca26\"], [1.0, \"#f0f921\"]], \"type\": \"heatmapgl\"}], \"histogram\": [{\"marker\": {\"colorbar\": {\"outlinewidth\": 0, \"ticks\": \"\"}}, \"type\": \"histogram\"}], \"histogram2d\": [{\"colorbar\": {\"outlinewidth\": 0, \"ticks\": \"\"}, \"colorscale\": [[0.0, \"#0d0887\"], [0.1111111111111111, \"#46039f\"], [0.2222222222222222, \"#7201a8\"], [0.3333333333333333, \"#9c179e\"], [0.4444444444444444, \"#bd3786\"], [0.5555555555555556, \"#d8576b\"], [0.6666666666666666, \"#ed7953\"], [0.7777777777777778, \"#fb9f3a\"], [0.8888888888888888, \"#fdca26\"], [1.0, \"#f0f921\"]], \"type\": \"histogram2d\"}], \"histogram2dcontour\": [{\"colorbar\": {\"outlinewidth\": 0, \"ticks\": \"\"}, \"colorscale\": [[0.0, \"#0d0887\"], [0.1111111111111111, \"#46039f\"], [0.2222222222222222, \"#7201a8\"], [0.3333333333333333, \"#9c179e\"], [0.4444444444444444, \"#bd3786\"], [0.5555555555555556, \"#d8576b\"], [0.6666666666666666, \"#ed7953\"], [0.7777777777777778, \"#fb9f3a\"], [0.8888888888888888, \"#fdca26\"], [1.0, \"#f0f921\"]], \"type\": \"histogram2dcontour\"}], \"mesh3d\": [{\"colorbar\": {\"outlinewidth\": 0, \"ticks\": \"\"}, \"type\": \"mesh3d\"}], \"parcoords\": [{\"line\": {\"colorbar\": {\"outlinewidth\": 0, \"ticks\": \"\"}}, \"type\": \"parcoords\"}], \"pie\": [{\"automargin\": true, \"type\": \"pie\"}], \"scatter\": [{\"marker\": {\"colorbar\": {\"outlinewidth\": 0, \"ticks\": \"\"}}, \"type\": \"scatter\"}], \"scatter3d\": [{\"line\": {\"colorbar\": {\"outlinewidth\": 0, \"ticks\": \"\"}}, \"marker\": {\"colorbar\": {\"outlinewidth\": 0, \"ticks\": \"\"}}, \"type\": \"scatter3d\"}], \"scattercarpet\": [{\"marker\": {\"colorbar\": {\"outlinewidth\": 0, \"ticks\": \"\"}}, \"type\": \"scattercarpet\"}], \"scattergeo\": [{\"marker\": {\"colorbar\": {\"outlinewidth\": 0, \"ticks\": \"\"}}, \"type\": \"scattergeo\"}], \"scattergl\": [{\"marker\": {\"colorbar\": {\"outlinewidth\": 0, \"ticks\": \"\"}}, \"type\": \"scattergl\"}], \"scattermapbox\": [{\"marker\": {\"colorbar\": {\"outlinewidth\": 0, \"ticks\": \"\"}}, \"type\": \"scattermapbox\"}], \"scatterpolar\": [{\"marker\": {\"colorbar\": {\"outlinewidth\": 0, \"ticks\": \"\"}}, \"type\": \"scatterpolar\"}], \"scatterpolargl\": [{\"marker\": {\"colorbar\": {\"outlinewidth\": 0, \"ticks\": \"\"}}, \"type\": \"scatterpolargl\"}], \"scatterternary\": [{\"marker\": {\"colorbar\": {\"outlinewidth\": 0, \"ticks\": \"\"}}, \"type\": \"scatterternary\"}], \"surface\": [{\"colorbar\": {\"outlinewidth\": 0, \"ticks\": \"\"}, \"colorscale\": [[0.0, \"#0d0887\"], [0.1111111111111111, \"#46039f\"], [0.2222222222222222, \"#7201a8\"], [0.3333333333333333, \"#9c179e\"], [0.4444444444444444, \"#bd3786\"], [0.5555555555555556, \"#d8576b\"], [0.6666666666666666, \"#ed7953\"], [0.7777777777777778, \"#fb9f3a\"], [0.8888888888888888, \"#fdca26\"], [1.0, \"#f0f921\"]], \"type\": \"surface\"}], \"table\": [{\"cells\": {\"fill\": {\"color\": \"#EBF0F8\"}, \"line\": {\"color\": \"white\"}}, \"header\": {\"fill\": {\"color\": \"#C8D4E3\"}, \"line\": {\"color\": \"white\"}}, \"type\": \"table\"}]}, \"layout\": {\"annotationdefaults\": {\"arrowcolor\": \"#2a3f5f\", \"arrowhead\": 0, \"arrowwidth\": 1}, \"coloraxis\": {\"colorbar\": {\"outlinewidth\": 0, \"ticks\": \"\"}}, \"colorscale\": {\"diverging\": [[0, \"#8e0152\"], [0.1, \"#c51b7d\"], [0.2, \"#de77ae\"], [0.3, \"#f1b6da\"], [0.4, \"#fde0ef\"], [0.5, \"#f7f7f7\"], [0.6, \"#e6f5d0\"], [0.7, \"#b8e186\"], [0.8, \"#7fbc41\"], [0.9, \"#4d9221\"], [1, \"#276419\"]], \"sequential\": [[0.0, \"#0d0887\"], [0.1111111111111111, \"#46039f\"], [0.2222222222222222, \"#7201a8\"], [0.3333333333333333, \"#9c179e\"], [0.4444444444444444, \"#bd3786\"], [0.5555555555555556, \"#d8576b\"], [0.6666666666666666, \"#ed7953\"], [0.7777777777777778, \"#fb9f3a\"], [0.8888888888888888, \"#fdca26\"], [1.0, \"#f0f921\"]], \"sequentialminus\": [[0.0, \"#0d0887\"], [0.1111111111111111, \"#46039f\"], [0.2222222222222222, \"#7201a8\"], [0.3333333333333333, \"#9c179e\"], [0.4444444444444444, \"#bd3786\"], [0.5555555555555556, \"#d8576b\"], [0.6666666666666666, \"#ed7953\"], [0.7777777777777778, \"#fb9f3a\"], [0.8888888888888888, \"#fdca26\"], [1.0, \"#f0f921\"]]}, \"colorway\": [\"#636efa\", \"#EF553B\", \"#00cc96\", \"#ab63fa\", \"#FFA15A\", \"#19d3f3\", \"#FF6692\", \"#B6E880\", \"#FF97FF\", \"#FECB52\"], \"font\": {\"color\": \"#2a3f5f\"}, \"geo\": {\"bgcolor\": \"white\", \"lakecolor\": \"white\", \"landcolor\": \"#E5ECF6\", \"showlakes\": true, \"showland\": true, \"subunitcolor\": \"white\"}, \"hoverlabel\": {\"align\": \"left\"}, \"hovermode\": \"closest\", \"mapbox\": {\"style\": \"light\"}, \"paper_bgcolor\": \"white\", \"plot_bgcolor\": \"#E5ECF6\", \"polar\": {\"angularaxis\": {\"gridcolor\": \"white\", \"linecolor\": \"white\", \"ticks\": \"\"}, \"bgcolor\": \"#E5ECF6\", \"radialaxis\": {\"gridcolor\": \"white\", \"linecolor\": \"white\", \"ticks\": \"\"}}, \"scene\": {\"xaxis\": {\"backgroundcolor\": \"#E5ECF6\", \"gridcolor\": \"white\", \"gridwidth\": 2, \"linecolor\": \"white\", \"showbackground\": true, \"ticks\": \"\", \"zerolinecolor\": \"white\"}, \"yaxis\": {\"backgroundcolor\": \"#E5ECF6\", \"gridcolor\": \"white\", \"gridwidth\": 2, \"linecolor\": \"white\", \"showbackground\": true, \"ticks\": \"\", \"zerolinecolor\": \"white\"}, \"zaxis\": {\"backgroundcolor\": \"#E5ECF6\", \"gridcolor\": \"white\", \"gridwidth\": 2, \"linecolor\": \"white\", \"showbackground\": true, \"ticks\": \"\", \"zerolinecolor\": \"white\"}}, \"shapedefaults\": {\"line\": {\"color\": \"#2a3f5f\"}}, \"ternary\": {\"aaxis\": {\"gridcolor\": \"white\", \"linecolor\": \"white\", \"ticks\": \"\"}, \"baxis\": {\"gridcolor\": \"white\", \"linecolor\": \"white\", \"ticks\": \"\"}, \"bgcolor\": \"#E5ECF6\", \"caxis\": {\"gridcolor\": \"white\", \"linecolor\": \"white\", \"ticks\": \"\"}}, \"title\": {\"x\": 0.05}, \"xaxis\": {\"automargin\": true, \"gridcolor\": \"white\", \"linecolor\": \"white\", \"ticks\": \"\", \"title\": {\"standoff\": 15}, \"zerolinecolor\": \"white\", \"zerolinewidth\": 2}, \"yaxis\": {\"automargin\": true, \"gridcolor\": \"white\", \"linecolor\": \"white\", \"ticks\": \"\", \"title\": {\"standoff\": 15}, \"zerolinecolor\": \"white\", \"zerolinewidth\": 2}}}, \"title\": {\"font\": {\"color\": \"#000000\", \"family\": \"Arial\", \"size\": 20}, \"pad\": {\"b\": 90}, \"text\": \"<b>Paul Johnson vs Geoff Collins</b> <i style=\\\"font-size:15px;\\\">EPA/Play by Distance | All Situations</i>\", \"yanchor\": \"top\"}, \"width\": 1024, \"xaxis\": {\"anchor\": \"y\", \"domain\": [0.0, 1.0], \"dtick\": 1, \"tick0\": 0, \"tickmode\": \"linear\", \"title\": {\"text\": \"Yards to Go\"}}, \"yaxis\": {\"anchor\": \"x\", \"domain\": [0.0, 1.0], \"dtick\": 0.5, \"range\": [-1, 1], \"tick0\": -1, \"tickmode\": \"linear\", \"title\": {\"text\": \"EPA/Play\"}}},\n",
       "                        {\"responsive\": true}\n",
       "                    ).then(function(){\n",
       "                            \n",
       "var gd = document.getElementById('28d6d8c7-6d62-48c0-a4d9-946eebae3ce8');\n",
       "var x = new MutationObserver(function (mutations, observer) {{\n",
       "        var display = window.getComputedStyle(gd).display;\n",
       "        if (!display || display === 'none') {{\n",
       "            console.log([gd, 'removed!']);\n",
       "            Plotly.purge(gd);\n",
       "            observer.disconnect();\n",
       "        }}\n",
       "}});\n",
       "\n",
       "// Listen for the removal of the full notebook cells\n",
       "var notebookContainer = gd.closest('#notebook-container');\n",
       "if (notebookContainer) {{\n",
       "    x.observe(notebookContainer, {childList: true});\n",
       "}}\n",
       "\n",
       "// Listen for the clearing of the current output cell\n",
       "var outputEl = gd.closest('.output');\n",
       "if (outputEl) {{\n",
       "    x.observe(outputEl, {childList: true});\n",
       "}}\n",
       "\n",
       "                        })\n",
       "                };\n",
       "                });\n",
       "            </script>\n",
       "        </div>"
      ]
     },
     "metadata": {},
     "output_type": "display_data"
    }
   ],
   "source": [
    "coach_fig = generate_epa_fig(coach_yardage_epa, \"Paul Johnson vs Geoff Collins\", \"EPA/Play by Distance | All Situations\", color=\"coach\", color_map={ \"Paul Johnson\" : \"#b3a369\", \"Geoff Collins\" : \"blue\", \"FBS Average\" : \"gray\" })\n",
    "coach_fig.show()"
   ]
  },
  {
   "cell_type": "code",
   "execution_count": null,
   "metadata": {},
   "outputs": [],
   "source": []
  }
 ],
 "metadata": {
  "kernelspec": {
   "display_name": "Python 3",
   "language": "python",
   "name": "python3"
  },
  "language_info": {
   "codemirror_mode": {
    "name": "ipython",
    "version": 3
   },
   "file_extension": ".py",
   "mimetype": "text/x-python",
   "name": "python",
   "nbconvert_exporter": "python",
   "pygments_lexer": "ipython3",
   "version": "3.7.7"
  }
 },
 "nbformat": 4,
 "nbformat_minor": 4
}
