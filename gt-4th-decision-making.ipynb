{
 "cells": [
  {
   "cell_type": "code",
   "execution_count": 1,
   "metadata": {},
   "outputs": [
    {
     "data": {
      "text/html": [
       "<div>\n",
       "<style scoped>\n",
       "    .dataframe tbody tr th:only-of-type {\n",
       "        vertical-align: middle;\n",
       "    }\n",
       "\n",
       "    .dataframe tbody tr th {\n",
       "        vertical-align: top;\n",
       "    }\n",
       "\n",
       "    .dataframe thead th {\n",
       "        text-align: right;\n",
       "    }\n",
       "</style>\n",
       "<table border=\"1\" class=\"dataframe\">\n",
       "  <thead>\n",
       "    <tr style=\"text-align: right;\">\n",
       "      <th></th>\n",
       "      <th>game_id</th>\n",
       "      <th>play_id</th>\n",
       "      <th>posteam</th>\n",
       "      <th>defteam</th>\n",
       "      <th>qtr</th>\n",
       "      <th>time</th>\n",
       "      <th>distance</th>\n",
       "      <th>yards_to_goal</th>\n",
       "      <th>score</th>\n",
       "      <th>fg_wp</th>\n",
       "      <th>punt_wp</th>\n",
       "      <th>go_wp</th>\n",
       "      <th>recommendation</th>\n",
       "      <th>choice</th>\n",
       "      <th>decision_value</th>\n",
       "      <th>desc</th>\n",
       "      <th>id</th>\n",
       "    </tr>\n",
       "  </thead>\n",
       "  <tbody>\n",
       "    <tr>\n",
       "      <th>0</th>\n",
       "      <td>401234563</td>\n",
       "      <td>401234563101878901</td>\n",
       "      <td>Georgia Tech</td>\n",
       "      <td>Florida State</td>\n",
       "      <td>1</td>\n",
       "      <td>12:10</td>\n",
       "      <td>1</td>\n",
       "      <td>61</td>\n",
       "      <td>0 - 0</td>\n",
       "      <td>0.393737</td>\n",
       "      <td>0.526602</td>\n",
       "      <td>0.521729</td>\n",
       "      <td>Punt</td>\n",
       "      <td>Go</td>\n",
       "      <td>-0.5</td>\n",
       "      <td>Jordan Mason run for 2 yds to the GTech 41 for...</td>\n",
       "      <td>1</td>\n",
       "    </tr>\n",
       "    <tr>\n",
       "      <th>1</th>\n",
       "      <td>401234563</td>\n",
       "      <td>401234563101937401</td>\n",
       "      <td>Georgia Tech</td>\n",
       "      <td>Florida State</td>\n",
       "      <td>1</td>\n",
       "      <td>6:25</td>\n",
       "      <td>13</td>\n",
       "      <td>57</td>\n",
       "      <td>0 - 7</td>\n",
       "      <td>0.184771</td>\n",
       "      <td>0.270650</td>\n",
       "      <td>0.225084</td>\n",
       "      <td>Punt</td>\n",
       "      <td>Punt</td>\n",
       "      <td>4.6</td>\n",
       "      <td>Pressley Harvin III punt for 52 yds , Travis J...</td>\n",
       "      <td>2</td>\n",
       "    </tr>\n",
       "    <tr>\n",
       "      <th>2</th>\n",
       "      <td>401234563</td>\n",
       "      <td>401234563102954601</td>\n",
       "      <td>Georgia Tech</td>\n",
       "      <td>Florida State</td>\n",
       "      <td>2</td>\n",
       "      <td>5:53</td>\n",
       "      <td>9</td>\n",
       "      <td>21</td>\n",
       "      <td>0 - 10</td>\n",
       "      <td>0.219984</td>\n",
       "      <td>NaN</td>\n",
       "      <td>0.237269</td>\n",
       "      <td>Go</td>\n",
       "      <td>FG</td>\n",
       "      <td>-1.7</td>\n",
       "      <td>Jude Kelley 38 Yard Field Goal Missed</td>\n",
       "      <td>3</td>\n",
       "    </tr>\n",
       "    <tr>\n",
       "      <th>3</th>\n",
       "      <td>401234563</td>\n",
       "      <td>401234563102985101</td>\n",
       "      <td>Georgia Tech</td>\n",
       "      <td>Florida State</td>\n",
       "      <td>2</td>\n",
       "      <td>2:48</td>\n",
       "      <td>3</td>\n",
       "      <td>50</td>\n",
       "      <td>0 - 10</td>\n",
       "      <td>0.135506</td>\n",
       "      <td>0.157454</td>\n",
       "      <td>0.174837</td>\n",
       "      <td>Go</td>\n",
       "      <td>Punt</td>\n",
       "      <td>-1.7</td>\n",
       "      <td>Pressley Harvin III punt for 26 yds, punt out-...</td>\n",
       "      <td>4</td>\n",
       "    </tr>\n",
       "    <tr>\n",
       "      <th>4</th>\n",
       "      <td>401234563</td>\n",
       "      <td>401234563104914301</td>\n",
       "      <td>Georgia Tech</td>\n",
       "      <td>Florida State</td>\n",
       "      <td>4</td>\n",
       "      <td>9:56</td>\n",
       "      <td>14</td>\n",
       "      <td>15</td>\n",
       "      <td>13 - 13</td>\n",
       "      <td>0.652188</td>\n",
       "      <td>NaN</td>\n",
       "      <td>0.604840</td>\n",
       "      <td>FG</td>\n",
       "      <td>FG</td>\n",
       "      <td>4.7</td>\n",
       "      <td>Jude Kelley 32 yd FG GOOD</td>\n",
       "      <td>5</td>\n",
       "    </tr>\n",
       "  </tbody>\n",
       "</table>\n",
       "</div>"
      ],
      "text/plain": [
       "     game_id             play_id       posteam        defteam  qtr   time  \\\n",
       "0  401234563  401234563101878901  Georgia Tech  Florida State    1  12:10   \n",
       "1  401234563  401234563101937401  Georgia Tech  Florida State    1   6:25   \n",
       "2  401234563  401234563102954601  Georgia Tech  Florida State    2   5:53   \n",
       "3  401234563  401234563102985101  Georgia Tech  Florida State    2   2:48   \n",
       "4  401234563  401234563104914301  Georgia Tech  Florida State    4   9:56   \n",
       "\n",
       "   distance  yards_to_goal    score     fg_wp   punt_wp     go_wp  \\\n",
       "0         1             61    0 - 0  0.393737  0.526602  0.521729   \n",
       "1        13             57    0 - 7  0.184771  0.270650  0.225084   \n",
       "2         9             21   0 - 10  0.219984       NaN  0.237269   \n",
       "3         3             50   0 - 10  0.135506  0.157454  0.174837   \n",
       "4        14             15  13 - 13  0.652188       NaN  0.604840   \n",
       "\n",
       "  recommendation choice  decision_value  \\\n",
       "0           Punt     Go            -0.5   \n",
       "1           Punt   Punt             4.6   \n",
       "2             Go     FG            -1.7   \n",
       "3             Go   Punt            -1.7   \n",
       "4             FG     FG             4.7   \n",
       "\n",
       "                                                desc  id  \n",
       "0  Jordan Mason run for 2 yds to the GTech 41 for...   1  \n",
       "1  Pressley Harvin III punt for 52 yds , Travis J...   2  \n",
       "2              Jude Kelley 38 Yard Field Goal Missed   3  \n",
       "3  Pressley Harvin III punt for 26 yds, punt out-...   4  \n",
       "4                          Jude Kelley 32 yd FG GOOD   5  "
      ]
     },
     "execution_count": 1,
     "metadata": {},
     "output_type": "execute_result"
    }
   ],
   "source": [
    "import pandas as pd\n",
    "import numpy as np\n",
    "\n",
    "# pbp_data = pd.DataFrame()\n",
    "# years = range(2020, 2021)\n",
    "# for i in years:\n",
    "#     url = f\"https://raw.githubusercontent.com/saiemgilani/cfbscrapR-data/master/data/parquet/pbp_players_pos_{i}.parquet\"\n",
    "#     print(f\"Pulling url {url}\")\n",
    "#     i_data = pd.read_parquet(url, engine='pyarrow')\n",
    "\n",
    "#     #sort=True eliminates a warning and alphabetically sorts columns\n",
    "#     pbp_data = pbp_data.append(i_data, sort=True)\n",
    "\n",
    "# #Give each row a unique index\n",
    "# pbp_data.reset_index(drop=True, inplace=True)\n",
    "# pbp_data.head()\n",
    "\n",
    "decisions = pd.read_csv(\"2020_fourth_down_plays.csv\",index_col=False)\n",
    "decisions = decisions.loc[:, ~decisions.columns.str.contains('^Unnamed')]\n",
    "decisions.head()"
   ]
  },
  {
   "cell_type": "code",
   "execution_count": 2,
   "metadata": {},
   "outputs": [
    {
     "data": {
      "text/html": [
       "<div>\n",
       "<style scoped>\n",
       "    .dataframe tbody tr th:only-of-type {\n",
       "        vertical-align: middle;\n",
       "    }\n",
       "\n",
       "    .dataframe tbody tr th {\n",
       "        vertical-align: top;\n",
       "    }\n",
       "\n",
       "    .dataframe thead th {\n",
       "        text-align: right;\n",
       "    }\n",
       "</style>\n",
       "<table border=\"1\" class=\"dataframe\">\n",
       "  <thead>\n",
       "    <tr style=\"text-align: right;\">\n",
       "      <th></th>\n",
       "      <th>game_id</th>\n",
       "      <th>play_id</th>\n",
       "      <th>posteam</th>\n",
       "      <th>defteam</th>\n",
       "      <th>qtr</th>\n",
       "      <th>time</th>\n",
       "      <th>distance</th>\n",
       "      <th>yards_to_goal</th>\n",
       "      <th>score</th>\n",
       "      <th>fg_wp</th>\n",
       "      <th>punt_wp</th>\n",
       "      <th>go_wp</th>\n",
       "      <th>recommendation</th>\n",
       "      <th>choice</th>\n",
       "      <th>decision_value</th>\n",
       "      <th>desc</th>\n",
       "      <th>id</th>\n",
       "    </tr>\n",
       "  </thead>\n",
       "  <tbody>\n",
       "    <tr>\n",
       "      <th>16</th>\n",
       "      <td>401234594</td>\n",
       "      <td>401234594102906201</td>\n",
       "      <td>Georgia Tech</td>\n",
       "      <td>Syracuse</td>\n",
       "      <td>2</td>\n",
       "      <td>10:37</td>\n",
       "      <td>8</td>\n",
       "      <td>24</td>\n",
       "      <td>0 - 17</td>\n",
       "      <td>0.076034</td>\n",
       "      <td>NaN</td>\n",
       "      <td>0.100876</td>\n",
       "      <td>Go</td>\n",
       "      <td>Go</td>\n",
       "      <td>2.5</td>\n",
       "      <td>Jeff Sims pass complete to Jahmyr Gibbs for 24...</td>\n",
       "      <td>17</td>\n",
       "    </tr>\n",
       "    <tr>\n",
       "      <th>62</th>\n",
       "      <td>401234659</td>\n",
       "      <td>401234659102927708</td>\n",
       "      <td>Georgia Tech</td>\n",
       "      <td>NC State</td>\n",
       "      <td>2</td>\n",
       "      <td>7:22</td>\n",
       "      <td>2</td>\n",
       "      <td>34</td>\n",
       "      <td>7 - 17</td>\n",
       "      <td>0.196947</td>\n",
       "      <td>0.188649</td>\n",
       "      <td>0.213355</td>\n",
       "      <td>Go</td>\n",
       "      <td>Go</td>\n",
       "      <td>1.6</td>\n",
       "      <td>Jordan Mason run for a loss of 1 yard to the N...</td>\n",
       "      <td>63</td>\n",
       "    </tr>\n",
       "    <tr>\n",
       "      <th>66</th>\n",
       "      <td>401234659</td>\n",
       "      <td>401234659104966807</td>\n",
       "      <td>Georgia Tech</td>\n",
       "      <td>NC State</td>\n",
       "      <td>4</td>\n",
       "      <td>4:31</td>\n",
       "      <td>1</td>\n",
       "      <td>51</td>\n",
       "      <td>13 - 23</td>\n",
       "      <td>0.017786</td>\n",
       "      <td>0.031222</td>\n",
       "      <td>0.046245</td>\n",
       "      <td>Go</td>\n",
       "      <td>Go</td>\n",
       "      <td>1.5</td>\n",
       "      <td>Jeff Sims pass incomplete to Dontae Smith</td>\n",
       "      <td>67</td>\n",
       "    </tr>\n",
       "    <tr>\n",
       "      <th>67</th>\n",
       "      <td>401261245</td>\n",
       "      <td>401261245101964401</td>\n",
       "      <td>Georgia Tech</td>\n",
       "      <td>Pittsburgh</td>\n",
       "      <td>1</td>\n",
       "      <td>4:55</td>\n",
       "      <td>1</td>\n",
       "      <td>1</td>\n",
       "      <td>0 - 3</td>\n",
       "      <td>0.509959</td>\n",
       "      <td>NaN</td>\n",
       "      <td>0.589587</td>\n",
       "      <td>Go</td>\n",
       "      <td>Go</td>\n",
       "      <td>8.0</td>\n",
       "      <td>Jeff Sims 1 Yd Run (Gavin Stewart Kick)</td>\n",
       "      <td>68</td>\n",
       "    </tr>\n",
       "    <tr>\n",
       "      <th>73</th>\n",
       "      <td>401261245</td>\n",
       "      <td>401261245104929403</td>\n",
       "      <td>Georgia Tech</td>\n",
       "      <td>Pittsburgh</td>\n",
       "      <td>4</td>\n",
       "      <td>7:05</td>\n",
       "      <td>8</td>\n",
       "      <td>38</td>\n",
       "      <td>13 - 26</td>\n",
       "      <td>0.044839</td>\n",
       "      <td>0.044201</td>\n",
       "      <td>0.061724</td>\n",
       "      <td>Go</td>\n",
       "      <td>Go</td>\n",
       "      <td>1.7</td>\n",
       "      <td>Jeff Sims pass complete to Jamious Griffin for...</td>\n",
       "      <td>74</td>\n",
       "    </tr>\n",
       "  </tbody>\n",
       "</table>\n",
       "</div>"
      ],
      "text/plain": [
       "      game_id             play_id       posteam     defteam  qtr   time  \\\n",
       "16  401234594  401234594102906201  Georgia Tech    Syracuse    2  10:37   \n",
       "62  401234659  401234659102927708  Georgia Tech    NC State    2   7:22   \n",
       "66  401234659  401234659104966807  Georgia Tech    NC State    4   4:31   \n",
       "67  401261245  401261245101964401  Georgia Tech  Pittsburgh    1   4:55   \n",
       "73  401261245  401261245104929403  Georgia Tech  Pittsburgh    4   7:05   \n",
       "\n",
       "    distance  yards_to_goal    score     fg_wp   punt_wp     go_wp  \\\n",
       "16         8             24   0 - 17  0.076034       NaN  0.100876   \n",
       "62         2             34   7 - 17  0.196947  0.188649  0.213355   \n",
       "66         1             51  13 - 23  0.017786  0.031222  0.046245   \n",
       "67         1              1    0 - 3  0.509959       NaN  0.589587   \n",
       "73         8             38  13 - 26  0.044839  0.044201  0.061724   \n",
       "\n",
       "   recommendation choice  decision_value  \\\n",
       "16             Go     Go             2.5   \n",
       "62             Go     Go             1.6   \n",
       "66             Go     Go             1.5   \n",
       "67             Go     Go             8.0   \n",
       "73             Go     Go             1.7   \n",
       "\n",
       "                                                 desc  id  \n",
       "16  Jeff Sims pass complete to Jahmyr Gibbs for 24...  17  \n",
       "62  Jordan Mason run for a loss of 1 yard to the N...  63  \n",
       "66          Jeff Sims pass incomplete to Dontae Smith  67  \n",
       "67            Jeff Sims 1 Yd Run (Gavin Stewart Kick)  68  \n",
       "73  Jeff Sims pass complete to Jamious Griffin for...  74  "
      ]
     },
     "execution_count": 2,
     "metadata": {},
     "output_type": "execute_result"
    }
   ],
   "source": [
    "# \"obvious go\" == +1.5 WP with \"go\" rec\n",
    "obvious_go = decisions[(decisions.decision_value >= 1.5) & (decisions.recommendation == \"Go\")]\n",
    "obvious_go"
   ]
  },
  {
   "cell_type": "code",
   "execution_count": 3,
   "metadata": {},
   "outputs": [
    {
     "data": {
      "text/html": [
       "<div>\n",
       "<style scoped>\n",
       "    .dataframe tbody tr th:only-of-type {\n",
       "        vertical-align: middle;\n",
       "    }\n",
       "\n",
       "    .dataframe tbody tr th {\n",
       "        vertical-align: top;\n",
       "    }\n",
       "\n",
       "    .dataframe thead th {\n",
       "        text-align: right;\n",
       "    }\n",
       "</style>\n",
       "<table border=\"1\" class=\"dataframe\">\n",
       "  <thead>\n",
       "    <tr style=\"text-align: right;\">\n",
       "      <th>choice</th>\n",
       "      <th>FG</th>\n",
       "      <th>Go</th>\n",
       "      <th>Punt</th>\n",
       "    </tr>\n",
       "    <tr>\n",
       "      <th>recommendation</th>\n",
       "      <th></th>\n",
       "      <th></th>\n",
       "      <th></th>\n",
       "    </tr>\n",
       "  </thead>\n",
       "  <tbody>\n",
       "    <tr>\n",
       "      <th>FG</th>\n",
       "      <td>0.333333</td>\n",
       "      <td>0.666667</td>\n",
       "      <td>NaN</td>\n",
       "    </tr>\n",
       "    <tr>\n",
       "      <th>Go</th>\n",
       "      <td>0.157895</td>\n",
       "      <td>0.684211</td>\n",
       "      <td>0.157895</td>\n",
       "    </tr>\n",
       "    <tr>\n",
       "      <th>Punt</th>\n",
       "      <td>NaN</td>\n",
       "      <td>0.120000</td>\n",
       "      <td>0.880000</td>\n",
       "    </tr>\n",
       "  </tbody>\n",
       "</table>\n",
       "</div>"
      ],
      "text/plain": [
       "choice                FG        Go      Punt\n",
       "recommendation                              \n",
       "FG              0.333333  0.666667       NaN\n",
       "Go              0.157895  0.684211  0.157895\n",
       "Punt                 NaN  0.120000  0.880000"
      ]
     },
     "execution_count": 3,
     "metadata": {},
     "output_type": "execute_result"
    }
   ],
   "source": [
    "overall_decisions = decisions.groupby(\"recommendation\")\n",
    "overall_decisions.choice.value_counts(normalize=True).unstack()"
   ]
  },
  {
   "cell_type": "code",
   "execution_count": 4,
   "metadata": {},
   "outputs": [
    {
     "data": {
      "text/plain": [
       "recommendation  choice\n",
       "FG              FG        1.0\n",
       "Go              Go        1.0\n",
       "Punt            Punt      1.0\n",
       "Name: choice, dtype: float64"
      ]
     },
     "execution_count": 4,
     "metadata": {},
     "output_type": "execute_result"
    }
   ],
   "source": [
    "optimal_decisions = decisions[(decisions.decision_value >= 1.5)].groupby(\"recommendation\")\n",
    "optimal_decisions.choice.value_counts(normalize=True)"
   ]
  },
  {
   "cell_type": "code",
   "execution_count": 5,
   "metadata": {},
   "outputs": [
    {
     "data": {
      "image/png": "[encoded data removed]",
      "text/plain": [
       "<Figure size 864x432 with 1 Axes>"
      ]
     },
     "metadata": {},
     "output_type": "display_data"
    }
   ],
   "source": [
    "import matplotlib.pyplot as plt\n",
    "import matplotlib.ticker as mtick\n",
    "\n",
    "plt.style.use('ggplot')\n",
    "\n",
    "sub_df = overall_decisions.choice.value_counts(normalize=True).unstack()\n",
    "ax = sub_df.plot(kind='bar',stacked=True,rot=1, xlabel=\"Optimal Decision\", figsize=(12,6), color=['#002c59', '#B3A369', 'gray'])\n",
    "ax.yaxis.set_major_formatter(mtick.PercentFormatter(1.0))\n",
    "ax.legend(title='Collins\\' Choice')\n",
    "plt.title(\"Geoff Collins: Analytics Darling?\", loc='left', fontsize=18)\n",
    "plt.title(\"2020 season; data from A.I. Sports 4th Down Bot\", loc='right', fontsize=13, color=\"gray\")\n",
    "plt.tight_layout()\n",
    "plt.show()"
   ]
  },
  {
   "cell_type": "code",
   "execution_count": 6,
   "metadata": {},
   "outputs": [
    {
     "data": {
      "text/html": [
       "<div>\n",
       "<style scoped>\n",
       "    .dataframe tbody tr th:only-of-type {\n",
       "        vertical-align: middle;\n",
       "    }\n",
       "\n",
       "    .dataframe tbody tr th {\n",
       "        vertical-align: top;\n",
       "    }\n",
       "\n",
       "    .dataframe thead th {\n",
       "        text-align: right;\n",
       "    }\n",
       "</style>\n",
       "<table border=\"1\" class=\"dataframe\">\n",
       "  <thead>\n",
       "    <tr style=\"text-align: right;\">\n",
       "      <th></th>\n",
       "      <th>recommendation</th>\n",
       "      <th>choice</th>\n",
       "      <th>count</th>\n",
       "    </tr>\n",
       "  </thead>\n",
       "  <tbody>\n",
       "    <tr>\n",
       "      <th>0</th>\n",
       "      <td>FG</td>\n",
       "      <td>Go</td>\n",
       "      <td>0.666667</td>\n",
       "    </tr>\n",
       "    <tr>\n",
       "      <th>1</th>\n",
       "      <td>FG</td>\n",
       "      <td>FG</td>\n",
       "      <td>0.333333</td>\n",
       "    </tr>\n",
       "    <tr>\n",
       "      <th>2</th>\n",
       "      <td>Go</td>\n",
       "      <td>Go</td>\n",
       "      <td>0.684211</td>\n",
       "    </tr>\n",
       "    <tr>\n",
       "      <th>3</th>\n",
       "      <td>Go</td>\n",
       "      <td>FG</td>\n",
       "      <td>0.157895</td>\n",
       "    </tr>\n",
       "    <tr>\n",
       "      <th>4</th>\n",
       "      <td>Go</td>\n",
       "      <td>Punt</td>\n",
       "      <td>0.157895</td>\n",
       "    </tr>\n",
       "    <tr>\n",
       "      <th>5</th>\n",
       "      <td>Punt</td>\n",
       "      <td>Punt</td>\n",
       "      <td>0.880000</td>\n",
       "    </tr>\n",
       "    <tr>\n",
       "      <th>6</th>\n",
       "      <td>Punt</td>\n",
       "      <td>Go</td>\n",
       "      <td>0.120000</td>\n",
       "    </tr>\n",
       "  </tbody>\n",
       "</table>\n",
       "</div>"
      ],
      "text/plain": [
       "  recommendation choice     count\n",
       "0             FG     Go  0.666667\n",
       "1             FG     FG  0.333333\n",
       "2             Go     Go  0.684211\n",
       "3             Go     FG  0.157895\n",
       "4             Go   Punt  0.157895\n",
       "5           Punt   Punt  0.880000\n",
       "6           Punt     Go  0.120000"
      ]
     },
     "execution_count": 6,
     "metadata": {},
     "output_type": "execute_result"
    }
   ],
   "source": [
    "base_df = overall_decisions.choice.value_counts(normalize=True).reset_index(name='count')\n",
    "base_df"
   ]
  },
  {
   "cell_type": "code",
   "execution_count": 25,
   "metadata": {},
   "outputs": [
    {
     "data": {
      "application/vnd.plotly.v1+json": {
       "config": {
        "plotlyServerURL": "https://plot.ly"
       },
       "data": [
        {
         "alignmentgroup": "True",
         "hovertemplate": "Collins' Choice=Go<br>Optimal Decision=%{x}<br>=%{y}<extra></extra>",
         "legendgroup": "Go",
         "marker": {
          "color": "#b3a369"
         },
         "name": "Go",
         "offsetgroup": "Go",
         "orientation": "v",
         "showlegend": true,
         "textposition": "auto",
         "type": "bar",
         "x": [
          "FG",
          "Go",
          "Punt"
         ],
         "xaxis": "x",
         "y": [
          0.6666666666666666,
          0.6842105263157895,
          0.12
         ],
         "yaxis": "y"
        },
        {
         "alignmentgroup": "True",
         "hovertemplate": "Collins' Choice=FG<br>Optimal Decision=%{x}<br>=%{y}<extra></extra>",
         "legendgroup": "FG",
         "marker": {
          "color": "#002c59"
         },
         "name": "FG",
         "offsetgroup": "FG",
         "orientation": "v",
         "showlegend": true,
         "textposition": "auto",
         "type": "bar",
         "x": [
          "FG",
          "Go"
         ],
         "xaxis": "x",
         "y": [
          0.3333333333333333,
          0.15789473684210525
         ],
         "yaxis": "y"
        },
        {
         "alignmentgroup": "True",
         "hovertemplate": "Collins' Choice=Punt<br>Optimal Decision=%{x}<br>=%{y}<extra></extra>",
         "legendgroup": "Punt",
         "marker": {
          "color": "gray"
         },
         "name": "Punt",
         "offsetgroup": "Punt",
         "orientation": "v",
         "showlegend": true,
         "textposition": "auto",
         "type": "bar",
         "x": [
          "Go",
          "Punt"
         ],
         "xaxis": "x",
         "y": [
          0.15789473684210525,
          0.88
         ],
         "yaxis": "y"
        }
       ],
       "layout": {
        "annotations": [
         {
          "align": "right",
          "showarrow": false,
          "text": "<span style=\"color:#000;\">Recommendations provided by A.I. Sports 4th Down Bot, created by Jared Lee (<a href=\"https://twitter.com/JDLee\">@JDLee</a>).</span><br><span style=\"color:#000;\">Chart created by Akshay Easwaran (<a href=\"https://twitter.com/akeaswaran\">@akeaswaran</a>).</span>",
          "x": 1,
          "xref": "paper",
          "y": -0.25,
          "yref": "paper"
         }
        ],
        "barmode": "relative",
        "height": 550,
        "legend": {
         "title": {
          "text": "Collins' Choice"
         },
         "tracegroupgap": 0
        },
        "template": {
         "data": {
          "bar": [
           {
            "error_x": {
             "color": "#2a3f5f"
            },
            "error_y": {
             "color": "#2a3f5f"
            },
            "marker": {
             "line": {
              "color": "#E5ECF6",
              "width": 0.5
             }
            },
            "type": "bar"
           }
          ],
          "barpolar": [
           {
            "marker": {
             "line": {
              "color": "#E5ECF6",
              "width": 0.5
             }
            },
            "type": "barpolar"
           }
          ],
          "carpet": [
           {
            "aaxis": {
             "endlinecolor": "#2a3f5f",
             "gridcolor": "white",
             "linecolor": "white",
             "minorgridcolor": "white",
             "startlinecolor": "#2a3f5f"
            },
            "baxis": {
             "endlinecolor": "#2a3f5f",
             "gridcolor": "white",
             "linecolor": "white",
             "minorgridcolor": "white",
             "startlinecolor": "#2a3f5f"
            },
            "type": "carpet"
           }
          ],
          "choropleth": [
           {
            "colorbar": {
             "outlinewidth": 0,
             "ticks": ""
            },
            "type": "choropleth"
           }
          ],
          "contour": [
           {
            "colorbar": {
             "outlinewidth": 0,
             "ticks": ""
            },
            "colorscale": [
             [
              0,
              "#0d0887"
             ],
             [
              0.1111111111111111,
              "#46039f"
             ],
             [
              0.2222222222222222,
              "#7201a8"
             ],
             [
              0.3333333333333333,
              "#9c179e"
             ],
             [
              0.4444444444444444,
              "#bd3786"
             ],
             [
              0.5555555555555556,
              "#d8576b"
             ],
             [
              0.6666666666666666,
              "#ed7953"
             ],
             [
              0.7777777777777778,
              "#fb9f3a"
             ],
             [
              0.8888888888888888,
              "#fdca26"
             ],
             [
              1,
              "#f0f921"
             ]
            ],
            "type": "contour"
           }
          ],
          "contourcarpet": [
           {
            "colorbar": {
             "outlinewidth": 0,
             "ticks": ""
            },
            "type": "contourcarpet"
           }
          ],
          "heatmap": [
           {
            "colorbar": {
             "outlinewidth": 0,
             "ticks": ""
            },
            "colorscale": [
             [
              0,
              "#0d0887"
             ],
             [
              0.1111111111111111,
              "#46039f"
             ],
             [
              0.2222222222222222,
              "#7201a8"
             ],
             [
              0.3333333333333333,
              "#9c179e"
             ],
             [
              0.4444444444444444,
              "#bd3786"
             ],
             [
              0.5555555555555556,
              "#d8576b"
             ],
             [
              0.6666666666666666,
              "#ed7953"
             ],
             [
              0.7777777777777778,
              "#fb9f3a"
             ],
             [
              0.8888888888888888,
              "#fdca26"
             ],
             [
              1,
              "#f0f921"
             ]
            ],
            "type": "heatmap"
           }
          ],
          "heatmapgl": [
           {
            "colorbar": {
             "outlinewidth": 0,
             "ticks": ""
            },
            "colorscale": [
             [
              0,
              "#0d0887"
             ],
             [
              0.1111111111111111,
              "#46039f"
             ],
             [
              0.2222222222222222,
              "#7201a8"
             ],
             [
              0.3333333333333333,
              "#9c179e"
             ],
             [
              0.4444444444444444,
              "#bd3786"
             ],
             [
              0.5555555555555556,
              "#d8576b"
             ],
             [
              0.6666666666666666,
              "#ed7953"
             ],
             [
              0.7777777777777778,
              "#fb9f3a"
             ],
             [
              0.8888888888888888,
              "#fdca26"
             ],
             [
              1,
              "#f0f921"
             ]
            ],
            "type": "heatmapgl"
           }
          ],
          "histogram": [
           {
            "marker": {
             "colorbar": {
              "outlinewidth": 0,
              "ticks": ""
             }
            },
            "type": "histogram"
           }
          ],
          "histogram2d": [
           {
            "colorbar": {
             "outlinewidth": 0,
             "ticks": ""
            },
            "colorscale": [
             [
              0,
              "#0d0887"
             ],
             [
              0.1111111111111111,
              "#46039f"
             ],
             [
              0.2222222222222222,
              "#7201a8"
             ],
             [
              0.3333333333333333,
              "#9c179e"
             ],
             [
              0.4444444444444444,
              "#bd3786"
             ],
             [
              0.5555555555555556,
              "#d8576b"
             ],
             [
              0.6666666666666666,
              "#ed7953"
             ],
             [
              0.7777777777777778,
              "#fb9f3a"
             ],
             [
              0.8888888888888888,
              "#fdca26"
             ],
             [
              1,
              "#f0f921"
             ]
            ],
            "type": "histogram2d"
           }
          ],
          "histogram2dcontour": [
           {
            "colorbar": {
             "outlinewidth": 0,
             "ticks": ""
            },
            "colorscale": [
             [
              0,
              "#0d0887"
             ],
             [
              0.1111111111111111,
              "#46039f"
             ],
             [
              0.2222222222222222,
              "#7201a8"
             ],
             [
              0.3333333333333333,
              "#9c179e"
             ],
             [
              0.4444444444444444,
              "#bd3786"
             ],
             [
              0.5555555555555556,
              "#d8576b"
             ],
             [
              0.6666666666666666,
              "#ed7953"
             ],
             [
              0.7777777777777778,
              "#fb9f3a"
             ],
             [
              0.8888888888888888,
              "#fdca26"
             ],
             [
              1,
              "#f0f921"
             ]
            ],
            "type": "histogram2dcontour"
           }
          ],
          "mesh3d": [
           {
            "colorbar": {
             "outlinewidth": 0,
             "ticks": ""
            },
            "type": "mesh3d"
           }
          ],
          "parcoords": [
           {
            "line": {
             "colorbar": {
              "outlinewidth": 0,
              "ticks": ""
             }
            },
            "type": "parcoords"
           }
          ],
          "pie": [
           {
            "automargin": true,
            "type": "pie"
           }
          ],
          "scatter": [
           {
            "marker": {
             "colorbar": {
              "outlinewidth": 0,
              "ticks": ""
             }
            },
            "type": "scatter"
           }
          ],
          "scatter3d": [
           {
            "line": {
             "colorbar": {
              "outlinewidth": 0,
              "ticks": ""
             }
            },
            "marker": {
             "colorbar": {
              "outlinewidth": 0,
              "ticks": ""
             }
            },
            "type": "scatter3d"
           }
          ],
          "scattercarpet": [
           {
            "marker": {
             "colorbar": {
              "outlinewidth": 0,
              "ticks": ""
             }
            },
            "type": "scattercarpet"
           }
          ],
          "scattergeo": [
           {
            "marker": {
             "colorbar": {
              "outlinewidth": 0,
              "ticks": ""
             }
            },
            "type": "scattergeo"
           }
          ],
          "scattergl": [
           {
            "marker": {
             "colorbar": {
              "outlinewidth": 0,
              "ticks": ""
             }
            },
            "type": "scattergl"
           }
          ],
          "scattermapbox": [
           {
            "marker": {
             "colorbar": {
              "outlinewidth": 0,
              "ticks": ""
             }
            },
            "type": "scattermapbox"
           }
          ],
          "scatterpolar": [
           {
            "marker": {
             "colorbar": {
              "outlinewidth": 0,
              "ticks": ""
             }
            },
            "type": "scatterpolar"
           }
          ],
          "scatterpolargl": [
           {
            "marker": {
             "colorbar": {
              "outlinewidth": 0,
              "ticks": ""
             }
            },
            "type": "scatterpolargl"
           }
          ],
          "scatterternary": [
           {
            "marker": {
             "colorbar": {
              "outlinewidth": 0,
              "ticks": ""
             }
            },
            "type": "scatterternary"
           }
          ],
          "surface": [
           {
            "colorbar": {
             "outlinewidth": 0,
             "ticks": ""
            },
            "colorscale": [
             [
              0,
              "#0d0887"
             ],
             [
              0.1111111111111111,
              "#46039f"
             ],
             [
              0.2222222222222222,
              "#7201a8"
             ],
             [
              0.3333333333333333,
              "#9c179e"
             ],
             [
              0.4444444444444444,
              "#bd3786"
             ],
             [
              0.5555555555555556,
              "#d8576b"
             ],
             [
              0.6666666666666666,
              "#ed7953"
             ],
             [
              0.7777777777777778,
              "#fb9f3a"
             ],
             [
              0.8888888888888888,
              "#fdca26"
             ],
             [
              1,
              "#f0f921"
             ]
            ],
            "type": "surface"
           }
          ],
          "table": [
           {
            "cells": {
             "fill": {
              "color": "#EBF0F8"
             },
             "line": {
              "color": "white"
             }
            },
            "header": {
             "fill": {
              "color": "#C8D4E3"
             },
             "line": {
              "color": "white"
             }
            },
            "type": "table"
           }
          ]
         },
         "layout": {
          "annotationdefaults": {
           "arrowcolor": "#2a3f5f",
           "arrowhead": 0,
           "arrowwidth": 1
          },
          "coloraxis": {
           "colorbar": {
            "outlinewidth": 0,
            "ticks": ""
           }
          },
          "colorscale": {
           "diverging": [
            [
             0,
             "#8e0152"
            ],
            [
             0.1,
             "#c51b7d"
            ],
            [
             0.2,
             "#de77ae"
            ],
            [
             0.3,
             "#f1b6da"
            ],
            [
             0.4,
             "#fde0ef"
            ],
            [
             0.5,
             "#f7f7f7"
            ],
            [
             0.6,
             "#e6f5d0"
            ],
            [
             0.7,
             "#b8e186"
            ],
            [
             0.8,
             "#7fbc41"
            ],
            [
             0.9,
             "#4d9221"
            ],
            [
             1,
             "#276419"
            ]
           ],
           "sequential": [
            [
             0,
             "#0d0887"
            ],
            [
             0.1111111111111111,
             "#46039f"
            ],
            [
             0.2222222222222222,
             "#7201a8"
            ],
            [
             0.3333333333333333,
             "#9c179e"
            ],
            [
             0.4444444444444444,
             "#bd3786"
            ],
            [
             0.5555555555555556,
             "#d8576b"
            ],
            [
             0.6666666666666666,
             "#ed7953"
            ],
            [
             0.7777777777777778,
             "#fb9f3a"
            ],
            [
             0.8888888888888888,
             "#fdca26"
            ],
            [
             1,
             "#f0f921"
            ]
           ],
           "sequentialminus": [
            [
             0,
             "#0d0887"
            ],
            [
             0.1111111111111111,
             "#46039f"
            ],
            [
             0.2222222222222222,
             "#7201a8"
            ],
            [
             0.3333333333333333,
             "#9c179e"
            ],
            [
             0.4444444444444444,
             "#bd3786"
            ],
            [
             0.5555555555555556,
             "#d8576b"
            ],
            [
             0.6666666666666666,
             "#ed7953"
            ],
            [
             0.7777777777777778,
             "#fb9f3a"
            ],
            [
             0.8888888888888888,
             "#fdca26"
            ],
            [
             1,
             "#f0f921"
            ]
           ]
          },
          "colorway": [
           "#636efa",
           "#EF553B",
           "#00cc96",
           "#ab63fa",
           "#FFA15A",
           "#19d3f3",
           "#FF6692",
           "#B6E880",
           "#FF97FF",
           "#FECB52"
          ],
          "font": {
           "color": "#2a3f5f"
          },
          "geo": {
           "bgcolor": "white",
           "lakecolor": "white",
           "landcolor": "#E5ECF6",
           "showlakes": true,
           "showland": true,
           "subunitcolor": "white"
          },
          "hoverlabel": {
           "align": "left"
          },
          "hovermode": "closest",
          "mapbox": {
           "style": "light"
          },
          "paper_bgcolor": "white",
          "plot_bgcolor": "#E5ECF6",
          "polar": {
           "angularaxis": {
            "gridcolor": "white",
            "linecolor": "white",
            "ticks": ""
           },
           "bgcolor": "#E5ECF6",
           "radialaxis": {
            "gridcolor": "white",
            "linecolor": "white",
            "ticks": ""
           }
          },
          "scene": {
           "xaxis": {
            "backgroundcolor": "#E5ECF6",
            "gridcolor": "white",
            "gridwidth": 2,
            "linecolor": "white",
            "showbackground": true,
            "ticks": "",
            "zerolinecolor": "white"
           },
           "yaxis": {
            "backgroundcolor": "#E5ECF6",
            "gridcolor": "white",
            "gridwidth": 2,
            "linecolor": "white",
            "showbackground": true,
            "ticks": "",
            "zerolinecolor": "white"
           },
           "zaxis": {
            "backgroundcolor": "#E5ECF6",
            "gridcolor": "white",
            "gridwidth": 2,
            "linecolor": "white",
            "showbackground": true,
            "ticks": "",
            "zerolinecolor": "white"
           }
          },
          "shapedefaults": {
           "line": {
            "color": "#2a3f5f"
           }
          },
          "ternary": {
           "aaxis": {
            "gridcolor": "white",
            "linecolor": "white",
            "ticks": ""
           },
           "baxis": {
            "gridcolor": "white",
            "linecolor": "white",
            "ticks": ""
           },
           "bgcolor": "#E5ECF6",
           "caxis": {
            "gridcolor": "white",
            "linecolor": "white",
            "ticks": ""
           }
          },
          "title": {
           "x": 0.05
          },
          "xaxis": {
           "automargin": true,
           "gridcolor": "white",
           "linecolor": "white",
           "ticks": "",
           "title": {
            "standoff": 15
           },
           "zerolinecolor": "white",
           "zerolinewidth": 2
          },
          "yaxis": {
           "automargin": true,
           "gridcolor": "white",
           "linecolor": "white",
           "ticks": "",
           "title": {
            "standoff": 15
           },
           "zerolinecolor": "white",
           "zerolinewidth": 2
          }
         }
        },
        "title": {
         "font": {
          "color": "#000000",
          "family": "Arial",
          "size": 20
         },
         "text": "<b>Geoff Collins: Analytics Darling?</b><br><i style=\"font-size:15px;\">Analyzing Georgia Tech's 4th-down decision making (2020 season)</i>"
        },
        "width": 1024,
        "xaxis": {
         "anchor": "y",
         "domain": [
          0,
          1
         ],
         "title": {
          "text": "Optimal Decision"
         }
        },
        "yaxis": {
         "anchor": "x",
         "domain": [
          0,
          1
         ],
         "tickformat": ".0%",
         "title": {
          "text": ""
         }
        }
       }
      },
      "text/html": [
       "<div>\n",
       "        \n",
       "        \n",
       "            <div id=\"7ac9e5fe-6b06-4308-8799-9d4b2c692bdf\" class=\"plotly-graph-div\" style=\"height:550px; width:1024px;\"></div>\n",
       "            <script type=\"text/javascript\">\n",
       "                require([\"plotly\"], function(Plotly) {\n",
       "                    window.PLOTLYENV=window.PLOTLYENV || {};\n",
       "                    \n",
       "                if (document.getElementById(\"7ac9e5fe-6b06-4308-8799-9d4b2c692bdf\")) {\n",
       "                    Plotly.newPlot(\n",
       "                        '7ac9e5fe-6b06-4308-8799-9d4b2c692bdf',\n",
       "                        [{\"alignmentgroup\": \"True\", \"hovertemplate\": \"Collins' Choice=Go<br>Optimal Decision=%{x}<br>=%{y}<extra></extra>\", \"legendgroup\": \"Go\", \"marker\": {\"color\": \"#b3a369\"}, \"name\": \"Go\", \"offsetgroup\": \"Go\", \"orientation\": \"v\", \"showlegend\": true, \"textposition\": \"auto\", \"type\": \"bar\", \"x\": [\"FG\", \"Go\", \"Punt\"], \"xaxis\": \"x\", \"y\": [0.6666666666666666, 0.6842105263157895, 0.12], \"yaxis\": \"y\"}, {\"alignmentgroup\": \"True\", \"hovertemplate\": \"Collins' Choice=FG<br>Optimal Decision=%{x}<br>=%{y}<extra></extra>\", \"legendgroup\": \"FG\", \"marker\": {\"color\": \"#002c59\"}, \"name\": \"FG\", \"offsetgroup\": \"FG\", \"orientation\": \"v\", \"showlegend\": true, \"textposition\": \"auto\", \"type\": \"bar\", \"x\": [\"FG\", \"Go\"], \"xaxis\": \"x\", \"y\": [0.3333333333333333, 0.15789473684210525], \"yaxis\": \"y\"}, {\"alignmentgroup\": \"True\", \"hovertemplate\": \"Collins' Choice=Punt<br>Optimal Decision=%{x}<br>=%{y}<extra></extra>\", \"legendgroup\": \"Punt\", \"marker\": {\"color\": \"gray\"}, \"name\": \"Punt\", \"offsetgroup\": \"Punt\", \"orientation\": \"v\", \"showlegend\": true, \"textposition\": \"auto\", \"type\": \"bar\", \"x\": [\"Go\", \"Punt\"], \"xaxis\": \"x\", \"y\": [0.15789473684210525, 0.88], \"yaxis\": \"y\"}],\n",
       "                        {\"annotations\": [{\"align\": \"right\", \"showarrow\": false, \"text\": \"<span style=\\\"color:#000;\\\">Recommendations provided by A.I. Sports 4th Down Bot, created by Jared Lee (<a href=\\\"https://twitter.com/JDLee\\\">@JDLee</a>).</span><br><span style=\\\"color:#000;\\\">Chart created by Akshay Easwaran (<a href=\\\"https://twitter.com/akeaswaran\\\">@akeaswaran</a>).</span>\", \"x\": 1.0, \"xref\": \"paper\", \"y\": -0.25, \"yref\": \"paper\"}], \"barmode\": \"relative\", \"height\": 550, \"legend\": {\"title\": {\"text\": \"Collins' Choice\"}, \"tracegroupgap\": 0}, \"template\": {\"data\": {\"bar\": [{\"error_x\": {\"color\": \"#2a3f5f\"}, \"error_y\": {\"color\": \"#2a3f5f\"}, \"marker\": {\"line\": {\"color\": \"#E5ECF6\", \"width\": 0.5}}, \"type\": \"bar\"}], \"barpolar\": [{\"marker\": {\"line\": {\"color\": \"#E5ECF6\", \"width\": 0.5}}, \"type\": \"barpolar\"}], \"carpet\": [{\"aaxis\": {\"endlinecolor\": \"#2a3f5f\", \"gridcolor\": \"white\", \"linecolor\": \"white\", \"minorgridcolor\": \"white\", \"startlinecolor\": \"#2a3f5f\"}, \"baxis\": {\"endlinecolor\": \"#2a3f5f\", \"gridcolor\": \"white\", \"linecolor\": \"white\", \"minorgridcolor\": \"white\", \"startlinecolor\": \"#2a3f5f\"}, \"type\": \"carpet\"}], \"choropleth\": [{\"colorbar\": {\"outlinewidth\": 0, \"ticks\": \"\"}, \"type\": \"choropleth\"}], \"contour\": [{\"colorbar\": {\"outlinewidth\": 0, \"ticks\": \"\"}, \"colorscale\": [[0.0, \"#0d0887\"], [0.1111111111111111, \"#46039f\"], [0.2222222222222222, \"#7201a8\"], [0.3333333333333333, \"#9c179e\"], [0.4444444444444444, \"#bd3786\"], [0.5555555555555556, \"#d8576b\"], [0.6666666666666666, \"#ed7953\"], [0.7777777777777778, \"#fb9f3a\"], [0.8888888888888888, \"#fdca26\"], [1.0, \"#f0f921\"]], \"type\": \"contour\"}], \"contourcarpet\": [{\"colorbar\": {\"outlinewidth\": 0, \"ticks\": \"\"}, \"type\": \"contourcarpet\"}], \"heatmap\": [{\"colorbar\": {\"outlinewidth\": 0, \"ticks\": \"\"}, \"colorscale\": [[0.0, \"#0d0887\"], [0.1111111111111111, \"#46039f\"], [0.2222222222222222, \"#7201a8\"], [0.3333333333333333, \"#9c179e\"], [0.4444444444444444, \"#bd3786\"], [0.5555555555555556, \"#d8576b\"], [0.6666666666666666, \"#ed7953\"], [0.7777777777777778, \"#fb9f3a\"], [0.8888888888888888, \"#fdca26\"], [1.0, \"#f0f921\"]], \"type\": \"heatmap\"}], \"heatmapgl\": [{\"colorbar\": {\"outlinewidth\": 0, \"ticks\": \"\"}, \"colorscale\": [[0.0, \"#0d0887\"], [0.1111111111111111, \"#46039f\"], [0.2222222222222222, \"#7201a8\"], [0.3333333333333333, \"#9c179e\"], [0.4444444444444444, \"#bd3786\"], [0.5555555555555556, \"#d8576b\"], [0.6666666666666666, \"#ed7953\"], [0.7777777777777778, \"#fb9f3a\"], [0.8888888888888888, \"#fdca26\"], [1.0, \"#f0f921\"]], \"type\": \"heatmapgl\"}], \"histogram\": [{\"marker\": {\"colorbar\": {\"outlinewidth\": 0, \"ticks\": \"\"}}, \"type\": \"histogram\"}], \"histogram2d\": [{\"colorbar\": {\"outlinewidth\": 0, \"ticks\": \"\"}, \"colorscale\": [[0.0, \"#0d0887\"], [0.1111111111111111, \"#46039f\"], [0.2222222222222222, \"#7201a8\"], [0.3333333333333333, \"#9c179e\"], [0.4444444444444444, \"#bd3786\"], [0.5555555555555556, \"#d8576b\"], [0.6666666666666666, \"#ed7953\"], [0.7777777777777778, \"#fb9f3a\"], [0.8888888888888888, \"#fdca26\"], [1.0, \"#f0f921\"]], \"type\": \"histogram2d\"}], \"histogram2dcontour\": [{\"colorbar\": {\"outlinewidth\": 0, \"ticks\": \"\"}, \"colorscale\": [[0.0, \"#0d0887\"], [0.1111111111111111, \"#46039f\"], [0.2222222222222222, \"#7201a8\"], [0.3333333333333333, \"#9c179e\"], [0.4444444444444444, \"#bd3786\"], [0.5555555555555556, \"#d8576b\"], [0.6666666666666666, \"#ed7953\"], [0.7777777777777778, \"#fb9f3a\"], [0.8888888888888888, \"#fdca26\"], [1.0, \"#f0f921\"]], \"type\": \"histogram2dcontour\"}], \"mesh3d\": [{\"colorbar\": {\"outlinewidth\": 0, \"ticks\": \"\"}, \"type\": \"mesh3d\"}], \"parcoords\": [{\"line\": {\"colorbar\": {\"outlinewidth\": 0, \"ticks\": \"\"}}, \"type\": \"parcoords\"}], \"pie\": [{\"automargin\": true, \"type\": \"pie\"}], \"scatter\": [{\"marker\": {\"colorbar\": {\"outlinewidth\": 0, \"ticks\": \"\"}}, \"type\": \"scatter\"}], \"scatter3d\": [{\"line\": {\"colorbar\": {\"outlinewidth\": 0, \"ticks\": \"\"}}, \"marker\": {\"colorbar\": {\"outlinewidth\": 0, \"ticks\": \"\"}}, \"type\": \"scatter3d\"}], \"scattercarpet\": [{\"marker\": {\"colorbar\": {\"outlinewidth\": 0, \"ticks\": \"\"}}, \"type\": \"scattercarpet\"}], \"scattergeo\": [{\"marker\": {\"colorbar\": {\"outlinewidth\": 0, \"ticks\": \"\"}}, \"type\": \"scattergeo\"}], \"scattergl\": [{\"marker\": {\"colorbar\": {\"outlinewidth\": 0, \"ticks\": \"\"}}, \"type\": \"scattergl\"}], \"scattermapbox\": [{\"marker\": {\"colorbar\": {\"outlinewidth\": 0, \"ticks\": \"\"}}, \"type\": \"scattermapbox\"}], \"scatterpolar\": [{\"marker\": {\"colorbar\": {\"outlinewidth\": 0, \"ticks\": \"\"}}, \"type\": \"scatterpolar\"}], \"scatterpolargl\": [{\"marker\": {\"colorbar\": {\"outlinewidth\": 0, \"ticks\": \"\"}}, \"type\": \"scatterpolargl\"}], \"scatterternary\": [{\"marker\": {\"colorbar\": {\"outlinewidth\": 0, \"ticks\": \"\"}}, \"type\": \"scatterternary\"}], \"surface\": [{\"colorbar\": {\"outlinewidth\": 0, \"ticks\": \"\"}, \"colorscale\": [[0.0, \"#0d0887\"], [0.1111111111111111, \"#46039f\"], [0.2222222222222222, \"#7201a8\"], [0.3333333333333333, \"#9c179e\"], [0.4444444444444444, \"#bd3786\"], [0.5555555555555556, \"#d8576b\"], [0.6666666666666666, \"#ed7953\"], [0.7777777777777778, \"#fb9f3a\"], [0.8888888888888888, \"#fdca26\"], [1.0, \"#f0f921\"]], \"type\": \"surface\"}], \"table\": [{\"cells\": {\"fill\": {\"color\": \"#EBF0F8\"}, \"line\": {\"color\": \"white\"}}, \"header\": {\"fill\": {\"color\": \"#C8D4E3\"}, \"line\": {\"color\": \"white\"}}, \"type\": \"table\"}]}, \"layout\": {\"annotationdefaults\": {\"arrowcolor\": \"#2a3f5f\", \"arrowhead\": 0, \"arrowwidth\": 1}, \"coloraxis\": {\"colorbar\": {\"outlinewidth\": 0, \"ticks\": \"\"}}, \"colorscale\": {\"diverging\": [[0, \"#8e0152\"], [0.1, \"#c51b7d\"], [0.2, \"#de77ae\"], [0.3, \"#f1b6da\"], [0.4, \"#fde0ef\"], [0.5, \"#f7f7f7\"], [0.6, \"#e6f5d0\"], [0.7, \"#b8e186\"], [0.8, \"#7fbc41\"], [0.9, \"#4d9221\"], [1, \"#276419\"]], \"sequential\": [[0.0, \"#0d0887\"], [0.1111111111111111, \"#46039f\"], [0.2222222222222222, \"#7201a8\"], [0.3333333333333333, \"#9c179e\"], [0.4444444444444444, \"#bd3786\"], [0.5555555555555556, \"#d8576b\"], [0.6666666666666666, \"#ed7953\"], [0.7777777777777778, \"#fb9f3a\"], [0.8888888888888888, \"#fdca26\"], [1.0, \"#f0f921\"]], \"sequentialminus\": [[0.0, \"#0d0887\"], [0.1111111111111111, \"#46039f\"], [0.2222222222222222, \"#7201a8\"], [0.3333333333333333, \"#9c179e\"], [0.4444444444444444, \"#bd3786\"], [0.5555555555555556, \"#d8576b\"], [0.6666666666666666, \"#ed7953\"], [0.7777777777777778, \"#fb9f3a\"], [0.8888888888888888, \"#fdca26\"], [1.0, \"#f0f921\"]]}, \"colorway\": [\"#636efa\", \"#EF553B\", \"#00cc96\", \"#ab63fa\", \"#FFA15A\", \"#19d3f3\", \"#FF6692\", \"#B6E880\", \"#FF97FF\", \"#FECB52\"], \"font\": {\"color\": \"#2a3f5f\"}, \"geo\": {\"bgcolor\": \"white\", \"lakecolor\": \"white\", \"landcolor\": \"#E5ECF6\", \"showlakes\": true, \"showland\": true, \"subunitcolor\": \"white\"}, \"hoverlabel\": {\"align\": \"left\"}, \"hovermode\": \"closest\", \"mapbox\": {\"style\": \"light\"}, \"paper_bgcolor\": \"white\", \"plot_bgcolor\": \"#E5ECF6\", \"polar\": {\"angularaxis\": {\"gridcolor\": \"white\", \"linecolor\": \"white\", \"ticks\": \"\"}, \"bgcolor\": \"#E5ECF6\", \"radialaxis\": {\"gridcolor\": \"white\", \"linecolor\": \"white\", \"ticks\": \"\"}}, \"scene\": {\"xaxis\": {\"backgroundcolor\": \"#E5ECF6\", \"gridcolor\": \"white\", \"gridwidth\": 2, \"linecolor\": \"white\", \"showbackground\": true, \"ticks\": \"\", \"zerolinecolor\": \"white\"}, \"yaxis\": {\"backgroundcolor\": \"#E5ECF6\", \"gridcolor\": \"white\", \"gridwidth\": 2, \"linecolor\": \"white\", \"showbackground\": true, \"ticks\": \"\", \"zerolinecolor\": \"white\"}, \"zaxis\": {\"backgroundcolor\": \"#E5ECF6\", \"gridcolor\": \"white\", \"gridwidth\": 2, \"linecolor\": \"white\", \"showbackground\": true, \"ticks\": \"\", \"zerolinecolor\": \"white\"}}, \"shapedefaults\": {\"line\": {\"color\": \"#2a3f5f\"}}, \"ternary\": {\"aaxis\": {\"gridcolor\": \"white\", \"linecolor\": \"white\", \"ticks\": \"\"}, \"baxis\": {\"gridcolor\": \"white\", \"linecolor\": \"white\", \"ticks\": \"\"}, \"bgcolor\": \"#E5ECF6\", \"caxis\": {\"gridcolor\": \"white\", \"linecolor\": \"white\", \"ticks\": \"\"}}, \"title\": {\"x\": 0.05}, \"xaxis\": {\"automargin\": true, \"gridcolor\": \"white\", \"linecolor\": \"white\", \"ticks\": \"\", \"title\": {\"standoff\": 15}, \"zerolinecolor\": \"white\", \"zerolinewidth\": 2}, \"yaxis\": {\"automargin\": true, \"gridcolor\": \"white\", \"linecolor\": \"white\", \"ticks\": \"\", \"title\": {\"standoff\": 15}, \"zerolinecolor\": \"white\", \"zerolinewidth\": 2}}}, \"title\": {\"font\": {\"color\": \"#000000\", \"family\": \"Arial\", \"size\": 20}, \"text\": \"<b>Geoff Collins: Analytics Darling?</b><br><i style=\\\"font-size:15px;\\\">Analyzing Georgia Tech's 4th-down decision making (2020 season)</i>\"}, \"width\": 1024, \"xaxis\": {\"anchor\": \"y\", \"domain\": [0.0, 1.0], \"title\": {\"text\": \"Optimal Decision\"}}, \"yaxis\": {\"anchor\": \"x\", \"domain\": [0.0, 1.0], \"tickformat\": \".0%\", \"title\": {\"text\": \"\"}}},\n",
       "                        {\"responsive\": true}\n",
       "                    ).then(function(){\n",
       "                            \n",
       "var gd = document.getElementById('7ac9e5fe-6b06-4308-8799-9d4b2c692bdf');\n",
       "var x = new MutationObserver(function (mutations, observer) {{\n",
       "        var display = window.getComputedStyle(gd).display;\n",
       "        if (!display || display === 'none') {{\n",
       "            console.log([gd, 'removed!']);\n",
       "            Plotly.purge(gd);\n",
       "            observer.disconnect();\n",
       "        }}\n",
       "}});\n",
       "\n",
       "// Listen for the removal of the full notebook cells\n",
       "var notebookContainer = gd.closest('#notebook-container');\n",
       "if (notebookContainer) {{\n",
       "    x.observe(notebookContainer, {childList: true});\n",
       "}}\n",
       "\n",
       "// Listen for the clearing of the current output cell\n",
       "var outputEl = gd.closest('.output');\n",
       "if (outputEl) {{\n",
       "    x.observe(outputEl, {childList: true});\n",
       "}}\n",
       "\n",
       "                        })\n",
       "                };\n",
       "                });\n",
       "            </script>\n",
       "        </div>"
      ]
     },
     "metadata": {},
     "output_type": "display_data"
    }
   ],
   "source": [
    "import plotly.express as px\n",
    "\n",
    "fig = px.bar(base_df, x=\"recommendation\", y=\"count\", color=\"choice\", title=\"Geoff Collins: Analytics Darling?\", color_discrete_map={\n",
    "    \"Go\" : \"#b3a369\",\n",
    "    \"Punt\" : \"gray\",\n",
    "    \"FG\" : \"#002c59\"\n",
    "}, labels=dict(recommendation=\"Optimal Decision\", count=\"\", choice=\"Collins' Choice\"))\n",
    "fig.add_annotation(dict(xref='paper',\n",
    "                        yref='paper',\n",
    "                        x=1.0, y=-0.25,\n",
    "                        showarrow=False,\n",
    "                        align=\"right\",\n",
    "                        text ='<span style=\"color:#000;\">Recommendations provided by A.I. Sports 4th Down Bot, created by Jared Lee (<a href=\"https://twitter.com/JDLee\">@JDLee</a>).</span><br><span style=\"color:#000;\">Chart created by Akshay Easwaran (<a href=\"https://twitter.com/akeaswaran\">@akeaswaran</a>).</span>'\n",
    "                       )\n",
    "                  )\n",
    "fig.update_layout(width=1024,\n",
    "                  height=512,\n",
    "                title=dict(\n",
    "                    text='<b>Geoff Collins: Analytics Darling?</b><br><i style=\"font-size:15px;\">Analyzing Georgia Tech\\'s 4th-down decision making (2020 season)</i>',\n",
    "                    font=dict(\n",
    "                        family=\"Arial\",\n",
    "                        size=20,\n",
    "                        color='#000000'\n",
    "                    )\n",
    "                ),\n",
    "                 yaxis=dict(tickformat=\".0%\"))\n",
    "\n",
    "fig.show()"
   ]
  },
  {
   "cell_type": "code",
   "execution_count": null,
   "metadata": {},
   "outputs": [],
   "source": []
  }
 ],
 "metadata": {
  "kernelspec": {
   "display_name": "Python 3",
   "language": "python",
   "name": "python3"
  },
  "language_info": {
   "codemirror_mode": {
    "name": "ipython",
    "version": 3
   },
   "file_extension": ".py",
   "mimetype": "text/x-python",
   "name": "python",
   "nbconvert_exporter": "python",
   "pygments_lexer": "ipython3",
   "version": "3.7.7"
  }
 },
 "nbformat": 4,
 "nbformat_minor": 4
}
