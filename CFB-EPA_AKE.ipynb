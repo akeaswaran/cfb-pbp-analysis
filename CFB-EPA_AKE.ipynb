{
 "cells": [
  {
   "cell_type": "code",
   "execution_count": 15,
   "metadata": {},
   "outputs": [
    {
     "data": {
      "text/plain": [
       "'0.19.2'"
      ]
     },
     "execution_count": 15,
     "metadata": {},
     "output_type": "execute_result"
    }
   ],
   "source": [
    "# note: old version of sklearn in conda environment\n",
    "\n",
    "import sklearn\n",
    "sklearn.__version__"
   ]
  },
  {
   "cell_type": "code",
   "execution_count": 16,
   "metadata": {},
   "outputs": [],
   "source": [
    "import pandas as pd\n",
    "import numpy as np\n",
    "# import matplotlib.pyplot as plt\n",
    "# import re\n",
    "# import requests\n",
    "import time\n",
    "from sklearn.ensemble import GradientBoostingClassifier\n",
    "import joblib\n",
    "# import statsmodels.api as sm\n",
    "# import statsmodels.formula.api as smf\n",
    "pd.options.display.max_columns = 999\n",
    "pd.options.display.max_rows = 999\n",
    "\n",
    "# first one here is from https://github.com/meysubb/cfbscrapR-MISC/blob/master/EPA_WPA/02-EPA-Model.R#L245\n",
    "reg_equation_cfb = 'drive_point ~ time_remaining + adjusted_yardline + C(down) + log_distance + goal_to_go + under_two + log_distance*C(down) + adjusted_yardline*C(down) + goal_to_go*log_distance'\n",
    "reg_equation_spl = 'drive_point ~ C(down) + distance + adjusted_yardline + C(down):distance + C(down):adjusted_yardline + period + margin'\n",
    "reg_equation_ake = 'drive_point ~ C(down) + distance + adjusted_yardline + C(down):distance + C(down):adjusted_yardline + period + margin + time_remaining'\n",
    "reg_equation = reg_equation_spl\n",
    "\n",
    "\n"
   ]
  },
  {
   "cell_type": "code",
   "execution_count": 17,
   "metadata": {},
   "outputs": [
    {
     "name": "stdout",
     "output_type": "stream",
     "text": [
      "Total Games: 6644\n",
      "Total Drives: 171692\n",
      "Total Plays: 1210147\n"
     ]
    }
   ],
   "source": [
    "drive_data = pd.DataFrame()\n",
    "game_data = pd.DataFrame()\n",
    "play_data = pd.DataFrame()\n",
    "\n",
    "def retrieveCfbDataFile(endpoint, year):\n",
    "    return pd.read_csv(f\"data/{endpoint}/{year}.csv\", encoding='latin-1')\n",
    "\n",
    "for i in range(2012, 2020):\n",
    "    drive = retrieveCfbDataFile('drives',i)\n",
    "    drive['year'] = i\n",
    "    drive_data = drive_data.append(drive, sort=False)\n",
    "    \n",
    "    gm = retrieveCfbDataFile('games',i)\n",
    "    gm['year'] = i\n",
    "    game_data = game_data.append(gm, sort=False)\n",
    "    \n",
    "    plys = retrieveCfbDataFile('pbp',i)\n",
    "    plys['year'] = i\n",
    "    play_data = play_data.append(plys, sort=False)\n",
    "\n",
    "print(f\"Total Games: {len(game_data)}\")\n",
    "print(f\"Total Drives: {len(drive_data)}\")\n",
    "print(f\"Total Plays: {len(play_data)}\")"
   ]
  },
  {
   "cell_type": "code",
   "execution_count": 18,
   "metadata": {},
   "outputs": [
    {
     "name": "stdout",
     "output_type": "stream",
     "text": [
      "Total FBS Plays: 1055257\n"
     ]
    }
   ],
   "source": [
    "# drop FCS games \n",
    "play_data = play_data[(play_data['offense_conference'].notna()) & (play_data['defense_conference'].notna())]\n",
    "print(f\"Total FBS Plays: {len(play_data)}\")"
   ]
  },
  {
   "cell_type": "code",
   "execution_count": 19,
   "metadata": {},
   "outputs": [],
   "source": [
    "game_data['game_id'] = game_data['id']\n",
    "data = pd.merge(drive_data,game_data,on='game_id')\n",
    "data['drive_id'] = data['id_x']"
   ]
  },
  {
   "cell_type": "code",
   "execution_count": 20,
   "metadata": {},
   "outputs": [],
   "source": [
    "pbp_data = pd.merge(play_data,data[['home_team','drive_id']],how='left',on='drive_id')"
   ]
  },
  {
   "cell_type": "code",
   "execution_count": 21,
   "metadata": {},
   "outputs": [],
   "source": [
    "pbp_data['coef'] = (pbp_data['home_team'] == pbp_data['defense']).astype(int)\n",
    "pbp_data['adjusted_yardline'] = 100*(1-pbp_data['coef']) +  (2*pbp_data['coef']-1)*pbp_data['yard_line'] #yard_line is defined by home team in API\n",
    "pbp_data['margin'] = pbp_data['offense_score'] - pbp_data['defense_score']\n",
    "pbp_data.loc[pbp_data.down > 4, 'down'] = 4\n",
    "pbp_data.loc[pbp_data.period > 4, 'period'] = 5"
   ]
  },
  {
   "cell_type": "code",
   "execution_count": 22,
   "metadata": {},
   "outputs": [],
   "source": [
    "# from cfbscrapR\n",
    "\n",
    "pbp_data[\"time_remaining\"] = pbp_data.apply(lambda x: ((4 - x.period) * 60 * 15) + (60 * x[\"clock.minutes\"]) + x[\"clock.seconds\"], axis=1)\n",
    "pbp_data[\"log_distance\"] = np.log(pbp_data.distance)\n",
    "pbp_data[\"goal_to_go\"] = pbp_data.apply(lambda x: (x.distance >= (x.adjusted_yardline - 17)) if (\"Field Goal\" in x.play_type) else (x.distance >= x.adjusted_yardline), axis=1)\n",
    "pbp_data[\"under_two\"] = pbp_data.time_remaining.apply(lambda x: x <= 120)\n",
    "\n",
    "\n"
   ]
  },
  {
   "cell_type": "code",
   "execution_count": 23,
   "metadata": {},
   "outputs": [],
   "source": [
    "data['drive_point'] = data.drive_result.apply(lambda x: 7 if (x == 'TD' or x == 'PUNT TD' or x == 'RUSHING TD' or x == 'PASSING TD') else (3 if (x == 'FG' or x == 'FG GOOD') else (-2 if x == 'SF' else -7 if ( x ==   'PUNT RETURN TD' or x == 'MISSED FG TD' or x == 'INT TD' or x == 'FUMBLE RETURN TD' or x == 'FUMBLE TD' or x == 'DOWNS TD' or x == 'INT RETURN TOUCH'  or x == 'FG MISSED TD' or x =='PUNT TD' or x == 'TURNOVER ON DOWNS TD' or x == 'DOWNS TD') else 0 )))"
   ]
  },
  {
   "cell_type": "code",
   "execution_count": 24,
   "metadata": {},
   "outputs": [],
   "source": [
    "data['next_drive_point'] = -data['drive_point'].shift(-1).clip(lower=-2)"
   ]
  },
  {
   "cell_type": "code",
   "execution_count": 25,
   "metadata": {},
   "outputs": [],
   "source": [
    "data.loc[data.drive_point == 0, 'drive_point'] = data['next_drive_point']"
   ]
  },
  {
   "cell_type": "code",
   "execution_count": 26,
   "metadata": {},
   "outputs": [],
   "source": [
    "pbp_data = pbp_data.merge(data[['drive_id','drive_point','drive_result']])"
   ]
  },
  {
   "cell_type": "code",
   "execution_count": 27,
   "metadata": {},
   "outputs": [],
   "source": [
    "exclude_playtype = ['Kickoff',  'End Period',\n",
    "        'Kickoff Return (Offense)',\n",
    "       'Kickoff Return Touchdown', 'End of Half', 'Defensive 2pt Conversion','Uncategorized', 'End of Game', 'Timeout','placeholder']\n",
    "\n",
    "game_end_drive = ['END OF HALF', 'END OF GAME', 'Uncategorized','END OF 4TH QUARTER', 'DOWNS TD','POSSESSION (FOR OT DRIVES)',\"END OF 4TH QUARTER\"]\n",
    "\n",
    "regression_df = pbp_data[~(pbp_data.play_type.isin(exclude_playtype)) & (pbp_data.adjusted_yardline < 100) & (pbp_data.down > 0) &(pbp_data.distance > 0) & (pbp_data.adjusted_yardline>0) & ~(pbp_data.drive_result.isin(game_end_drive))].dropna()"
   ]
  },
  {
   "cell_type": "code",
   "execution_count": 28,
   "metadata": {},
   "outputs": [],
   "source": [
    "from patsy import dmatrices\n",
    "\n",
    "# int_conv = regression_df.astype({\"drive_point\":int, \"down\": int, \"distance\":int, \"adjusted_yardline\": int, \"period\": int, \"margin\": int, \"time_remaining\": int})\n",
    "y, X = dmatrices(reg_equation, regression_df, return_type='dataframe')\n",
    "\n",
    "feature_cols = [\"Intercept\", \"C(down)[T.2]\", \"C(down)[T.3]\", \"C(down)[T.4]\", \"distance\", \"C(down)[T.2]:distance\", \"C(down)[T.3]:distance\", \"C(down)[T.4]:distance\", \"adjusted_yardline\", \"C(down)[T.2]:adjusted_yardline\", \"C(down)[T.3]:adjusted_yardline\", \"C(down)[T.4]:adjusted_yardline\", \"period\", \"margin\"]\n",
    "for c in feature_cols:\n",
    "    X[c] = X[c].astype(int)\n",
    "y.drive_point = y.drive_point.astype(int)"
   ]
  },
  {
   "cell_type": "code",
   "execution_count": 29,
   "metadata": {},
   "outputs": [],
   "source": [
    "# pd.merge(X, y, left_index=True,right_index=True).to_csv(\"./combined.csv\", index=False,encoding=\"utf8\")"
   ]
  },
  {
   "cell_type": "code",
   "execution_count": 30,
   "metadata": {},
   "outputs": [
    {
     "name": "stderr",
     "output_type": "stream",
     "text": [
      "/Users/akeaswaran/anaconda3/envs/old_sklearn/lib/python3.7/site-packages/sklearn/utils/validation.py:578: DataConversionWarning: A column-vector y was passed when a 1d array was expected. Please change the shape of y to (n_samples, ), for example using ravel().\n",
      "  y = column_or_1d(y, warn=True)\n"
     ]
    },
    {
     "data": {
      "text/plain": [
       "GradientBoostingClassifier(criterion='friedman_mse', init=None,\n",
       "              learning_rate=0.1, loss='deviance', max_depth=3,\n",
       "              max_features=None, max_leaf_nodes=None,\n",
       "              min_impurity_decrease=0.0, min_impurity_split=None,\n",
       "              min_samples_leaf=1, min_samples_split=2,\n",
       "              min_weight_fraction_leaf=0.0, n_estimators=200,\n",
       "              presort='auto', random_state=None, subsample=1.0, verbose=0,\n",
       "              warm_start=False)"
      ]
     },
     "execution_count": 30,
     "metadata": {},
     "output_type": "execute_result"
    }
   ],
   "source": [
    "from sklearn.ensemble import GradientBoostingClassifier\n",
    "\n",
    "clf = GradientBoostingClassifier(n_estimators = 200)\n",
    "clf.fit(X, y)"
   ]
  },
  {
   "cell_type": "code",
   "execution_count": 31,
   "metadata": {},
   "outputs": [],
   "source": [
    "special_team_play_type = ['Kickoff','Punt','Kickoff Return (Offense)', 'Kickoff Return Touchdown','Field Goal Good', 'Field Goal Missed', 'Blocked Field Goal',\n",
    "                          'Blocked Punt','Punt Return Touchdown','Blocked Punt Touchdown','Missed Field Goal Return','Uncategorized', 'Missed Field Goal Return Touchdown','Defensive 2pt Conversion']\n",
    "timing_play_type = ['End Period','End of Game','Timeout','End of Half',\"END OF GAME\"]\n",
    "turnover_play_type = ['Fumble Recovery (Opponent)','Pass Interception Return','Interception Return Touchdown','Fumble Return Touchdown','Safety','Interception','Pass Interception','Punt',\n",
    "                     'Field Goal Missed', 'Blocked Field Goal', 'Blocked Punt','Punt Return Touchdown','Blocked Punt Touchdown','Missed Field Goal Return', 'Missed Field Goal Return Touchdown']\n",
    "regular_play_type = ['Pass', 'Rush', 'Sack', 'Pass Reception', 'Passing Touchdown','Pass Incompletion', 'Fumble Recovery (Own)','Rushing Touchdown','Pass Interception','Pass Completion']\n",
    "time_play = ['End Period','Timeout','End of Half','End of Game',\"END OF GAME\"]\n",
    "PAT_miss_type= [ 'PAT MISSED','PAT failed', 'PAT blocked', 'PAT BLOCKED']\n",
    "off_TD = ['Passing Touchdown','Rushing Touchdown']\n",
    "def_TD = ['Interception Return Touchdown','Fumble Return Touchdown', 'Missed Field Goal Return Touchdown','Blocked Punt Touchdown','Punt Return Touchdown']"
   ]
  },
  {
   "cell_type": "code",
   "execution_count": 32,
   "metadata": {},
   "outputs": [],
   "source": [
    "regular_play = pbp_data[~pbp_data.play_type.str.contains('Kickoff') & ~(pbp_data.play_type.isin(time_play)) &(pbp_data.down > 0) & (pbp_data.distance > 0)]\n",
    "# regular_play.to_csv(\"./regular_pbp.csv\", index=False,encoding=\"utf8\")"
   ]
  },
  {
   "cell_type": "code",
   "execution_count": 33,
   "metadata": {},
   "outputs": [],
   "source": [
    "CFB_teams_list = pd.read_csv('https://raw.githubusercontent.com/903124/CFB_EPA_data/master/.ipynb_checkpoints/cfb_teams_list-checkpoint.csv',encoding='utf-8')"
   ]
  },
  {
   "cell_type": "code",
   "execution_count": 34,
   "metadata": {},
   "outputs": [
    {
     "data": {
      "text/plain": [
       "array(['Abilene Christian', 'Air Force', 'Akron', 'Alabama',\n",
       "       'Alabama A&M', 'Albany', 'Alcorn State', 'Appalachian State',\n",
       "       'Arizona', 'Arizona State', 'Arkansas', 'Arkansas State',\n",
       "       'Arkansas-Pine Bluff', 'Army', 'Auburn', 'Austin Peay', 'BYU',\n",
       "       'Ball State', 'Baylor', 'Bethune-Cookman', 'Boise State',\n",
       "       'Boston College', 'Bowling Green', 'Buffalo', 'California',\n",
       "       'Campbell', 'Central Arkansas', 'Central Connecticut',\n",
       "       'Central Michigan', 'Charleston Southern', 'Charlotte',\n",
       "       'Cincinnati', 'Clemson', 'Coastal Carolina', 'Colorado',\n",
       "       'Colorado State', 'Connecticut', 'Delaware State', 'Drake', 'Duke',\n",
       "       'Duquesne', 'East Carolina', 'Eastern Illinois',\n",
       "       'Eastern Kentucky', 'Eastern Michigan', 'Eastern Washington',\n",
       "       'Elon', 'Florida', 'Florida Atlantic', 'Florida International',\n",
       "       'Florida State', 'Fordham', 'Fresno State', 'Gardner-Webb',\n",
       "       'Georgia', 'Georgia Southern', 'Georgia State', 'Georgia Tech',\n",
       "       'Grambling', \"Hawai'i\", 'Houston', 'Houston Baptist', 'Howard',\n",
       "       'Idaho', 'Idaho State', 'Illinois', 'Illinois State', 'Indiana',\n",
       "       'Iowa', 'Iowa State', 'Jackson State', 'James Madison', 'Kansas',\n",
       "       'Kansas State', 'Kennesaw State', 'Kent State', 'Kentucky', 'LSU',\n",
       "       'Lafayette', 'Lehigh', 'Liberty', 'Louisiana', 'Louisiana Monroe',\n",
       "       'Louisiana Tech', 'Louisville', 'Maine', 'Marshall', 'Maryland',\n",
       "       'McNeese', 'Memphis', 'Mercer', 'Miami', 'Miami (OH)', 'Michigan',\n",
       "       'Michigan State', 'Middle Tennessee', 'Minnesota',\n",
       "       'Mississippi State', 'Missouri', 'Missouri State', 'Monmouth',\n",
       "       'Murray State', 'NC State', 'Navy', 'Nebraska', 'Nevada',\n",
       "       'New Hampshire', 'New Mexico', 'New Mexico State', 'Nicholls',\n",
       "       'Norfolk State', 'North Carolina', 'North Carolina A&T',\n",
       "       'North Carolina Central', 'North Texas', 'Northern Arizona',\n",
       "       'Northern Illinois', 'Northern Iowa', 'Northwestern',\n",
       "       'Northwestern State', 'Notre Dame', 'Ohio', 'Ohio State',\n",
       "       'Oklahoma', 'Oklahoma State', 'Old Dominion', 'Ole Miss', 'Oregon',\n",
       "       'Oregon State', 'Penn State', 'Pittsburgh', 'Portland State',\n",
       "       'Prairie View', 'Purdue', 'Rhode Island', 'Rice', 'Richmond',\n",
       "       'Rutgers', 'SMU', 'San Diego State', 'San José State',\n",
       "       'Savannah State', 'South Alabama', 'South Carolina',\n",
       "       'South Carolina State', 'South Dakota', 'South Florida',\n",
       "       'Southeast Missouri State', 'Southeastern Louisiana', 'Southern',\n",
       "       'Southern Mississippi', 'Southern Utah', 'Stanford',\n",
       "       'Stephen F. Austin', 'Stony Brook', 'Syracuse', 'TCU', 'Temple',\n",
       "       'Tennessee', 'Tennessee State', 'Tennessee Tech', 'Texas',\n",
       "       'Texas A&M', 'Texas Southern', 'Texas State', 'Texas Tech',\n",
       "       'Toledo', 'Troy', 'Tulane', 'Tulsa', 'UAB', 'UC Davis', 'UCF',\n",
       "       'UCLA', 'UMass', 'UNLV', 'USC', 'UT Martin', 'UT San Antonio',\n",
       "       'UTEP', 'Utah', 'Utah State', 'VMI', 'Vanderbilt', 'Villanova',\n",
       "       'Virginia', 'Virginia Tech', 'Wake Forest', 'Washington',\n",
       "       'Washington State', 'Weber State', 'West Virginia',\n",
       "       'Western Kentucky', 'Western Michigan', 'Wisconsin', 'Wofford',\n",
       "       'Wyoming'], dtype=object)"
      ]
     },
     "execution_count": 34,
     "metadata": {},
     "output_type": "execute_result"
    }
   ],
   "source": [
    "CFB_teams_list.full_name.unique()"
   ]
  },
  {
   "cell_type": "code",
   "execution_count": 35,
   "metadata": {},
   "outputs": [],
   "source": [
    "regular_play = pd.merge(regular_play,CFB_teams_list,left_on=['offense'],right_on=['full_name'])\n",
    "regular_play.rename(columns={'abbreviation':'off_abbr', 'full_name': 'off_full_name'}, inplace=True)\n",
    "regular_play = pd.merge(regular_play,CFB_teams_list,left_on=['defense'],right_on=['full_name'])\n",
    "regular_play.rename(columns={'abbreviation':'def_abbr', 'full_name': 'def_full_name'}, inplace=True)"
   ]
  },
  {
   "cell_type": "code",
   "execution_count": 36,
   "metadata": {},
   "outputs": [],
   "source": [
    "# there are some plays in prev seasons that have no drive_point set (and ended up being at the end of a game); this broke the produced dmatrices bc it drops NAs in the outcome var\n",
    "# regular_play[regular_play.drive_point.isna() == True]\n",
    "regular_play.loc[regular_play.drive_point.isna() == True, \"drive_point\"] = 0.0\n",
    "# regular_play[regular_play.drive_result == \"END OF GAME\"].head()"
   ]
  },
  {
   "cell_type": "code",
   "execution_count": 37,
   "metadata": {},
   "outputs": [],
   "source": [
    "y_test, X_test = dmatrices(reg_equation, regular_play, return_type='dataframe')\n",
    "EP_predict = clf.predict_proba(X_test)\n",
    "\n",
    "\n",
    "test_df = pd.merge(X_test, y_test, left_index=True,right_index=True)\n",
    "# test_df.to_csv(\"./test_df.csv\", index=False,encoding=\"utf8\")"
   ]
  },
  {
   "cell_type": "code",
   "execution_count": 38,
   "metadata": {},
   "outputs": [],
   "source": [
    "# see above cell, we were having some issues with NAs for drive_point for a couple of plays that got dropped by dmatrices\n",
    "\n",
    "#len(X_test)\n",
    "# test_reg_play = regular_play[['down','distance','adjusted_yardline', 'period', 'margin']]\n",
    "# len(regular_play) - len(X_test)\n",
    "# test_x_play = X_test[['down','distance','adjusted_yardline', 'period', 'margin']]\n",
    "# pd.concat([test_x_play,test_reg_play]).drop_duplicates(keep=False)"
   ]
  },
  {
   "cell_type": "code",
   "execution_count": 39,
   "metadata": {},
   "outputs": [],
   "source": [
    "EP = EP_predict[:,0]* -7 + EP_predict[:,1] * -3 + EP_predict[:,2] * -2 + EP_predict[:,4] * 2 + EP_predict[:,5] * 3 + EP_predict[:,6] * 7\n",
    "# print(len(EP))\n",
    "regular_play['EP_start'] = EP"
   ]
  },
  {
   "cell_type": "code",
   "execution_count": 40,
   "metadata": {},
   "outputs": [],
   "source": [
    "regular_play['new_yardline']= 0\n",
    "regular_play['new_down']= 0\n",
    "regular_play['new_distance']= 0\n",
    "regular_play['turnover'] = 0"
   ]
  },
  {
   "cell_type": "code",
   "execution_count": 41,
   "metadata": {},
   "outputs": [],
   "source": [
    "regular_play = regular_play[~pd.isna(regular_play.play_text) & (regular_play.play_type != 'Interception')]"
   ]
  },
  {
   "cell_type": "code",
   "execution_count": 42,
   "metadata": {},
   "outputs": [],
   "source": [
    "\n",
    "regular_play.loc[regular_play.play_type.isin(turnover_play_type),'new_down'] = 1\n",
    "regular_play.loc[regular_play.play_type.isin(turnover_play_type),'new_distance'] = 10\n",
    "\n",
    "regular_play.loc[regular_play.play_text.str.contains('1ST'), 'new_down'] = 1\n",
    "regular_play.loc[regular_play.play_text.str.contains('1ST'), 'new_distance'] = 10\n",
    "\n",
    "regular_play.loc[~regular_play.play_type.isin(turnover_play_type) & ~regular_play.play_text.str.contains('1ST'), 'new_down'] = regular_play.down + 1\n",
    "regular_play.loc[~regular_play.play_type.isin(turnover_play_type) & ~regular_play.play_text.str.contains('1ST'), 'new_distance'] = regular_play.distance - regular_play.yards_gained\n",
    "\n",
    "regular_play.loc[regular_play.play_text.str.contains('50 yard line'), 'new_yardline'] = 50"
   ]
  },
  {
   "cell_type": "code",
   "execution_count": 43,
   "metadata": {},
   "outputs": [],
   "source": [
    "regular_play.loc[regular_play.play_type == 'Fumble Recovery (Opponent)', 'new_yardline'] = 100- (regular_play.yard_line + regular_play.yards_gained) \n",
    "regular_play.loc[regular_play.play_type == 'Fumble Recovery (Opponent)', 'new_down'] = 1\n",
    "regular_play.loc[regular_play.play_type == 'Fumble Recovery (Opponent)', 'new_distance'] = 10\n",
    "\n",
    "regular_play.loc[regular_play.play_type == 'Sack', 'new_yardline'] = 100- (regular_play.yard_line - regular_play.yards_gained)\n",
    "regular_play.loc[regular_play.play_type == 'Sack', 'new_down'] = regular_play.down + 1\n",
    "regular_play.loc[regular_play.play_type == 'Sack', 'new_distance'] = regular_play.distance - regular_play.yards_gained"
   ]
  },
  {
   "cell_type": "code",
   "execution_count": 44,
   "metadata": {},
   "outputs": [
    {
     "name": "stderr",
     "output_type": "stream",
     "text": [
      "/Users/akeaswaran/anaconda3/envs/old_sklearn/lib/python3.7/site-packages/ipykernel_launcher.py:4: SettingWithCopyWarning: \n",
      "A value is trying to be set on a copy of a slice from a DataFrame.\n",
      "Try using .loc[row_indexer,col_indexer] = value instead\n",
      "\n",
      "See the caveats in the documentation: https://pandas.pydata.org/pandas-docs/stable/user_guide/indexing.html#returning-a-view-versus-a-copy\n",
      "  after removing the cwd from sys.path.\n",
      "/Users/akeaswaran/anaconda3/envs/old_sklearn/lib/python3.7/site-packages/ipykernel_launcher.py:8: SettingWithCopyWarning: \n",
      "A value is trying to be set on a copy of a slice from a DataFrame.\n",
      "Try using .loc[row_indexer,col_indexer] = value instead\n",
      "\n",
      "See the caveats in the documentation: https://pandas.pydata.org/pandas-docs/stable/user_guide/indexing.html#returning-a-view-versus-a-copy\n",
      "  \n"
     ]
    }
   ],
   "source": [
    "\n",
    "#Collect end of play yardline information (e.g. Alab 38 = Alabama own 38) from play_text and match the team abbreviation\n",
    "\n",
    "temp_df = regular_play.iloc[np.char.find(regular_play.play_text.values.astype(str), regular_play.off_abbr.values.astype(str)) >= 0] \n",
    "temp_df['split_string'] =  [x[1] for x in list(np.char.split(temp_df.play_text.values.astype(str),sep =temp_df.off_abbr.values.astype(str)))]\n",
    "regular_play.loc[temp_df[temp_df.play_text.str.contains('\\d+', regex=True)].index, 'new_yardline'] = 100-np.array(temp_df[temp_df.play_text.str.contains('\\d+', regex=True)].split_string.str.extract(r'(\\d+)').astype(float)).ravel()\n",
    "\n",
    "temp_df = regular_play.iloc[np.char.find(regular_play.play_text.values.astype(str), regular_play.def_abbr.values.astype(str)) >= 0]\n",
    "temp_df['split_string'] =  [x[1] for x in list(np.char.split(temp_df.play_text.values.astype(str),sep =temp_df.def_abbr.values.astype(str)))]\n",
    "regular_play.loc[temp_df[temp_df.play_text.str.contains('\\d+', regex=True)].index, 'new_yardline'] = np.array(temp_df[temp_df.play_text.str.contains('\\d+', regex=True)].split_string.str.extract(r'(\\d+)').astype(float)).ravel()"
   ]
  },
  {
   "cell_type": "code",
   "execution_count": 45,
   "metadata": {},
   "outputs": [],
   "source": [
    "regular_play.loc[pd.isna(regular_play.new_yardline),'new_distance'] = regular_play.distance - regular_play.yards_gained \n",
    "regular_play.loc[pd.isna(regular_play.new_yardline),'new_yardline'] = regular_play.adjusted_yardline - regular_play.yards_gained\n",
    "\n",
    "regular_play.loc[regular_play.play_type == 'Pass Incompletion', 'new_yardline'] = regular_play.adjusted_yardline\n",
    "\n",
    "regular_play.loc[regular_play.play_text.str.contains('touchback'), 'new_yardline'] = 80\n",
    "regular_play.loc[regular_play.play_text.str.contains('touchback'), 'new_down'] = 1\n",
    "\n",
    "#Fake data for model prediction, EP will be changed after processing the data\n",
    "\n",
    "regular_play.loc[regular_play.play_type == 'Safety', 'new_yardline'] = 99 #Dummy yardline for Safety\n",
    "\n",
    "regular_play.loc[regular_play.play_type.isin(off_TD),'new_down'] = 1 #Dummy new down for Offensive tocuhdown play\n",
    "regular_play.loc[regular_play.play_type.isin(off_TD),'new_distance']  = 10 #Dummy new yards to go for Offensive tocuhdown play\n",
    "\n",
    "regular_play.loc[(regular_play.play_type.isin(off_TD) | regular_play.play_type.isin(def_TD)),'new_yardline'] = 99  #Dummy yardline for Offensive tocuhdown play\n",
    "\n",
    "regular_play.loc[(regular_play.play_type == 'Field Goal Good'), 'new_down'] = 1\n",
    "\n",
    "regular_play.loc[(regular_play.new_down > 4) & ~(regular_play.play_type.isin(off_TD)),'turnover'] = 1 #Turnover on down\n",
    "regular_play.loc[(regular_play.new_down > 4) & ~(regular_play.play_type.isin(off_TD)),'new_down'] = 1 \n",
    "regular_play.loc[(regular_play.new_down > 4) & ~(regular_play.play_type.isin(off_TD)),'new_distance'] = 10\n",
    "regular_play.loc[(regular_play.new_down > 4) & ~(regular_play.play_type.isin(off_TD)),'new_yardline'] = 100-regular_play.new_yardline\n",
    "\n",
    "\n",
    "regular_play.loc[((regular_play.new_yardline <= 0) |(regular_play.new_distance <= 0))  & (regular_play.play_type == 'Sack') & (regular_play.play_text.str.contains('return')), 'new_down' ] = 1 #Strip sack\n",
    "regular_play.loc[((regular_play.new_yardline <= 0) |(regular_play.new_distance <= 0)) & (regular_play.play_type == 'Sack') & (regular_play.play_text.str.contains('return')), 'new_distance' ] = 10 \n",
    "regular_play.loc[((regular_play.new_yardline <= 0) |(regular_play.new_distance <= 0)) & (regular_play.play_text.str.contains('return') & ~(regular_play.play_type.isin(special_team_play_type))), 'new_yardline' ] = 100-(regular_play.adjusted_yardline - regular_play.yards_gained)\n",
    "regular_play.loc[ regular_play.play_text.str.contains('return'), 'turnover' ] = 1 \n",
    "regular_play.loc[regular_play.play_type.isin(turnover_play_type),'turnover'] = 1\n",
    "\n",
    "regular_play.loc[regular_play.new_distance <= 0, 'new_down'] = 1 #First down not in API\n",
    "regular_play.loc[regular_play.new_distance <= 0, 'new_distance'] = 10\n",
    "\n",
    "regular_play.loc[regular_play.play_type == 'Field Goal Good', 'new_yardline'] = 20 #Dummy yardline after success field goal\n",
    "regular_play.loc[regular_play.play_type == 'Field Goal Missed', 'new_yardline'] = (100-regular_play.adjusted_yardline).clip(upper=80)\n",
    "regular_play.loc[regular_play.play_type == 'Blocked Field Goal', 'new_yardline'] = (100-regular_play.adjusted_yardline)\n",
    "\n",
    "regular_play.loc[regular_play.play_type == 'Punt', 'new_yardline'] = (100-regular_play.new_yardline)"
   ]
  },
  {
   "cell_type": "code",
   "execution_count": 46,
   "metadata": {},
   "outputs": [],
   "source": [
    "\n",
    "regular_play.loc[regular_play.new_yardline <= 0 ,'new_yardline'] = regular_play.adjusted_yardline - regular_play.yards_gained"
   ]
  },
  {
   "cell_type": "code",
   "execution_count": 47,
   "metadata": {},
   "outputs": [],
   "source": [
    "regular_play.loc[regular_play.play_text.str.contains('TOUCHDOWN'),'new_yardline'] = 99"
   ]
  },
  {
   "cell_type": "code",
   "execution_count": 48,
   "metadata": {},
   "outputs": [],
   "source": [
    "\n",
    "regular_play = regular_play[(regular_play.new_yardline > 0) & (regular_play.new_yardline < 100) & (regular_play.adjusted_yardline > 0) & (regular_play.adjusted_yardline < 100)]"
   ]
  },
  {
   "cell_type": "code",
   "execution_count": 49,
   "metadata": {},
   "outputs": [],
   "source": [
    "out_df = pd.DataFrame({'down':regular_play['new_down'],'distance':regular_play['new_distance'],'adjusted_yardline':regular_play['new_yardline'],'margin':regular_play['margin'], 'period':regular_play['period'],'drive_point':regular_play['drive_point'], 'log_distance':regular_play['log_distance'],'goal_to_go':regular_play['goal_to_go'],'time_remaining':regular_play['time_remaining'], 'under_two':regular_play['under_two']})\n",
    "\n",
    "\n"
   ]
  },
  {
   "cell_type": "code",
   "execution_count": 50,
   "metadata": {},
   "outputs": [],
   "source": [
    "y_end, X_end = dmatrices(reg_equation, out_df, return_type='dataframe')\n",
    "\n",
    "# end_df = pd.merge(X_end, y_end, left_index=True,right_index=True)\n",
    "# end_df.to_csv(\"./out_df.csv\", index=False,encoding=\"utf8\")\n",
    "\n",
    "\n",
    "EP_predict = clf.predict_proba(X_end)\n",
    "EP = EP_predict[:,0]* -7 + EP_predict[:,1] * -3 + EP_predict[:,2] * -2 + EP_predict[:,4] * 2 + EP_predict[:,5] * 3 + EP_predict[:,6] * 7"
   ]
  },
  {
   "cell_type": "code",
   "execution_count": 51,
   "metadata": {},
   "outputs": [],
   "source": [
    "regular_play['EP_end'] = EP\n",
    "# regular_play.to_csv('./regular_pbp.csv', index=False, encoding=\"utf8\")"
   ]
  },
  {
   "cell_type": "code",
   "execution_count": 52,
   "metadata": {},
   "outputs": [],
   "source": [
    "regular_play.loc[(regular_play.play_type.isin(off_TD) | regular_play.play_type.isin(def_TD) | regular_play.play_text.str.contains('TOUCHDOWN') | regular_play.play_text.str.contains(' TD ')  ),'EP_end'] = 7\n",
    "regular_play.loc[(regular_play.play_type.isin(PAT_miss_type)),'EP_end'] = 6\n",
    "regular_play.loc[regular_play.play_type == 'Field Goal Good','EP_end'] = 3"
   ]
  },
  {
   "cell_type": "code",
   "execution_count": 53,
   "metadata": {},
   "outputs": [],
   "source": [
    "regular_play.loc[(regular_play.play_type.isin(turnover_play_type)| regular_play.turnover == 1),'EP_end'] *= -1"
   ]
  },
  {
   "cell_type": "code",
   "execution_count": 54,
   "metadata": {},
   "outputs": [],
   "source": [
    "regular_play.loc[regular_play.play_type == 'Safety','EP_end'] = -2"
   ]
  },
  {
   "cell_type": "code",
   "execution_count": 55,
   "metadata": {},
   "outputs": [],
   "source": [
    "regular_play.loc[(regular_play.play_type == 'Extra Point Missed') | (regular_play.play_type == 'Extra Point Good') |(regular_play.play_type == '2pt Conversion') ,'EP_start'] = 0\n",
    "regular_play.loc[(regular_play.play_type == 'Extra Point Missed'),'EP_end'] = -1\n",
    "regular_play.loc[(regular_play.play_type == 'Extra Point Good'),'EP_end'] = 0\n",
    "regular_play.loc[(regular_play.play_type == '2pt Conversion'),'EP_end'] = 1"
   ]
  },
  {
   "cell_type": "code",
   "execution_count": 56,
   "metadata": {},
   "outputs": [],
   "source": [
    "regular_play['EPA'] = regular_play['EP_end'] - regular_play['EP_start']"
   ]
  },
  {
   "cell_type": "code",
   "execution_count": 57,
   "metadata": {},
   "outputs": [],
   "source": [
    "pass_play_type = [\"Interception Return Touchdown\",\"Pass Interception\",\"Pass Incompletion\",\"Pass Interception Return\",\"Pass Reception\",\"Pass Completion\",\"Pass\",\"Passing Touchdown\",\"Sack\"]\n",
    "rush_play_type = ['Fumble Recovery (Opponent)','Fumble Recovery (Own)','Fumble Return Touchdown','Rush','Rushing Touchdown']"
   ]
  },
  {
   "cell_type": "code",
   "execution_count": 58,
   "metadata": {},
   "outputs": [
    {
     "data": {
      "text/plain": [
       "0.17814310169263328"
      ]
     },
     "execution_count": 58,
     "metadata": {},
     "output_type": "execute_result"
    }
   ],
   "source": [
    "regular_play[regular_play.play_type.isin(pass_play_type)]['EPA'].mean()"
   ]
  },
  {
   "cell_type": "code",
   "execution_count": 59,
   "metadata": {},
   "outputs": [
    {
     "data": {
      "text/plain": [
       "0.011649864567422858"
      ]
     },
     "execution_count": 59,
     "metadata": {},
     "output_type": "execute_result"
    }
   ],
   "source": [
    "regular_play[regular_play.play_type.isin(rush_play_type)]['EPA'].mean()"
   ]
  },
  {
   "cell_type": "code",
   "execution_count": 60,
   "metadata": {},
   "outputs": [
    {
     "data": {
      "text/plain": [
       "play_type\n",
       "Blocked Field Goal                   -1.538043\n",
       "Blocked Punt                         -0.153293\n",
       "Blocked Punt Touchdown               -5.284150\n",
       "Defensive 2pt Conversion             -8.527475\n",
       "Field Goal Good                       1.568960\n",
       "Field Goal Missed                    -1.590957\n",
       "Fumble Recovery (Opponent)           -4.206185\n",
       "Fumble Recovery (Own)                -0.944642\n",
       "Fumble Return Touchdown              -7.312777\n",
       "Interception Return Touchdown        -7.018139\n",
       "Missed Field Goal Return             -4.898325\n",
       "Missed Field Goal Return Touchdown   -8.408731\n",
       "Pass                                 -1.724100\n",
       "Pass Completion                       1.117568\n",
       "Pass Incompletion                    -0.826096\n",
       "Pass Interception                    -4.092013\n",
       "Pass Interception Return             -3.110134\n",
       "Pass Reception                        0.945858\n",
       "Passing Touchdown                     3.486300\n",
       "Penalty                              -0.722662\n",
       "Punt                                 -0.270699\n",
       "Punt Return Touchdown                -6.117867\n",
       "Rush                                 -0.022750\n",
       "Rushing Touchdown                     2.269251\n",
       "Sack                                 -1.410535\n",
       "Safety                               -0.780652\n",
       "Uncategorized                        -0.903190\n",
       "placeholder                          -0.804860\n",
       "Name: EPA, dtype: float64"
      ]
     },
     "execution_count": 60,
     "metadata": {},
     "output_type": "execute_result"
    }
   ],
   "source": [
    "regular_play.groupby('play_type')['EPA'].mean()"
   ]
  },
  {
   "cell_type": "code",
   "execution_count": 61,
   "metadata": {},
   "outputs": [
    {
     "data": {
      "text/plain": [
       "0.1744561805473702"
      ]
     },
     "execution_count": 61,
     "metadata": {},
     "output_type": "execute_result"
    }
   ],
   "source": [
    "regular_play[regular_play.play_type.isin(pass_play_type)]['ppa'].mean()"
   ]
  },
  {
   "cell_type": "code",
   "execution_count": 62,
   "metadata": {},
   "outputs": [
    {
     "data": {
      "text/plain": [
       "0.07111946962674275"
      ]
     },
     "execution_count": 62,
     "metadata": {},
     "output_type": "execute_result"
    }
   ],
   "source": [
    "regular_play[regular_play.play_type.isin(rush_play_type)]['ppa'].mean()"
   ]
  },
  {
   "cell_type": "code",
   "execution_count": 63,
   "metadata": {},
   "outputs": [
    {
     "data": {
      "text/html": [
       "<div>\n",
       "<style scoped>\n",
       "    .dataframe tbody tr th:only-of-type {\n",
       "        vertical-align: middle;\n",
       "    }\n",
       "\n",
       "    .dataframe tbody tr th {\n",
       "        vertical-align: top;\n",
       "    }\n",
       "\n",
       "    .dataframe thead th {\n",
       "        text-align: right;\n",
       "    }\n",
       "</style>\n",
       "<table border=\"1\" class=\"dataframe\">\n",
       "  <thead>\n",
       "    <tr style=\"text-align: right;\">\n",
       "      <th></th>\n",
       "      <th>id</th>\n",
       "      <th>offense</th>\n",
       "      <th>offense_conference</th>\n",
       "      <th>defense</th>\n",
       "      <th>defense_conference</th>\n",
       "      <th>home</th>\n",
       "      <th>away</th>\n",
       "      <th>offense_score</th>\n",
       "      <th>defense_score</th>\n",
       "      <th>drive_id</th>\n",
       "      <th>period</th>\n",
       "      <th>clock.minutes</th>\n",
       "      <th>clock.seconds</th>\n",
       "      <th>yard_line</th>\n",
       "      <th>down</th>\n",
       "      <th>distance</th>\n",
       "      <th>yards_gained</th>\n",
       "      <th>play_type</th>\n",
       "      <th>play_text</th>\n",
       "      <th>ppa</th>\n",
       "      <th>year</th>\n",
       "      <th>home_team</th>\n",
       "      <th>coef</th>\n",
       "      <th>adjusted_yardline</th>\n",
       "      <th>margin</th>\n",
       "      <th>time_remaining</th>\n",
       "      <th>log_distance</th>\n",
       "      <th>goal_to_go</th>\n",
       "      <th>under_two</th>\n",
       "      <th>drive_point</th>\n",
       "      <th>drive_result</th>\n",
       "      <th>off_full_name</th>\n",
       "      <th>off_abbr</th>\n",
       "      <th>def_full_name</th>\n",
       "      <th>def_abbr</th>\n",
       "      <th>EP_start</th>\n",
       "      <th>new_yardline</th>\n",
       "      <th>new_down</th>\n",
       "      <th>new_distance</th>\n",
       "      <th>turnover</th>\n",
       "      <th>EP_end</th>\n",
       "      <th>EPA</th>\n",
       "    </tr>\n",
       "  </thead>\n",
       "  <tbody>\n",
       "    <tr>\n",
       "      <th>732426</th>\n",
       "      <td>400547867101899001</td>\n",
       "      <td>TCU</td>\n",
       "      <td>Big 12</td>\n",
       "      <td>Oklahoma</td>\n",
       "      <td>Big 12</td>\n",
       "      <td>TCU</td>\n",
       "      <td>Oklahoma</td>\n",
       "      <td>7</td>\n",
       "      <td>0</td>\n",
       "      <td>4005478671</td>\n",
       "      <td>1</td>\n",
       "      <td>10</td>\n",
       "      <td>9</td>\n",
       "      <td>99</td>\n",
       "      <td>3</td>\n",
       "      <td>1</td>\n",
       "      <td>0</td>\n",
       "      <td>Fumble Return Touchdown</td>\n",
       "      <td>Trevone Boykin run for no gain Trevone Boykin ...</td>\n",
       "      <td>-11.546002</td>\n",
       "      <td>2014</td>\n",
       "      <td>TCU</td>\n",
       "      <td>0</td>\n",
       "      <td>1</td>\n",
       "      <td>7</td>\n",
       "      <td>3309</td>\n",
       "      <td>0.000000</td>\n",
       "      <td>True</td>\n",
       "      <td>False</td>\n",
       "      <td>-7.0</td>\n",
       "      <td>FUMBLE RETURN TD</td>\n",
       "      <td>TCU</td>\n",
       "      <td>TCU</td>\n",
       "      <td>Oklahoma</td>\n",
       "      <td>Okla</td>\n",
       "      <td>6.178864</td>\n",
       "      <td>99.0</td>\n",
       "      <td>1</td>\n",
       "      <td>10</td>\n",
       "      <td>1</td>\n",
       "      <td>-7.000000</td>\n",
       "      <td>-13.178864</td>\n",
       "    </tr>\n",
       "    <tr>\n",
       "      <th>686948</th>\n",
       "      <td>400934512102885711</td>\n",
       "      <td>Texas Tech</td>\n",
       "      <td>Big 12</td>\n",
       "      <td>Arizona State</td>\n",
       "      <td>Pac-12</td>\n",
       "      <td>Texas Tech</td>\n",
       "      <td>Arizona State</td>\n",
       "      <td>21</td>\n",
       "      <td>10</td>\n",
       "      <td>40093451210</td>\n",
       "      <td>2</td>\n",
       "      <td>11</td>\n",
       "      <td>42</td>\n",
       "      <td>98</td>\n",
       "      <td>1</td>\n",
       "      <td>2</td>\n",
       "      <td>1</td>\n",
       "      <td>Fumble Recovery (Opponent)</td>\n",
       "      <td>Desmond Nisby run for 1 yd Desmond Nisby fumbl...</td>\n",
       "      <td>NaN</td>\n",
       "      <td>2017</td>\n",
       "      <td>Texas Tech</td>\n",
       "      <td>0</td>\n",
       "      <td>2</td>\n",
       "      <td>11</td>\n",
       "      <td>2502</td>\n",
       "      <td>0.693147</td>\n",
       "      <td>True</td>\n",
       "      <td>False</td>\n",
       "      <td>-7.0</td>\n",
       "      <td>FUMBLE</td>\n",
       "      <td>Texas Tech</td>\n",
       "      <td>TexTc</td>\n",
       "      <td>Arizona State</td>\n",
       "      <td>ArzSt</td>\n",
       "      <td>6.278721</td>\n",
       "      <td>1.0</td>\n",
       "      <td>1</td>\n",
       "      <td>1</td>\n",
       "      <td>1</td>\n",
       "      <td>-6.382686</td>\n",
       "      <td>-12.661407</td>\n",
       "    </tr>\n",
       "    <tr>\n",
       "      <th>125827</th>\n",
       "      <td>401020775102944002</td>\n",
       "      <td>Buffalo</td>\n",
       "      <td>Mid-American</td>\n",
       "      <td>Kent State</td>\n",
       "      <td>Mid-American</td>\n",
       "      <td>Buffalo</td>\n",
       "      <td>Kent State</td>\n",
       "      <td>27</td>\n",
       "      <td>0</td>\n",
       "      <td>4010207759</td>\n",
       "      <td>2</td>\n",
       "      <td>5</td>\n",
       "      <td>59</td>\n",
       "      <td>98</td>\n",
       "      <td>2</td>\n",
       "      <td>2</td>\n",
       "      <td>-2</td>\n",
       "      <td>Fumble Recovery (Opponent)</td>\n",
       "      <td>Jaret Patterson run for a loss of 2 yards to t...</td>\n",
       "      <td>NaN</td>\n",
       "      <td>2018</td>\n",
       "      <td>Buffalo</td>\n",
       "      <td>0</td>\n",
       "      <td>2</td>\n",
       "      <td>27</td>\n",
       "      <td>2159</td>\n",
       "      <td>0.693147</td>\n",
       "      <td>True</td>\n",
       "      <td>False</td>\n",
       "      <td>-0.0</td>\n",
       "      <td>FUMBLE</td>\n",
       "      <td>Buffalo</td>\n",
       "      <td>Buff</td>\n",
       "      <td>Kent State</td>\n",
       "      <td>KntSt</td>\n",
       "      <td>6.345551</td>\n",
       "      <td>2.0</td>\n",
       "      <td>1</td>\n",
       "      <td>10</td>\n",
       "      <td>1</td>\n",
       "      <td>-6.311297</td>\n",
       "      <td>-12.656849</td>\n",
       "    </tr>\n",
       "    <tr>\n",
       "      <th>377072</th>\n",
       "      <td>400941820103918505</td>\n",
       "      <td>UCF</td>\n",
       "      <td>American Athletic</td>\n",
       "      <td>East Carolina</td>\n",
       "      <td>American Athletic</td>\n",
       "      <td>UCF</td>\n",
       "      <td>East Carolina</td>\n",
       "      <td>42</td>\n",
       "      <td>14</td>\n",
       "      <td>40094182020</td>\n",
       "      <td>3</td>\n",
       "      <td>8</td>\n",
       "      <td>14</td>\n",
       "      <td>99</td>\n",
       "      <td>2</td>\n",
       "      <td>1</td>\n",
       "      <td>0</td>\n",
       "      <td>Fumble Recovery (Opponent)</td>\n",
       "      <td>Taj McGowan run for no gain to the ECaro 1 Taj...</td>\n",
       "      <td>NaN</td>\n",
       "      <td>2017</td>\n",
       "      <td>UCF</td>\n",
       "      <td>0</td>\n",
       "      <td>1</td>\n",
       "      <td>28</td>\n",
       "      <td>1394</td>\n",
       "      <td>0.000000</td>\n",
       "      <td>True</td>\n",
       "      <td>False</td>\n",
       "      <td>2.0</td>\n",
       "      <td>FUMBLE</td>\n",
       "      <td>UCF</td>\n",
       "      <td>UCF</td>\n",
       "      <td>East Carolina</td>\n",
       "      <td>ECaro</td>\n",
       "      <td>6.376109</td>\n",
       "      <td>1.0</td>\n",
       "      <td>1</td>\n",
       "      <td>10</td>\n",
       "      <td>1</td>\n",
       "      <td>-6.278234</td>\n",
       "      <td>-12.654343</td>\n",
       "    </tr>\n",
       "    <tr>\n",
       "      <th>283466</th>\n",
       "      <td>400547999103907301</td>\n",
       "      <td>Michigan State</td>\n",
       "      <td>Big Ten</td>\n",
       "      <td>Rutgers</td>\n",
       "      <td>Big Ten</td>\n",
       "      <td>Michigan State</td>\n",
       "      <td>Rutgers</td>\n",
       "      <td>35</td>\n",
       "      <td>0</td>\n",
       "      <td>40054799914</td>\n",
       "      <td>3</td>\n",
       "      <td>9</td>\n",
       "      <td>26</td>\n",
       "      <td>99</td>\n",
       "      <td>1</td>\n",
       "      <td>1</td>\n",
       "      <td>-2</td>\n",
       "      <td>Fumble Recovery (Opponent)</td>\n",
       "      <td>Nick Hill run for a loss of 2 yards to the Rut...</td>\n",
       "      <td>NaN</td>\n",
       "      <td>2014</td>\n",
       "      <td>Michigan State</td>\n",
       "      <td>0</td>\n",
       "      <td>1</td>\n",
       "      <td>35</td>\n",
       "      <td>1466</td>\n",
       "      <td>0.000000</td>\n",
       "      <td>True</td>\n",
       "      <td>False</td>\n",
       "      <td>-0.0</td>\n",
       "      <td>FUMBLE</td>\n",
       "      <td>Michigan State</td>\n",
       "      <td>MchSt</td>\n",
       "      <td>Rutgers</td>\n",
       "      <td>Rutgr</td>\n",
       "      <td>6.502301</td>\n",
       "      <td>3.0</td>\n",
       "      <td>1</td>\n",
       "      <td>10</td>\n",
       "      <td>1</td>\n",
       "      <td>-6.144772</td>\n",
       "      <td>-12.647074</td>\n",
       "    </tr>\n",
       "  </tbody>\n",
       "</table>\n",
       "</div>"
      ],
      "text/plain": [
       "                        id         offense offense_conference        defense  \\\n",
       "732426  400547867101899001             TCU             Big 12       Oklahoma   \n",
       "686948  400934512102885711      Texas Tech             Big 12  Arizona State   \n",
       "125827  401020775102944002         Buffalo       Mid-American     Kent State   \n",
       "377072  400941820103918505             UCF  American Athletic  East Carolina   \n",
       "283466  400547999103907301  Michigan State            Big Ten        Rutgers   \n",
       "\n",
       "       defense_conference            home           away  offense_score  \\\n",
       "732426             Big 12             TCU       Oklahoma              7   \n",
       "686948             Pac-12      Texas Tech  Arizona State             21   \n",
       "125827       Mid-American         Buffalo     Kent State             27   \n",
       "377072  American Athletic             UCF  East Carolina             42   \n",
       "283466            Big Ten  Michigan State        Rutgers             35   \n",
       "\n",
       "        defense_score     drive_id  period  clock.minutes  clock.seconds  \\\n",
       "732426              0   4005478671       1             10              9   \n",
       "686948             10  40093451210       2             11             42   \n",
       "125827              0   4010207759       2              5             59   \n",
       "377072             14  40094182020       3              8             14   \n",
       "283466              0  40054799914       3              9             26   \n",
       "\n",
       "        yard_line  down  distance  yards_gained                   play_type  \\\n",
       "732426         99     3         1             0     Fumble Return Touchdown   \n",
       "686948         98     1         2             1  Fumble Recovery (Opponent)   \n",
       "125827         98     2         2            -2  Fumble Recovery (Opponent)   \n",
       "377072         99     2         1             0  Fumble Recovery (Opponent)   \n",
       "283466         99     1         1            -2  Fumble Recovery (Opponent)   \n",
       "\n",
       "                                                play_text        ppa  year  \\\n",
       "732426  Trevone Boykin run for no gain Trevone Boykin ... -11.546002  2014   \n",
       "686948  Desmond Nisby run for 1 yd Desmond Nisby fumbl...        NaN  2017   \n",
       "125827  Jaret Patterson run for a loss of 2 yards to t...        NaN  2018   \n",
       "377072  Taj McGowan run for no gain to the ECaro 1 Taj...        NaN  2017   \n",
       "283466  Nick Hill run for a loss of 2 yards to the Rut...        NaN  2014   \n",
       "\n",
       "             home_team  coef  adjusted_yardline  margin  time_remaining  \\\n",
       "732426             TCU     0                  1       7            3309   \n",
       "686948      Texas Tech     0                  2      11            2502   \n",
       "125827         Buffalo     0                  2      27            2159   \n",
       "377072             UCF     0                  1      28            1394   \n",
       "283466  Michigan State     0                  1      35            1466   \n",
       "\n",
       "        log_distance  goal_to_go  under_two  drive_point      drive_result  \\\n",
       "732426      0.000000        True      False         -7.0  FUMBLE RETURN TD   \n",
       "686948      0.693147        True      False         -7.0            FUMBLE   \n",
       "125827      0.693147        True      False         -0.0            FUMBLE   \n",
       "377072      0.000000        True      False          2.0            FUMBLE   \n",
       "283466      0.000000        True      False         -0.0            FUMBLE   \n",
       "\n",
       "         off_full_name off_abbr  def_full_name def_abbr  EP_start  \\\n",
       "732426             TCU      TCU       Oklahoma     Okla  6.178864   \n",
       "686948      Texas Tech    TexTc  Arizona State    ArzSt  6.278721   \n",
       "125827         Buffalo     Buff     Kent State    KntSt  6.345551   \n",
       "377072             UCF      UCF  East Carolina    ECaro  6.376109   \n",
       "283466  Michigan State    MchSt        Rutgers    Rutgr  6.502301   \n",
       "\n",
       "        new_yardline  new_down  new_distance  turnover    EP_end        EPA  \n",
       "732426          99.0         1            10         1 -7.000000 -13.178864  \n",
       "686948           1.0         1             1         1 -6.382686 -12.661407  \n",
       "125827           2.0         1            10         1 -6.311297 -12.656849  \n",
       "377072           1.0         1            10         1 -6.278234 -12.654343  \n",
       "283466           3.0         1            10         1 -6.144772 -12.647074  "
      ]
     },
     "execution_count": 63,
     "metadata": {},
     "output_type": "execute_result"
    }
   ],
   "source": [
    "regular_play[(regular_play.play_type.isin(rush_play_type))].sort_values(by=\"EPA\",ascending=True).head()"
   ]
  },
  {
   "cell_type": "code",
   "execution_count": 64,
   "metadata": {},
   "outputs": [],
   "source": [
    "# regular_play['passing_player_name'] = np.nan\n",
    "# regular_play['receiving_player_name'] = np.nan\n",
    "# regular_play['rushing_player_name'] = np.nan\n",
    "# regular_play['pass_rush_player_name_1'] = np.nan\n",
    "# # regular_play['pass_rush_player_name_2'] = np.nan\n",
    "# regular_play['force_fumble_player'] = np.nan\n",
    "# regular_play['sacked_player_name'] = np.nan\n",
    "# regular_play['intecept_player_name'] = np.nan\n",
    "# regular_play['deflect_player_name'] = np.nan"
   ]
  },
  {
   "cell_type": "code",
   "execution_count": 65,
   "metadata": {},
   "outputs": [],
   "source": [
    "\n",
    "# pass_play_type = ['slant','screen','deep','middle','sideline','crossing']"
   ]
  },
  {
   "cell_type": "code",
   "execution_count": 66,
   "metadata": {},
   "outputs": [],
   "source": [
    "# regular_play.loc[regular_play.play_text.str.contains(' run for ') ,'rushing_player_name'] = regular_play.play_text.str.split(' run for ').str[0]\n",
    "# regular_play.loc[regular_play.play_text.str.contains(' rush ') ,'rushing_player_name'] = regular_play.play_text.str.split(' rush ').str[0]\n",
    "# regular_play.loc[regular_play.play_text.str.contains(' pass ') ,'passing_player_name'] =  regular_play.play_text.str.split(' pass ').str[0].str.split('(crossing|screen|sideline|middle|deep|slant)').str[0]\n",
    "# regular_play.loc[regular_play.play_text.str.contains(' sacked by ') ,'sacked_player_name'] = regular_play.play_text.str.split(' sacked by ').str[0]\n",
    "# regular_play.loc[regular_play.play_text.str.contains(' sacked by ') ,'pass_rush_player_name_1'] = regular_play.play_text.str.split(' sacked by ').str[1].str.split(' for ').str[0].str.split(' and ').str[0]\n",
    "# regular_play.loc[regular_play.play_text.str.contains(' sacked by ') & regular_play.play_text.str.contains(' and '),'pass_rush_player_name_2'] = regular_play.play_text.str.split(' and ').str[1].str.split(' for ').str[0]\n",
    "# regular_play.loc[regular_play.play_text.str.contains(' pass complete to ') ,'receiving_player_name'] = regular_play.play_text.str.split(' pass complete to ').str[1].str.split(' for ').str[0]\n",
    "# regular_play.loc[regular_play.play_text.str.contains(' pass incomplete to ') ,'receiving_player_name'] = regular_play.play_text.str.split(' pass incomplete to ').str[1].str.split(', broken up').str[0].str.replace(r'\\b\\.$', '', regex=True).str.strip().str.split(', hurried by ').str[0]\n",
    "# regular_play.loc[regular_play.play_text.str.contains(' forced by ') ,'force_fumble_player'] = regular_play.play_text.str.split(' forced by ').str[1].str.split(', ').str[0]\n",
    "# regular_play.loc[regular_play.play_text.str.contains(' pass intercepted ') & ~regular_play.play_text.str.contains(' for a TD '),'intecept_player_name'] = regular_play.play_text.str.split(' pass intercepted ').str[1].str.split(' return ').str[0]\n",
    "# regular_play.loc[regular_play.play_text.str.contains(' pass intercepted ') & ~regular_play.play_text.str.contains(' for a TD ') & regular_play.play_text.str.contains(' at the '),'intecept_player_name'] = regular_play.intecept_player_name.str.split('by ').str[1].str.split(' at the ').str[0]\n",
    "# regular_play.loc[regular_play.play_text.str.contains(' broken up by '), 'deflect_player_name'] = regular_play.play_text.str.split('broken up by ').str[1].str.split('.')[0]\n",
    "# try:\n",
    "#     regular_play.loc[regular_play.play_text.str.contains(' pass intercepted for a TD ') ,'intecept_play_name'] = regular_play.play_text.str.split(' pass intercepted for a TD ').str[1].str.split(' return ').str[0]\n",
    "# except  AttributeError:\n",
    "#     pass"
   ]
  },
  {
   "cell_type": "code",
   "execution_count": 67,
   "metadata": {},
   "outputs": [],
   "source": [
    "# regular_play.to_csv('CFB_regular_play_19.csv')"
   ]
  },
  {
   "cell_type": "code",
   "execution_count": 68,
   "metadata": {},
   "outputs": [
    {
     "data": {
      "text/plain": [
       "input {\n",
       "  name: \"Intercept\"\n",
       "  type {\n",
       "    doubleType {\n",
       "    }\n",
       "  }\n",
       "}\n",
       "input {\n",
       "  name: \"C(down)[T.2]\"\n",
       "  type {\n",
       "    doubleType {\n",
       "    }\n",
       "  }\n",
       "}\n",
       "input {\n",
       "  name: \"C(down)[T.3]\"\n",
       "  type {\n",
       "    doubleType {\n",
       "    }\n",
       "  }\n",
       "}\n",
       "input {\n",
       "  name: \"C(down)[T.4]\"\n",
       "  type {\n",
       "    doubleType {\n",
       "    }\n",
       "  }\n",
       "}\n",
       "input {\n",
       "  name: \"distance\"\n",
       "  type {\n",
       "    doubleType {\n",
       "    }\n",
       "  }\n",
       "}\n",
       "input {\n",
       "  name: \"C(down)[T.2]:distance\"\n",
       "  type {\n",
       "    doubleType {\n",
       "    }\n",
       "  }\n",
       "}\n",
       "input {\n",
       "  name: \"C(down)[T.3]:distance\"\n",
       "  type {\n",
       "    doubleType {\n",
       "    }\n",
       "  }\n",
       "}\n",
       "input {\n",
       "  name: \"C(down)[T.4]:distance\"\n",
       "  type {\n",
       "    doubleType {\n",
       "    }\n",
       "  }\n",
       "}\n",
       "input {\n",
       "  name: \"adjusted_yardline\"\n",
       "  type {\n",
       "    doubleType {\n",
       "    }\n",
       "  }\n",
       "}\n",
       "input {\n",
       "  name: \"C(down)[T.2]:adjusted_yardline\"\n",
       "  type {\n",
       "    doubleType {\n",
       "    }\n",
       "  }\n",
       "}\n",
       "input {\n",
       "  name: \"C(down)[T.3]:adjusted_yardline\"\n",
       "  type {\n",
       "    doubleType {\n",
       "    }\n",
       "  }\n",
       "}\n",
       "input {\n",
       "  name: \"C(down)[T.4]:adjusted_yardline\"\n",
       "  type {\n",
       "    doubleType {\n",
       "    }\n",
       "  }\n",
       "}\n",
       "input {\n",
       "  name: \"period\"\n",
       "  type {\n",
       "    doubleType {\n",
       "    }\n",
       "  }\n",
       "}\n",
       "input {\n",
       "  name: \"margin\"\n",
       "  type {\n",
       "    doubleType {\n",
       "    }\n",
       "  }\n",
       "}\n",
       "output {\n",
       "  name: \"drive_point\"\n",
       "  type {\n",
       "    int64Type {\n",
       "    }\n",
       "  }\n",
       "}\n",
       "output {\n",
       "  name: \"classProbability\"\n",
       "  type {\n",
       "    dictionaryType {\n",
       "      int64KeyType {\n",
       "      }\n",
       "    }\n",
       "  }\n",
       "}\n",
       "predictedFeatureName: \"drive_point\"\n",
       "predictedProbabilitiesName: \"classProbability\"\n",
       "metadata {\n",
       "  userDefined {\n",
       "    key: \"coremltoolsVersion\"\n",
       "    value: \"3.3\"\n",
       "  }\n",
       "}"
      ]
     },
     "execution_count": 68,
     "metadata": {},
     "output_type": "execute_result"
    }
   ],
   "source": [
    "import coremltools\n",
    "\n",
    "y_end, X_end = dmatrices(reg_equation, out_df, return_type='dataframe')\n",
    "\n",
    "coreml_model = coremltools.converters.sklearn.convert(clf, X_end.columns.to_list(), \"drive_point\")\n",
    "coreml_model\n"
   ]
  },
  {
   "cell_type": "code",
   "execution_count": 70,
   "metadata": {},
   "outputs": [],
   "source": [
    "# Set model metadata\n",
    "coreml_model.author = 'Akshay Easwaran, @spfleming and @903124 on Github'\n",
    "coreml_model.license = 'MIT'\n",
    "coreml_model.short_description = 'Projects the expected point value of a football play based on its down, distance, distance from goal, quarter, and scoring margin.'\n",
    "\n",
    "# Set feature descriptions manually\n",
    "coreml_model.input_description['Intercept'] = 'Constant of 1'\n",
    "coreml_model.input_description['C(down)[T.2]'] = '1 when on 2nd down'\n",
    "coreml_model.input_description['C(down)[T.3]'] = '1 when on 3rd down'\n",
    "coreml_model.input_description['C(down)[T.4]'] = '1 when on 4th down'\n",
    "coreml_model.input_description['distance'] = 'distance to 1st down'\n",
    "coreml_model.input_description['C(down)[T.2]:distance'] = 'distance to 1st down when on 2nd down'\n",
    "coreml_model.input_description['C(down)[T.3]:distance'] = 'distance to 1st down when on 3rd down'\n",
    "coreml_model.input_description['C(down)[T.4]:distance'] = 'distance to 1st down when on 4th down'\n",
    "coreml_model.input_description['adjusted_yardline'] = 'distance to end zone'\n",
    "coreml_model.input_description['C(down)[T.2]:adjusted_yardline'] = 'distance to end zone when on 2nd down'\n",
    "coreml_model.input_description['C(down)[T.3]:adjusted_yardline'] = 'distance to end zone when on 3rd down'\n",
    "coreml_model.input_description['C(down)[T.4]:adjusted_yardline'] = 'distance to end zone when on 4th down'\n",
    "coreml_model.input_description['period'] = 'current game quarter'\n",
    "coreml_model.input_description['margin'] = 'scoring margin from perspective of offense'\n",
    "# model.input_description['time_remaining'] = 'second'\n",
    "\n",
    "# Set the output descriptions\n",
    "coreml_model.output_description['drive_point'] = 'Point value of the current offensive drive'\n",
    "\n",
    "# Save the model\n",
    "coreml_model.save('CFBEPA.mlmodel')"
   ]
  },
  {
   "cell_type": "code",
   "execution_count": null,
   "metadata": {},
   "outputs": [],
   "source": [
    "# pd.merge(out_df, X_end, left_index=True, right_index=True)"
   ]
  },
  {
   "cell_type": "code",
   "execution_count": null,
   "metadata": {},
   "outputs": [],
   "source": []
  }
 ],
 "metadata": {
  "kernelspec": {
   "display_name": "Python 3",
   "language": "python",
   "name": "python3"
  },
  "language_info": {
   "codemirror_mode": {
    "name": "ipython",
    "version": 3
   },
   "file_extension": ".py",
   "mimetype": "text/x-python",
   "name": "python",
   "nbconvert_exporter": "python",
   "pygments_lexer": "ipython3",
   "version": "3.7.7"
  }
 },
 "nbformat": 4,
 "nbformat_minor": 2
}
