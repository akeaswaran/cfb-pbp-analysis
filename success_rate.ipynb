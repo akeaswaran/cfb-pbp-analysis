{
 "cells": [
  {
   "cell_type": "code",
   "execution_count": 85,
   "metadata": {},
   "outputs": [
    {
     "name": "stdout",
     "output_type": "stream",
     "text": [
      "153544\n",
      "<class 'pandas.core.frame.DataFrame'>\n",
      "RangeIndex: 153544 entries, 0 to 153543\n",
      "Data columns (total 19 columns):\n",
      "id                    153544 non-null int64\n",
      "offense               153544 non-null object\n",
      "offense_conference    143889 non-null object\n",
      "defense               153544 non-null object\n",
      "defense_conference    142945 non-null object\n",
      "home                  153544 non-null object\n",
      "away                  153544 non-null object\n",
      "offense_score         153544 non-null int64\n",
      "defense_score         153544 non-null int64\n",
      "drive_id              153544 non-null int64\n",
      "period                153544 non-null int64\n",
      "clock.minutes         153544 non-null int64\n",
      "clock.seconds         153544 non-null int64\n",
      "yard_line             153544 non-null int64\n",
      "down                  153544 non-null int64\n",
      "distance              153544 non-null int64\n",
      "yards_gained          153544 non-null int64\n",
      "play_type             153544 non-null object\n",
      "play_text             153544 non-null object\n",
      "dtypes: int64(11), object(8)\n",
      "memory usage: 22.3+ MB\n"
     ]
    }
   ],
   "source": [
    "import pandas as pd\n",
    "\n",
    "pbp = pd.read_csv('data/pbp/2018.csv', sep=\",\", encoding='iso-8859-1')\n",
    "print(pbp.id.nunique())\n",
    "pbp.info()"
   ]
  },
  {
   "cell_type": "code",
   "execution_count": 86,
   "metadata": {},
   "outputs": [
    {
     "name": "stdout",
     "output_type": "stream",
     "text": [
      "153544\n",
      "55612\n",
      "97932\n"
     ]
    }
   ],
   "source": [
    "# Cleaning\n",
    "ignore_types = [\"Punt Return Touchdown\",\"Defensive 2pt Conversion\",\"Fumble Return Touchdown\",\"Sack\",\"Pass Interception Return\",\"Interception Return Touchdown\",\"Interception\",\"Fumble Recovery (Own)\",\"Blocked Field Goal\",\"Blocked Punt\",\"Fumble Recovery (Opponent)\",\"Missed Field Goal Return\",\"Blocked Punt Touchdown\",\"Missed Field Goal Return Touchdown\",\"Extra Point Missed\",\"Extra Point Good\",\"Timeout\",\"End of Half\",\"End of Game\",\"Uncategorized\",\"Penalty\",\"Kickoff\",\"Kickoff Return (Offense)\",\"Kickoff Return Touchdown\",\"Punt\", \"Field Goal Good\",\"Field Goal Missed\",\"Safety\"]\n",
    "\n",
    "bad_data = pbp[\n",
    "    (pbp.down == 0)\n",
    "    | (pbp.play_type.isin(ignore_types))\n",
    "    | ((abs(pbp.offense_score - pbp.defense_score) >= 38) & (pbp.period == 2))\n",
    "    | ((abs(pbp.offense_score - pbp.defense_score) >= 28) & (pbp.period == 3))\n",
    "    | ((abs(pbp.offense_score - pbp.defense_score) >= 22) & (pbp.period == 4))\n",
    "]\n",
    "\n",
    "print(pbp.id.nunique())\n",
    "print(bad_data.id.nunique())\n",
    "\n",
    "pbp.drop(bad_data.index, inplace=True)\n",
    "print(pbp.id.nunique())"
   ]
  },
  {
   "cell_type": "code",
   "execution_count": 87,
   "metadata": {},
   "outputs": [
    {
     "data": {
      "text/plain": [
       "Rush                 50038\n",
       "Pass Reception       25353\n",
       "Pass Incompletion    17600\n",
       "Rushing Touchdown     2494\n",
       "Passing Touchdown     2447\n",
       "Name: play_type, dtype: int64"
      ]
     },
     "execution_count": 87,
     "metadata": {},
     "output_type": "execute_result"
    }
   ],
   "source": [
    "import numpy as np\n",
    "\n",
    "def is_successful(down, distance, yards_gained):\n",
    "    if ((down == 1) & (yards_gained >= (0.5 * distance))):\n",
    "        return True\n",
    "    elif ((down == 2)) & (yards_gained >= (0.7 * distance)):\n",
    "        return True\n",
    "    elif ((down == 3) & (yards_gained >= distance)):\n",
    "        return True\n",
    "    else:\n",
    "        return False\n",
    "    \n",
    "pbp['play_successful'] = np.vectorize(is_successful)(pbp.down, pbp.distance, pbp.yards_gained)\n",
    "\n",
    "pbp.play_type.value_counts()"
   ]
  },
  {
   "cell_type": "code",
   "execution_count": 88,
   "metadata": {},
   "outputs": [
    {
     "name": "stdout",
     "output_type": "stream",
     "text": [
      "45400\n",
      "52532\n"
     ]
    }
   ],
   "source": [
    "pass_types = [\"Pass Reception\",\"Pass Incompletion\",\"Passing Touchdown\"]\n",
    "rush_types = [\"Rush\",\"Rushing Touchdown\"]\n",
    "\n",
    "league_pass_plays = pbp[\n",
    "    pbp.play_type.isin(pass_types)\n",
    "]\n",
    "league_rush_plays = pbp[\n",
    "    pbp.play_type.isin(rush_types)\n",
    "]\n",
    "print(league_pass_plays.id.nunique())\n",
    "print(league_rush_plays.id.nunique())"
   ]
  },
  {
   "cell_type": "code",
   "execution_count": 89,
   "metadata": {},
   "outputs": [
    {
     "name": "stdout",
     "output_type": "stream",
     "text": [
      "False    0.97304\n",
      "True     0.02696\n",
      "Name: play_successful, dtype: float64\n",
      "False    44176\n",
      "True      1224\n",
      "Name: play_successful, dtype: int64\n"
     ]
    }
   ],
   "source": [
    "print(league_pass_plays.play_successful.value_counts(normalize=True))\n",
    "print(league_pass_plays.play_successful.value_counts())"
   ]
  },
  {
   "cell_type": "code",
   "execution_count": 90,
   "metadata": {},
   "outputs": [
    {
     "name": "stdout",
     "output_type": "stream",
     "text": [
      "False    0.948964\n",
      "True     0.051036\n",
      "Name: play_successful, dtype: float64\n",
      "False    49851\n",
      "True      2681\n",
      "Name: play_successful, dtype: int64\n"
     ]
    }
   ],
   "source": [
    "print(league_rush_plays.play_successful.value_counts(normalize=True))\n",
    "print(league_rush_plays.play_successful.value_counts())"
   ]
  },
  {
   "cell_type": "code",
   "execution_count": 93,
   "metadata": {},
   "outputs": [
    {
     "ename": "AttributeError",
     "evalue": "'Series' object has no attribute 'info'",
     "output_type": "error",
     "traceback": [
      "\u001b[0;31m---------------------------------------------------------------------------\u001b[0m",
      "\u001b[0;31mAttributeError\u001b[0m                            Traceback (most recent call last)",
      "\u001b[0;32m<ipython-input-93-b556acc738a4>\u001b[0m in \u001b[0;36m<module>\u001b[0;34m\u001b[0m\n\u001b[1;32m      2\u001b[0m    \u001b[0;34m(\u001b[0m\u001b[0;34m(\u001b[0m\u001b[0mpbp\u001b[0m\u001b[0;34m.\u001b[0m\u001b[0mdown\u001b[0m \u001b[0;34m==\u001b[0m \u001b[0;36m1\u001b[0m\u001b[0;34m)\u001b[0m \u001b[0;34m&\u001b[0m \u001b[0;34m(\u001b[0m\u001b[0mpbp\u001b[0m\u001b[0;34m.\u001b[0m\u001b[0myards_gained\u001b[0m \u001b[0;34m==\u001b[0m \u001b[0;34m(\u001b[0m\u001b[0;36m0.5\u001b[0m \u001b[0;34m*\u001b[0m \u001b[0mpbp\u001b[0m\u001b[0;34m.\u001b[0m\u001b[0mdistance\u001b[0m\u001b[0;34m)\u001b[0m\u001b[0;34m)\u001b[0m\u001b[0;34m)\u001b[0m\u001b[0;34m\u001b[0m\u001b[0;34m\u001b[0m\u001b[0m\n\u001b[1;32m      3\u001b[0m     \u001b[0;34m|\u001b[0m \u001b[0;34m(\u001b[0m\u001b[0;34m(\u001b[0m\u001b[0mpbp\u001b[0m\u001b[0;34m.\u001b[0m\u001b[0mdown\u001b[0m \u001b[0;34m==\u001b[0m \u001b[0;36m2\u001b[0m\u001b[0;34m)\u001b[0m\u001b[0;34m)\u001b[0m \u001b[0;34m&\u001b[0m \u001b[0;34m(\u001b[0m\u001b[0mpbp\u001b[0m\u001b[0;34m.\u001b[0m\u001b[0myards_gained\u001b[0m \u001b[0;34m==\u001b[0m \u001b[0;34m(\u001b[0m\u001b[0;36m0.7\u001b[0m \u001b[0;34m*\u001b[0m \u001b[0mpbp\u001b[0m\u001b[0;34m.\u001b[0m\u001b[0mdistance\u001b[0m\u001b[0;34m)\u001b[0m\u001b[0;34m)\u001b[0m\u001b[0;34m\u001b[0m\u001b[0;34m\u001b[0m\u001b[0m\n\u001b[0;32m----> 4\u001b[0;31m     \u001b[0;34m|\u001b[0m \u001b[0;34m(\u001b[0m\u001b[0;34m(\u001b[0m\u001b[0mpbp\u001b[0m\u001b[0;34m.\u001b[0m\u001b[0mdown\u001b[0m \u001b[0;34m==\u001b[0m \u001b[0;36m3\u001b[0m\u001b[0;34m)\u001b[0m \u001b[0;34m&\u001b[0m \u001b[0;34m(\u001b[0m\u001b[0mpbp\u001b[0m\u001b[0;34m.\u001b[0m\u001b[0myards_gained\u001b[0m \u001b[0;34m==\u001b[0m \u001b[0mpbp\u001b[0m\u001b[0;34m.\u001b[0m\u001b[0mdistance\u001b[0m\u001b[0;34m)\u001b[0m\u001b[0;34m)\u001b[0m\u001b[0;34m\u001b[0m\u001b[0;34m\u001b[0m\u001b[0m\n\u001b[0m\u001b[1;32m      5\u001b[0m ].drive_id.info()\n",
      "\u001b[0;32m~/anaconda3/lib/python3.7/site-packages/pandas/core/generic.py\u001b[0m in \u001b[0;36m__getattr__\u001b[0;34m(self, name)\u001b[0m\n\u001b[1;32m   5065\u001b[0m             \u001b[0;32mif\u001b[0m \u001b[0mself\u001b[0m\u001b[0;34m.\u001b[0m\u001b[0m_info_axis\u001b[0m\u001b[0;34m.\u001b[0m\u001b[0m_can_hold_identifiers_and_holds_name\u001b[0m\u001b[0;34m(\u001b[0m\u001b[0mname\u001b[0m\u001b[0;34m)\u001b[0m\u001b[0;34m:\u001b[0m\u001b[0;34m\u001b[0m\u001b[0;34m\u001b[0m\u001b[0m\n\u001b[1;32m   5066\u001b[0m                 \u001b[0;32mreturn\u001b[0m \u001b[0mself\u001b[0m\u001b[0;34m[\u001b[0m\u001b[0mname\u001b[0m\u001b[0;34m]\u001b[0m\u001b[0;34m\u001b[0m\u001b[0;34m\u001b[0m\u001b[0m\n\u001b[0;32m-> 5067\u001b[0;31m             \u001b[0;32mreturn\u001b[0m \u001b[0mobject\u001b[0m\u001b[0;34m.\u001b[0m\u001b[0m__getattribute__\u001b[0m\u001b[0;34m(\u001b[0m\u001b[0mself\u001b[0m\u001b[0;34m,\u001b[0m \u001b[0mname\u001b[0m\u001b[0;34m)\u001b[0m\u001b[0;34m\u001b[0m\u001b[0;34m\u001b[0m\u001b[0m\n\u001b[0m\u001b[1;32m   5068\u001b[0m \u001b[0;34m\u001b[0m\u001b[0m\n\u001b[1;32m   5069\u001b[0m     \u001b[0;32mdef\u001b[0m \u001b[0m__setattr__\u001b[0m\u001b[0;34m(\u001b[0m\u001b[0mself\u001b[0m\u001b[0;34m,\u001b[0m \u001b[0mname\u001b[0m\u001b[0;34m,\u001b[0m \u001b[0mvalue\u001b[0m\u001b[0;34m)\u001b[0m\u001b[0;34m:\u001b[0m\u001b[0;34m\u001b[0m\u001b[0;34m\u001b[0m\u001b[0m\n",
      "\u001b[0;31mAttributeError\u001b[0m: 'Series' object has no attribute 'info'"
     ]
    }
   ],
   "source": [
    "pbp[\n",
    "   ((pbp.down == 1) & (pbp.yards_gained == (0.5 * pbp.distance)))\n",
    "    | ((pbp.down == 2)) & (pbp.yards_gained == (0.7 * pbp.distance))\n",
    "    | ((pbp.down == 3) & (pbp.yards_gained == pbp.distance))\n",
    "].drive_id.info()"
   ]
  },
  {
   "cell_type": "code",
   "execution_count": null,
   "metadata": {},
   "outputs": [],
   "source": []
  }
 ],
 "metadata": {
  "kernelspec": {
   "display_name": "Python 3",
   "language": "python",
   "name": "python3"
  },
  "language_info": {
   "codemirror_mode": {
    "name": "ipython",
    "version": 3
   },
   "file_extension": ".py",
   "mimetype": "text/x-python",
   "name": "python",
   "nbconvert_exporter": "python",
   "pygments_lexer": "ipython3",
   "version": "3.7.7"
  }
 },
 "nbformat": 4,
 "nbformat_minor": 2
}
